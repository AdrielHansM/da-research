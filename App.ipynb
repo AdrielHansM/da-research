{
 "cells": [
  {
   "cell_type": "code",
   "execution_count": 3,
   "metadata": {},
   "outputs": [],
   "source": [
    "import pandas as pd\n",
    "import pandas as pd\n",
    "\n",
    "from sklearn.model_selection import train_test_split\n",
    "\n",
    "from kmodes.kmodes import KModes\n",
    "from sklearn.model_selection import train_test_split\n",
    "from pycaret.classification import *\n",
    "\n",
    "%run class/patient_details.py\n",
    "%run util/utils.py\n"
   ]
  },
  {
   "cell_type": "markdown",
   "metadata": {},
   "source": [
    "Cardiovascular Disease Predictor"
   ]
  },
  {
   "cell_type": "code",
   "execution_count": 4,
   "metadata": {},
   "outputs": [
    {
     "data": {
      "text/html": [
       "<style type=\"text/css\">\n",
       "#T_7c969_row10_col0, #T_7c969_row10_col1, #T_7c969_row10_col2, #T_7c969_row10_col3, #T_7c969_row10_col4, #T_7c969_row10_col5, #T_7c969_row10_col6 {\n",
       "  background: yellow;\n",
       "}\n",
       "</style>\n",
       "<table id=\"T_7c969\">\n",
       "  <thead>\n",
       "    <tr>\n",
       "      <th class=\"blank level0\" >&nbsp;</th>\n",
       "      <th id=\"T_7c969_level0_col0\" class=\"col_heading level0 col0\" >Accuracy</th>\n",
       "      <th id=\"T_7c969_level0_col1\" class=\"col_heading level0 col1\" >AUC</th>\n",
       "      <th id=\"T_7c969_level0_col2\" class=\"col_heading level0 col2\" >Recall</th>\n",
       "      <th id=\"T_7c969_level0_col3\" class=\"col_heading level0 col3\" >Prec.</th>\n",
       "      <th id=\"T_7c969_level0_col4\" class=\"col_heading level0 col4\" >F1</th>\n",
       "      <th id=\"T_7c969_level0_col5\" class=\"col_heading level0 col5\" >Kappa</th>\n",
       "      <th id=\"T_7c969_level0_col6\" class=\"col_heading level0 col6\" >MCC</th>\n",
       "    </tr>\n",
       "    <tr>\n",
       "      <th class=\"index_name level0\" >Fold</th>\n",
       "      <th class=\"blank col0\" >&nbsp;</th>\n",
       "      <th class=\"blank col1\" >&nbsp;</th>\n",
       "      <th class=\"blank col2\" >&nbsp;</th>\n",
       "      <th class=\"blank col3\" >&nbsp;</th>\n",
       "      <th class=\"blank col4\" >&nbsp;</th>\n",
       "      <th class=\"blank col5\" >&nbsp;</th>\n",
       "      <th class=\"blank col6\" >&nbsp;</th>\n",
       "    </tr>\n",
       "  </thead>\n",
       "  <tbody>\n",
       "    <tr>\n",
       "      <th id=\"T_7c969_level0_row0\" class=\"row_heading level0 row0\" >0</th>\n",
       "      <td id=\"T_7c969_row0_col0\" class=\"data row0 col0\" >0.8632</td>\n",
       "      <td id=\"T_7c969_row0_col1\" class=\"data row0 col1\" >0.9469</td>\n",
       "      <td id=\"T_7c969_row0_col2\" class=\"data row0 col2\" >0.8229</td>\n",
       "      <td id=\"T_7c969_row0_col3\" class=\"data row0 col3\" >0.8879</td>\n",
       "      <td id=\"T_7c969_row0_col4\" class=\"data row0 col4\" >0.8542</td>\n",
       "      <td id=\"T_7c969_row0_col5\" class=\"data row0 col5\" >0.7257</td>\n",
       "      <td id=\"T_7c969_row0_col6\" class=\"data row0 col6\" >0.7275</td>\n",
       "    </tr>\n",
       "    <tr>\n",
       "      <th id=\"T_7c969_level0_row1\" class=\"row_heading level0 row1\" >1</th>\n",
       "      <td id=\"T_7c969_row1_col0\" class=\"data row1 col0\" >0.8577</td>\n",
       "      <td id=\"T_7c969_row1_col1\" class=\"data row1 col1\" >0.9403</td>\n",
       "      <td id=\"T_7c969_row1_col2\" class=\"data row1 col2\" >0.8278</td>\n",
       "      <td id=\"T_7c969_row1_col3\" class=\"data row1 col3\" >0.8734</td>\n",
       "      <td id=\"T_7c969_row1_col4\" class=\"data row1 col4\" >0.8500</td>\n",
       "      <td id=\"T_7c969_row1_col5\" class=\"data row1 col5\" >0.7149</td>\n",
       "      <td id=\"T_7c969_row1_col6\" class=\"data row1 col6\" >0.7158</td>\n",
       "    </tr>\n",
       "    <tr>\n",
       "      <th id=\"T_7c969_level0_row2\" class=\"row_heading level0 row2\" >2</th>\n",
       "      <td id=\"T_7c969_row2_col0\" class=\"data row2 col0\" >0.8720</td>\n",
       "      <td id=\"T_7c969_row2_col1\" class=\"data row2 col1\" >0.9491</td>\n",
       "      <td id=\"T_7c969_row2_col2\" class=\"data row2 col2\" >0.8322</td>\n",
       "      <td id=\"T_7c969_row2_col3\" class=\"data row2 col3\" >0.8974</td>\n",
       "      <td id=\"T_7c969_row2_col4\" class=\"data row2 col4\" >0.8636</td>\n",
       "      <td id=\"T_7c969_row2_col5\" class=\"data row2 col5\" >0.7433</td>\n",
       "      <td id=\"T_7c969_row2_col6\" class=\"data row2 col6\" >0.7452</td>\n",
       "    </tr>\n",
       "    <tr>\n",
       "      <th id=\"T_7c969_level0_row3\" class=\"row_heading level0 row3\" >3</th>\n",
       "      <td id=\"T_7c969_row3_col0\" class=\"data row3 col0\" >0.8660</td>\n",
       "      <td id=\"T_7c969_row3_col1\" class=\"data row3 col1\" >0.9468</td>\n",
       "      <td id=\"T_7c969_row3_col2\" class=\"data row3 col2\" >0.8288</td>\n",
       "      <td id=\"T_7c969_row3_col3\" class=\"data row3 col3\" >0.8886</td>\n",
       "      <td id=\"T_7c969_row3_col4\" class=\"data row3 col4\" >0.8576</td>\n",
       "      <td id=\"T_7c969_row3_col5\" class=\"data row3 col5\" >0.7314</td>\n",
       "      <td id=\"T_7c969_row3_col6\" class=\"data row3 col6\" >0.7330</td>\n",
       "    </tr>\n",
       "    <tr>\n",
       "      <th id=\"T_7c969_level0_row4\" class=\"row_heading level0 row4\" >4</th>\n",
       "      <td id=\"T_7c969_row4_col0\" class=\"data row4 col0\" >0.8539</td>\n",
       "      <td id=\"T_7c969_row4_col1\" class=\"data row4 col1\" >0.9439</td>\n",
       "      <td id=\"T_7c969_row4_col2\" class=\"data row4 col2\" >0.8137</td>\n",
       "      <td id=\"T_7c969_row4_col3\" class=\"data row4 col3\" >0.8774</td>\n",
       "      <td id=\"T_7c969_row4_col4\" class=\"data row4 col4\" >0.8443</td>\n",
       "      <td id=\"T_7c969_row4_col5\" class=\"data row4 col5\" >0.7071</td>\n",
       "      <td id=\"T_7c969_row4_col6\" class=\"data row4 col6\" >0.7089</td>\n",
       "    </tr>\n",
       "    <tr>\n",
       "      <th id=\"T_7c969_level0_row5\" class=\"row_heading level0 row5\" >5</th>\n",
       "      <td id=\"T_7c969_row5_col0\" class=\"data row5 col0\" >0.8663</td>\n",
       "      <td id=\"T_7c969_row5_col1\" class=\"data row5 col1\" >0.9490</td>\n",
       "      <td id=\"T_7c969_row5_col2\" class=\"data row5 col2\" >0.8337</td>\n",
       "      <td id=\"T_7c969_row5_col3\" class=\"data row5 col3\" >0.8850</td>\n",
       "      <td id=\"T_7c969_row5_col4\" class=\"data row5 col4\" >0.8586</td>\n",
       "      <td id=\"T_7c969_row5_col5\" class=\"data row5 col5\" >0.7320</td>\n",
       "      <td id=\"T_7c969_row5_col6\" class=\"data row5 col6\" >0.7331</td>\n",
       "    </tr>\n",
       "    <tr>\n",
       "      <th id=\"T_7c969_level0_row6\" class=\"row_heading level0 row6\" >6</th>\n",
       "      <td id=\"T_7c969_row6_col0\" class=\"data row6 col0\" >0.8603</td>\n",
       "      <td id=\"T_7c969_row6_col1\" class=\"data row6 col1\" >0.9474</td>\n",
       "      <td id=\"T_7c969_row6_col2\" class=\"data row6 col2\" >0.8337</td>\n",
       "      <td id=\"T_7c969_row6_col3\" class=\"data row6 col3\" >0.8737</td>\n",
       "      <td id=\"T_7c969_row6_col4\" class=\"data row6 col4\" >0.8532</td>\n",
       "      <td id=\"T_7c969_row6_col5\" class=\"data row6 col5\" >0.7201</td>\n",
       "      <td id=\"T_7c969_row6_col6\" class=\"data row6 col6\" >0.7209</td>\n",
       "    </tr>\n",
       "    <tr>\n",
       "      <th id=\"T_7c969_level0_row7\" class=\"row_heading level0 row7\" >7</th>\n",
       "      <td id=\"T_7c969_row7_col0\" class=\"data row7 col0\" >0.8675</td>\n",
       "      <td id=\"T_7c969_row7_col1\" class=\"data row7 col1\" >0.9484</td>\n",
       "      <td id=\"T_7c969_row7_col2\" class=\"data row7 col2\" >0.8507</td>\n",
       "      <td id=\"T_7c969_row7_col3\" class=\"data row7 col3\" >0.8737</td>\n",
       "      <td id=\"T_7c969_row7_col4\" class=\"data row7 col4\" >0.8621</td>\n",
       "      <td id=\"T_7c969_row7_col5\" class=\"data row7 col5\" >0.7346</td>\n",
       "      <td id=\"T_7c969_row7_col6\" class=\"data row7 col6\" >0.7348</td>\n",
       "    </tr>\n",
       "    <tr>\n",
       "      <th id=\"T_7c969_level0_row8\" class=\"row_heading level0 row8\" >8</th>\n",
       "      <td id=\"T_7c969_row8_col0\" class=\"data row8 col0\" >0.8580</td>\n",
       "      <td id=\"T_7c969_row8_col1\" class=\"data row8 col1\" >0.9476</td>\n",
       "      <td id=\"T_7c969_row8_col2\" class=\"data row8 col2\" >0.8254</td>\n",
       "      <td id=\"T_7c969_row8_col3\" class=\"data row8 col3\" >0.8758</td>\n",
       "      <td id=\"T_7c969_row8_col4\" class=\"data row8 col4\" >0.8498</td>\n",
       "      <td id=\"T_7c969_row8_col5\" class=\"data row8 col5\" >0.7153</td>\n",
       "      <td id=\"T_7c969_row8_col6\" class=\"data row8 col6\" >0.7164</td>\n",
       "    </tr>\n",
       "    <tr>\n",
       "      <th id=\"T_7c969_level0_row9\" class=\"row_heading level0 row9\" >9</th>\n",
       "      <td id=\"T_7c969_row9_col0\" class=\"data row9 col0\" >0.8672</td>\n",
       "      <td id=\"T_7c969_row9_col1\" class=\"data row9 col1\" >0.9493</td>\n",
       "      <td id=\"T_7c969_row9_col2\" class=\"data row9 col2\" >0.8477</td>\n",
       "      <td id=\"T_7c969_row9_col3\" class=\"data row9 col3\" >0.8755</td>\n",
       "      <td id=\"T_7c969_row9_col4\" class=\"data row9 col4\" >0.8614</td>\n",
       "      <td id=\"T_7c969_row9_col5\" class=\"data row9 col5\" >0.7340</td>\n",
       "      <td id=\"T_7c969_row9_col6\" class=\"data row9 col6\" >0.7343</td>\n",
       "    </tr>\n",
       "    <tr>\n",
       "      <th id=\"T_7c969_level0_row10\" class=\"row_heading level0 row10\" >Mean</th>\n",
       "      <td id=\"T_7c969_row10_col0\" class=\"data row10 col0\" >0.8632</td>\n",
       "      <td id=\"T_7c969_row10_col1\" class=\"data row10 col1\" >0.9469</td>\n",
       "      <td id=\"T_7c969_row10_col2\" class=\"data row10 col2\" >0.8317</td>\n",
       "      <td id=\"T_7c969_row10_col3\" class=\"data row10 col3\" >0.8809</td>\n",
       "      <td id=\"T_7c969_row10_col4\" class=\"data row10 col4\" >0.8555</td>\n",
       "      <td id=\"T_7c969_row10_col5\" class=\"data row10 col5\" >0.7258</td>\n",
       "      <td id=\"T_7c969_row10_col6\" class=\"data row10 col6\" >0.7270</td>\n",
       "    </tr>\n",
       "    <tr>\n",
       "      <th id=\"T_7c969_level0_row11\" class=\"row_heading level0 row11\" >Std</th>\n",
       "      <td id=\"T_7c969_row11_col0\" class=\"data row11 col0\" >0.0053</td>\n",
       "      <td id=\"T_7c969_row11_col1\" class=\"data row11 col1\" >0.0027</td>\n",
       "      <td id=\"T_7c969_row11_col2\" class=\"data row11 col2\" >0.0105</td>\n",
       "      <td id=\"T_7c969_row11_col3\" class=\"data row11 col3\" >0.0079</td>\n",
       "      <td id=\"T_7c969_row11_col4\" class=\"data row11 col4\" >0.0059</td>\n",
       "      <td id=\"T_7c969_row11_col5\" class=\"data row11 col5\" >0.0106</td>\n",
       "      <td id=\"T_7c969_row11_col6\" class=\"data row11 col6\" >0.0106</td>\n",
       "    </tr>\n",
       "  </tbody>\n",
       "</table>\n"
      ],
      "text/plain": [
       "<pandas.io.formats.style.Styler at 0x1ca32c3a460>"
      ]
     },
     "metadata": {},
     "output_type": "display_data"
    }
   ],
   "source": [
    "# Cardiovascular\n",
    "cardio_df = pd.read_csv(\"data/cardio_clean.csv\")\n",
    "\n",
    "df_male = cardio_df.query(\"gender == 1\")\n",
    "df_female = cardio_df.query(\"gender == 0\")\n",
    "\n",
    "# female data\n",
    "# Building the model with using K-Mode with \"Huang\" initialization\n",
    "km_huang = KModes(n_clusters=2, init=\"Huang\", n_init=5, verbose=0)\n",
    "\n",
    "male_kmode = km_huang.fit(df_male)\n",
    "female_kmode = km_huang.fit(df_female)\n",
    "\n",
    "clusters_female = km_huang.fit_predict(df_female)\n",
    "clusters_male = km_huang.fit_predict(df_male)\n",
    "\n",
    "# female DataFrame with Clusters\n",
    "df_female.insert(0, \"cluster\", clusters_female, True)\n",
    "\n",
    "# male DataFrame with Clusters\n",
    "df_male.insert(0, \"cluster\", clusters_male, True)\n",
    "\n",
    "# replacing cluster column values to merge dataframes after\n",
    "df_male[\"cluster\"].replace({0: 2, 1: 3}, inplace=True)\n",
    "\n",
    "# merging female and male data\n",
    "df_clusters = pd.concat([df_female, df_male], ignore_index=True, sort=False)\n",
    "\n",
    "clf1 = setup(data=df_clusters,\n",
    "             target='cardio',\n",
    "             preprocess=False,\n",
    "             silent=True)\n",
    "\n",
    "models()\n",
    "\n",
    "top5_cvd = compare_models(sort='AUC',\n",
    "                          n_select=5,\n",
    "                          )\n",
    "stack_model_cvd = stack_models(\n",
    "    estimator_list=top5_cvd, meta_model=top5_cvd[0], optimize='AUC')\n",
    "\n",
    "final_model_cvd = finalize_model(stack_model_cvd)\n"
   ]
  },
  {
   "cell_type": "markdown",
   "metadata": {},
   "source": [
    "Diabetes Predictor"
   ]
  },
  {
   "cell_type": "code",
   "execution_count": 5,
   "metadata": {},
   "outputs": [
    {
     "data": {
      "text/html": [
       "<style type=\"text/css\">\n",
       "#T_29097_row10_col0, #T_29097_row10_col1, #T_29097_row10_col2, #T_29097_row10_col3, #T_29097_row10_col4, #T_29097_row10_col5, #T_29097_row10_col6 {\n",
       "  background: yellow;\n",
       "}\n",
       "</style>\n",
       "<table id=\"T_29097\">\n",
       "  <thead>\n",
       "    <tr>\n",
       "      <th class=\"blank level0\" >&nbsp;</th>\n",
       "      <th id=\"T_29097_level0_col0\" class=\"col_heading level0 col0\" >Accuracy</th>\n",
       "      <th id=\"T_29097_level0_col1\" class=\"col_heading level0 col1\" >AUC</th>\n",
       "      <th id=\"T_29097_level0_col2\" class=\"col_heading level0 col2\" >Recall</th>\n",
       "      <th id=\"T_29097_level0_col3\" class=\"col_heading level0 col3\" >Prec.</th>\n",
       "      <th id=\"T_29097_level0_col4\" class=\"col_heading level0 col4\" >F1</th>\n",
       "      <th id=\"T_29097_level0_col5\" class=\"col_heading level0 col5\" >Kappa</th>\n",
       "      <th id=\"T_29097_level0_col6\" class=\"col_heading level0 col6\" >MCC</th>\n",
       "    </tr>\n",
       "    <tr>\n",
       "      <th class=\"index_name level0\" >Fold</th>\n",
       "      <th class=\"blank col0\" >&nbsp;</th>\n",
       "      <th class=\"blank col1\" >&nbsp;</th>\n",
       "      <th class=\"blank col2\" >&nbsp;</th>\n",
       "      <th class=\"blank col3\" >&nbsp;</th>\n",
       "      <th class=\"blank col4\" >&nbsp;</th>\n",
       "      <th class=\"blank col5\" >&nbsp;</th>\n",
       "      <th class=\"blank col6\" >&nbsp;</th>\n",
       "    </tr>\n",
       "  </thead>\n",
       "  <tbody>\n",
       "    <tr>\n",
       "      <th id=\"T_29097_level0_row0\" class=\"row_heading level0 row0\" >0</th>\n",
       "      <td id=\"T_29097_row0_col0\" class=\"data row0 col0\" >0.7037</td>\n",
       "      <td id=\"T_29097_row0_col1\" class=\"data row0 col1\" >0.8075</td>\n",
       "      <td id=\"T_29097_row0_col2\" class=\"data row0 col2\" >0.4737</td>\n",
       "      <td id=\"T_29097_row0_col3\" class=\"data row0 col3\" >0.6000</td>\n",
       "      <td id=\"T_29097_row0_col4\" class=\"data row0 col4\" >0.5294</td>\n",
       "      <td id=\"T_29097_row0_col5\" class=\"data row0 col5\" >0.3175</td>\n",
       "      <td id=\"T_29097_row0_col6\" class=\"data row0 col6\" >0.3223</td>\n",
       "    </tr>\n",
       "    <tr>\n",
       "      <th id=\"T_29097_level0_row1\" class=\"row_heading level0 row1\" >1</th>\n",
       "      <td id=\"T_29097_row1_col0\" class=\"data row1 col0\" >0.7593</td>\n",
       "      <td id=\"T_29097_row1_col1\" class=\"data row1 col1\" >0.8135</td>\n",
       "      <td id=\"T_29097_row1_col2\" class=\"data row1 col2\" >0.5789</td>\n",
       "      <td id=\"T_29097_row1_col3\" class=\"data row1 col3\" >0.6875</td>\n",
       "      <td id=\"T_29097_row1_col4\" class=\"data row1 col4\" >0.6286</td>\n",
       "      <td id=\"T_29097_row1_col5\" class=\"data row1 col5\" >0.4524</td>\n",
       "      <td id=\"T_29097_row1_col6\" class=\"data row1 col6\" >0.4561</td>\n",
       "    </tr>\n",
       "    <tr>\n",
       "      <th id=\"T_29097_level0_row2\" class=\"row_heading level0 row2\" >2</th>\n",
       "      <td id=\"T_29097_row2_col0\" class=\"data row2 col0\" >0.7593</td>\n",
       "      <td id=\"T_29097_row2_col1\" class=\"data row2 col1\" >0.8316</td>\n",
       "      <td id=\"T_29097_row2_col2\" class=\"data row2 col2\" >0.5789</td>\n",
       "      <td id=\"T_29097_row2_col3\" class=\"data row2 col3\" >0.6875</td>\n",
       "      <td id=\"T_29097_row2_col4\" class=\"data row2 col4\" >0.6286</td>\n",
       "      <td id=\"T_29097_row2_col5\" class=\"data row2 col5\" >0.4524</td>\n",
       "      <td id=\"T_29097_row2_col6\" class=\"data row2 col6\" >0.4561</td>\n",
       "    </tr>\n",
       "    <tr>\n",
       "      <th id=\"T_29097_level0_row3\" class=\"row_heading level0 row3\" >3</th>\n",
       "      <td id=\"T_29097_row3_col0\" class=\"data row3 col0\" >0.8519</td>\n",
       "      <td id=\"T_29097_row3_col1\" class=\"data row3 col1\" >0.8767</td>\n",
       "      <td id=\"T_29097_row3_col2\" class=\"data row3 col2\" >0.6316</td>\n",
       "      <td id=\"T_29097_row3_col3\" class=\"data row3 col3\" >0.9231</td>\n",
       "      <td id=\"T_29097_row3_col4\" class=\"data row3 col4\" >0.7500</td>\n",
       "      <td id=\"T_29097_row3_col5\" class=\"data row3 col5\" >0.6499</td>\n",
       "      <td id=\"T_29097_row3_col6\" class=\"data row3 col6\" >0.6736</td>\n",
       "    </tr>\n",
       "    <tr>\n",
       "      <th id=\"T_29097_level0_row4\" class=\"row_heading level0 row4\" >4</th>\n",
       "      <td id=\"T_29097_row4_col0\" class=\"data row4 col0\" >0.7963</td>\n",
       "      <td id=\"T_29097_row4_col1\" class=\"data row4 col1\" >0.8827</td>\n",
       "      <td id=\"T_29097_row4_col2\" class=\"data row4 col2\" >0.4737</td>\n",
       "      <td id=\"T_29097_row4_col3\" class=\"data row4 col3\" >0.9000</td>\n",
       "      <td id=\"T_29097_row4_col4\" class=\"data row4 col4\" >0.6207</td>\n",
       "      <td id=\"T_29097_row4_col5\" class=\"data row4 col5\" >0.4992</td>\n",
       "      <td id=\"T_29097_row4_col6\" class=\"data row4 col6\" >0.5472</td>\n",
       "    </tr>\n",
       "    <tr>\n",
       "      <th id=\"T_29097_level0_row5\" class=\"row_heading level0 row5\" >5</th>\n",
       "      <td id=\"T_29097_row5_col0\" class=\"data row5 col0\" >0.8333</td>\n",
       "      <td id=\"T_29097_row5_col1\" class=\"data row5 col1\" >0.8406</td>\n",
       "      <td id=\"T_29097_row5_col2\" class=\"data row5 col2\" >0.5263</td>\n",
       "      <td id=\"T_29097_row5_col3\" class=\"data row5 col3\" >1.0000</td>\n",
       "      <td id=\"T_29097_row5_col4\" class=\"data row5 col4\" >0.6897</td>\n",
       "      <td id=\"T_29097_row5_col5\" class=\"data row5 col5\" >0.5902</td>\n",
       "      <td id=\"T_29097_row5_col6\" class=\"data row5 col6\" >0.6470</td>\n",
       "    </tr>\n",
       "    <tr>\n",
       "      <th id=\"T_29097_level0_row6\" class=\"row_heading level0 row6\" >6</th>\n",
       "      <td id=\"T_29097_row6_col0\" class=\"data row6 col0\" >0.7778</td>\n",
       "      <td id=\"T_29097_row6_col1\" class=\"data row6 col1\" >0.8722</td>\n",
       "      <td id=\"T_29097_row6_col2\" class=\"data row6 col2\" >0.8421</td>\n",
       "      <td id=\"T_29097_row6_col3\" class=\"data row6 col3\" >0.6400</td>\n",
       "      <td id=\"T_29097_row6_col4\" class=\"data row6 col4\" >0.7273</td>\n",
       "      <td id=\"T_29097_row6_col5\" class=\"data row6 col5\" >0.5456</td>\n",
       "      <td id=\"T_29097_row6_col6\" class=\"data row6 col6\" >0.5602</td>\n",
       "    </tr>\n",
       "    <tr>\n",
       "      <th id=\"T_29097_level0_row7\" class=\"row_heading level0 row7\" >7</th>\n",
       "      <td id=\"T_29097_row7_col0\" class=\"data row7 col0\" >0.8113</td>\n",
       "      <td id=\"T_29097_row7_col1\" class=\"data row7 col1\" >0.8508</td>\n",
       "      <td id=\"T_29097_row7_col2\" class=\"data row7 col2\" >0.6111</td>\n",
       "      <td id=\"T_29097_row7_col3\" class=\"data row7 col3\" >0.7857</td>\n",
       "      <td id=\"T_29097_row7_col4\" class=\"data row7 col4\" >0.6875</td>\n",
       "      <td id=\"T_29097_row7_col5\" class=\"data row7 col5\" >0.5554</td>\n",
       "      <td id=\"T_29097_row7_col6\" class=\"data row7 col6\" >0.5644</td>\n",
       "    </tr>\n",
       "    <tr>\n",
       "      <th id=\"T_29097_level0_row8\" class=\"row_heading level0 row8\" >8</th>\n",
       "      <td id=\"T_29097_row8_col0\" class=\"data row8 col0\" >0.8113</td>\n",
       "      <td id=\"T_29097_row8_col1\" class=\"data row8 col1\" >0.8714</td>\n",
       "      <td id=\"T_29097_row8_col2\" class=\"data row8 col2\" >0.6667</td>\n",
       "      <td id=\"T_29097_row8_col3\" class=\"data row8 col3\" >0.7500</td>\n",
       "      <td id=\"T_29097_row8_col4\" class=\"data row8 col4\" >0.7059</td>\n",
       "      <td id=\"T_29097_row8_col5\" class=\"data row8 col5\" >0.5677</td>\n",
       "      <td id=\"T_29097_row8_col6\" class=\"data row8 col6\" >0.5698</td>\n",
       "    </tr>\n",
       "    <tr>\n",
       "      <th id=\"T_29097_level0_row9\" class=\"row_heading level0 row9\" >9</th>\n",
       "      <td id=\"T_29097_row9_col0\" class=\"data row9 col0\" >0.6792</td>\n",
       "      <td id=\"T_29097_row9_col1\" class=\"data row9 col1\" >0.8143</td>\n",
       "      <td id=\"T_29097_row9_col2\" class=\"data row9 col2\" >0.5556</td>\n",
       "      <td id=\"T_29097_row9_col3\" class=\"data row9 col3\" >0.5263</td>\n",
       "      <td id=\"T_29097_row9_col4\" class=\"data row9 col4\" >0.5405</td>\n",
       "      <td id=\"T_29097_row9_col5\" class=\"data row9 col5\" >0.2944</td>\n",
       "      <td id=\"T_29097_row9_col6\" class=\"data row9 col6\" >0.2947</td>\n",
       "    </tr>\n",
       "    <tr>\n",
       "      <th id=\"T_29097_level0_row10\" class=\"row_heading level0 row10\" >Mean</th>\n",
       "      <td id=\"T_29097_row10_col0\" class=\"data row10 col0\" >0.7783</td>\n",
       "      <td id=\"T_29097_row10_col1\" class=\"data row10 col1\" >0.8461</td>\n",
       "      <td id=\"T_29097_row10_col2\" class=\"data row10 col2\" >0.5939</td>\n",
       "      <td id=\"T_29097_row10_col3\" class=\"data row10 col3\" >0.7500</td>\n",
       "      <td id=\"T_29097_row10_col4\" class=\"data row10 col4\" >0.6508</td>\n",
       "      <td id=\"T_29097_row10_col5\" class=\"data row10 col5\" >0.4925</td>\n",
       "      <td id=\"T_29097_row10_col6\" class=\"data row10 col6\" >0.5091</td>\n",
       "    </tr>\n",
       "    <tr>\n",
       "      <th id=\"T_29097_level0_row11\" class=\"row_heading level0 row11\" >Std</th>\n",
       "      <td id=\"T_29097_row11_col0\" class=\"data row11 col0\" >0.0520</td>\n",
       "      <td id=\"T_29097_row11_col1\" class=\"data row11 col1\" >0.0272</td>\n",
       "      <td id=\"T_29097_row11_col2\" class=\"data row11 col2\" >0.1020</td>\n",
       "      <td id=\"T_29097_row11_col3\" class=\"data row11 col3\" >0.1445</td>\n",
       "      <td id=\"T_29097_row11_col4\" class=\"data row11 col4\" >0.0710</td>\n",
       "      <td id=\"T_29097_row11_col5\" class=\"data row11 col5\" >0.1095</td>\n",
       "      <td id=\"T_29097_row11_col6\" class=\"data row11 col6\" >0.1197</td>\n",
       "    </tr>\n",
       "  </tbody>\n",
       "</table>\n"
      ],
      "text/plain": [
       "<pandas.io.formats.style.Styler at 0x1ca32d2a040>"
      ]
     },
     "metadata": {},
     "output_type": "display_data"
    }
   ],
   "source": [
    "# Diabetes\n",
    "diabetes_df = pd.read_csv('data/diabetes_clean.csv')\n",
    "diabetes_df.info()\n",
    "\n",
    "X = diabetes_df.iloc[:, :-1]\n",
    "y = diabetes_df.iloc[:, -1]\n",
    "\n",
    "X_train, X_test, y_train, y_test = train_test_split(\n",
    "    X, y, test_size=0.30, random_state=42)\n",
    "\n",
    "clf2 = setup(data=diabetes_df,\n",
    "             target='Outcome',\n",
    "             preprocess=False,\n",
    "             silent=True)\n",
    "\n",
    "models()\n",
    "\n",
    "top5_diabetes = compare_models(sort='AUC', n_select=5)\n",
    "\n",
    "blend_soft_diabetes = blend_models(\n",
    "    estimator_list=top5_diabetes, optimize='AUC', method='soft')\n",
    "\n",
    "cali_model_diabetes = calibrate_model(blend_soft_diabetes)\n",
    "\n",
    "final_model_diabetes = finalize_model(cali_model_diabetes)\n"
   ]
  },
  {
   "cell_type": "markdown",
   "metadata": {},
   "source": [
    "Reusable Functions"
   ]
  },
  {
   "cell_type": "code",
   "execution_count": 38,
   "metadata": {},
   "outputs": [],
   "source": [
    "def predict_diabetes(patient_details):\n",
    "    prediction_diabetes = final_model_diabetes.predict([[\n",
    "        patient_details.pregnancies,\n",
    "        patient_details.glucose,\n",
    "        patient_details.diastolic_bp,\n",
    "        patient_details.skin_thickness,\n",
    "        patient_details.insulin,\n",
    "        patient_details.bmi,\n",
    "        patient_details.dpf,\n",
    "        patient_details.age\n",
    "    ]])\n",
    "    return prediction_diabetes[0]\n",
    "\n",
    "\n",
    "def predict_cvd(patient_details):\n",
    "    prediction_cvd = final_model_cvd.predict([[\n",
    "        patient_details.cluster,\n",
    "        patient_details.gender,\n",
    "        patient_details.age_class,\n",
    "        patient_details.bmi_class,\n",
    "        patient_details.map_class,\n",
    "        patient_details.cholesterol_class,\n",
    "        patient_details.glucose_class,\n",
    "        patient_details.smoke,\n",
    "        patient_details.active\n",
    "    ]])\n",
    "    return prediction_cvd[0]\n",
    "\n",
    "\n",
    "def assign_cluster_male(patient):\n",
    "    cluster = male_kmode.predict(patient)\n",
    "    if cluster[0] == 0:\n",
    "        return 2\n",
    "    if cluster[0] == 1:\n",
    "        return 3\n",
    "\n",
    "\n",
    "def assign_cluster_female(patient):\n",
    "    predict = female_kmode.predict(patient)\n",
    "    return predict[0]\n",
    "\n",
    "\n",
    "def assign_cluster(patient_details):\n",
    "    if patient_details.gender == 0:  # Female\n",
    "        return assign_cluster_female([[\n",
    "            patient_details.gender,\n",
    "            patient_details.age_class,\n",
    "            patient_details.bmi_class,\n",
    "            patient_details.map_class,\n",
    "            patient_details.cholesterol_class,\n",
    "            patient_details.glucose_class,\n",
    "            patient_details.smoke,\n",
    "            patient_details.active,\n",
    "            patient_details.cvd_prediction\n",
    "        ]])\n",
    "    else:\n",
    "        return assign_cluster_male([[\n",
    "            patient_details.gender,\n",
    "            patient_details.age_class,\n",
    "            patient_details.bmi_class,\n",
    "            patient_details.map_class,\n",
    "            patient_details.cholesterol_class,\n",
    "            patient_details.glucose_class,\n",
    "            patient_details.smoke,\n",
    "            patient_details.active,\n",
    "            patient_details.cvd_prediction\n",
    "        ]])\n",
    "\n",
    "def proccess_patient_details(age, gender, pregnancies, glucose, cholesterol, insulin, systolic_bp, diastolic_bp, skin_thickness, bmi, smoke, active, dpf):\n",
    "    patient_details = Patient()\n",
    "\n",
    "    patient_details.age = age\n",
    "    patient_details.gender = gender\n",
    "    patient_details.pregnancies = pregnancies\n",
    "    patient_details.glucose = glucose\n",
    "    patient_details.cholesterol = cholesterol\n",
    "    patient_details.insulin = insulin\n",
    "    patient_details.systolic_bp = systolic_bp\n",
    "    patient_details.diastolic_bp = diastolic_bp\n",
    "    patient_details.skin_thickness = skin_thickness\n",
    "    patient_details.bmi = bmi\n",
    "    patient_details.smoke = smoke\n",
    "    patient_details.active = active\n",
    "    patient_details.dpf = dpf\n",
    "\n",
    "    #Initial value, might change after prediction\n",
    "    patient_details.cvd_prediction = 0\n",
    "    patient_details.diabetes_prediction = 0\n",
    "\n",
    "    patient_details = process_patient_classification(patient_details)\n",
    "\n",
    "    return patient_details\n",
    "\n",
    "def process_patient_classification(patient_details):\n",
    "    patient_details.mean_arterial_pressure = compute_mean_arterial_pressure(patient_details.systolic_bp, patient_details.diastolic_bp)\n",
    "    patient_details.age_class = get_age_class(patient_details.age)\n",
    "    patient_details.bmi_class = get_bmi_class(patient_details.bmi)\n",
    "    patient_details.map_class = get_map_class(patient_details.mean_arterial_pressure)\n",
    "    patient_details.cholesterol_class = get_cholesterol_class(patient_details.cholesterol)\n",
    "    patient_details.glucose_class = get_glucose_class(patient_details.glucose)\n",
    "\n",
    "    patient_details.cluster = assign_cluster(patient_details)\n",
    "\n",
    "    patient_details.cvd_prediction = predict_cvd(patient_details)\n",
    "    patient_details.diabetes_prediction = predict_diabetes(patient_details)\n",
    "\n",
    "    return patient_details\n",
    "\n"
   ]
  },
  {
   "cell_type": "markdown",
   "metadata": {},
   "source": [
    "Web Application Implementation"
   ]
  },
  {
   "cell_type": "code",
   "execution_count": 39,
   "metadata": {},
   "outputs": [
    {
     "name": "stdout",
     "output_type": "stream",
     "text": [
      "Dash is running on http://127.0.0.1:4050/\n",
      "\n",
      "Dash is running on http://127.0.0.1:4050/\n",
      "\n",
      "Dash is running on http://127.0.0.1:4050/\n",
      "\n",
      "Dash is running on http://127.0.0.1:4050/\n",
      "\n",
      "Dash is running on http://127.0.0.1:4050/\n",
      "\n",
      "Dash is running on http://127.0.0.1:4050/\n",
      "\n",
      "Dash is running on http://127.0.0.1:4050/\n",
      "\n",
      "Dash is running on http://127.0.0.1:4050/\n",
      "\n",
      "Dash is running on http://127.0.0.1:4050/\n",
      "\n",
      "Dash is running on http://127.0.0.1:4050/\n",
      "\n",
      "Dash is running on http://127.0.0.1:4050/\n",
      "\n",
      "Dash is running on http://127.0.0.1:4050/\n",
      "\n",
      " * Serving Flask app '__main__' (lazy loading)\n",
      " * Environment: production\n",
      "\u001b[31m   WARNING: This is a development server. Do not use it in a production deployment.\u001b[0m\n",
      "\u001b[2m   Use a production WSGI server instead.\u001b[0m\n",
      " * Debug mode: off\n"
     ]
    },
    {
     "name": "stderr",
     "output_type": "stream",
     "text": [
      " * Running on http://127.0.0.1:4050 (Press CTRL+C to quit)\n",
      "127.0.0.1 - - [16/May/2022 22:56:26] \"GET / HTTP/1.1\" 200 -\n",
      "127.0.0.1 - - [16/May/2022 22:56:26] \"GET /assets/header.css?m=1652455464.7393887 HTTP/1.1\" 304 -\n",
      "127.0.0.1 - - [16/May/2022 22:56:26] \"GET /assets/style.css?m=1652453253.2719538 HTTP/1.1\" 304 -\n",
      "127.0.0.1 - - [16/May/2022 22:56:26] \"GET /assets/typography.css?m=1652437109.3968763 HTTP/1.1\" 304 -\n",
      "127.0.0.1 - - [16/May/2022 22:56:26] \"GET /_dash-component-suites/dash/dcc/dash_core_components-shared.js.map HTTP/1.1\" 200 -\n",
      "127.0.0.1 - - [16/May/2022 22:56:26] \"GET /_dash-component-suites/dash/dcc/dash_core_components.js.map HTTP/1.1\" 200 -\n",
      "127.0.0.1 - - [16/May/2022 22:56:26] \"GET /_dash-layout HTTP/1.1\" 200 -\n",
      "127.0.0.1 - - [16/May/2022 22:56:26] \"GET /_dash-component-suites/dash/html/dash_html_components.min.js.map HTTP/1.1\" 200 -\n",
      "127.0.0.1 - - [16/May/2022 22:56:26] \"GET /_dash-dependencies HTTP/1.1\" 200 -\n",
      "127.0.0.1 - - [16/May/2022 22:56:26] \"GET /_dash-component-suites/dash/dash_table/bundle.js.map HTTP/1.1\" 200 -\n",
      "127.0.0.1 - - [16/May/2022 22:56:26] \"GET /_favicon.ico?v=2.4.1 HTTP/1.1\" 200 -\n",
      "127.0.0.1 - - [16/May/2022 22:56:26] \"GET /_dash-component-suites/dash/dcc/async-dropdown.js HTTP/1.1\" 304 -\n",
      "127.0.0.1 - - [16/May/2022 22:56:26] \"POST /_dash-update-component HTTP/1.1\" 200 -\n",
      "127.0.0.1 - - [16/May/2022 22:56:26] \"POST /_dash-update-component HTTP/1.1\" 200 -\n",
      "127.0.0.1 - - [16/May/2022 22:56:26] \"GET /_dash-component-suites/dash/dcc/async-dropdown.js.map HTTP/1.1\" 200 -\n",
      "127.0.0.1 - - [16/May/2022 22:56:27] \"POST /_dash-update-component HTTP/1.1\" 200 -\n",
      "127.0.0.1 - - [16/May/2022 22:56:27] \"POST /_dash-update-component HTTP/1.1\" 200 -\n",
      "127.0.0.1 - - [16/May/2022 22:56:27] \"POST /_dash-update-component HTTP/1.1\" 200 -\n",
      "127.0.0.1 - - [16/May/2022 22:56:27] \"POST /_dash-update-component HTTP/1.1\" 200 -\n",
      "127.0.0.1 - - [16/May/2022 22:56:29] \"POST /_dash-update-component HTTP/1.1\" 200 -\n",
      "127.0.0.1 - - [16/May/2022 22:56:29] \"POST /_dash-update-component HTTP/1.1\" 200 -\n",
      "127.0.0.1 - - [16/May/2022 22:56:54] \"POST /_dash-update-component HTTP/1.1\" 200 -\n",
      "127.0.0.1 - - [16/May/2022 22:56:54] \"POST /_dash-update-component HTTP/1.1\" 200 -\n",
      "127.0.0.1 - - [16/May/2022 22:56:54] \"POST /_dash-update-component HTTP/1.1\" 200 -\n",
      "127.0.0.1 - - [16/May/2022 22:56:54] \"POST /_dash-update-component HTTP/1.1\" 200 -\n",
      "127.0.0.1 - - [16/May/2022 22:56:55] \"POST /_dash-update-component HTTP/1.1\" 200 -\n",
      "127.0.0.1 - - [16/May/2022 22:56:55] \"POST /_dash-update-component HTTP/1.1\" 200 -\n",
      "127.0.0.1 - - [16/May/2022 22:56:55] \"POST /_dash-update-component HTTP/1.1\" 200 -\n",
      "127.0.0.1 - - [16/May/2022 22:56:55] \"POST /_dash-update-component HTTP/1.1\" 200 -\n",
      "127.0.0.1 - - [16/May/2022 22:56:56] \"POST /_dash-update-component HTTP/1.1\" 200 -\n",
      "127.0.0.1 - - [16/May/2022 22:56:56] \"POST /_dash-update-component HTTP/1.1\" 200 -\n",
      "127.0.0.1 - - [16/May/2022 22:56:56] \"POST /_dash-update-component HTTP/1.1\" 200 -\n",
      "127.0.0.1 - - [16/May/2022 22:56:56] \"POST /_dash-update-component HTTP/1.1\" 200 -\n",
      "127.0.0.1 - - [16/May/2022 22:56:57] \"POST /_dash-update-component HTTP/1.1\" 200 -\n",
      "127.0.0.1 - - [16/May/2022 22:56:58] \"POST /_dash-update-component HTTP/1.1\" 200 -\n",
      "127.0.0.1 - - [16/May/2022 22:56:58] \"POST /_dash-update-component HTTP/1.1\" 200 -\n",
      "127.0.0.1 - - [16/May/2022 22:56:58] \"POST /_dash-update-component HTTP/1.1\" 200 -\n",
      "127.0.0.1 - - [16/May/2022 22:56:58] \"POST /_dash-update-component HTTP/1.1\" 200 -\n",
      "127.0.0.1 - - [16/May/2022 22:56:58] \"POST /_dash-update-component HTTP/1.1\" 200 -\n",
      "127.0.0.1 - - [16/May/2022 22:56:59] \"POST /_dash-update-component HTTP/1.1\" 200 -\n",
      "127.0.0.1 - - [16/May/2022 22:56:59] \"POST /_dash-update-component HTTP/1.1\" 200 -\n",
      "127.0.0.1 - - [16/May/2022 22:56:59] \"POST /_dash-update-component HTTP/1.1\" 200 -\n",
      "127.0.0.1 - - [16/May/2022 22:56:59] \"POST /_dash-update-component HTTP/1.1\" 200 -\n",
      "127.0.0.1 - - [16/May/2022 22:57:00] \"POST /_dash-update-component HTTP/1.1\" 200 -\n",
      "127.0.0.1 - - [16/May/2022 22:57:00] \"POST /_dash-update-component HTTP/1.1\" 200 -\n",
      "127.0.0.1 - - [16/May/2022 22:57:00] \"POST /_dash-update-component HTTP/1.1\" 200 -\n",
      "127.0.0.1 - - [16/May/2022 22:57:00] \"POST /_dash-update-component HTTP/1.1\" 200 -\n",
      "127.0.0.1 - - [16/May/2022 22:57:00] \"POST /_dash-update-component HTTP/1.1\" 200 -\n",
      "127.0.0.1 - - [16/May/2022 22:57:00] \"POST /_dash-update-component HTTP/1.1\" 200 -\n",
      "127.0.0.1 - - [16/May/2022 22:57:01] \"POST /_dash-update-component HTTP/1.1\" 200 -\n",
      "127.0.0.1 - - [16/May/2022 22:57:01] \"POST /_dash-update-component HTTP/1.1\" 200 -\n",
      "127.0.0.1 - - [16/May/2022 22:57:02] \"POST /_dash-update-component HTTP/1.1\" 200 -\n",
      "127.0.0.1 - - [16/May/2022 22:57:02] \"POST /_dash-update-component HTTP/1.1\" 200 -\n",
      "127.0.0.1 - - [16/May/2022 22:57:02] \"POST /_dash-update-component HTTP/1.1\" 200 -\n",
      "127.0.0.1 - - [16/May/2022 22:57:02] \"POST /_dash-update-component HTTP/1.1\" 200 -\n",
      "127.0.0.1 - - [16/May/2022 22:57:02] \"POST /_dash-update-component HTTP/1.1\" 200 -\n",
      "127.0.0.1 - - [16/May/2022 22:57:02] \"POST /_dash-update-component HTTP/1.1\" 200 -\n",
      "127.0.0.1 - - [16/May/2022 22:57:06] \"POST /_dash-update-component HTTP/1.1\" 200 -\n",
      "127.0.0.1 - - [16/May/2022 22:57:06] \"POST /_dash-update-component HTTP/1.1\" 200 -\n",
      "127.0.0.1 - - [16/May/2022 22:57:06] \"POST /_dash-update-component HTTP/1.1\" 200 -\n",
      "127.0.0.1 - - [16/May/2022 22:57:06] \"POST /_dash-update-component HTTP/1.1\" 200 -\n",
      "127.0.0.1 - - [16/May/2022 22:57:07] \"POST /_dash-update-component HTTP/1.1\" 200 -\n",
      "127.0.0.1 - - [16/May/2022 22:57:07] \"POST /_dash-update-component HTTP/1.1\" 200 -\n",
      "127.0.0.1 - - [16/May/2022 22:57:07] \"POST /_dash-update-component HTTP/1.1\" 200 -\n",
      "127.0.0.1 - - [16/May/2022 22:57:07] \"POST /_dash-update-component HTTP/1.1\" 200 -\n",
      "127.0.0.1 - - [16/May/2022 22:57:07] \"POST /_dash-update-component HTTP/1.1\" 200 -\n",
      "127.0.0.1 - - [16/May/2022 22:57:07] \"POST /_dash-update-component HTTP/1.1\" 200 -\n",
      "127.0.0.1 - - [16/May/2022 22:57:09] \"POST /_dash-update-component HTTP/1.1\" 200 -\n",
      "127.0.0.1 - - [16/May/2022 22:57:09] \"POST /_dash-update-component HTTP/1.1\" 200 -\n",
      "127.0.0.1 - - [16/May/2022 22:57:09] \"POST /_dash-update-component HTTP/1.1\" 200 -\n",
      "127.0.0.1 - - [16/May/2022 22:57:09] \"POST /_dash-update-component HTTP/1.1\" 200 -\n",
      "127.0.0.1 - - [16/May/2022 22:57:09] \"POST /_dash-update-component HTTP/1.1\" 200 -\n",
      "127.0.0.1 - - [16/May/2022 22:57:09] \"POST /_dash-update-component HTTP/1.1\" 200 -\n",
      "127.0.0.1 - - [16/May/2022 22:57:11] \"POST /_dash-update-component HTTP/1.1\" 200 -\n",
      "127.0.0.1 - - [16/May/2022 22:57:11] \"POST /_dash-update-component HTTP/1.1\" 200 -\n",
      "127.0.0.1 - - [16/May/2022 22:57:11] \"POST /_dash-update-component HTTP/1.1\" 200 -\n",
      "127.0.0.1 - - [16/May/2022 22:57:11] \"POST /_dash-update-component HTTP/1.1\" 200 -\n",
      "127.0.0.1 - - [16/May/2022 22:57:11] \"POST /_dash-update-component HTTP/1.1\" 200 -\n",
      "127.0.0.1 - - [16/May/2022 22:57:11] \"POST /_dash-update-component HTTP/1.1\" 200 -\n",
      "127.0.0.1 - - [16/May/2022 22:57:11] \"POST /_dash-update-component HTTP/1.1\" 200 -\n",
      "127.0.0.1 - - [16/May/2022 22:57:11] \"POST /_dash-update-component HTTP/1.1\" 200 -\n",
      "127.0.0.1 - - [16/May/2022 22:57:11] \"POST /_dash-update-component HTTP/1.1\" 200 -\n",
      "127.0.0.1 - - [16/May/2022 22:57:11] \"POST /_dash-update-component HTTP/1.1\" 200 -\n",
      "127.0.0.1 - - [16/May/2022 22:57:13] \"POST /_dash-update-component HTTP/1.1\" 200 -\n",
      "127.0.0.1 - - [16/May/2022 22:57:13] \"POST /_dash-update-component HTTP/1.1\" 200 -\n",
      "127.0.0.1 - - [16/May/2022 22:57:13] \"POST /_dash-update-component HTTP/1.1\" 200 -\n",
      "127.0.0.1 - - [16/May/2022 22:57:13] \"POST /_dash-update-component HTTP/1.1\" 200 -\n",
      "127.0.0.1 - - [16/May/2022 22:57:14] \"POST /_dash-update-component HTTP/1.1\" 200 -\n",
      "127.0.0.1 - - [16/May/2022 22:57:14] \"POST /_dash-update-component HTTP/1.1\" 200 -\n",
      "127.0.0.1 - - [16/May/2022 22:57:14] \"POST /_dash-update-component HTTP/1.1\" 200 -\n",
      "127.0.0.1 - - [16/May/2022 22:57:14] \"POST /_dash-update-component HTTP/1.1\" 200 -\n",
      "127.0.0.1 - - [16/May/2022 22:57:14] \"POST /_dash-update-component HTTP/1.1\" 200 -\n",
      "127.0.0.1 - - [16/May/2022 22:57:14] \"POST /_dash-update-component HTTP/1.1\" 200 -\n",
      "127.0.0.1 - - [16/May/2022 22:57:14] \"POST /_dash-update-component HTTP/1.1\" 200 -\n",
      "127.0.0.1 - - [16/May/2022 22:57:14] \"POST /_dash-update-component HTTP/1.1\" 200 -\n",
      "127.0.0.1 - - [16/May/2022 22:57:15] \"POST /_dash-update-component HTTP/1.1\" 200 -\n",
      "127.0.0.1 - - [16/May/2022 22:57:15] \"POST /_dash-update-component HTTP/1.1\" 200 -\n",
      "127.0.0.1 - - [16/May/2022 22:57:15] \"POST /_dash-update-component HTTP/1.1\" 200 -\n",
      "127.0.0.1 - - [16/May/2022 22:57:15] \"POST /_dash-update-component HTTP/1.1\" 200 -\n",
      "127.0.0.1 - - [16/May/2022 22:57:15] \"POST /_dash-update-component HTTP/1.1\" 200 -\n",
      "127.0.0.1 - - [16/May/2022 22:57:15] \"POST /_dash-update-component HTTP/1.1\" 200 -\n",
      "127.0.0.1 - - [16/May/2022 22:57:16] \"POST /_dash-update-component HTTP/1.1\" 200 -\n",
      "127.0.0.1 - - [16/May/2022 22:57:16] \"POST /_dash-update-component HTTP/1.1\" 200 -\n",
      "127.0.0.1 - - [16/May/2022 22:57:16] \"POST /_dash-update-component HTTP/1.1\" 200 -\n",
      "127.0.0.1 - - [16/May/2022 22:57:16] \"POST /_dash-update-component HTTP/1.1\" 200 -\n",
      "127.0.0.1 - - [16/May/2022 22:57:17] \"POST /_dash-update-component HTTP/1.1\" 200 -\n",
      "127.0.0.1 - - [16/May/2022 22:57:17] \"POST /_dash-update-component HTTP/1.1\" 200 -\n",
      "127.0.0.1 - - [16/May/2022 22:57:18] \"POST /_dash-update-component HTTP/1.1\" 200 -\n",
      "127.0.0.1 - - [16/May/2022 22:57:18] \"POST /_dash-update-component HTTP/1.1\" 200 -\n",
      "127.0.0.1 - - [16/May/2022 22:57:19] \"POST /_dash-update-component HTTP/1.1\" 200 -\n",
      "127.0.0.1 - - [16/May/2022 22:57:19] \"POST /_dash-update-component HTTP/1.1\" 200 -\n",
      "127.0.0.1 - - [16/May/2022 22:57:19] \"POST /_dash-update-component HTTP/1.1\" 200 -\n",
      "127.0.0.1 - - [16/May/2022 22:57:19] \"POST /_dash-update-component HTTP/1.1\" 200 -\n",
      "127.0.0.1 - - [16/May/2022 22:57:19] \"POST /_dash-update-component HTTP/1.1\" 200 -\n",
      "127.0.0.1 - - [16/May/2022 22:57:19] \"POST /_dash-update-component HTTP/1.1\" 200 -\n",
      "127.0.0.1 - - [16/May/2022 22:57:20] \"POST /_dash-update-component HTTP/1.1\" 200 -\n",
      "127.0.0.1 - - [16/May/2022 22:57:20] \"POST /_dash-update-component HTTP/1.1\" 200 -\n",
      "127.0.0.1 - - [16/May/2022 22:57:20] \"POST /_dash-update-component HTTP/1.1\" 200 -\n",
      "127.0.0.1 - - [16/May/2022 22:57:20] \"POST /_dash-update-component HTTP/1.1\" 200 -\n",
      "127.0.0.1 - - [16/May/2022 22:57:26] \"POST /_dash-update-component HTTP/1.1\" 200 -\n",
      "127.0.0.1 - - [16/May/2022 22:57:26] \"POST /_dash-update-component HTTP/1.1\" 200 -\n",
      "127.0.0.1 - - [16/May/2022 22:57:26] \"POST /_dash-update-component HTTP/1.1\" 200 -\n",
      "127.0.0.1 - - [16/May/2022 22:57:26] \"POST /_dash-update-component HTTP/1.1\" 200 -\n",
      "127.0.0.1 - - [16/May/2022 22:57:27] \"POST /_dash-update-component HTTP/1.1\" 200 -\n",
      "127.0.0.1 - - [16/May/2022 22:57:27] \"POST /_dash-update-component HTTP/1.1\" 200 -\n",
      "127.0.0.1 - - [16/May/2022 22:57:27] \"POST /_dash-update-component HTTP/1.1\" 200 -\n",
      "127.0.0.1 - - [16/May/2022 22:57:27] \"POST /_dash-update-component HTTP/1.1\" 200 -\n",
      "127.0.0.1 - - [16/May/2022 22:57:34] \"POST /_dash-update-component HTTP/1.1\" 200 -\n",
      "127.0.0.1 - - [16/May/2022 22:57:34] \"POST /_dash-update-component HTTP/1.1\" 200 -\n",
      "127.0.0.1 - - [16/May/2022 22:57:35] \"POST /_dash-update-component HTTP/1.1\" 200 -\n",
      "127.0.0.1 - - [16/May/2022 22:57:35] \"POST /_dash-update-component HTTP/1.1\" 200 -\n",
      "127.0.0.1 - - [16/May/2022 22:57:37] \"POST /_dash-update-component HTTP/1.1\" 200 -\n",
      "127.0.0.1 - - [16/May/2022 22:57:37] \"POST /_dash-update-component HTTP/1.1\" 200 -\n",
      "127.0.0.1 - - [16/May/2022 22:57:38] \"POST /_dash-update-component HTTP/1.1\" 200 -\n",
      "127.0.0.1 - - [16/May/2022 22:57:38] \"POST /_dash-update-component HTTP/1.1\" 200 -\n",
      "127.0.0.1 - - [16/May/2022 22:57:39] \"POST /_dash-update-component HTTP/1.1\" 200 -\n",
      "127.0.0.1 - - [16/May/2022 22:57:39] \"POST /_dash-update-component HTTP/1.1\" 200 -\n",
      "127.0.0.1 - - [16/May/2022 22:57:39] \"POST /_dash-update-component HTTP/1.1\" 200 -\n",
      "127.0.0.1 - - [16/May/2022 22:57:40] \"POST /_dash-update-component HTTP/1.1\" 200 -\n"
     ]
    },
    {
     "name": "stdout",
     "output_type": "stream",
     "text": [
      "{'patient': {'cluster': '1', 'age': '31', 'gender': '0', 'cholesterol': '236', 'systolic_bp': '143', 'diastolic_bp': '93', 'mean_arterial_pressure': '109.66666666666667', 'skin_thickness': '27', 'insulin': '200', 'bmi': '29', 'dpf': '0', 'age_class': '0', 'bmi_class': '2', 'map_class': '2', 'cholesterol_class': '1', 'glucose_class': '2', 'smoke': '0', 'active': '0', 'cvd_prediction': '1', 'diabetes_prediction': '0'}, 'health_statuses': {'bmi_status': 'Overweight', 'map_status': 'Elevated', 'cholesterol_status': 'Borderline High', 'glucose_status': 'High', 'cvd_risk': 'High Risk', 'diabetes_risk': 'Low Risk'}}\n"
     ]
    },
    {
     "name": "stderr",
     "output_type": "stream",
     "text": [
      "127.0.0.1 - - [16/May/2022 22:57:50] \"POST /_dash-update-component HTTP/1.1\" 200 -\n",
      "127.0.0.1 - - [16/May/2022 22:57:50] \"POST /_dash-update-component HTTP/1.1\" 200 -\n"
     ]
    },
    {
     "name": "stdout",
     "output_type": "stream",
     "text": [
      "{'patient': {'cluster': '1', 'age': '31', 'gender': '0', 'cholesterol': '236', 'systolic_bp': '143', 'diastolic_bp': '93', 'mean_arterial_pressure': '109.66666666666667', 'skin_thickness': '27', 'insulin': '200', 'bmi': '29', 'dpf': '1', 'age_class': '0', 'bmi_class': '2', 'map_class': '2', 'cholesterol_class': '1', 'glucose_class': '2', 'smoke': '0', 'active': '0', 'cvd_prediction': '1', 'diabetes_prediction': '0'}, 'health_statuses': {'bmi_status': 'Overweight', 'map_status': 'Elevated', 'cholesterol_status': 'Borderline High', 'glucose_status': 'High', 'cvd_risk': 'High Risk', 'diabetes_risk': 'Low Risk'}}\n"
     ]
    },
    {
     "name": "stderr",
     "output_type": "stream",
     "text": [
      "127.0.0.1 - - [16/May/2022 22:57:52] \"POST /_dash-update-component HTTP/1.1\" 200 -\n",
      "127.0.0.1 - - [16/May/2022 22:57:52] \"POST /_dash-update-component HTTP/1.1\" 200 -\n"
     ]
    },
    {
     "name": "stdout",
     "output_type": "stream",
     "text": [
      "{'patient': {'cluster': '1', 'age': '31', 'gender': '0', 'cholesterol': '236', 'systolic_bp': '143', 'diastolic_bp': '93', 'mean_arterial_pressure': '109.66666666666667', 'skin_thickness': '27', 'insulin': '200', 'bmi': '29', 'dpf': '0', 'age_class': '0', 'bmi_class': '2', 'map_class': '2', 'cholesterol_class': '1', 'glucose_class': '2', 'smoke': '0', 'active': '0', 'cvd_prediction': '1', 'diabetes_prediction': '0'}, 'health_statuses': {'bmi_status': 'Overweight', 'map_status': 'Elevated', 'cholesterol_status': 'Borderline High', 'glucose_status': 'High', 'cvd_risk': 'High Risk', 'diabetes_risk': 'Low Risk'}}\n"
     ]
    },
    {
     "name": "stderr",
     "output_type": "stream",
     "text": [
      "127.0.0.1 - - [16/May/2022 22:57:53] \"POST /_dash-update-component HTTP/1.1\" 200 -\n",
      "127.0.0.1 - - [16/May/2022 22:57:54] \"POST /_dash-update-component HTTP/1.1\" 200 -\n"
     ]
    },
    {
     "name": "stdout",
     "output_type": "stream",
     "text": [
      "{'patient': {'cluster': '1', 'age': '31', 'gender': '0', 'cholesterol': '236', 'systolic_bp': '143', 'diastolic_bp': '93', 'mean_arterial_pressure': '109.66666666666667', 'skin_thickness': '27', 'insulin': '200', 'bmi': '29', 'dpf': '0', 'age_class': '0', 'bmi_class': '2', 'map_class': '2', 'cholesterol_class': '1', 'glucose_class': '2', 'smoke': '0', 'active': '1', 'cvd_prediction': '1', 'diabetes_prediction': '0'}, 'health_statuses': {'bmi_status': 'Overweight', 'map_status': 'Elevated', 'cholesterol_status': 'Borderline High', 'glucose_status': 'High', 'cvd_risk': 'High Risk', 'diabetes_risk': 'Low Risk'}}\n"
     ]
    },
    {
     "name": "stderr",
     "output_type": "stream",
     "text": [
      "127.0.0.1 - - [16/May/2022 22:57:54] \"POST /_dash-update-component HTTP/1.1\" 200 -\n",
      "127.0.0.1 - - [16/May/2022 22:57:54] \"POST /_dash-update-component HTTP/1.1\" 200 -\n"
     ]
    },
    {
     "name": "stdout",
     "output_type": "stream",
     "text": [
      "{'patient': {'cluster': '1', 'age': '31', 'gender': '0', 'cholesterol': '236', 'systolic_bp': '143', 'diastolic_bp': '93', 'mean_arterial_pressure': '109.66666666666667', 'skin_thickness': '27', 'insulin': '200', 'bmi': '29', 'dpf': '0', 'age_class': '0', 'bmi_class': '2', 'map_class': '2', 'cholesterol_class': '1', 'glucose_class': '2', 'smoke': '0', 'active': '0', 'cvd_prediction': '1', 'diabetes_prediction': '0'}, 'health_statuses': {'bmi_status': 'Overweight', 'map_status': 'Elevated', 'cholesterol_status': 'Borderline High', 'glucose_status': 'High', 'cvd_risk': 'High Risk', 'diabetes_risk': 'Low Risk'}}\n"
     ]
    },
    {
     "name": "stderr",
     "output_type": "stream",
     "text": [
      "127.0.0.1 - - [16/May/2022 22:58:13] \"POST /_dash-update-component HTTP/1.1\" 200 -\n",
      "127.0.0.1 - - [16/May/2022 22:58:13] \"POST /_dash-update-component HTTP/1.1\" 200 -\n",
      "127.0.0.1 - - [16/May/2022 22:58:13] \"POST /_dash-update-component HTTP/1.1\" 200 -\n",
      "127.0.0.1 - - [16/May/2022 22:58:14] \"POST /_dash-update-component HTTP/1.1\" 200 -\n"
     ]
    },
    {
     "name": "stdout",
     "output_type": "stream",
     "text": [
      "{'patient': {'cluster': '0', 'age': '31', 'gender': '0', 'cholesterol': '236', 'systolic_bp': '143', 'diastolic_bp': '1', 'mean_arterial_pressure': '48.333333333333336', 'skin_thickness': '27', 'insulin': '200', 'bmi': '29', 'dpf': '0', 'age_class': '0', 'bmi_class': '2', 'map_class': '0', 'cholesterol_class': '1', 'glucose_class': '2', 'smoke': '0', 'active': '0', 'cvd_prediction': '0', 'diabetes_prediction': '0'}, 'health_statuses': {'bmi_status': 'Overweight', 'map_status': 'Low', 'cholesterol_status': 'Borderline High', 'glucose_status': 'High', 'cvd_risk': 'Low Risk', 'diabetes_risk': 'Low Risk'}}\n",
      "{'patient': {'cluster': '0', 'age': '31', 'gender': '0', 'cholesterol': '236', 'systolic_bp': '143', 'diastolic_bp': '10', 'mean_arterial_pressure': '54.333333333333336', 'skin_thickness': '27', 'insulin': '200', 'bmi': '29', 'dpf': '0', 'age_class': '0', 'bmi_class': '2', 'map_class': '0', 'cholesterol_class': '1', 'glucose_class': '2', 'smoke': '0', 'active': '0', 'cvd_prediction': '0', 'diabetes_prediction': '0'}, 'health_statuses': {'bmi_status': 'Overweight', 'map_status': 'Low', 'cholesterol_status': 'Borderline High', 'glucose_status': 'High', 'cvd_risk': 'Low Risk', 'diabetes_risk': 'Low Risk'}}\n"
     ]
    },
    {
     "name": "stderr",
     "output_type": "stream",
     "text": [
      "127.0.0.1 - - [16/May/2022 22:58:14] \"POST /_dash-update-component HTTP/1.1\" 200 -\n",
      "127.0.0.1 - - [16/May/2022 22:58:14] \"POST /_dash-update-component HTTP/1.1\" 200 -\n"
     ]
    },
    {
     "name": "stdout",
     "output_type": "stream",
     "text": [
      "{'patient': {'cluster': '0', 'age': '31', 'gender': '0', 'cholesterol': '236', 'systolic_bp': '143', 'diastolic_bp': '103', 'mean_arterial_pressure': '116.33333333333333', 'skin_thickness': '27', 'insulin': '200', 'bmi': '29', 'dpf': '0', 'age_class': '0', 'bmi_class': '2', 'map_class': '3', 'cholesterol_class': '1', 'glucose_class': '2', 'smoke': '0', 'active': '0', 'cvd_prediction': '0', 'diabetes_prediction': '0'}, 'health_statuses': {'bmi_status': 'Overweight', 'map_status': 'Risk of hypertension 1', 'cholesterol_status': 'Borderline High', 'glucose_status': 'High', 'cvd_risk': 'Low Risk', 'diabetes_risk': 'Low Risk'}}\n"
     ]
    },
    {
     "name": "stderr",
     "output_type": "stream",
     "text": [
      "127.0.0.1 - - [16/May/2022 22:58:18] \"POST /_dash-update-component HTTP/1.1\" 200 -\n",
      "127.0.0.1 - - [16/May/2022 22:58:18] \"POST /_dash-update-component HTTP/1.1\" 200 -\n",
      "127.0.0.1 - - [16/May/2022 22:58:18] \"POST /_dash-update-component HTTP/1.1\" 200 -\n",
      "127.0.0.1 - - [16/May/2022 22:58:18] \"POST /_dash-update-component HTTP/1.1\" 200 -\n",
      "127.0.0.1 - - [16/May/2022 22:58:18] \"POST /_dash-update-component HTTP/1.1\" 200 -\n"
     ]
    },
    {
     "name": "stdout",
     "output_type": "stream",
     "text": [
      "{'patient': {'cluster': '0', 'age': '31', 'gender': '0', 'cholesterol': '236', 'systolic_bp': '143', 'diastolic_bp': '1', 'mean_arterial_pressure': '48.333333333333336', 'skin_thickness': '27', 'insulin': '200', 'bmi': '29', 'dpf': '0', 'age_class': '0', 'bmi_class': '2', 'map_class': '0', 'cholesterol_class': '1', 'glucose_class': '2', 'smoke': '0', 'active': '0', 'cvd_prediction': '0', 'diabetes_prediction': '0'}, 'health_statuses': {'bmi_status': 'Overweight', 'map_status': 'Low', 'cholesterol_status': 'Borderline High', 'glucose_status': 'High', 'cvd_risk': 'Low Risk', 'diabetes_risk': 'Low Risk'}}\n",
      "{'patient': {'cluster': '0', 'age': '31', 'gender': '0', 'cholesterol': '236', 'systolic_bp': '143', 'diastolic_bp': '10', 'mean_arterial_pressure': '54.333333333333336', 'skin_thickness': '27', 'insulin': '200', 'bmi': '29', 'dpf': '0', 'age_class': '0', 'bmi_class': '2', 'map_class': '0', 'cholesterol_class': '1', 'glucose_class': '2', 'smoke': '0', 'active': '0', 'cvd_prediction': '0', 'diabetes_prediction': '0'}, 'health_statuses': {'bmi_status': 'Overweight', 'map_status': 'Low', 'cholesterol_status': 'Borderline High', 'glucose_status': 'High', 'cvd_risk': 'Low Risk', 'diabetes_risk': 'Low Risk'}}\n"
     ]
    },
    {
     "name": "stderr",
     "output_type": "stream",
     "text": [
      "127.0.0.1 - - [16/May/2022 22:58:18] \"POST /_dash-update-component HTTP/1.1\" 200 -\n"
     ]
    },
    {
     "name": "stdout",
     "output_type": "stream",
     "text": [
      "{'patient': {'cluster': '0', 'age': '31', 'gender': '0', 'cholesterol': '236', 'systolic_bp': '143', 'diastolic_bp': '102', 'mean_arterial_pressure': '115.66666666666667', 'skin_thickness': '27', 'insulin': '200', 'bmi': '29', 'dpf': '0', 'age_class': '0', 'bmi_class': '2', 'map_class': '3', 'cholesterol_class': '1', 'glucose_class': '2', 'smoke': '0', 'active': '0', 'cvd_prediction': '0', 'diabetes_prediction': '0'}, 'health_statuses': {'bmi_status': 'Overweight', 'map_status': 'Risk of hypertension 1', 'cholesterol_status': 'Borderline High', 'glucose_status': 'High', 'cvd_risk': 'Low Risk', 'diabetes_risk': 'Low Risk'}}\n"
     ]
    },
    {
     "name": "stderr",
     "output_type": "stream",
     "text": [
      "127.0.0.1 - - [16/May/2022 22:58:20] \"POST /_dash-update-component HTTP/1.1\" 200 -\n",
      "127.0.0.1 - - [16/May/2022 22:58:20] \"POST /_dash-update-component HTTP/1.1\" 200 -\n",
      "127.0.0.1 - - [16/May/2022 22:58:20] \"POST /_dash-update-component HTTP/1.1\" 200 -\n"
     ]
    },
    {
     "name": "stdout",
     "output_type": "stream",
     "text": [
      "{'patient': {'cluster': '0', 'age': '31', 'gender': '0', 'cholesterol': '236', 'systolic_bp': '143', 'diastolic_bp': '10', 'mean_arterial_pressure': '54.333333333333336', 'skin_thickness': '27', 'insulin': '200', 'bmi': '29', 'dpf': '0', 'age_class': '0', 'bmi_class': '2', 'map_class': '0', 'cholesterol_class': '1', 'glucose_class': '2', 'smoke': '0', 'active': '0', 'cvd_prediction': '0', 'diabetes_prediction': '0'}, 'health_statuses': {'bmi_status': 'Overweight', 'map_status': 'Low', 'cholesterol_status': 'Borderline High', 'glucose_status': 'High', 'cvd_risk': 'Low Risk', 'diabetes_risk': 'Low Risk'}}\n"
     ]
    },
    {
     "name": "stderr",
     "output_type": "stream",
     "text": [
      "127.0.0.1 - - [16/May/2022 22:58:20] \"POST /_dash-update-component HTTP/1.1\" 200 -\n"
     ]
    },
    {
     "name": "stdout",
     "output_type": "stream",
     "text": [
      "{'patient': {'cluster': '0', 'age': '31', 'gender': '0', 'cholesterol': '236', 'systolic_bp': '143', 'diastolic_bp': '1', 'mean_arterial_pressure': '48.333333333333336', 'skin_thickness': '27', 'insulin': '200', 'bmi': '29', 'dpf': '0', 'age_class': '0', 'bmi_class': '2', 'map_class': '0', 'cholesterol_class': '1', 'glucose_class': '2', 'smoke': '0', 'active': '0', 'cvd_prediction': '0', 'diabetes_prediction': '0'}, 'health_statuses': {'bmi_status': 'Overweight', 'map_status': 'Low', 'cholesterol_status': 'Borderline High', 'glucose_status': 'High', 'cvd_risk': 'Low Risk', 'diabetes_risk': 'Low Risk'}}\n"
     ]
    },
    {
     "name": "stderr",
     "output_type": "stream",
     "text": [
      "127.0.0.1 - - [16/May/2022 22:58:20] \"POST /_dash-update-component HTTP/1.1\" 200 -\n",
      "127.0.0.1 - - [16/May/2022 22:58:20] \"POST /_dash-update-component HTTP/1.1\" 200 -\n",
      "127.0.0.1 - - [16/May/2022 22:58:21] \"POST /_dash-update-component HTTP/1.1\" 200 -\n",
      "127.0.0.1 - - [16/May/2022 22:58:21] \"POST /_dash-update-component HTTP/1.1\" 200 -\n"
     ]
    },
    {
     "name": "stdout",
     "output_type": "stream",
     "text": [
      "{'patient': {'cluster': '0', 'age': '31', 'gender': '0', 'cholesterol': '236', 'systolic_bp': '143', 'diastolic_bp': '3', 'mean_arterial_pressure': '49.666666666666664', 'skin_thickness': '27', 'insulin': '200', 'bmi': '29', 'dpf': '0', 'age_class': '0', 'bmi_class': '2', 'map_class': '0', 'cholesterol_class': '1', 'glucose_class': '2', 'smoke': '0', 'active': '0', 'cvd_prediction': '0', 'diabetes_prediction': '0'}, 'health_statuses': {'bmi_status': 'Overweight', 'map_status': 'Low', 'cholesterol_status': 'Borderline High', 'glucose_status': 'High', 'cvd_risk': 'Low Risk', 'diabetes_risk': 'Low Risk'}}\n"
     ]
    },
    {
     "name": "stderr",
     "output_type": "stream",
     "text": [
      "127.0.0.1 - - [16/May/2022 22:58:22] \"POST /_dash-update-component HTTP/1.1\" 200 -\n",
      "127.0.0.1 - - [16/May/2022 22:58:22] \"POST /_dash-update-component HTTP/1.1\" 200 -\n",
      "127.0.0.1 - - [16/May/2022 22:58:22] \"POST /_dash-update-component HTTP/1.1\" 200 -\n",
      "127.0.0.1 - - [16/May/2022 22:58:22] \"POST /_dash-update-component HTTP/1.1\" 200 -\n",
      "127.0.0.1 - - [16/May/2022 22:58:22] \"POST /_dash-update-component HTTP/1.1\" 200 -\n",
      "127.0.0.1 - - [16/May/2022 22:58:22] \"POST /_dash-update-component HTTP/1.1\" 200 -\n",
      "127.0.0.1 - - [16/May/2022 22:58:22] \"POST /_dash-update-component HTTP/1.1\" 200 -\n"
     ]
    },
    {
     "name": "stdout",
     "output_type": "stream",
     "text": [
      "{'patient': {'cluster': '0', 'age': '31', 'gender': '0', 'cholesterol': '236', 'systolic_bp': '143', 'diastolic_bp': '1', 'mean_arterial_pressure': '48.333333333333336', 'skin_thickness': '27', 'insulin': '200', 'bmi': '29', 'dpf': '0', 'age_class': '0', 'bmi_class': '2', 'map_class': '0', 'cholesterol_class': '1', 'glucose_class': '2', 'smoke': '0', 'active': '0', 'cvd_prediction': '0', 'diabetes_prediction': '0'}, 'health_statuses': {'bmi_status': 'Overweight', 'map_status': 'Low', 'cholesterol_status': 'Borderline High', 'glucose_status': 'High', 'cvd_risk': 'Low Risk', 'diabetes_risk': 'Low Risk'}}\n",
      "{'patient': {'cluster': '0', 'age': '31', 'gender': '0', 'cholesterol': '236', 'systolic_bp': '143', 'diastolic_bp': '10', 'mean_arterial_pressure': '54.333333333333336', 'skin_thickness': '27', 'insulin': '200', 'bmi': '29', 'dpf': '0', 'age_class': '0', 'bmi_class': '2', 'map_class': '0', 'cholesterol_class': '1', 'glucose_class': '2', 'smoke': '0', 'active': '0', 'cvd_prediction': '0', 'diabetes_prediction': '0'}, 'health_statuses': {'bmi_status': 'Overweight', 'map_status': 'Low', 'cholesterol_status': 'Borderline High', 'glucose_status': 'High', 'cvd_risk': 'Low Risk', 'diabetes_risk': 'Low Risk'}}\n"
     ]
    },
    {
     "name": "stderr",
     "output_type": "stream",
     "text": [
      "127.0.0.1 - - [16/May/2022 22:58:22] \"POST /_dash-update-component HTTP/1.1\" 200 -\n"
     ]
    },
    {
     "name": "stdout",
     "output_type": "stream",
     "text": [
      "{'patient': {'cluster': '0', 'age': '31', 'gender': '0', 'cholesterol': '236', 'systolic_bp': '143', 'diastolic_bp': '102', 'mean_arterial_pressure': '115.66666666666667', 'skin_thickness': '27', 'insulin': '200', 'bmi': '29', 'dpf': '0', 'age_class': '0', 'bmi_class': '2', 'map_class': '3', 'cholesterol_class': '1', 'glucose_class': '2', 'smoke': '0', 'active': '0', 'cvd_prediction': '0', 'diabetes_prediction': '0'}, 'health_statuses': {'bmi_status': 'Overweight', 'map_status': 'Risk of hypertension 1', 'cholesterol_status': 'Borderline High', 'glucose_status': 'High', 'cvd_risk': 'Low Risk', 'diabetes_risk': 'Low Risk'}}\n"
     ]
    },
    {
     "name": "stderr",
     "output_type": "stream",
     "text": [
      "127.0.0.1 - - [16/May/2022 22:58:27] \"POST /_dash-update-component HTTP/1.1\" 200 -\n",
      "127.0.0.1 - - [16/May/2022 22:58:28] \"POST /_dash-update-component HTTP/1.1\" 200 -\n",
      "127.0.0.1 - - [16/May/2022 22:58:28] \"POST /_dash-update-component HTTP/1.1\" 200 -\n",
      "127.0.0.1 - - [16/May/2022 22:58:28] \"POST /_dash-update-component HTTP/1.1\" 200 -\n"
     ]
    },
    {
     "name": "stdout",
     "output_type": "stream",
     "text": [
      "{'patient': {'cluster': '0', 'age': '31', 'gender': '0', 'cholesterol': '236', 'systolic_bp': '143', 'diastolic_bp': '10', 'mean_arterial_pressure': '54.333333333333336', 'skin_thickness': '27', 'insulin': '200', 'bmi': '29', 'dpf': '0', 'age_class': '0', 'bmi_class': '2', 'map_class': '0', 'cholesterol_class': '1', 'glucose_class': '2', 'smoke': '0', 'active': '0', 'cvd_prediction': '0', 'diabetes_prediction': '0'}, 'health_statuses': {'bmi_status': 'Overweight', 'map_status': 'Low', 'cholesterol_status': 'Borderline High', 'glucose_status': 'High', 'cvd_risk': 'Low Risk', 'diabetes_risk': 'Low Risk'}}\n",
      "{'patient': {'cluster': '0', 'age': '31', 'gender': '0', 'cholesterol': '236', 'systolic_bp': '143', 'diastolic_bp': '1', 'mean_arterial_pressure': '48.333333333333336', 'skin_thickness': '27', 'insulin': '200', 'bmi': '29', 'dpf': '0', 'age_class': '0', 'bmi_class': '2', 'map_class': '0', 'cholesterol_class': '1', 'glucose_class': '2', 'smoke': '0', 'active': '0', 'cvd_prediction': '0', 'diabetes_prediction': '0'}, 'health_statuses': {'bmi_status': 'Overweight', 'map_status': 'Low', 'cholesterol_status': 'Borderline High', 'glucose_status': 'High', 'cvd_risk': 'Low Risk', 'diabetes_risk': 'Low Risk'}}\n"
     ]
    },
    {
     "name": "stderr",
     "output_type": "stream",
     "text": [
      "127.0.0.1 - - [16/May/2022 22:58:28] \"POST /_dash-update-component HTTP/1.1\" 200 -\n",
      "127.0.0.1 - - [16/May/2022 22:58:28] \"POST /_dash-update-component HTTP/1.1\" 200 -\n",
      "127.0.0.1 - - [16/May/2022 22:58:28] \"POST /_dash-update-component HTTP/1.1\" 200 -\n",
      "127.0.0.1 - - [16/May/2022 22:58:28] \"POST /_dash-update-component HTTP/1.1\" 200 -\n",
      "127.0.0.1 - - [16/May/2022 22:58:28] \"POST /_dash-update-component HTTP/1.1\" 200 -\n",
      "127.0.0.1 - - [16/May/2022 22:58:28] \"POST /_dash-update-component HTTP/1.1\" 200 -\n"
     ]
    },
    {
     "name": "stdout",
     "output_type": "stream",
     "text": [
      "{'patient': {'cluster': '0', 'age': '31', 'gender': '0', 'cholesterol': '236', 'systolic_bp': '143', 'diastolic_bp': '9', 'mean_arterial_pressure': '53.666666666666664', 'skin_thickness': '27', 'insulin': '200', 'bmi': '29', 'dpf': '0', 'age_class': '0', 'bmi_class': '2', 'map_class': '0', 'cholesterol_class': '1', 'glucose_class': '2', 'smoke': '0', 'active': '0', 'cvd_prediction': '0', 'diabetes_prediction': '0'}, 'health_statuses': {'bmi_status': 'Overweight', 'map_status': 'Low', 'cholesterol_status': 'Borderline High', 'glucose_status': 'High', 'cvd_risk': 'Low Risk', 'diabetes_risk': 'Low Risk'}}\n",
      "{'patient': {'cluster': '1', 'age': '31', 'gender': '0', 'cholesterol': '236', 'systolic_bp': '143', 'diastolic_bp': '93', 'mean_arterial_pressure': '109.66666666666667', 'skin_thickness': '27', 'insulin': '200', 'bmi': '29', 'dpf': '0', 'age_class': '0', 'bmi_class': '2', 'map_class': '2', 'cholesterol_class': '1', 'glucose_class': '2', 'smoke': '0', 'active': '0', 'cvd_prediction': '1', 'diabetes_prediction': '0'}, 'health_statuses': {'bmi_status': 'Overweight', 'map_status': 'Elevated', 'cholesterol_status': 'Borderline High', 'glucose_status': 'High', 'cvd_risk': 'High Risk', 'diabetes_risk': 'Low Risk'}}\n"
     ]
    },
    {
     "name": "stderr",
     "output_type": "stream",
     "text": [
      "127.0.0.1 - - [16/May/2022 22:58:34] \"POST /_dash-update-component HTTP/1.1\" 200 -\n",
      "127.0.0.1 - - [16/May/2022 22:58:34] \"POST /_dash-update-component HTTP/1.1\" 200 -\n",
      "127.0.0.1 - - [16/May/2022 22:58:34] \"POST /_dash-update-component HTTP/1.1\" 200 -\n",
      "127.0.0.1 - - [16/May/2022 22:58:34] \"POST /_dash-update-component HTTP/1.1\" 200 -\n"
     ]
    },
    {
     "name": "stdout",
     "output_type": "stream",
     "text": [
      "{'patient': {'cluster': '0', 'age': '31', 'gender': '0', 'cholesterol': '236', 'systolic_bp': '143', 'diastolic_bp': '9', 'mean_arterial_pressure': '53.666666666666664', 'skin_thickness': '27', 'insulin': '200', 'bmi': '29', 'dpf': '0', 'age_class': '0', 'bmi_class': '2', 'map_class': '0', 'cholesterol_class': '1', 'glucose_class': '2', 'smoke': '0', 'active': '0', 'cvd_prediction': '0', 'diabetes_prediction': '0'}, 'health_statuses': {'bmi_status': 'Overweight', 'map_status': 'Low', 'cholesterol_status': 'Borderline High', 'glucose_status': 'High', 'cvd_risk': 'Low Risk', 'diabetes_risk': 'Low Risk'}}\n"
     ]
    },
    {
     "name": "stderr",
     "output_type": "stream",
     "text": [
      "127.0.0.1 - - [16/May/2022 22:58:34] \"POST /_dash-update-component HTTP/1.1\" 200 -\n",
      "127.0.0.1 - - [16/May/2022 22:58:34] \"POST /_dash-update-component HTTP/1.1\" 200 -\n",
      "127.0.0.1 - - [16/May/2022 22:58:35] \"POST /_dash-update-component HTTP/1.1\" 200 -\n"
     ]
    },
    {
     "name": "stdout",
     "output_type": "stream",
     "text": [
      "{'patient': {'cluster': '0', 'age': '31', 'gender': '0', 'cholesterol': '236', 'systolic_bp': '143', 'diastolic_bp': '1', 'mean_arterial_pressure': '48.333333333333336', 'skin_thickness': '27', 'insulin': '200', 'bmi': '29', 'dpf': '0', 'age_class': '0', 'bmi_class': '2', 'map_class': '0', 'cholesterol_class': '1', 'glucose_class': '2', 'smoke': '0', 'active': '0', 'cvd_prediction': '0', 'diabetes_prediction': '0'}, 'health_statuses': {'bmi_status': 'Overweight', 'map_status': 'Low', 'cholesterol_status': 'Borderline High', 'glucose_status': 'High', 'cvd_risk': 'Low Risk', 'diabetes_risk': 'Low Risk'}}\n"
     ]
    },
    {
     "name": "stderr",
     "output_type": "stream",
     "text": [
      "127.0.0.1 - - [16/May/2022 22:58:35] \"POST /_dash-update-component HTTP/1.1\" 200 -\n",
      "127.0.0.1 - - [16/May/2022 22:58:35] \"POST /_dash-update-component HTTP/1.1\" 200 -\n",
      "127.0.0.1 - - [16/May/2022 22:58:35] \"POST /_dash-update-component HTTP/1.1\" 200 -\n"
     ]
    },
    {
     "name": "stdout",
     "output_type": "stream",
     "text": [
      "{'patient': {'cluster': '0', 'age': '31', 'gender': '0', 'cholesterol': '236', 'systolic_bp': '143', 'diastolic_bp': '12', 'mean_arterial_pressure': '55.666666666666664', 'skin_thickness': '27', 'insulin': '200', 'bmi': '29', 'dpf': '0', 'age_class': '0', 'bmi_class': '2', 'map_class': '0', 'cholesterol_class': '1', 'glucose_class': '2', 'smoke': '0', 'active': '0', 'cvd_prediction': '0', 'diabetes_prediction': '0'}, 'health_statuses': {'bmi_status': 'Overweight', 'map_status': 'Low', 'cholesterol_status': 'Borderline High', 'glucose_status': 'High', 'cvd_risk': 'Low Risk', 'diabetes_risk': 'Low Risk'}}\n",
      "{'patient': {'cluster': '0', 'age': '31', 'gender': '0', 'cholesterol': '236', 'systolic_bp': '143', 'diastolic_bp': '120', 'mean_arterial_pressure': '127.66666666666667', 'skin_thickness': '27', 'insulin': '200', 'bmi': '29', 'dpf': '0', 'age_class': '0', 'bmi_class': '2', 'map_class': '4', 'cholesterol_class': '1', 'glucose_class': '2', 'smoke': '0', 'active': '0', 'cvd_prediction': '0', 'diabetes_prediction': '0'}, 'health_statuses': {'bmi_status': 'Overweight', 'map_status': 'Risk of hypertension 2', 'cholesterol_status': 'Borderline High', 'glucose_status': 'High', 'cvd_risk': 'Low Risk', 'diabetes_risk': 'Low Risk'}}\n"
     ]
    },
    {
     "name": "stderr",
     "output_type": "stream",
     "text": [
      "127.0.0.1 - - [16/May/2022 22:58:37] \"POST /_dash-update-component HTTP/1.1\" 200 -\n",
      "127.0.0.1 - - [16/May/2022 22:58:37] \"POST /_dash-update-component HTTP/1.1\" 200 -\n",
      "127.0.0.1 - - [16/May/2022 22:58:37] \"POST /_dash-update-component HTTP/1.1\" 200 -\n",
      "127.0.0.1 - - [16/May/2022 22:58:37] \"POST /_dash-update-component HTTP/1.1\" 200 -\n"
     ]
    },
    {
     "name": "stdout",
     "output_type": "stream",
     "text": [
      "{'patient': {'cluster': '0', 'age': '31', 'gender': '0', 'cholesterol': '236', 'systolic_bp': '143', 'diastolic_bp': '12', 'mean_arterial_pressure': '55.666666666666664', 'skin_thickness': '27', 'insulin': '200', 'bmi': '29', 'dpf': '0', 'age_class': '0', 'bmi_class': '2', 'map_class': '0', 'cholesterol_class': '1', 'glucose_class': '2', 'smoke': '0', 'active': '0', 'cvd_prediction': '0', 'diabetes_prediction': '0'}, 'health_statuses': {'bmi_status': 'Overweight', 'map_status': 'Low', 'cholesterol_status': 'Borderline High', 'glucose_status': 'High', 'cvd_risk': 'Low Risk', 'diabetes_risk': 'Low Risk'}}\n",
      "{'patient': {'cluster': '0', 'age': '31', 'gender': '0', 'cholesterol': '236', 'systolic_bp': '143', 'diastolic_bp': '121', 'mean_arterial_pressure': '128.33333333333334', 'skin_thickness': '27', 'insulin': '200', 'bmi': '29', 'dpf': '0', 'age_class': '0', 'bmi_class': '2', 'map_class': '4', 'cholesterol_class': '1', 'glucose_class': '2', 'smoke': '0', 'active': '0', 'cvd_prediction': '0', 'diabetes_prediction': '0'}, 'health_statuses': {'bmi_status': 'Overweight', 'map_status': 'Risk of hypertension 2', 'cholesterol_status': 'Borderline High', 'glucose_status': 'High', 'cvd_risk': 'Low Risk', 'diabetes_risk': 'Low Risk'}}\n"
     ]
    },
    {
     "name": "stderr",
     "output_type": "stream",
     "text": [
      "127.0.0.1 - - [16/May/2022 22:58:51] \"POST /_dash-update-component HTTP/1.1\" 200 -\n",
      "127.0.0.1 - - [16/May/2022 22:58:51] \"POST /_dash-update-component HTTP/1.1\" 200 -\n",
      "127.0.0.1 - - [16/May/2022 22:58:51] \"POST /_dash-update-component HTTP/1.1\" 200 -\n",
      "127.0.0.1 - - [16/May/2022 22:58:51] \"POST /_dash-update-component HTTP/1.1\" 200 -\n"
     ]
    },
    {
     "name": "stdout",
     "output_type": "stream",
     "text": [
      "{'patient': {'cluster': '0', 'age': '31', 'gender': '0', 'cholesterol': '236', 'systolic_bp': '143', 'diastolic_bp': '121', 'mean_arterial_pressure': '128.33333333333334', 'skin_thickness': '27', 'insulin': '200', 'bmi': '29', 'dpf': '0', 'age_class': '0', 'bmi_class': '2', 'map_class': '4', 'cholesterol_class': '1', 'glucose_class': '2', 'smoke': '0', 'active': '0', 'cvd_prediction': '0', 'diabetes_prediction': '0'}, 'health_statuses': {'bmi_status': 'Overweight', 'map_status': 'Risk of hypertension 2', 'cholesterol_status': 'Borderline High', 'glucose_status': 'High', 'cvd_risk': 'Low Risk', 'diabetes_risk': 'Low Risk'}}\n"
     ]
    },
    {
     "name": "stderr",
     "output_type": "stream",
     "text": [
      "127.0.0.1 - - [16/May/2022 22:58:52] \"POST /_dash-update-component HTTP/1.1\" 200 -\n",
      "127.0.0.1 - - [16/May/2022 22:58:52] \"POST /_dash-update-component HTTP/1.1\" 200 -\n",
      "127.0.0.1 - - [16/May/2022 22:58:53] \"POST /_dash-update-component HTTP/1.1\" 200 -\n",
      "127.0.0.1 - - [16/May/2022 22:58:53] \"POST /_dash-update-component HTTP/1.1\" 200 -\n"
     ]
    },
    {
     "name": "stdout",
     "output_type": "stream",
     "text": [
      "{'patient': {'cluster': '0', 'age': '31', 'gender': '0', 'cholesterol': '236', 'systolic_bp': '143', 'diastolic_bp': '121', 'mean_arterial_pressure': '128.33333333333334', 'skin_thickness': '27', 'insulin': '200', 'bmi': '29', 'dpf': '0', 'age_class': '0', 'bmi_class': '2', 'map_class': '4', 'cholesterol_class': '1', 'glucose_class': '2', 'smoke': '0', 'active': '0', 'cvd_prediction': '0', 'diabetes_prediction': '0'}, 'health_statuses': {'bmi_status': 'Overweight', 'map_status': 'Risk of hypertension 2', 'cholesterol_status': 'Borderline High', 'glucose_status': 'High', 'cvd_risk': 'Low Risk', 'diabetes_risk': 'Low Risk'}}\n"
     ]
    },
    {
     "name": "stderr",
     "output_type": "stream",
     "text": [
      "127.0.0.1 - - [16/May/2022 22:58:54] \"POST /_dash-update-component HTTP/1.1\" 200 -\n",
      "127.0.0.1 - - [16/May/2022 22:58:54] \"POST /_dash-update-component HTTP/1.1\" 200 -\n",
      "127.0.0.1 - - [16/May/2022 22:58:54] \"POST /_dash-update-component HTTP/1.1\" 200 -\n",
      "127.0.0.1 - - [16/May/2022 22:58:54] \"POST /_dash-update-component HTTP/1.1\" 200 -\n"
     ]
    },
    {
     "name": "stdout",
     "output_type": "stream",
     "text": [
      "{'patient': {'cluster': '0', 'age': '31', 'gender': '0', 'cholesterol': '236', 'systolic_bp': '143', 'diastolic_bp': '121', 'mean_arterial_pressure': '128.33333333333334', 'skin_thickness': '27', 'insulin': '200', 'bmi': '29', 'dpf': '0', 'age_class': '0', 'bmi_class': '2', 'map_class': '4', 'cholesterol_class': '1', 'glucose_class': '2', 'smoke': '0', 'active': '0', 'cvd_prediction': '0', 'diabetes_prediction': '0'}, 'health_statuses': {'bmi_status': 'Overweight', 'map_status': 'Risk of hypertension 2', 'cholesterol_status': 'Borderline High', 'glucose_status': 'High', 'cvd_risk': 'Low Risk', 'diabetes_risk': 'Low Risk'}}\n"
     ]
    },
    {
     "name": "stderr",
     "output_type": "stream",
     "text": [
      "127.0.0.1 - - [16/May/2022 22:58:55] \"POST /_dash-update-component HTTP/1.1\" 200 -\n",
      "127.0.0.1 - - [16/May/2022 22:58:56] \"POST /_dash-update-component HTTP/1.1\" 200 -\n",
      "127.0.0.1 - - [16/May/2022 22:58:56] \"POST /_dash-update-component HTTP/1.1\" 200 -\n"
     ]
    },
    {
     "name": "stdout",
     "output_type": "stream",
     "text": [
      "{'patient': {'cluster': '0', 'age': '31', 'gender': '0', 'cholesterol': '236', 'systolic_bp': '143', 'diastolic_bp': '12', 'mean_arterial_pressure': '55.666666666666664', 'skin_thickness': '27', 'insulin': '200', 'bmi': '29', 'dpf': '0', 'age_class': '0', 'bmi_class': '2', 'map_class': '0', 'cholesterol_class': '1', 'glucose_class': '2', 'smoke': '0', 'active': '0', 'cvd_prediction': '0', 'diabetes_prediction': '0'}, 'health_statuses': {'bmi_status': 'Overweight', 'map_status': 'Low', 'cholesterol_status': 'Borderline High', 'glucose_status': 'High', 'cvd_risk': 'Low Risk', 'diabetes_risk': 'Low Risk'}}\n",
      "{'patient': {'cluster': '0', 'age': '31', 'gender': '0', 'cholesterol': '236', 'systolic_bp': '143', 'diastolic_bp': '1', 'mean_arterial_pressure': '48.333333333333336', 'skin_thickness': '27', 'insulin': '200', 'bmi': '29', 'dpf': '0', 'age_class': '0', 'bmi_class': '2', 'map_class': '0', 'cholesterol_class': '1', 'glucose_class': '2', 'smoke': '0', 'active': '0', 'cvd_prediction': '0', 'diabetes_prediction': '0'}, 'health_statuses': {'bmi_status': 'Overweight', 'map_status': 'Low', 'cholesterol_status': 'Borderline High', 'glucose_status': 'High', 'cvd_risk': 'Low Risk', 'diabetes_risk': 'Low Risk'}}\n"
     ]
    },
    {
     "name": "stderr",
     "output_type": "stream",
     "text": [
      "127.0.0.1 - - [16/May/2022 22:58:56] \"POST /_dash-update-component HTTP/1.1\" 200 -\n",
      "127.0.0.1 - - [16/May/2022 22:58:56] \"POST /_dash-update-component HTTP/1.1\" 200 -\n",
      "127.0.0.1 - - [16/May/2022 22:58:56] \"POST /_dash-update-component HTTP/1.1\" 200 -\n",
      "127.0.0.1 - - [16/May/2022 22:58:56] \"POST /_dash-update-component HTTP/1.1\" 200 -\n",
      "127.0.0.1 - - [16/May/2022 22:58:56] \"POST /_dash-update-component HTTP/1.1\" 200 -\n"
     ]
    },
    {
     "name": "stdout",
     "output_type": "stream",
     "text": [
      "{'patient': {'cluster': '0', 'age': '31', 'gender': '0', 'cholesterol': '236', 'systolic_bp': '143', 'diastolic_bp': '19', 'mean_arterial_pressure': '60.333333333333336', 'skin_thickness': '27', 'insulin': '200', 'bmi': '29', 'dpf': '0', 'age_class': '0', 'bmi_class': '2', 'map_class': '0', 'cholesterol_class': '1', 'glucose_class': '2', 'smoke': '0', 'active': '0', 'cvd_prediction': '0', 'diabetes_prediction': '0'}, 'health_statuses': {'bmi_status': 'Overweight', 'map_status': 'Low', 'cholesterol_status': 'Borderline High', 'glucose_status': 'High', 'cvd_risk': 'Low Risk', 'diabetes_risk': 'Low Risk'}}\n",
      "{'patient': {'cluster': '0', 'age': '31', 'gender': '0', 'cholesterol': '236', 'systolic_bp': '143', 'diastolic_bp': '193', 'mean_arterial_pressure': '176.33333333333334', 'skin_thickness': '27', 'insulin': '200', 'bmi': '29', 'dpf': '0', 'age_class': '0', 'bmi_class': '2', 'map_class': '5', 'cholesterol_class': '1', 'glucose_class': '2', 'smoke': '0', 'active': '0', 'cvd_prediction': '0', 'diabetes_prediction': '0'}, 'health_statuses': {'bmi_status': 'Overweight', 'map_status': 'Requires Emergency Care', 'cholesterol_status': 'Borderline High', 'glucose_status': 'High', 'cvd_risk': 'Low Risk', 'diabetes_risk': 'Low Risk'}}\n"
     ]
    },
    {
     "name": "stderr",
     "output_type": "stream",
     "text": [
      "127.0.0.1 - - [16/May/2022 22:58:56] \"POST /_dash-update-component HTTP/1.1\" 200 -\n",
      "127.0.0.1 - - [16/May/2022 22:58:56] \"POST /_dash-update-component HTTP/1.1\" 200 -\n",
      "127.0.0.1 - - [16/May/2022 22:58:56] \"POST /_dash-update-component HTTP/1.1\" 200 -\n",
      "127.0.0.1 - - [16/May/2022 22:58:57] \"POST /_dash-update-component HTTP/1.1\" 200 -\n"
     ]
    },
    {
     "name": "stdout",
     "output_type": "stream",
     "text": [
      "{'patient': {'cluster': '0', 'age': '31', 'gender': '0', 'cholesterol': '236', 'systolic_bp': '143', 'diastolic_bp': '19', 'mean_arterial_pressure': '60.333333333333336', 'skin_thickness': '27', 'insulin': '200', 'bmi': '29', 'dpf': '0', 'age_class': '0', 'bmi_class': '2', 'map_class': '0', 'cholesterol_class': '1', 'glucose_class': '2', 'smoke': '0', 'active': '0', 'cvd_prediction': '0', 'diabetes_prediction': '0'}, 'health_statuses': {'bmi_status': 'Overweight', 'map_status': 'Low', 'cholesterol_status': 'Borderline High', 'glucose_status': 'High', 'cvd_risk': 'Low Risk', 'diabetes_risk': 'Low Risk'}}\n",
      "{'patient': {'cluster': '0', 'age': '31', 'gender': '0', 'cholesterol': '236', 'systolic_bp': '143', 'diastolic_bp': '1', 'mean_arterial_pressure': '48.333333333333336', 'skin_thickness': '27', 'insulin': '200', 'bmi': '29', 'dpf': '0', 'age_class': '0', 'bmi_class': '2', 'map_class': '0', 'cholesterol_class': '1', 'glucose_class': '2', 'smoke': '0', 'active': '0', 'cvd_prediction': '0', 'diabetes_prediction': '0'}, 'health_statuses': {'bmi_status': 'Overweight', 'map_status': 'Low', 'cholesterol_status': 'Borderline High', 'glucose_status': 'High', 'cvd_risk': 'Low Risk', 'diabetes_risk': 'Low Risk'}}\n"
     ]
    },
    {
     "name": "stderr",
     "output_type": "stream",
     "text": [
      "127.0.0.1 - - [16/May/2022 22:58:57] \"POST /_dash-update-component HTTP/1.1\" 200 -\n",
      "127.0.0.1 - - [16/May/2022 22:58:57] \"POST /_dash-update-component HTTP/1.1\" 200 -\n",
      "127.0.0.1 - - [16/May/2022 22:58:57] \"POST /_dash-update-component HTTP/1.1\" 200 -\n",
      "127.0.0.1 - - [16/May/2022 22:58:57] \"POST /_dash-update-component HTTP/1.1\" 200 -\n",
      "127.0.0.1 - - [16/May/2022 22:58:57] \"POST /_dash-update-component HTTP/1.1\" 200 -\n",
      "127.0.0.1 - - [16/May/2022 22:58:57] \"POST /_dash-update-component HTTP/1.1\" 200 -\n"
     ]
    },
    {
     "name": "stdout",
     "output_type": "stream",
     "text": [
      "{'patient': {'cluster': '0', 'age': '31', 'gender': '0', 'cholesterol': '236', 'systolic_bp': '143', 'diastolic_bp': '9', 'mean_arterial_pressure': '53.666666666666664', 'skin_thickness': '27', 'insulin': '200', 'bmi': '29', 'dpf': '0', 'age_class': '0', 'bmi_class': '2', 'map_class': '0', 'cholesterol_class': '1', 'glucose_class': '2', 'smoke': '0', 'active': '0', 'cvd_prediction': '0', 'diabetes_prediction': '0'}, 'health_statuses': {'bmi_status': 'Overweight', 'map_status': 'Low', 'cholesterol_status': 'Borderline High', 'glucose_status': 'High', 'cvd_risk': 'Low Risk', 'diabetes_risk': 'Low Risk'}}\n",
      "{'patient': {'cluster': '1', 'age': '31', 'gender': '0', 'cholesterol': '236', 'systolic_bp': '143', 'diastolic_bp': '93', 'mean_arterial_pressure': '109.66666666666667', 'skin_thickness': '27', 'insulin': '200', 'bmi': '29', 'dpf': '0', 'age_class': '0', 'bmi_class': '2', 'map_class': '2', 'cholesterol_class': '1', 'glucose_class': '2', 'smoke': '0', 'active': '0', 'cvd_prediction': '1', 'diabetes_prediction': '0'}, 'health_statuses': {'bmi_status': 'Overweight', 'map_status': 'Elevated', 'cholesterol_status': 'Borderline High', 'glucose_status': 'High', 'cvd_risk': 'High Risk', 'diabetes_risk': 'Low Risk'}}\n"
     ]
    },
    {
     "name": "stderr",
     "output_type": "stream",
     "text": [
      "127.0.0.1 - - [16/May/2022 22:59:01] \"POST /_dash-update-component HTTP/1.1\" 200 -\n",
      "127.0.0.1 - - [16/May/2022 22:59:01] \"POST /_dash-update-component HTTP/1.1\" 200 -\n",
      "127.0.0.1 - - [16/May/2022 22:59:01] \"POST /_dash-update-component HTTP/1.1\" 200 -\n",
      "127.0.0.1 - - [16/May/2022 22:59:01] \"POST /_dash-update-component HTTP/1.1\" 200 -\n",
      "127.0.0.1 - - [16/May/2022 22:59:01] \"POST /_dash-update-component HTTP/1.1\" 200 -\n",
      "127.0.0.1 - - [16/May/2022 22:59:01] \"POST /_dash-update-component HTTP/1.1\" 200 -\n"
     ]
    },
    {
     "name": "stdout",
     "output_type": "stream",
     "text": [
      "{'patient': {'cluster': '1', 'age': '31', 'gender': '0', 'cholesterol': '236', 'systolic_bp': '143', 'diastolic_bp': '93', 'mean_arterial_pressure': '109.66666666666667', 'skin_thickness': '27', 'insulin': '200', 'bmi': '2', 'dpf': '0', 'age_class': '0', 'bmi_class': '0', 'map_class': '2', 'cholesterol_class': '1', 'glucose_class': '2', 'smoke': '0', 'active': '0', 'cvd_prediction': '1', 'diabetes_prediction': '0'}, 'health_statuses': {'bmi_status': 'Underweight', 'map_status': 'Elevated', 'cholesterol_status': 'Borderline High', 'glucose_status': 'High', 'cvd_risk': 'High Risk', 'diabetes_risk': 'Low Risk'}}\n"
     ]
    },
    {
     "name": "stderr",
     "output_type": "stream",
     "text": [
      "127.0.0.1 - - [16/May/2022 22:59:02] \"POST /_dash-update-component HTTP/1.1\" 200 -\n",
      "127.0.0.1 - - [16/May/2022 22:59:02] \"POST /_dash-update-component HTTP/1.1\" 200 -\n"
     ]
    },
    {
     "name": "stdout",
     "output_type": "stream",
     "text": [
      "{'patient': {'cluster': '1', 'age': '31', 'gender': '0', 'cholesterol': '236', 'systolic_bp': '143', 'diastolic_bp': '93', 'mean_arterial_pressure': '109.66666666666667', 'skin_thickness': '27', 'insulin': '200', 'bmi': '3', 'dpf': '0', 'age_class': '0', 'bmi_class': '0', 'map_class': '2', 'cholesterol_class': '1', 'glucose_class': '2', 'smoke': '0', 'active': '0', 'cvd_prediction': '1', 'diabetes_prediction': '0'}, 'health_statuses': {'bmi_status': 'Underweight', 'map_status': 'Elevated', 'cholesterol_status': 'Borderline High', 'glucose_status': 'High', 'cvd_risk': 'High Risk', 'diabetes_risk': 'Low Risk'}}\n",
      "{'patient': {'cluster': '1', 'age': '31', 'gender': '0', 'cholesterol': '236', 'systolic_bp': '143', 'diastolic_bp': '93', 'mean_arterial_pressure': '109.66666666666667', 'skin_thickness': '27', 'insulin': '200', 'bmi': '31', 'dpf': '0', 'age_class': '0', 'bmi_class': '3', 'map_class': '2', 'cholesterol_class': '1', 'glucose_class': '2', 'smoke': '0', 'active': '0', 'cvd_prediction': '1', 'diabetes_prediction': '0'}, 'health_statuses': {'bmi_status': 'Obese', 'map_status': 'Elevated', 'cholesterol_status': 'Borderline High', 'glucose_status': 'High', 'cvd_risk': 'High Risk', 'diabetes_risk': 'Low Risk'}}\n"
     ]
    },
    {
     "name": "stderr",
     "output_type": "stream",
     "text": [
      "127.0.0.1 - - [16/May/2022 22:59:06] \"POST /_dash-update-component HTTP/1.1\" 200 -\n",
      "127.0.0.1 - - [16/May/2022 22:59:06] \"POST /_dash-update-component HTTP/1.1\" 200 -\n"
     ]
    },
    {
     "name": "stdout",
     "output_type": "stream",
     "text": [
      "{'patient': {'cluster': '1', 'age': '31', 'gender': '0', 'cholesterol': '236', 'systolic_bp': '143', 'diastolic_bp': '93', 'mean_arterial_pressure': '109.66666666666667', 'skin_thickness': '27', 'insulin': '200', 'bmi': '31', 'dpf': '1', 'age_class': '0', 'bmi_class': '3', 'map_class': '2', 'cholesterol_class': '1', 'glucose_class': '2', 'smoke': '0', 'active': '0', 'cvd_prediction': '1', 'diabetes_prediction': '0'}, 'health_statuses': {'bmi_status': 'Obese', 'map_status': 'Elevated', 'cholesterol_status': 'Borderline High', 'glucose_status': 'High', 'cvd_risk': 'High Risk', 'diabetes_risk': 'Low Risk'}}\n"
     ]
    },
    {
     "name": "stderr",
     "output_type": "stream",
     "text": [
      "127.0.0.1 - - [16/May/2022 22:59:16] \"POST /_dash-update-component HTTP/1.1\" 200 -\n",
      "127.0.0.1 - - [16/May/2022 22:59:16] \"POST /_dash-update-component HTTP/1.1\" 200 -\n",
      "127.0.0.1 - - [16/May/2022 22:59:16] \"POST /_dash-update-component HTTP/1.1\" 200 -\n",
      "127.0.0.1 - - [16/May/2022 22:59:16] \"POST /_dash-update-component HTTP/1.1\" 200 -\n"
     ]
    },
    {
     "name": "stdout",
     "output_type": "stream",
     "text": [
      "{'patient': {'cluster': '1', 'age': '3', 'gender': '0', 'cholesterol': '236', 'systolic_bp': '143', 'diastolic_bp': '93', 'mean_arterial_pressure': '109.66666666666667', 'skin_thickness': '27', 'insulin': '200', 'bmi': '31', 'dpf': '1', 'age_class': '0', 'bmi_class': '3', 'map_class': '2', 'cholesterol_class': '1', 'glucose_class': '2', 'smoke': '0', 'active': '0', 'cvd_prediction': '1', 'diabetes_prediction': '0'}, 'health_statuses': {'bmi_status': 'Obese', 'map_status': 'Elevated', 'cholesterol_status': 'Borderline High', 'glucose_status': 'High', 'cvd_risk': 'High Risk', 'diabetes_risk': 'Low Risk'}}\n",
      "{'patient': {'cluster': '1', 'age': '32', 'gender': '0', 'cholesterol': '236', 'systolic_bp': '143', 'diastolic_bp': '93', 'mean_arterial_pressure': '109.66666666666667', 'skin_thickness': '27', 'insulin': '200', 'bmi': '31', 'dpf': '1', 'age_class': '0', 'bmi_class': '3', 'map_class': '2', 'cholesterol_class': '1', 'glucose_class': '2', 'smoke': '0', 'active': '0', 'cvd_prediction': '1', 'diabetes_prediction': '0'}, 'health_statuses': {'bmi_status': 'Obese', 'map_status': 'Elevated', 'cholesterol_status': 'Borderline High', 'glucose_status': 'High', 'cvd_risk': 'High Risk', 'diabetes_risk': 'Low Risk'}}\n"
     ]
    },
    {
     "name": "stderr",
     "output_type": "stream",
     "text": [
      "127.0.0.1 - - [16/May/2022 22:59:20] \"POST /_dash-update-component HTTP/1.1\" 200 -\n",
      "127.0.0.1 - - [16/May/2022 22:59:20] \"POST /_dash-update-component HTTP/1.1\" 200 -\n",
      "127.0.0.1 - - [16/May/2022 22:59:20] \"POST /_dash-update-component HTTP/1.1\" 200 -\n",
      "127.0.0.1 - - [16/May/2022 22:59:20] \"POST /_dash-update-component HTTP/1.1\" 200 -\n"
     ]
    },
    {
     "name": "stdout",
     "output_type": "stream",
     "text": [
      "{'patient': {'cluster': '1', 'age': '3', 'gender': '0', 'cholesterol': '236', 'systolic_bp': '143', 'diastolic_bp': '93', 'mean_arterial_pressure': '109.66666666666667', 'skin_thickness': '27', 'insulin': '200', 'bmi': '31', 'dpf': '1', 'age_class': '0', 'bmi_class': '3', 'map_class': '2', 'cholesterol_class': '1', 'glucose_class': '2', 'smoke': '0', 'active': '0', 'cvd_prediction': '1', 'diabetes_prediction': '0'}, 'health_statuses': {'bmi_status': 'Obese', 'map_status': 'Elevated', 'cholesterol_status': 'Borderline High', 'glucose_status': 'High', 'cvd_risk': 'High Risk', 'diabetes_risk': 'Low Risk'}}\n",
      "{'patient': {'cluster': '1', 'age': '33', 'gender': '0', 'cholesterol': '236', 'systolic_bp': '143', 'diastolic_bp': '93', 'mean_arterial_pressure': '109.66666666666667', 'skin_thickness': '27', 'insulin': '200', 'bmi': '31', 'dpf': '1', 'age_class': '0', 'bmi_class': '3', 'map_class': '2', 'cholesterol_class': '1', 'glucose_class': '2', 'smoke': '0', 'active': '0', 'cvd_prediction': '1', 'diabetes_prediction': '0'}, 'health_statuses': {'bmi_status': 'Obese', 'map_status': 'Elevated', 'cholesterol_status': 'Borderline High', 'glucose_status': 'High', 'cvd_risk': 'High Risk', 'diabetes_risk': 'Low Risk'}}\n"
     ]
    },
    {
     "name": "stderr",
     "output_type": "stream",
     "text": [
      "127.0.0.1 - - [16/May/2022 22:59:25] \"POST /_dash-update-component HTTP/1.1\" 200 -\n",
      "127.0.0.1 - - [16/May/2022 22:59:25] \"POST /_dash-update-component HTTP/1.1\" 200 -\n"
     ]
    },
    {
     "name": "stdout",
     "output_type": "stream",
     "text": [
      "{'patient': {'cluster': '1', 'age': '33', 'gender': '0', 'cholesterol': '236', 'systolic_bp': '143', 'diastolic_bp': '93', 'mean_arterial_pressure': '109.66666666666667', 'skin_thickness': '27', 'insulin': '199', 'bmi': '31', 'dpf': '1', 'age_class': '0', 'bmi_class': '3', 'map_class': '2', 'cholesterol_class': '1', 'glucose_class': '2', 'smoke': '0', 'active': '0', 'cvd_prediction': '1', 'diabetes_prediction': '0'}, 'health_statuses': {'bmi_status': 'Obese', 'map_status': 'Elevated', 'cholesterol_status': 'Borderline High', 'glucose_status': 'High', 'cvd_risk': 'High Risk', 'diabetes_risk': 'Low Risk'}}\n"
     ]
    },
    {
     "name": "stderr",
     "output_type": "stream",
     "text": [
      "127.0.0.1 - - [16/May/2022 22:59:25] \"POST /_dash-update-component HTTP/1.1\" 200 -\n",
      "127.0.0.1 - - [16/May/2022 22:59:25] \"POST /_dash-update-component HTTP/1.1\" 200 -\n"
     ]
    },
    {
     "name": "stdout",
     "output_type": "stream",
     "text": [
      "{'patient': {'cluster': '1', 'age': '33', 'gender': '0', 'cholesterol': '236', 'systolic_bp': '143', 'diastolic_bp': '93', 'mean_arterial_pressure': '109.66666666666667', 'skin_thickness': '27', 'insulin': '198', 'bmi': '31', 'dpf': '1', 'age_class': '0', 'bmi_class': '3', 'map_class': '2', 'cholesterol_class': '1', 'glucose_class': '2', 'smoke': '0', 'active': '0', 'cvd_prediction': '1', 'diabetes_prediction': '0'}, 'health_statuses': {'bmi_status': 'Obese', 'map_status': 'Elevated', 'cholesterol_status': 'Borderline High', 'glucose_status': 'High', 'cvd_risk': 'High Risk', 'diabetes_risk': 'Low Risk'}}\n"
     ]
    },
    {
     "name": "stderr",
     "output_type": "stream",
     "text": [
      "127.0.0.1 - - [16/May/2022 22:59:26] \"POST /_dash-update-component HTTP/1.1\" 200 -\n",
      "127.0.0.1 - - [16/May/2022 22:59:26] \"POST /_dash-update-component HTTP/1.1\" 200 -\n"
     ]
    },
    {
     "name": "stdout",
     "output_type": "stream",
     "text": [
      "{'patient': {'cluster': '1', 'age': '33', 'gender': '0', 'cholesterol': '236', 'systolic_bp': '143', 'diastolic_bp': '93', 'mean_arterial_pressure': '109.66666666666667', 'skin_thickness': '27', 'insulin': '197', 'bmi': '31', 'dpf': '1', 'age_class': '0', 'bmi_class': '3', 'map_class': '2', 'cholesterol_class': '1', 'glucose_class': '2', 'smoke': '0', 'active': '0', 'cvd_prediction': '1', 'diabetes_prediction': '0'}, 'health_statuses': {'bmi_status': 'Obese', 'map_status': 'Elevated', 'cholesterol_status': 'Borderline High', 'glucose_status': 'High', 'cvd_risk': 'High Risk', 'diabetes_risk': 'Low Risk'}}\n"
     ]
    },
    {
     "name": "stderr",
     "output_type": "stream",
     "text": [
      "127.0.0.1 - - [16/May/2022 22:59:27] \"POST /_dash-update-component HTTP/1.1\" 200 -\n",
      "127.0.0.1 - - [16/May/2022 22:59:27] \"POST /_dash-update-component HTTP/1.1\" 200 -\n"
     ]
    },
    {
     "name": "stdout",
     "output_type": "stream",
     "text": [
      "{'patient': {'cluster': '1', 'age': '33', 'gender': '0', 'cholesterol': '236', 'systolic_bp': '143', 'diastolic_bp': '93', 'mean_arterial_pressure': '109.66666666666667', 'skin_thickness': '27', 'insulin': '196', 'bmi': '31', 'dpf': '1', 'age_class': '0', 'bmi_class': '3', 'map_class': '2', 'cholesterol_class': '1', 'glucose_class': '2', 'smoke': '0', 'active': '0', 'cvd_prediction': '1', 'diabetes_prediction': '0'}, 'health_statuses': {'bmi_status': 'Obese', 'map_status': 'Elevated', 'cholesterol_status': 'Borderline High', 'glucose_status': 'High', 'cvd_risk': 'High Risk', 'diabetes_risk': 'Low Risk'}}\n"
     ]
    },
    {
     "name": "stderr",
     "output_type": "stream",
     "text": [
      "127.0.0.1 - - [16/May/2022 22:59:28] \"POST /_dash-update-component HTTP/1.1\" 200 -\n",
      "127.0.0.1 - - [16/May/2022 22:59:28] \"POST /_dash-update-component HTTP/1.1\" 200 -\n",
      "127.0.0.1 - - [16/May/2022 22:59:28] \"POST /_dash-update-component HTTP/1.1\" 200 -\n"
     ]
    },
    {
     "name": "stdout",
     "output_type": "stream",
     "text": [
      "{'patient': {'cluster': '1', 'age': '33', 'gender': '0', 'cholesterol': '236', 'systolic_bp': '143', 'diastolic_bp': '93', 'mean_arterial_pressure': '109.66666666666667', 'skin_thickness': '27', 'insulin': '195', 'bmi': '31', 'dpf': '1', 'age_class': '0', 'bmi_class': '3', 'map_class': '2', 'cholesterol_class': '1', 'glucose_class': '2', 'smoke': '0', 'active': '0', 'cvd_prediction': '1', 'diabetes_prediction': '0'}, 'health_statuses': {'bmi_status': 'Obese', 'map_status': 'Elevated', 'cholesterol_status': 'Borderline High', 'glucose_status': 'High', 'cvd_risk': 'High Risk', 'diabetes_risk': 'Low Risk'}}\n"
     ]
    },
    {
     "name": "stderr",
     "output_type": "stream",
     "text": [
      "127.0.0.1 - - [16/May/2022 22:59:28] \"POST /_dash-update-component HTTP/1.1\" 200 -\n",
      "127.0.0.1 - - [16/May/2022 22:59:28] \"POST /_dash-update-component HTTP/1.1\" 200 -\n"
     ]
    },
    {
     "name": "stdout",
     "output_type": "stream",
     "text": [
      "{'patient': {'cluster': '1', 'age': '33', 'gender': '0', 'cholesterol': '236', 'systolic_bp': '143', 'diastolic_bp': '93', 'mean_arterial_pressure': '109.66666666666667', 'skin_thickness': '27', 'insulin': '194', 'bmi': '31', 'dpf': '1', 'age_class': '0', 'bmi_class': '3', 'map_class': '2', 'cholesterol_class': '1', 'glucose_class': '2', 'smoke': '0', 'active': '0', 'cvd_prediction': '1', 'diabetes_prediction': '0'}, 'health_statuses': {'bmi_status': 'Obese', 'map_status': 'Elevated', 'cholesterol_status': 'Borderline High', 'glucose_status': 'High', 'cvd_risk': 'High Risk', 'diabetes_risk': 'Low Risk'}}\n"
     ]
    },
    {
     "name": "stderr",
     "output_type": "stream",
     "text": [
      "127.0.0.1 - - [16/May/2022 22:59:28] \"POST /_dash-update-component HTTP/1.1\" 200 -\n",
      "127.0.0.1 - - [16/May/2022 22:59:28] \"POST /_dash-update-component HTTP/1.1\" 200 -\n",
      "127.0.0.1 - - [16/May/2022 22:59:28] \"POST /_dash-update-component HTTP/1.1\" 200 -\n"
     ]
    },
    {
     "name": "stdout",
     "output_type": "stream",
     "text": [
      "{'patient': {'cluster': '1', 'age': '33', 'gender': '0', 'cholesterol': '236', 'systolic_bp': '143', 'diastolic_bp': '93', 'mean_arterial_pressure': '109.66666666666667', 'skin_thickness': '27', 'insulin': '193', 'bmi': '31', 'dpf': '1', 'age_class': '0', 'bmi_class': '3', 'map_class': '2', 'cholesterol_class': '1', 'glucose_class': '2', 'smoke': '0', 'active': '0', 'cvd_prediction': '1', 'diabetes_prediction': '0'}, 'health_statuses': {'bmi_status': 'Obese', 'map_status': 'Elevated', 'cholesterol_status': 'Borderline High', 'glucose_status': 'High', 'cvd_risk': 'High Risk', 'diabetes_risk': 'Low Risk'}}\n",
      "{'patient': {'cluster': '1', 'age': '33', 'gender': '0', 'cholesterol': '236', 'systolic_bp': '143', 'diastolic_bp': '93', 'mean_arterial_pressure': '109.66666666666667', 'skin_thickness': '27', 'insulin': '192', 'bmi': '31', 'dpf': '1', 'age_class': '0', 'bmi_class': '3', 'map_class': '2', 'cholesterol_class': '1', 'glucose_class': '2', 'smoke': '0', 'active': '0', 'cvd_prediction': '1', 'diabetes_prediction': '0'}, 'health_statuses': {'bmi_status': 'Obese', 'map_status': 'Elevated', 'cholesterol_status': 'Borderline High', 'glucose_status': 'High', 'cvd_risk': 'High Risk', 'diabetes_risk': 'Low Risk'}}\n"
     ]
    },
    {
     "name": "stderr",
     "output_type": "stream",
     "text": [
      "127.0.0.1 - - [16/May/2022 22:59:28] \"POST /_dash-update-component HTTP/1.1\" 200 -\n",
      "127.0.0.1 - - [16/May/2022 22:59:28] \"POST /_dash-update-component HTTP/1.1\" 200 -\n",
      "127.0.0.1 - - [16/May/2022 22:59:28] \"POST /_dash-update-component HTTP/1.1\" 200 -\n"
     ]
    },
    {
     "name": "stdout",
     "output_type": "stream",
     "text": [
      "{'patient': {'cluster': '1', 'age': '33', 'gender': '0', 'cholesterol': '236', 'systolic_bp': '143', 'diastolic_bp': '93', 'mean_arterial_pressure': '109.66666666666667', 'skin_thickness': '27', 'insulin': '191', 'bmi': '31', 'dpf': '1', 'age_class': '0', 'bmi_class': '3', 'map_class': '2', 'cholesterol_class': '1', 'glucose_class': '2', 'smoke': '0', 'active': '0', 'cvd_prediction': '1', 'diabetes_prediction': '0'}, 'health_statuses': {'bmi_status': 'Obese', 'map_status': 'Elevated', 'cholesterol_status': 'Borderline High', 'glucose_status': 'High', 'cvd_risk': 'High Risk', 'diabetes_risk': 'Low Risk'}}\n",
      "{'patient': {'cluster': '1', 'age': '33', 'gender': '0', 'cholesterol': '236', 'systolic_bp': '143', 'diastolic_bp': '93', 'mean_arterial_pressure': '109.66666666666667', 'skin_thickness': '27', 'insulin': '190', 'bmi': '31', 'dpf': '1', 'age_class': '0', 'bmi_class': '3', 'map_class': '2', 'cholesterol_class': '1', 'glucose_class': '2', 'smoke': '0', 'active': '0', 'cvd_prediction': '1', 'diabetes_prediction': '0'}, 'health_statuses': {'bmi_status': 'Obese', 'map_status': 'Elevated', 'cholesterol_status': 'Borderline High', 'glucose_status': 'High', 'cvd_risk': 'High Risk', 'diabetes_risk': 'Low Risk'}}\n"
     ]
    },
    {
     "name": "stderr",
     "output_type": "stream",
     "text": [
      "127.0.0.1 - - [16/May/2022 22:59:29] \"POST /_dash-update-component HTTP/1.1\" 200 -\n",
      "127.0.0.1 - - [16/May/2022 22:59:29] \"POST /_dash-update-component HTTP/1.1\" 200 -\n",
      "127.0.0.1 - - [16/May/2022 22:59:29] \"POST /_dash-update-component HTTP/1.1\" 200 -\n",
      "127.0.0.1 - - [16/May/2022 22:59:29] \"POST /_dash-update-component HTTP/1.1\" 200 -\n",
      "127.0.0.1 - - [16/May/2022 22:59:29] \"POST /_dash-update-component HTTP/1.1\" 200 -\n"
     ]
    },
    {
     "name": "stdout",
     "output_type": "stream",
     "text": [
      "{'patient': {'cluster': '1', 'age': '33', 'gender': '0', 'cholesterol': '236', 'systolic_bp': '143', 'diastolic_bp': '93', 'mean_arterial_pressure': '109.66666666666667', 'skin_thickness': '27', 'insulin': '189', 'bmi': '31', 'dpf': '1', 'age_class': '0', 'bmi_class': '3', 'map_class': '2', 'cholesterol_class': '1', 'glucose_class': '2', 'smoke': '0', 'active': '0', 'cvd_prediction': '1', 'diabetes_prediction': '0'}, 'health_statuses': {'bmi_status': 'Obese', 'map_status': 'Elevated', 'cholesterol_status': 'Borderline High', 'glucose_status': 'High', 'cvd_risk': 'High Risk', 'diabetes_risk': 'Low Risk'}}\n",
      "{'patient': {'cluster': '1', 'age': '33', 'gender': '0', 'cholesterol': '236', 'systolic_bp': '143', 'diastolic_bp': '93', 'mean_arterial_pressure': '109.66666666666667', 'skin_thickness': '27', 'insulin': '188', 'bmi': '31', 'dpf': '1', 'age_class': '0', 'bmi_class': '3', 'map_class': '2', 'cholesterol_class': '1', 'glucose_class': '2', 'smoke': '0', 'active': '0', 'cvd_prediction': '1', 'diabetes_prediction': '0'}, 'health_statuses': {'bmi_status': 'Obese', 'map_status': 'Elevated', 'cholesterol_status': 'Borderline High', 'glucose_status': 'High', 'cvd_risk': 'High Risk', 'diabetes_risk': 'Low Risk'}}\n"
     ]
    },
    {
     "name": "stderr",
     "output_type": "stream",
     "text": [
      "127.0.0.1 - - [16/May/2022 22:59:29] \"POST /_dash-update-component HTTP/1.1\" 200 -\n",
      "127.0.0.1 - - [16/May/2022 22:59:29] \"POST /_dash-update-component HTTP/1.1\" 200 -\n",
      "127.0.0.1 - - [16/May/2022 22:59:29] \"POST /_dash-update-component HTTP/1.1\" 200 -\n",
      "127.0.0.1 - - [16/May/2022 22:59:29] \"POST /_dash-update-component HTTP/1.1\" 200 -\n"
     ]
    },
    {
     "name": "stdout",
     "output_type": "stream",
     "text": [
      "{'patient': {'cluster': '1', 'age': '33', 'gender': '0', 'cholesterol': '236', 'systolic_bp': '143', 'diastolic_bp': '93', 'mean_arterial_pressure': '109.66666666666667', 'skin_thickness': '27', 'insulin': '187', 'bmi': '31', 'dpf': '1', 'age_class': '0', 'bmi_class': '3', 'map_class': '2', 'cholesterol_class': '1', 'glucose_class': '2', 'smoke': '0', 'active': '0', 'cvd_prediction': '1', 'diabetes_prediction': '0'}, 'health_statuses': {'bmi_status': 'Obese', 'map_status': 'Elevated', 'cholesterol_status': 'Borderline High', 'glucose_status': 'High', 'cvd_risk': 'High Risk', 'diabetes_risk': 'Low Risk'}}\n",
      "{'patient': {'cluster': '1', 'age': '33', 'gender': '0', 'cholesterol': '236', 'systolic_bp': '143', 'diastolic_bp': '93', 'mean_arterial_pressure': '109.66666666666667', 'skin_thickness': '27', 'insulin': '186', 'bmi': '31', 'dpf': '1', 'age_class': '0', 'bmi_class': '3', 'map_class': '2', 'cholesterol_class': '1', 'glucose_class': '2', 'smoke': '0', 'active': '0', 'cvd_prediction': '1', 'diabetes_prediction': '0'}, 'health_statuses': {'bmi_status': 'Obese', 'map_status': 'Elevated', 'cholesterol_status': 'Borderline High', 'glucose_status': 'High', 'cvd_risk': 'High Risk', 'diabetes_risk': 'Low Risk'}}\n"
     ]
    },
    {
     "name": "stderr",
     "output_type": "stream",
     "text": [
      "127.0.0.1 - - [16/May/2022 22:59:29] \"POST /_dash-update-component HTTP/1.1\" 200 -\n",
      "127.0.0.1 - - [16/May/2022 22:59:30] \"POST /_dash-update-component HTTP/1.1\" 200 -\n",
      "127.0.0.1 - - [16/May/2022 22:59:30] \"POST /_dash-update-component HTTP/1.1\" 200 -\n",
      "127.0.0.1 - - [16/May/2022 22:59:30] \"POST /_dash-update-component HTTP/1.1\" 200 -\n",
      "127.0.0.1 - - [16/May/2022 22:59:30] \"POST /_dash-update-component HTTP/1.1\" 200 -\n",
      "127.0.0.1 - - [16/May/2022 22:59:30] \"POST /_dash-update-component HTTP/1.1\" 200 -\n",
      "127.0.0.1 - - [16/May/2022 22:59:30] \"POST /_dash-update-component HTTP/1.1\" 200 -\n",
      "127.0.0.1 - - [16/May/2022 22:59:30] \"POST /_dash-update-component HTTP/1.1\" 200 -\n"
     ]
    },
    {
     "name": "stdout",
     "output_type": "stream",
     "text": [
      "{'patient': {'cluster': '1', 'age': '33', 'gender': '0', 'cholesterol': '236', 'systolic_bp': '143', 'diastolic_bp': '93', 'mean_arterial_pressure': '109.66666666666667', 'skin_thickness': '27', 'insulin': '185', 'bmi': '31', 'dpf': '1', 'age_class': '0', 'bmi_class': '3', 'map_class': '2', 'cholesterol_class': '1', 'glucose_class': '2', 'smoke': '0', 'active': '0', 'cvd_prediction': '1', 'diabetes_prediction': '0'}, 'health_statuses': {'bmi_status': 'Obese', 'map_status': 'Elevated', 'cholesterol_status': 'Borderline High', 'glucose_status': 'High', 'cvd_risk': 'High Risk', 'diabetes_risk': 'Low Risk'}}\n"
     ]
    },
    {
     "name": "stderr",
     "output_type": "stream",
     "text": [
      "127.0.0.1 - - [16/May/2022 22:59:30] \"POST /_dash-update-component HTTP/1.1\" 200 -\n",
      "127.0.0.1 - - [16/May/2022 22:59:30] \"POST /_dash-update-component HTTP/1.1\" 200 -\n",
      "127.0.0.1 - - [16/May/2022 22:59:30] \"POST /_dash-update-component HTTP/1.1\" 200 -\n",
      "127.0.0.1 - - [16/May/2022 22:59:30] \"POST /_dash-update-component HTTP/1.1\" 200 -\n"
     ]
    },
    {
     "name": "stdout",
     "output_type": "stream",
     "text": [
      "{'patient': {'cluster': '1', 'age': '33', 'gender': '0', 'cholesterol': '236', 'systolic_bp': '143', 'diastolic_bp': '93', 'mean_arterial_pressure': '109.66666666666667', 'skin_thickness': '27', 'insulin': '184', 'bmi': '31', 'dpf': '1', 'age_class': '0', 'bmi_class': '3', 'map_class': '2', 'cholesterol_class': '1', 'glucose_class': '2', 'smoke': '0', 'active': '0', 'cvd_prediction': '1', 'diabetes_prediction': '0'}, 'health_statuses': {'bmi_status': 'Obese', 'map_status': 'Elevated', 'cholesterol_status': 'Borderline High', 'glucose_status': 'High', 'cvd_risk': 'High Risk', 'diabetes_risk': 'Low Risk'}}\n",
      "{'patient': {'cluster': '1', 'age': '33', 'gender': '0', 'cholesterol': '236', 'systolic_bp': '143', 'diastolic_bp': '93', 'mean_arterial_pressure': '109.66666666666667', 'skin_thickness': '27', 'insulin': '183', 'bmi': '31', 'dpf': '1', 'age_class': '0', 'bmi_class': '3', 'map_class': '2', 'cholesterol_class': '1', 'glucose_class': '2', 'smoke': '0', 'active': '0', 'cvd_prediction': '1', 'diabetes_prediction': '0'}, 'health_statuses': {'bmi_status': 'Obese', 'map_status': 'Elevated', 'cholesterol_status': 'Borderline High', 'glucose_status': 'High', 'cvd_risk': 'High Risk', 'diabetes_risk': 'Low Risk'}}\n"
     ]
    },
    {
     "name": "stderr",
     "output_type": "stream",
     "text": [
      "127.0.0.1 - - [16/May/2022 22:59:30] \"POST /_dash-update-component HTTP/1.1\" 200 -\n",
      "127.0.0.1 - - [16/May/2022 22:59:30] \"POST /_dash-update-component HTTP/1.1\" 200 -\n",
      "127.0.0.1 - - [16/May/2022 22:59:30] \"POST /_dash-update-component HTTP/1.1\" 200 -\n",
      "127.0.0.1 - - [16/May/2022 22:59:30] \"POST /_dash-update-component HTTP/1.1\" 200 -\n"
     ]
    },
    {
     "name": "stdout",
     "output_type": "stream",
     "text": [
      "{'patient': {'cluster': '1', 'age': '33', 'gender': '0', 'cholesterol': '236', 'systolic_bp': '143', 'diastolic_bp': '93', 'mean_arterial_pressure': '109.66666666666667', 'skin_thickness': '27', 'insulin': '182', 'bmi': '31', 'dpf': '1', 'age_class': '0', 'bmi_class': '3', 'map_class': '2', 'cholesterol_class': '1', 'glucose_class': '2', 'smoke': '0', 'active': '0', 'cvd_prediction': '1', 'diabetes_prediction': '0'}, 'health_statuses': {'bmi_status': 'Obese', 'map_status': 'Elevated', 'cholesterol_status': 'Borderline High', 'glucose_status': 'High', 'cvd_risk': 'High Risk', 'diabetes_risk': 'Low Risk'}}\n",
      "{'patient': {'cluster': '1', 'age': '33', 'gender': '0', 'cholesterol': '236', 'systolic_bp': '143', 'diastolic_bp': '93', 'mean_arterial_pressure': '109.66666666666667', 'skin_thickness': '27', 'insulin': '181', 'bmi': '31', 'dpf': '1', 'age_class': '0', 'bmi_class': '3', 'map_class': '2', 'cholesterol_class': '1', 'glucose_class': '2', 'smoke': '0', 'active': '0', 'cvd_prediction': '1', 'diabetes_prediction': '0'}, 'health_statuses': {'bmi_status': 'Obese', 'map_status': 'Elevated', 'cholesterol_status': 'Borderline High', 'glucose_status': 'High', 'cvd_risk': 'High Risk', 'diabetes_risk': 'Low Risk'}}\n",
      "{'patient': {'cluster': '1', 'age': '33', 'gender': '0', 'cholesterol': '236', 'systolic_bp': '143', 'diastolic_bp': '93', 'mean_arterial_pressure': '109.66666666666667', 'skin_thickness': '27', 'insulin': '180', 'bmi': '31', 'dpf': '1', 'age_class': '0', 'bmi_class': '3', 'map_class': '2', 'cholesterol_class': '1', 'glucose_class': '2', 'smoke': '0', 'active': '0', 'cvd_prediction': '1', 'diabetes_prediction': '0'}, 'health_statuses': {'bmi_status': 'Obese', 'map_status': 'Elevated', 'cholesterol_status': 'Borderline High', 'glucose_status': 'High', 'cvd_risk': 'High Risk', 'diabetes_risk': 'Low Risk'}}\n"
     ]
    },
    {
     "name": "stderr",
     "output_type": "stream",
     "text": [
      "127.0.0.1 - - [16/May/2022 22:59:31] \"POST /_dash-update-component HTTP/1.1\" 200 -\n",
      "127.0.0.1 - - [16/May/2022 22:59:31] \"POST /_dash-update-component HTTP/1.1\" 200 -\n",
      "127.0.0.1 - - [16/May/2022 22:59:31] \"POST /_dash-update-component HTTP/1.1\" 200 -\n",
      "127.0.0.1 - - [16/May/2022 22:59:31] \"POST /_dash-update-component HTTP/1.1\" 200 -\n"
     ]
    },
    {
     "name": "stdout",
     "output_type": "stream",
     "text": [
      "{'patient': {'cluster': '1', 'age': '33', 'gender': '0', 'cholesterol': '236', 'systolic_bp': '143', 'diastolic_bp': '93', 'mean_arterial_pressure': '109.66666666666667', 'skin_thickness': '27', 'insulin': '179', 'bmi': '31', 'dpf': '1', 'age_class': '0', 'bmi_class': '3', 'map_class': '2', 'cholesterol_class': '1', 'glucose_class': '2', 'smoke': '0', 'active': '0', 'cvd_prediction': '1', 'diabetes_prediction': '0'}, 'health_statuses': {'bmi_status': 'Obese', 'map_status': 'Elevated', 'cholesterol_status': 'Borderline High', 'glucose_status': 'High', 'cvd_risk': 'High Risk', 'diabetes_risk': 'Low Risk'}}\n"
     ]
    },
    {
     "name": "stderr",
     "output_type": "stream",
     "text": [
      "127.0.0.1 - - [16/May/2022 22:59:31] \"POST /_dash-update-component HTTP/1.1\" 200 -\n",
      "127.0.0.1 - - [16/May/2022 22:59:31] \"POST /_dash-update-component HTTP/1.1\" 200 -\n",
      "127.0.0.1 - - [16/May/2022 22:59:31] \"POST /_dash-update-component HTTP/1.1\" 200 -\n"
     ]
    },
    {
     "name": "stdout",
     "output_type": "stream",
     "text": [
      "{'patient': {'cluster': '1', 'age': '33', 'gender': '0', 'cholesterol': '236', 'systolic_bp': '143', 'diastolic_bp': '93', 'mean_arterial_pressure': '109.66666666666667', 'skin_thickness': '27', 'insulin': '178', 'bmi': '31', 'dpf': '1', 'age_class': '0', 'bmi_class': '3', 'map_class': '2', 'cholesterol_class': '1', 'glucose_class': '2', 'smoke': '0', 'active': '0', 'cvd_prediction': '1', 'diabetes_prediction': '0'}, 'health_statuses': {'bmi_status': 'Obese', 'map_status': 'Elevated', 'cholesterol_status': 'Borderline High', 'glucose_status': 'High', 'cvd_risk': 'High Risk', 'diabetes_risk': 'Low Risk'}}\n",
      "{'patient': {'cluster': '1', 'age': '33', 'gender': '0', 'cholesterol': '236', 'systolic_bp': '143', 'diastolic_bp': '93', 'mean_arterial_pressure': '109.66666666666667', 'skin_thickness': '27', 'insulin': '177', 'bmi': '31', 'dpf': '1', 'age_class': '0', 'bmi_class': '3', 'map_class': '2', 'cholesterol_class': '1', 'glucose_class': '2', 'smoke': '0', 'active': '0', 'cvd_prediction': '1', 'diabetes_prediction': '0'}, 'health_statuses': {'bmi_status': 'Obese', 'map_status': 'Elevated', 'cholesterol_status': 'Borderline High', 'glucose_status': 'High', 'cvd_risk': 'High Risk', 'diabetes_risk': 'Low Risk'}}\n"
     ]
    },
    {
     "name": "stderr",
     "output_type": "stream",
     "text": [
      "127.0.0.1 - - [16/May/2022 22:59:31] \"POST /_dash-update-component HTTP/1.1\" 200 -\n",
      "127.0.0.1 - - [16/May/2022 22:59:31] \"POST /_dash-update-component HTTP/1.1\" 200 -\n",
      "127.0.0.1 - - [16/May/2022 22:59:31] \"POST /_dash-update-component HTTP/1.1\" 200 -\n",
      "127.0.0.1 - - [16/May/2022 22:59:31] \"POST /_dash-update-component HTTP/1.1\" 200 -\n",
      "127.0.0.1 - - [16/May/2022 22:59:31] \"POST /_dash-update-component HTTP/1.1\" 200 -\n",
      "127.0.0.1 - - [16/May/2022 22:59:31] \"POST /_dash-update-component HTTP/1.1\" 200 -\n",
      "127.0.0.1 - - [16/May/2022 22:59:31] \"POST /_dash-update-component HTTP/1.1\" 200 -\n"
     ]
    },
    {
     "name": "stdout",
     "output_type": "stream",
     "text": [
      "{'patient': {'cluster': '1', 'age': '33', 'gender': '0', 'cholesterol': '236', 'systolic_bp': '143', 'diastolic_bp': '93', 'mean_arterial_pressure': '109.66666666666667', 'skin_thickness': '27', 'insulin': '176', 'bmi': '31', 'dpf': '1', 'age_class': '0', 'bmi_class': '3', 'map_class': '2', 'cholesterol_class': '1', 'glucose_class': '2', 'smoke': '0', 'active': '0', 'cvd_prediction': '1', 'diabetes_prediction': '0'}, 'health_statuses': {'bmi_status': 'Obese', 'map_status': 'Elevated', 'cholesterol_status': 'Borderline High', 'glucose_status': 'High', 'cvd_risk': 'High Risk', 'diabetes_risk': 'Low Risk'}}\n",
      "{'patient': {'cluster': '1', 'age': '33', 'gender': '0', 'cholesterol': '236', 'systolic_bp': '143', 'diastolic_bp': '93', 'mean_arterial_pressure': '109.66666666666667', 'skin_thickness': '27', 'insulin': '175', 'bmi': '31', 'dpf': '1', 'age_class': '0', 'bmi_class': '3', 'map_class': '2', 'cholesterol_class': '1', 'glucose_class': '2', 'smoke': '0', 'active': '0', 'cvd_prediction': '1', 'diabetes_prediction': '0'}, 'health_statuses': {'bmi_status': 'Obese', 'map_status': 'Elevated', 'cholesterol_status': 'Borderline High', 'glucose_status': 'High', 'cvd_risk': 'High Risk', 'diabetes_risk': 'Low Risk'}}\n",
      "{'patient': {'cluster': '1', 'age': '33', 'gender': '0', 'cholesterol': '236', 'systolic_bp': '143', 'diastolic_bp': '93', 'mean_arterial_pressure': '109.66666666666667', 'skin_thickness': '27', 'insulin': '174', 'bmi': '31', 'dpf': '1', 'age_class': '0', 'bmi_class': '3', 'map_class': '2', 'cholesterol_class': '1', 'glucose_class': '2', 'smoke': '0', 'active': '0', 'cvd_prediction': '1', 'diabetes_prediction': '0'}, 'health_statuses': {'bmi_status': 'Obese', 'map_status': 'Elevated', 'cholesterol_status': 'Borderline High', 'glucose_status': 'High', 'cvd_risk': 'High Risk', 'diabetes_risk': 'Low Risk'}}\n"
     ]
    },
    {
     "name": "stderr",
     "output_type": "stream",
     "text": [
      "127.0.0.1 - - [16/May/2022 22:59:31] \"POST /_dash-update-component HTTP/1.1\" 200 -\n",
      "127.0.0.1 - - [16/May/2022 22:59:31] \"POST /_dash-update-component HTTP/1.1\" 200 -\n"
     ]
    },
    {
     "name": "stdout",
     "output_type": "stream",
     "text": [
      "{'patient': {'cluster': '1', 'age': '33', 'gender': '0', 'cholesterol': '236', 'systolic_bp': '143', 'diastolic_bp': '93', 'mean_arterial_pressure': '109.66666666666667', 'skin_thickness': '27', 'insulin': '173', 'bmi': '31', 'dpf': '1', 'age_class': '0', 'bmi_class': '3', 'map_class': '2', 'cholesterol_class': '1', 'glucose_class': '2', 'smoke': '0', 'active': '0', 'cvd_prediction': '1', 'diabetes_prediction': '0'}, 'health_statuses': {'bmi_status': 'Obese', 'map_status': 'Elevated', 'cholesterol_status': 'Borderline High', 'glucose_status': 'High', 'cvd_risk': 'High Risk', 'diabetes_risk': 'Low Risk'}}\n"
     ]
    },
    {
     "name": "stderr",
     "output_type": "stream",
     "text": [
      "127.0.0.1 - - [16/May/2022 22:59:32] \"POST /_dash-update-component HTTP/1.1\" 200 -\n",
      "127.0.0.1 - - [16/May/2022 22:59:32] \"POST /_dash-update-component HTTP/1.1\" 200 -\n",
      "127.0.0.1 - - [16/May/2022 22:59:32] \"POST /_dash-update-component HTTP/1.1\" 200 -\n",
      "127.0.0.1 - - [16/May/2022 22:59:32] \"POST /_dash-update-component HTTP/1.1\" 200 -\n"
     ]
    },
    {
     "name": "stdout",
     "output_type": "stream",
     "text": [
      "{'patient': {'cluster': '1', 'age': '33', 'gender': '0', 'cholesterol': '236', 'systolic_bp': '143', 'diastolic_bp': '93', 'mean_arterial_pressure': '109.66666666666667', 'skin_thickness': '27', 'insulin': '172', 'bmi': '31', 'dpf': '1', 'age_class': '0', 'bmi_class': '3', 'map_class': '2', 'cholesterol_class': '1', 'glucose_class': '2', 'smoke': '0', 'active': '0', 'cvd_prediction': '1', 'diabetes_prediction': '0'}, 'health_statuses': {'bmi_status': 'Obese', 'map_status': 'Elevated', 'cholesterol_status': 'Borderline High', 'glucose_status': 'High', 'cvd_risk': 'High Risk', 'diabetes_risk': 'Low Risk'}}\n",
      "{'patient': {'cluster': '1', 'age': '33', 'gender': '0', 'cholesterol': '236', 'systolic_bp': '143', 'diastolic_bp': '93', 'mean_arterial_pressure': '109.66666666666667', 'skin_thickness': '27', 'insulin': '171', 'bmi': '31', 'dpf': '1', 'age_class': '0', 'bmi_class': '3', 'map_class': '2', 'cholesterol_class': '1', 'glucose_class': '2', 'smoke': '0', 'active': '0', 'cvd_prediction': '1', 'diabetes_prediction': '0'}, 'health_statuses': {'bmi_status': 'Obese', 'map_status': 'Elevated', 'cholesterol_status': 'Borderline High', 'glucose_status': 'High', 'cvd_risk': 'High Risk', 'diabetes_risk': 'Low Risk'}}\n"
     ]
    },
    {
     "name": "stderr",
     "output_type": "stream",
     "text": [
      "127.0.0.1 - - [16/May/2022 22:59:32] \"POST /_dash-update-component HTTP/1.1\" 200 -\n",
      "127.0.0.1 - - [16/May/2022 22:59:32] \"POST /_dash-update-component HTTP/1.1\" 200 -\n",
      "127.0.0.1 - - [16/May/2022 22:59:32] \"POST /_dash-update-component HTTP/1.1\" 200 -\n",
      "127.0.0.1 - - [16/May/2022 22:59:32] \"POST /_dash-update-component HTTP/1.1\" 200 -\n"
     ]
    },
    {
     "name": "stdout",
     "output_type": "stream",
     "text": [
      "{'patient': {'cluster': '1', 'age': '33', 'gender': '0', 'cholesterol': '236', 'systolic_bp': '143', 'diastolic_bp': '93', 'mean_arterial_pressure': '109.66666666666667', 'skin_thickness': '27', 'insulin': '170', 'bmi': '31', 'dpf': '1', 'age_class': '0', 'bmi_class': '3', 'map_class': '2', 'cholesterol_class': '1', 'glucose_class': '2', 'smoke': '0', 'active': '0', 'cvd_prediction': '1', 'diabetes_prediction': '0'}, 'health_statuses': {'bmi_status': 'Obese', 'map_status': 'Elevated', 'cholesterol_status': 'Borderline High', 'glucose_status': 'High', 'cvd_risk': 'High Risk', 'diabetes_risk': 'Low Risk'}}\n",
      "{'patient': {'cluster': '1', 'age': '33', 'gender': '0', 'cholesterol': '236', 'systolic_bp': '143', 'diastolic_bp': '93', 'mean_arterial_pressure': '109.66666666666667', 'skin_thickness': '27', 'insulin': '169', 'bmi': '31', 'dpf': '1', 'age_class': '0', 'bmi_class': '3', 'map_class': '2', 'cholesterol_class': '1', 'glucose_class': '2', 'smoke': '0', 'active': '0', 'cvd_prediction': '1', 'diabetes_prediction': '0'}, 'health_statuses': {'bmi_status': 'Obese', 'map_status': 'Elevated', 'cholesterol_status': 'Borderline High', 'glucose_status': 'High', 'cvd_risk': 'High Risk', 'diabetes_risk': 'Low Risk'}}\n",
      "{'patient': {'cluster': '1', 'age': '33', 'gender': '0', 'cholesterol': '236', 'systolic_bp': '143', 'diastolic_bp': '93', 'mean_arterial_pressure': '109.66666666666667', 'skin_thickness': '27', 'insulin': '168', 'bmi': '31', 'dpf': '1', 'age_class': '0', 'bmi_class': '3', 'map_class': '2', 'cholesterol_class': '1', 'glucose_class': '2', 'smoke': '0', 'active': '0', 'cvd_prediction': '1', 'diabetes_prediction': '0'}, 'health_statuses': {'bmi_status': 'Obese', 'map_status': 'Elevated', 'cholesterol_status': 'Borderline High', 'glucose_status': 'High', 'cvd_risk': 'High Risk', 'diabetes_risk': 'Low Risk'}}\n",
      "{'patient': {'cluster': '1', 'age': '33', 'gender': '0', 'cholesterol': '236', 'systolic_bp': '143', 'diastolic_bp': '93', 'mean_arterial_pressure': '109.66666666666667', 'skin_thickness': '27', 'insulin': '167', 'bmi': '31', 'dpf': '1', 'age_class': '0', 'bmi_class': '3', 'map_class': '2', 'cholesterol_class': '1', 'glucose_class': '2', 'smoke': '0', 'active': '0', 'cvd_prediction': '1', 'diabetes_prediction': '0'}, 'health_statuses': {'bmi_status': 'Obese', 'map_status': 'Elevated', 'cholesterol_status': 'Borderline High', 'glucose_status': 'High', 'cvd_risk': 'High Risk', 'diabetes_risk': 'Low Risk'}}\n"
     ]
    },
    {
     "name": "stderr",
     "output_type": "stream",
     "text": [
      "127.0.0.1 - - [16/May/2022 22:59:32] \"POST /_dash-update-component HTTP/1.1\" 200 -\n",
      "127.0.0.1 - - [16/May/2022 22:59:32] \"POST /_dash-update-component HTTP/1.1\" 200 -\n",
      "127.0.0.1 - - [16/May/2022 22:59:32] \"POST /_dash-update-component HTTP/1.1\" 200 -\n",
      "127.0.0.1 - - [16/May/2022 22:59:32] \"POST /_dash-update-component HTTP/1.1\" 200 -\n"
     ]
    },
    {
     "name": "stdout",
     "output_type": "stream",
     "text": [
      "{'patient': {'cluster': '1', 'age': '33', 'gender': '0', 'cholesterol': '236', 'systolic_bp': '143', 'diastolic_bp': '93', 'mean_arterial_pressure': '109.66666666666667', 'skin_thickness': '27', 'insulin': '166', 'bmi': '31', 'dpf': '1', 'age_class': '0', 'bmi_class': '3', 'map_class': '2', 'cholesterol_class': '1', 'glucose_class': '2', 'smoke': '0', 'active': '0', 'cvd_prediction': '1', 'diabetes_prediction': '0'}, 'health_statuses': {'bmi_status': 'Obese', 'map_status': 'Elevated', 'cholesterol_status': 'Borderline High', 'glucose_status': 'High', 'cvd_risk': 'High Risk', 'diabetes_risk': 'Low Risk'}}\n",
      "{'patient': {'cluster': '1', 'age': '33', 'gender': '0', 'cholesterol': '236', 'systolic_bp': '143', 'diastolic_bp': '93', 'mean_arterial_pressure': '109.66666666666667', 'skin_thickness': '27', 'insulin': '165', 'bmi': '31', 'dpf': '1', 'age_class': '0', 'bmi_class': '3', 'map_class': '2', 'cholesterol_class': '1', 'glucose_class': '2', 'smoke': '0', 'active': '0', 'cvd_prediction': '1', 'diabetes_prediction': '0'}, 'health_statuses': {'bmi_status': 'Obese', 'map_status': 'Elevated', 'cholesterol_status': 'Borderline High', 'glucose_status': 'High', 'cvd_risk': 'High Risk', 'diabetes_risk': 'Low Risk'}}\n",
      "{'patient': {'cluster': '1', 'age': '33', 'gender': '0', 'cholesterol': '236', 'systolic_bp': '143', 'diastolic_bp': '93', 'mean_arterial_pressure': '109.66666666666667', 'skin_thickness': '27', 'insulin': '164', 'bmi': '31', 'dpf': '1', 'age_class': '0', 'bmi_class': '3', 'map_class': '2', 'cholesterol_class': '1', 'glucose_class': '2', 'smoke': '0', 'active': '0', 'cvd_prediction': '1', 'diabetes_prediction': '0'}, 'health_statuses': {'bmi_status': 'Obese', 'map_status': 'Elevated', 'cholesterol_status': 'Borderline High', 'glucose_status': 'High', 'cvd_risk': 'High Risk', 'diabetes_risk': 'Low Risk'}}\n"
     ]
    },
    {
     "name": "stderr",
     "output_type": "stream",
     "text": [
      "127.0.0.1 - - [16/May/2022 22:59:32] \"POST /_dash-update-component HTTP/1.1\" 200 -\n",
      "127.0.0.1 - - [16/May/2022 22:59:32] \"POST /_dash-update-component HTTP/1.1\" 200 -\n",
      "127.0.0.1 - - [16/May/2022 22:59:33] \"POST /_dash-update-component HTTP/1.1\" 200 -\n"
     ]
    },
    {
     "name": "stdout",
     "output_type": "stream",
     "text": [
      "{'patient': {'cluster': '1', 'age': '33', 'gender': '0', 'cholesterol': '237', 'systolic_bp': '143', 'diastolic_bp': '93', 'mean_arterial_pressure': '109.66666666666667', 'skin_thickness': '27', 'insulin': '164', 'bmi': '31', 'dpf': '1', 'age_class': '0', 'bmi_class': '3', 'map_class': '2', 'cholesterol_class': '1', 'glucose_class': '2', 'smoke': '0', 'active': '0', 'cvd_prediction': '1', 'diabetes_prediction': '0'}, 'health_statuses': {'bmi_status': 'Obese', 'map_status': 'Elevated', 'cholesterol_status': 'Borderline High', 'glucose_status': 'High', 'cvd_risk': 'High Risk', 'diabetes_risk': 'Low Risk'}}\n"
     ]
    },
    {
     "name": "stderr",
     "output_type": "stream",
     "text": [
      "127.0.0.1 - - [16/May/2022 22:59:33] \"POST /_dash-update-component HTTP/1.1\" 200 -\n",
      "127.0.0.1 - - [16/May/2022 22:59:33] \"POST /_dash-update-component HTTP/1.1\" 200 -\n"
     ]
    },
    {
     "name": "stdout",
     "output_type": "stream",
     "text": [
      "{'patient': {'cluster': '1', 'age': '33', 'gender': '0', 'cholesterol': '238', 'systolic_bp': '143', 'diastolic_bp': '93', 'mean_arterial_pressure': '109.66666666666667', 'skin_thickness': '27', 'insulin': '164', 'bmi': '31', 'dpf': '1', 'age_class': '0', 'bmi_class': '3', 'map_class': '2', 'cholesterol_class': '1', 'glucose_class': '2', 'smoke': '0', 'active': '0', 'cvd_prediction': '1', 'diabetes_prediction': '0'}, 'health_statuses': {'bmi_status': 'Obese', 'map_status': 'Elevated', 'cholesterol_status': 'Borderline High', 'glucose_status': 'High', 'cvd_risk': 'High Risk', 'diabetes_risk': 'Low Risk'}}\n",
      "{'patient': {'cluster': '1', 'age': '33', 'gender': '0', 'cholesterol': '239', 'systolic_bp': '143', 'diastolic_bp': '93', 'mean_arterial_pressure': '109.66666666666667', 'skin_thickness': '27', 'insulin': '164', 'bmi': '31', 'dpf': '1', 'age_class': '0', 'bmi_class': '3', 'map_class': '2', 'cholesterol_class': '1', 'glucose_class': '2', 'smoke': '0', 'active': '0', 'cvd_prediction': '1', 'diabetes_prediction': '0'}, 'health_statuses': {'bmi_status': 'Obese', 'map_status': 'Elevated', 'cholesterol_status': 'Borderline High', 'glucose_status': 'High', 'cvd_risk': 'High Risk', 'diabetes_risk': 'Low Risk'}}\n"
     ]
    },
    {
     "name": "stderr",
     "output_type": "stream",
     "text": [
      "127.0.0.1 - - [16/May/2022 22:59:33] \"POST /_dash-update-component HTTP/1.1\" 200 -\n",
      "127.0.0.1 - - [16/May/2022 22:59:33] \"POST /_dash-update-component HTTP/1.1\" 200 -\n",
      "127.0.0.1 - - [16/May/2022 22:59:33] \"POST /_dash-update-component HTTP/1.1\" 200 -\n",
      "127.0.0.1 - - [16/May/2022 22:59:33] \"POST /_dash-update-component HTTP/1.1\" 200 -\n"
     ]
    },
    {
     "name": "stdout",
     "output_type": "stream",
     "text": [
      "{'patient': {'cluster': '1', 'age': '33', 'gender': '0', 'cholesterol': '240', 'systolic_bp': '143', 'diastolic_bp': '93', 'mean_arterial_pressure': '109.66666666666667', 'skin_thickness': '27', 'insulin': '164', 'bmi': '31', 'dpf': '1', 'age_class': '0', 'bmi_class': '3', 'map_class': '2', 'cholesterol_class': '2', 'glucose_class': '2', 'smoke': '0', 'active': '0', 'cvd_prediction': '1', 'diabetes_prediction': '0'}, 'health_statuses': {'bmi_status': 'Obese', 'map_status': 'Elevated', 'cholesterol_status': 'High', 'glucose_status': 'High', 'cvd_risk': 'High Risk', 'diabetes_risk': 'Low Risk'}}\n"
     ]
    },
    {
     "name": "stderr",
     "output_type": "stream",
     "text": [
      "127.0.0.1 - - [16/May/2022 22:59:33] \"POST /_dash-update-component HTTP/1.1\" 200 -\n"
     ]
    },
    {
     "name": "stdout",
     "output_type": "stream",
     "text": [
      "{'patient': {'cluster': '1', 'age': '33', 'gender': '0', 'cholesterol': '241', 'systolic_bp': '143', 'diastolic_bp': '93', 'mean_arterial_pressure': '109.66666666666667', 'skin_thickness': '27', 'insulin': '164', 'bmi': '31', 'dpf': '1', 'age_class': '0', 'bmi_class': '3', 'map_class': '2', 'cholesterol_class': '2', 'glucose_class': '2', 'smoke': '0', 'active': '0', 'cvd_prediction': '1', 'diabetes_prediction': '0'}, 'health_statuses': {'bmi_status': 'Obese', 'map_status': 'Elevated', 'cholesterol_status': 'High', 'glucose_status': 'High', 'cvd_risk': 'High Risk', 'diabetes_risk': 'Low Risk'}}\n"
     ]
    },
    {
     "name": "stderr",
     "output_type": "stream",
     "text": [
      "127.0.0.1 - - [16/May/2022 22:59:34] \"POST /_dash-update-component HTTP/1.1\" 200 -\n",
      "127.0.0.1 - - [16/May/2022 22:59:34] \"POST /_dash-update-component HTTP/1.1\" 200 -\n"
     ]
    },
    {
     "name": "stdout",
     "output_type": "stream",
     "text": [
      "{'patient': {'cluster': '1', 'age': '33', 'gender': '0', 'cholesterol': '240', 'systolic_bp': '143', 'diastolic_bp': '93', 'mean_arterial_pressure': '109.66666666666667', 'skin_thickness': '27', 'insulin': '164', 'bmi': '31', 'dpf': '1', 'age_class': '0', 'bmi_class': '3', 'map_class': '2', 'cholesterol_class': '2', 'glucose_class': '2', 'smoke': '0', 'active': '0', 'cvd_prediction': '1', 'diabetes_prediction': '0'}, 'health_statuses': {'bmi_status': 'Obese', 'map_status': 'Elevated', 'cholesterol_status': 'High', 'glucose_status': 'High', 'cvd_risk': 'High Risk', 'diabetes_risk': 'Low Risk'}}\n"
     ]
    },
    {
     "name": "stderr",
     "output_type": "stream",
     "text": [
      "127.0.0.1 - - [16/May/2022 22:59:35] \"POST /_dash-update-component HTTP/1.1\" 200 -\n",
      "127.0.0.1 - - [16/May/2022 22:59:35] \"POST /_dash-update-component HTTP/1.1\" 200 -\n"
     ]
    },
    {
     "name": "stdout",
     "output_type": "stream",
     "text": [
      "{'patient': {'cluster': '1', 'age': '33', 'gender': '0', 'cholesterol': '239', 'systolic_bp': '143', 'diastolic_bp': '93', 'mean_arterial_pressure': '109.66666666666667', 'skin_thickness': '27', 'insulin': '164', 'bmi': '31', 'dpf': '1', 'age_class': '0', 'bmi_class': '3', 'map_class': '2', 'cholesterol_class': '1', 'glucose_class': '2', 'smoke': '0', 'active': '0', 'cvd_prediction': '1', 'diabetes_prediction': '0'}, 'health_statuses': {'bmi_status': 'Obese', 'map_status': 'Elevated', 'cholesterol_status': 'Borderline High', 'glucose_status': 'High', 'cvd_risk': 'High Risk', 'diabetes_risk': 'Low Risk'}}\n"
     ]
    },
    {
     "name": "stderr",
     "output_type": "stream",
     "text": [
      "127.0.0.1 - - [16/May/2022 22:59:35] \"POST /_dash-update-component HTTP/1.1\" 200 -\n",
      "127.0.0.1 - - [16/May/2022 22:59:35] \"POST /_dash-update-component HTTP/1.1\" 200 -\n"
     ]
    },
    {
     "name": "stdout",
     "output_type": "stream",
     "text": [
      "{'patient': {'cluster': '1', 'age': '33', 'gender': '0', 'cholesterol': '240', 'systolic_bp': '143', 'diastolic_bp': '93', 'mean_arterial_pressure': '109.66666666666667', 'skin_thickness': '27', 'insulin': '164', 'bmi': '31', 'dpf': '1', 'age_class': '0', 'bmi_class': '3', 'map_class': '2', 'cholesterol_class': '2', 'glucose_class': '2', 'smoke': '0', 'active': '0', 'cvd_prediction': '1', 'diabetes_prediction': '0'}, 'health_statuses': {'bmi_status': 'Obese', 'map_status': 'Elevated', 'cholesterol_status': 'High', 'glucose_status': 'High', 'cvd_risk': 'High Risk', 'diabetes_risk': 'Low Risk'}}\n"
     ]
    },
    {
     "name": "stderr",
     "output_type": "stream",
     "text": [
      "127.0.0.1 - - [16/May/2022 22:59:36] \"POST /_dash-update-component HTTP/1.1\" 200 -\n",
      "127.0.0.1 - - [16/May/2022 22:59:36] \"POST /_dash-update-component HTTP/1.1\" 200 -\n"
     ]
    },
    {
     "name": "stdout",
     "output_type": "stream",
     "text": [
      "{'patient': {'cluster': '1', 'age': '33', 'gender': '0', 'cholesterol': '239', 'systolic_bp': '143', 'diastolic_bp': '93', 'mean_arterial_pressure': '109.66666666666667', 'skin_thickness': '27', 'insulin': '164', 'bmi': '31', 'dpf': '1', 'age_class': '0', 'bmi_class': '3', 'map_class': '2', 'cholesterol_class': '1', 'glucose_class': '2', 'smoke': '0', 'active': '0', 'cvd_prediction': '1', 'diabetes_prediction': '0'}, 'health_statuses': {'bmi_status': 'Obese', 'map_status': 'Elevated', 'cholesterol_status': 'Borderline High', 'glucose_status': 'High', 'cvd_risk': 'High Risk', 'diabetes_risk': 'Low Risk'}}\n"
     ]
    },
    {
     "name": "stderr",
     "output_type": "stream",
     "text": [
      "127.0.0.1 - - [16/May/2022 22:59:38] \"POST /_dash-update-component HTTP/1.1\" 200 -\n",
      "127.0.0.1 - - [16/May/2022 22:59:38] \"POST /_dash-update-component HTTP/1.1\" 200 -\n"
     ]
    },
    {
     "name": "stdout",
     "output_type": "stream",
     "text": [
      "{'patient': {'cluster': '1', 'age': '33', 'gender': '0', 'cholesterol': '240', 'systolic_bp': '143', 'diastolic_bp': '93', 'mean_arterial_pressure': '109.66666666666667', 'skin_thickness': '27', 'insulin': '164', 'bmi': '31', 'dpf': '1', 'age_class': '0', 'bmi_class': '3', 'map_class': '2', 'cholesterol_class': '2', 'glucose_class': '2', 'smoke': '0', 'active': '0', 'cvd_prediction': '1', 'diabetes_prediction': '0'}, 'health_statuses': {'bmi_status': 'Obese', 'map_status': 'Elevated', 'cholesterol_status': 'High', 'glucose_status': 'High', 'cvd_risk': 'High Risk', 'diabetes_risk': 'Low Risk'}}\n"
     ]
    },
    {
     "name": "stderr",
     "output_type": "stream",
     "text": [
      "127.0.0.1 - - [16/May/2022 22:59:39] \"POST /_dash-update-component HTTP/1.1\" 200 -\n",
      "127.0.0.1 - - [16/May/2022 22:59:39] \"POST /_dash-update-component HTTP/1.1\" 200 -\n"
     ]
    },
    {
     "name": "stdout",
     "output_type": "stream",
     "text": [
      "{'patient': {'cluster': '1', 'age': '33', 'gender': '0', 'cholesterol': '239', 'systolic_bp': '143', 'diastolic_bp': '93', 'mean_arterial_pressure': '109.66666666666667', 'skin_thickness': '27', 'insulin': '164', 'bmi': '31', 'dpf': '1', 'age_class': '0', 'bmi_class': '3', 'map_class': '2', 'cholesterol_class': '1', 'glucose_class': '2', 'smoke': '0', 'active': '0', 'cvd_prediction': '1', 'diabetes_prediction': '0'}, 'health_statuses': {'bmi_status': 'Obese', 'map_status': 'Elevated', 'cholesterol_status': 'Borderline High', 'glucose_status': 'High', 'cvd_risk': 'High Risk', 'diabetes_risk': 'Low Risk'}}\n"
     ]
    },
    {
     "name": "stderr",
     "output_type": "stream",
     "text": [
      "127.0.0.1 - - [16/May/2022 22:59:39] \"POST /_dash-update-component HTTP/1.1\" 200 -\n",
      "127.0.0.1 - - [16/May/2022 22:59:40] \"POST /_dash-update-component HTTP/1.1\" 200 -\n"
     ]
    },
    {
     "name": "stdout",
     "output_type": "stream",
     "text": [
      "{'patient': {'cluster': '1', 'age': '33', 'gender': '0', 'cholesterol': '240', 'systolic_bp': '143', 'diastolic_bp': '93', 'mean_arterial_pressure': '109.66666666666667', 'skin_thickness': '27', 'insulin': '164', 'bmi': '31', 'dpf': '1', 'age_class': '0', 'bmi_class': '3', 'map_class': '2', 'cholesterol_class': '2', 'glucose_class': '2', 'smoke': '0', 'active': '0', 'cvd_prediction': '1', 'diabetes_prediction': '0'}, 'health_statuses': {'bmi_status': 'Obese', 'map_status': 'Elevated', 'cholesterol_status': 'High', 'glucose_status': 'High', 'cvd_risk': 'High Risk', 'diabetes_risk': 'Low Risk'}}\n"
     ]
    },
    {
     "name": "stderr",
     "output_type": "stream",
     "text": [
      "127.0.0.1 - - [16/May/2022 22:59:40] \"POST /_dash-update-component HTTP/1.1\" 200 -\n",
      "127.0.0.1 - - [16/May/2022 22:59:40] \"POST /_dash-update-component HTTP/1.1\" 200 -\n"
     ]
    },
    {
     "name": "stdout",
     "output_type": "stream",
     "text": [
      "{'patient': {'cluster': '1', 'age': '33', 'gender': '0', 'cholesterol': '239', 'systolic_bp': '143', 'diastolic_bp': '93', 'mean_arterial_pressure': '109.66666666666667', 'skin_thickness': '27', 'insulin': '164', 'bmi': '31', 'dpf': '1', 'age_class': '0', 'bmi_class': '3', 'map_class': '2', 'cholesterol_class': '1', 'glucose_class': '2', 'smoke': '0', 'active': '0', 'cvd_prediction': '1', 'diabetes_prediction': '0'}, 'health_statuses': {'bmi_status': 'Obese', 'map_status': 'Elevated', 'cholesterol_status': 'Borderline High', 'glucose_status': 'High', 'cvd_risk': 'High Risk', 'diabetes_risk': 'Low Risk'}}\n"
     ]
    },
    {
     "name": "stderr",
     "output_type": "stream",
     "text": [
      "127.0.0.1 - - [16/May/2022 22:59:41] \"POST /_dash-update-component HTTP/1.1\" 200 -\n",
      "127.0.0.1 - - [16/May/2022 22:59:41] \"POST /_dash-update-component HTTP/1.1\" 200 -\n"
     ]
    },
    {
     "name": "stdout",
     "output_type": "stream",
     "text": [
      "{'patient': {'cluster': '1', 'age': '33', 'gender': '0', 'cholesterol': '238', 'systolic_bp': '143', 'diastolic_bp': '93', 'mean_arterial_pressure': '109.66666666666667', 'skin_thickness': '27', 'insulin': '164', 'bmi': '31', 'dpf': '1', 'age_class': '0', 'bmi_class': '3', 'map_class': '2', 'cholesterol_class': '1', 'glucose_class': '2', 'smoke': '0', 'active': '0', 'cvd_prediction': '1', 'diabetes_prediction': '0'}, 'health_statuses': {'bmi_status': 'Obese', 'map_status': 'Elevated', 'cholesterol_status': 'Borderline High', 'glucose_status': 'High', 'cvd_risk': 'High Risk', 'diabetes_risk': 'Low Risk'}}\n"
     ]
    },
    {
     "name": "stderr",
     "output_type": "stream",
     "text": [
      "127.0.0.1 - - [16/May/2022 22:59:41] \"POST /_dash-update-component HTTP/1.1\" 200 -\n",
      "127.0.0.1 - - [16/May/2022 22:59:41] \"POST /_dash-update-component HTTP/1.1\" 200 -\n"
     ]
    },
    {
     "name": "stdout",
     "output_type": "stream",
     "text": [
      "{'patient': {'cluster': '1', 'age': '33', 'gender': '0', 'cholesterol': '237', 'systolic_bp': '143', 'diastolic_bp': '93', 'mean_arterial_pressure': '109.66666666666667', 'skin_thickness': '27', 'insulin': '164', 'bmi': '31', 'dpf': '1', 'age_class': '0', 'bmi_class': '3', 'map_class': '2', 'cholesterol_class': '1', 'glucose_class': '2', 'smoke': '0', 'active': '0', 'cvd_prediction': '1', 'diabetes_prediction': '0'}, 'health_statuses': {'bmi_status': 'Obese', 'map_status': 'Elevated', 'cholesterol_status': 'Borderline High', 'glucose_status': 'High', 'cvd_risk': 'High Risk', 'diabetes_risk': 'Low Risk'}}\n"
     ]
    },
    {
     "name": "stderr",
     "output_type": "stream",
     "text": [
      "127.0.0.1 - - [16/May/2022 22:59:42] \"POST /_dash-update-component HTTP/1.1\" 200 -\n",
      "127.0.0.1 - - [16/May/2022 22:59:42] \"POST /_dash-update-component HTTP/1.1\" 200 -\n"
     ]
    },
    {
     "name": "stdout",
     "output_type": "stream",
     "text": [
      "{'patient': {'cluster': '1', 'age': '33', 'gender': '0', 'cholesterol': '238', 'systolic_bp': '143', 'diastolic_bp': '93', 'mean_arterial_pressure': '109.66666666666667', 'skin_thickness': '27', 'insulin': '164', 'bmi': '31', 'dpf': '1', 'age_class': '0', 'bmi_class': '3', 'map_class': '2', 'cholesterol_class': '1', 'glucose_class': '2', 'smoke': '0', 'active': '0', 'cvd_prediction': '1', 'diabetes_prediction': '0'}, 'health_statuses': {'bmi_status': 'Obese', 'map_status': 'Elevated', 'cholesterol_status': 'Borderline High', 'glucose_status': 'High', 'cvd_risk': 'High Risk', 'diabetes_risk': 'Low Risk'}}\n"
     ]
    },
    {
     "name": "stderr",
     "output_type": "stream",
     "text": [
      "127.0.0.1 - - [16/May/2022 22:59:42] \"POST /_dash-update-component HTTP/1.1\" 200 -\n",
      "127.0.0.1 - - [16/May/2022 22:59:42] \"POST /_dash-update-component HTTP/1.1\" 200 -\n"
     ]
    },
    {
     "name": "stdout",
     "output_type": "stream",
     "text": [
      "{'patient': {'cluster': '1', 'age': '33', 'gender': '0', 'cholesterol': '239', 'systolic_bp': '143', 'diastolic_bp': '93', 'mean_arterial_pressure': '109.66666666666667', 'skin_thickness': '27', 'insulin': '164', 'bmi': '31', 'dpf': '1', 'age_class': '0', 'bmi_class': '3', 'map_class': '2', 'cholesterol_class': '1', 'glucose_class': '2', 'smoke': '0', 'active': '0', 'cvd_prediction': '1', 'diabetes_prediction': '0'}, 'health_statuses': {'bmi_status': 'Obese', 'map_status': 'Elevated', 'cholesterol_status': 'Borderline High', 'glucose_status': 'High', 'cvd_risk': 'High Risk', 'diabetes_risk': 'Low Risk'}}\n"
     ]
    },
    {
     "name": "stderr",
     "output_type": "stream",
     "text": [
      "127.0.0.1 - - [16/May/2022 22:59:46] \"POST /_dash-update-component HTTP/1.1\" 200 -\n",
      "127.0.0.1 - - [16/May/2022 22:59:46] \"POST /_dash-update-component HTTP/1.1\" 200 -\n",
      "127.0.0.1 - - [16/May/2022 22:59:46] \"POST /_dash-update-component HTTP/1.1\" 200 -\n"
     ]
    },
    {
     "name": "stdout",
     "output_type": "stream",
     "text": [
      "{'patient': {'cluster': '1', 'age': '33', 'gender': '0', 'cholesterol': '239', 'systolic_bp': '143', 'diastolic_bp': '93', 'mean_arterial_pressure': '109.66666666666667', 'skin_thickness': '27', 'insulin': '164', 'bmi': '31', 'dpf': '1', 'age_class': '0', 'bmi_class': '3', 'map_class': '2', 'cholesterol_class': '1', 'glucose_class': '0', 'smoke': '0', 'active': '0', 'cvd_prediction': '1', 'diabetes_prediction': '0'}, 'health_statuses': {'bmi_status': 'Obese', 'map_status': 'Elevated', 'cholesterol_status': 'Borderline High', 'glucose_status': 'Normal', 'cvd_risk': 'High Risk', 'diabetes_risk': 'Low Risk'}}\n"
     ]
    },
    {
     "name": "stderr",
     "output_type": "stream",
     "text": [
      "127.0.0.1 - - [16/May/2022 22:59:46] \"POST /_dash-update-component HTTP/1.1\" 200 -\n",
      "127.0.0.1 - - [16/May/2022 22:59:46] \"POST /_dash-update-component HTTP/1.1\" 200 -\n",
      "127.0.0.1 - - [16/May/2022 22:59:46] \"POST /_dash-update-component HTTP/1.1\" 200 -\n"
     ]
    },
    {
     "name": "stdout",
     "output_type": "stream",
     "text": [
      "{'patient': {'cluster': '1', 'age': '33', 'gender': '0', 'cholesterol': '239', 'systolic_bp': '143', 'diastolic_bp': '93', 'mean_arterial_pressure': '109.66666666666667', 'skin_thickness': '27', 'insulin': '164', 'bmi': '31', 'dpf': '1', 'age_class': '0', 'bmi_class': '3', 'map_class': '2', 'cholesterol_class': '1', 'glucose_class': '0', 'smoke': '0', 'active': '0', 'cvd_prediction': '1', 'diabetes_prediction': '0'}, 'health_statuses': {'bmi_status': 'Obese', 'map_status': 'Elevated', 'cholesterol_status': 'Borderline High', 'glucose_status': 'Normal', 'cvd_risk': 'High Risk', 'diabetes_risk': 'Low Risk'}}\n",
      "{'patient': {'cluster': '1', 'age': '33', 'gender': '0', 'cholesterol': '239', 'systolic_bp': '143', 'diastolic_bp': '93', 'mean_arterial_pressure': '109.66666666666667', 'skin_thickness': '27', 'insulin': '164', 'bmi': '31', 'dpf': '1', 'age_class': '0', 'bmi_class': '3', 'map_class': '2', 'cholesterol_class': '1', 'glucose_class': '2', 'smoke': '0', 'active': '0', 'cvd_prediction': '1', 'diabetes_prediction': '1'}, 'health_statuses': {'bmi_status': 'Obese', 'map_status': 'Elevated', 'cholesterol_status': 'Borderline High', 'glucose_status': 'High', 'cvd_risk': 'High Risk', 'diabetes_risk': 'High Risk'}}\n"
     ]
    },
    {
     "name": "stderr",
     "output_type": "stream",
     "text": [
      "127.0.0.1 - - [16/May/2022 22:59:49] \"POST /_dash-update-component HTTP/1.1\" 200 -\n",
      "127.0.0.1 - - [16/May/2022 22:59:49] \"POST /_dash-update-component HTTP/1.1\" 200 -\n",
      "127.0.0.1 - - [16/May/2022 22:59:49] \"POST /_dash-update-component HTTP/1.1\" 200 -\n",
      "127.0.0.1 - - [16/May/2022 22:59:49] \"POST /_dash-update-component HTTP/1.1\" 200 -\n",
      "127.0.0.1 - - [16/May/2022 22:59:49] \"POST /_dash-update-component HTTP/1.1\" 200 -\n"
     ]
    },
    {
     "name": "stdout",
     "output_type": "stream",
     "text": [
      "{'patient': {'cluster': '1', 'age': '33', 'gender': '0', 'cholesterol': '239', 'systolic_bp': '143', 'diastolic_bp': '93', 'mean_arterial_pressure': '109.66666666666667', 'skin_thickness': '27', 'insulin': '164', 'bmi': '31', 'dpf': '1', 'age_class': '0', 'bmi_class': '3', 'map_class': '2', 'cholesterol_class': '1', 'glucose_class': '0', 'smoke': '0', 'active': '0', 'cvd_prediction': '1', 'diabetes_prediction': '0'}, 'health_statuses': {'bmi_status': 'Obese', 'map_status': 'Elevated', 'cholesterol_status': 'Borderline High', 'glucose_status': 'Normal', 'cvd_risk': 'High Risk', 'diabetes_risk': 'Low Risk'}}\n",
      "{'patient': {'cluster': '1', 'age': '33', 'gender': '0', 'cholesterol': '239', 'systolic_bp': '143', 'diastolic_bp': '93', 'mean_arterial_pressure': '109.66666666666667', 'skin_thickness': '27', 'insulin': '164', 'bmi': '31', 'dpf': '1', 'age_class': '0', 'bmi_class': '3', 'map_class': '2', 'cholesterol_class': '1', 'glucose_class': '0', 'smoke': '0', 'active': '0', 'cvd_prediction': '1', 'diabetes_prediction': '0'}, 'health_statuses': {'bmi_status': 'Obese', 'map_status': 'Elevated', 'cholesterol_status': 'Borderline High', 'glucose_status': 'Normal', 'cvd_risk': 'High Risk', 'diabetes_risk': 'Low Risk'}}\n"
     ]
    },
    {
     "name": "stderr",
     "output_type": "stream",
     "text": [
      "127.0.0.1 - - [16/May/2022 22:59:49] \"POST /_dash-update-component HTTP/1.1\" 200 -\n"
     ]
    },
    {
     "name": "stdout",
     "output_type": "stream",
     "text": [
      "{'patient': {'cluster': '1', 'age': '33', 'gender': '0', 'cholesterol': '239', 'systolic_bp': '143', 'diastolic_bp': '93', 'mean_arterial_pressure': '109.66666666666667', 'skin_thickness': '27', 'insulin': '164', 'bmi': '31', 'dpf': '1', 'age_class': '0', 'bmi_class': '3', 'map_class': '2', 'cholesterol_class': '1', 'glucose_class': '2', 'smoke': '0', 'active': '0', 'cvd_prediction': '1', 'diabetes_prediction': '1'}, 'health_statuses': {'bmi_status': 'Obese', 'map_status': 'Elevated', 'cholesterol_status': 'Borderline High', 'glucose_status': 'High', 'cvd_risk': 'High Risk', 'diabetes_risk': 'High Risk'}}\n"
     ]
    },
    {
     "name": "stderr",
     "output_type": "stream",
     "text": [
      "127.0.0.1 - - [16/May/2022 22:59:51] \"POST /_dash-update-component HTTP/1.1\" 200 -\n",
      "127.0.0.1 - - [16/May/2022 22:59:51] \"POST /_dash-update-component HTTP/1.1\" 200 -\n"
     ]
    },
    {
     "name": "stdout",
     "output_type": "stream",
     "text": [
      "{'patient': {'cluster': '1', 'age': '33', 'gender': '0', 'cholesterol': '239', 'systolic_bp': '143', 'diastolic_bp': '93', 'mean_arterial_pressure': '109.66666666666667', 'skin_thickness': '27', 'insulin': '164', 'bmi': '31', 'dpf': '1', 'age_class': '0', 'bmi_class': '3', 'map_class': '2', 'cholesterol_class': '1', 'glucose_class': '0', 'smoke': '0', 'active': '0', 'cvd_prediction': '1', 'diabetes_prediction': '0'}, 'health_statuses': {'bmi_status': 'Obese', 'map_status': 'Elevated', 'cholesterol_status': 'Borderline High', 'glucose_status': 'Normal', 'cvd_risk': 'High Risk', 'diabetes_risk': 'Low Risk'}}\n"
     ]
    },
    {
     "name": "stderr",
     "output_type": "stream",
     "text": [
      "127.0.0.1 - - [16/May/2022 22:59:51] \"POST /_dash-update-component HTTP/1.1\" 200 -\n",
      "127.0.0.1 - - [16/May/2022 22:59:51] \"POST /_dash-update-component HTTP/1.1\" 200 -\n",
      "127.0.0.1 - - [16/May/2022 22:59:51] \"POST /_dash-update-component HTTP/1.1\" 200 -\n"
     ]
    },
    {
     "name": "stdout",
     "output_type": "stream",
     "text": [
      "{'patient': {'cluster': '1', 'age': '33', 'gender': '0', 'cholesterol': '239', 'systolic_bp': '143', 'diastolic_bp': '93', 'mean_arterial_pressure': '109.66666666666667', 'skin_thickness': '27', 'insulin': '164', 'bmi': '31', 'dpf': '1', 'age_class': '0', 'bmi_class': '3', 'map_class': '2', 'cholesterol_class': '1', 'glucose_class': '0', 'smoke': '0', 'active': '0', 'cvd_prediction': '1', 'diabetes_prediction': '0'}, 'health_statuses': {'bmi_status': 'Obese', 'map_status': 'Elevated', 'cholesterol_status': 'Borderline High', 'glucose_status': 'Normal', 'cvd_risk': 'High Risk', 'diabetes_risk': 'Low Risk'}}\n"
     ]
    },
    {
     "name": "stderr",
     "output_type": "stream",
     "text": [
      "127.0.0.1 - - [16/May/2022 22:59:51] \"POST /_dash-update-component HTTP/1.1\" 200 -\n",
      "127.0.0.1 - - [16/May/2022 22:59:52] \"POST /_dash-update-component HTTP/1.1\" 200 -\n",
      "127.0.0.1 - - [16/May/2022 22:59:52] \"POST /_dash-update-component HTTP/1.1\" 200 -\n"
     ]
    },
    {
     "name": "stdout",
     "output_type": "stream",
     "text": [
      "{'patient': {'cluster': '1', 'age': '33', 'gender': '0', 'cholesterol': '239', 'systolic_bp': '143', 'diastolic_bp': '93', 'mean_arterial_pressure': '109.66666666666667', 'skin_thickness': '27', 'insulin': '164', 'bmi': '31', 'dpf': '1', 'age_class': '0', 'bmi_class': '3', 'map_class': '2', 'cholesterol_class': '1', 'glucose_class': '0', 'smoke': '0', 'active': '0', 'cvd_prediction': '1', 'diabetes_prediction': '0'}, 'health_statuses': {'bmi_status': 'Obese', 'map_status': 'Elevated', 'cholesterol_status': 'Borderline High', 'glucose_status': 'Normal', 'cvd_risk': 'High Risk', 'diabetes_risk': 'Low Risk'}}\n",
      "{'patient': {'cluster': '1', 'age': '33', 'gender': '0', 'cholesterol': '239', 'systolic_bp': '143', 'diastolic_bp': '93', 'mean_arterial_pressure': '109.66666666666667', 'skin_thickness': '27', 'insulin': '164', 'bmi': '31', 'dpf': '1', 'age_class': '0', 'bmi_class': '3', 'map_class': '2', 'cholesterol_class': '1', 'glucose_class': '2', 'smoke': '0', 'active': '0', 'cvd_prediction': '1', 'diabetes_prediction': '0'}, 'health_statuses': {'bmi_status': 'Obese', 'map_status': 'Elevated', 'cholesterol_status': 'Borderline High', 'glucose_status': 'High', 'cvd_risk': 'High Risk', 'diabetes_risk': 'Low Risk'}}\n"
     ]
    },
    {
     "name": "stderr",
     "output_type": "stream",
     "text": [
      "127.0.0.1 - - [16/May/2022 22:59:53] \"POST /_dash-update-component HTTP/1.1\" 200 -\n",
      "127.0.0.1 - - [16/May/2022 22:59:53] \"POST /_dash-update-component HTTP/1.1\" 200 -\n",
      "127.0.0.1 - - [16/May/2022 22:59:53] \"POST /_dash-update-component HTTP/1.1\" 200 -\n"
     ]
    },
    {
     "name": "stdout",
     "output_type": "stream",
     "text": [
      "{'patient': {'cluster': '1', 'age': '33', 'gender': '0', 'cholesterol': '239', 'systolic_bp': '143', 'diastolic_bp': '93', 'mean_arterial_pressure': '109.66666666666667', 'skin_thickness': '27', 'insulin': '164', 'bmi': '31', 'dpf': '1', 'age_class': '0', 'bmi_class': '3', 'map_class': '2', 'cholesterol_class': '1', 'glucose_class': '0', 'smoke': '0', 'active': '0', 'cvd_prediction': '1', 'diabetes_prediction': '0'}, 'health_statuses': {'bmi_status': 'Obese', 'map_status': 'Elevated', 'cholesterol_status': 'Borderline High', 'glucose_status': 'Normal', 'cvd_risk': 'High Risk', 'diabetes_risk': 'Low Risk'}}\n"
     ]
    },
    {
     "name": "stderr",
     "output_type": "stream",
     "text": [
      "127.0.0.1 - - [16/May/2022 22:59:53] \"POST /_dash-update-component HTTP/1.1\" 200 -\n",
      "127.0.0.1 - - [16/May/2022 22:59:53] \"POST /_dash-update-component HTTP/1.1\" 200 -\n",
      "127.0.0.1 - - [16/May/2022 22:59:53] \"POST /_dash-update-component HTTP/1.1\" 200 -\n",
      "127.0.0.1 - - [16/May/2022 22:59:53] \"POST /_dash-update-component HTTP/1.1\" 200 -\n"
     ]
    },
    {
     "name": "stdout",
     "output_type": "stream",
     "text": [
      "{'patient': {'cluster': '1', 'age': '33', 'gender': '0', 'cholesterol': '239', 'systolic_bp': '143', 'diastolic_bp': '93', 'mean_arterial_pressure': '109.66666666666667', 'skin_thickness': '27', 'insulin': '164', 'bmi': '31', 'dpf': '1', 'age_class': '0', 'bmi_class': '3', 'map_class': '2', 'cholesterol_class': '1', 'glucose_class': '0', 'smoke': '0', 'active': '0', 'cvd_prediction': '1', 'diabetes_prediction': '0'}, 'health_statuses': {'bmi_status': 'Obese', 'map_status': 'Elevated', 'cholesterol_status': 'Borderline High', 'glucose_status': 'Normal', 'cvd_risk': 'High Risk', 'diabetes_risk': 'Low Risk'}}\n",
      "{'patient': {'cluster': '1', 'age': '33', 'gender': '0', 'cholesterol': '239', 'systolic_bp': '143', 'diastolic_bp': '93', 'mean_arterial_pressure': '109.66666666666667', 'skin_thickness': '27', 'insulin': '164', 'bmi': '31', 'dpf': '1', 'age_class': '0', 'bmi_class': '3', 'map_class': '2', 'cholesterol_class': '1', 'glucose_class': '0', 'smoke': '0', 'active': '0', 'cvd_prediction': '1', 'diabetes_prediction': '0'}, 'health_statuses': {'bmi_status': 'Obese', 'map_status': 'Elevated', 'cholesterol_status': 'Borderline High', 'glucose_status': 'Normal', 'cvd_risk': 'High Risk', 'diabetes_risk': 'Low Risk'}}\n"
     ]
    },
    {
     "name": "stderr",
     "output_type": "stream",
     "text": [
      "127.0.0.1 - - [16/May/2022 22:59:54] \"POST /_dash-update-component HTTP/1.1\" 200 -\n"
     ]
    },
    {
     "name": "stdout",
     "output_type": "stream",
     "text": [
      "{'patient': {'cluster': '1', 'age': '33', 'gender': '0', 'cholesterol': '239', 'systolic_bp': '143', 'diastolic_bp': '93', 'mean_arterial_pressure': '109.66666666666667', 'skin_thickness': '27', 'insulin': '164', 'bmi': '31', 'dpf': '1', 'age_class': '0', 'bmi_class': '3', 'map_class': '2', 'cholesterol_class': '1', 'glucose_class': '1', 'smoke': '0', 'active': '0', 'cvd_prediction': '1', 'diabetes_prediction': '0'}, 'health_statuses': {'bmi_status': 'Obese', 'map_status': 'Elevated', 'cholesterol_status': 'Borderline High', 'glucose_status': 'Borderline High', 'cvd_risk': 'High Risk', 'diabetes_risk': 'Low Risk'}}\n"
     ]
    },
    {
     "name": "stderr",
     "output_type": "stream",
     "text": [
      "127.0.0.1 - - [16/May/2022 22:59:55] \"POST /_dash-update-component HTTP/1.1\" 200 -\n",
      "127.0.0.1 - - [16/May/2022 22:59:55] \"POST /_dash-update-component HTTP/1.1\" 200 -\n",
      "127.0.0.1 - - [16/May/2022 22:59:55] \"POST /_dash-update-component HTTP/1.1\" 200 -\n"
     ]
    },
    {
     "name": "stdout",
     "output_type": "stream",
     "text": [
      "{'patient': {'cluster': '1', 'age': '33', 'gender': '0', 'cholesterol': '239', 'systolic_bp': '143', 'diastolic_bp': '93', 'mean_arterial_pressure': '109.66666666666667', 'skin_thickness': '27', 'insulin': '164', 'bmi': '31', 'dpf': '1', 'age_class': '0', 'bmi_class': '3', 'map_class': '2', 'cholesterol_class': '1', 'glucose_class': '0', 'smoke': '0', 'active': '0', 'cvd_prediction': '1', 'diabetes_prediction': '0'}, 'health_statuses': {'bmi_status': 'Obese', 'map_status': 'Elevated', 'cholesterol_status': 'Borderline High', 'glucose_status': 'Normal', 'cvd_risk': 'High Risk', 'diabetes_risk': 'Low Risk'}}\n",
      "{'patient': {'cluster': '1', 'age': '33', 'gender': '0', 'cholesterol': '239', 'systolic_bp': '143', 'diastolic_bp': '93', 'mean_arterial_pressure': '109.66666666666667', 'skin_thickness': '27', 'insulin': '164', 'bmi': '31', 'dpf': '1', 'age_class': '0', 'bmi_class': '3', 'map_class': '2', 'cholesterol_class': '1', 'glucose_class': '0', 'smoke': '0', 'active': '0', 'cvd_prediction': '1', 'diabetes_prediction': '0'}, 'health_statuses': {'bmi_status': 'Obese', 'map_status': 'Elevated', 'cholesterol_status': 'Borderline High', 'glucose_status': 'Normal', 'cvd_risk': 'High Risk', 'diabetes_risk': 'Low Risk'}}\n"
     ]
    },
    {
     "name": "stderr",
     "output_type": "stream",
     "text": [
      "127.0.0.1 - - [16/May/2022 22:59:55] \"POST /_dash-update-component HTTP/1.1\" 200 -\n",
      "127.0.0.1 - - [16/May/2022 22:59:55] \"POST /_dash-update-component HTTP/1.1\" 200 -\n",
      "127.0.0.1 - - [16/May/2022 22:59:55] \"POST /_dash-update-component HTTP/1.1\" 200 -\n",
      "127.0.0.1 - - [16/May/2022 22:59:56] \"POST /_dash-update-component HTTP/1.1\" 200 -\n",
      "127.0.0.1 - - [16/May/2022 22:59:56] \"POST /_dash-update-component HTTP/1.1\" 200 -\n",
      "127.0.0.1 - - [16/May/2022 22:59:56] \"POST /_dash-update-component HTTP/1.1\" 200 -\n"
     ]
    },
    {
     "name": "stdout",
     "output_type": "stream",
     "text": [
      "{'patient': {'cluster': '1', 'age': '33', 'gender': '0', 'cholesterol': '239', 'systolic_bp': '143', 'diastolic_bp': '93', 'mean_arterial_pressure': '109.66666666666667', 'skin_thickness': '27', 'insulin': '164', 'bmi': '31', 'dpf': '1', 'age_class': '0', 'bmi_class': '3', 'map_class': '2', 'cholesterol_class': '1', 'glucose_class': '0', 'smoke': '0', 'active': '0', 'cvd_prediction': '1', 'diabetes_prediction': '0'}, 'health_statuses': {'bmi_status': 'Obese', 'map_status': 'Elevated', 'cholesterol_status': 'Borderline High', 'glucose_status': 'Normal', 'cvd_risk': 'High Risk', 'diabetes_risk': 'Low Risk'}}\n"
     ]
    },
    {
     "name": "stderr",
     "output_type": "stream",
     "text": [
      "127.0.0.1 - - [16/May/2022 22:59:57] \"POST /_dash-update-component HTTP/1.1\" 200 -\n"
     ]
    },
    {
     "name": "stdout",
     "output_type": "stream",
     "text": [
      "{'patient': {'cluster': '1', 'age': '33', 'gender': '0', 'cholesterol': '239', 'systolic_bp': '143', 'diastolic_bp': '93', 'mean_arterial_pressure': '109.66666666666667', 'skin_thickness': '27', 'insulin': '164', 'bmi': '31', 'dpf': '1', 'age_class': '0', 'bmi_class': '3', 'map_class': '2', 'cholesterol_class': '1', 'glucose_class': '0', 'smoke': '0', 'active': '0', 'cvd_prediction': '1', 'diabetes_prediction': '0'}, 'health_statuses': {'bmi_status': 'Obese', 'map_status': 'Elevated', 'cholesterol_status': 'Borderline High', 'glucose_status': 'Normal', 'cvd_risk': 'High Risk', 'diabetes_risk': 'Low Risk'}}\n"
     ]
    },
    {
     "name": "stderr",
     "output_type": "stream",
     "text": [
      "127.0.0.1 - - [16/May/2022 22:59:59] \"POST /_dash-update-component HTTP/1.1\" 200 -\n",
      "127.0.0.1 - - [16/May/2022 22:59:59] \"POST /_dash-update-component HTTP/1.1\" 200 -\n"
     ]
    },
    {
     "name": "stdout",
     "output_type": "stream",
     "text": [
      "{'patient': {'cluster': '1', 'age': '33', 'gender': '0', 'cholesterol': '239', 'systolic_bp': '143', 'diastolic_bp': '93', 'mean_arterial_pressure': '109.66666666666667', 'skin_thickness': '27', 'insulin': '164', 'bmi': '31', 'dpf': '1', 'age_class': '0', 'bmi_class': '3', 'map_class': '2', 'cholesterol_class': '1', 'glucose_class': '0', 'smoke': '0', 'active': '0', 'cvd_prediction': '1', 'diabetes_prediction': '0'}, 'health_statuses': {'bmi_status': 'Obese', 'map_status': 'Elevated', 'cholesterol_status': 'Borderline High', 'glucose_status': 'Normal', 'cvd_risk': 'High Risk', 'diabetes_risk': 'Low Risk'}}\n"
     ]
    },
    {
     "name": "stderr",
     "output_type": "stream",
     "text": [
      "127.0.0.1 - - [16/May/2022 22:59:59] \"POST /_dash-update-component HTTP/1.1\" 200 -\n",
      "127.0.0.1 - - [16/May/2022 22:59:59] \"POST /_dash-update-component HTTP/1.1\" 200 -\n"
     ]
    },
    {
     "name": "stdout",
     "output_type": "stream",
     "text": [
      "{'patient': {'cluster': '1', 'age': '33', 'gender': '0', 'cholesterol': '239', 'systolic_bp': '143', 'diastolic_bp': '93', 'mean_arterial_pressure': '109.66666666666667', 'skin_thickness': '27', 'insulin': '164', 'bmi': '31', 'dpf': '1', 'age_class': '0', 'bmi_class': '3', 'map_class': '2', 'cholesterol_class': '1', 'glucose_class': '0', 'smoke': '0', 'active': '0', 'cvd_prediction': '1', 'diabetes_prediction': '0'}, 'health_statuses': {'bmi_status': 'Obese', 'map_status': 'Elevated', 'cholesterol_status': 'Borderline High', 'glucose_status': 'Normal', 'cvd_risk': 'High Risk', 'diabetes_risk': 'Low Risk'}}\n"
     ]
    },
    {
     "name": "stderr",
     "output_type": "stream",
     "text": [
      "127.0.0.1 - - [16/May/2022 23:00:00] \"POST /_dash-update-component HTTP/1.1\" 200 -\n",
      "127.0.0.1 - - [16/May/2022 23:00:00] \"POST /_dash-update-component HTTP/1.1\" 200 -\n",
      "127.0.0.1 - - [16/May/2022 23:00:00] \"POST /_dash-update-component HTTP/1.1\" 200 -\n",
      "127.0.0.1 - - [16/May/2022 23:00:00] \"POST /_dash-update-component HTTP/1.1\" 200 -\n"
     ]
    },
    {
     "name": "stdout",
     "output_type": "stream",
     "text": [
      "{'patient': {'cluster': '1', 'age': '33', 'gender': '0', 'cholesterol': '239', 'systolic_bp': '143', 'diastolic_bp': '93', 'mean_arterial_pressure': '109.66666666666667', 'skin_thickness': '27', 'insulin': '164', 'bmi': '31', 'dpf': '1', 'age_class': '0', 'bmi_class': '3', 'map_class': '2', 'cholesterol_class': '1', 'glucose_class': '0', 'smoke': '0', 'active': '0', 'cvd_prediction': '1', 'diabetes_prediction': '0'}, 'health_statuses': {'bmi_status': 'Obese', 'map_status': 'Elevated', 'cholesterol_status': 'Borderline High', 'glucose_status': 'Normal', 'cvd_risk': 'High Risk', 'diabetes_risk': 'Low Risk'}}\n",
      "{'patient': {'cluster': '1', 'age': '33', 'gender': '0', 'cholesterol': '239', 'systolic_bp': '143', 'diastolic_bp': '93', 'mean_arterial_pressure': '109.66666666666667', 'skin_thickness': '27', 'insulin': '164', 'bmi': '31', 'dpf': '1', 'age_class': '0', 'bmi_class': '3', 'map_class': '2', 'cholesterol_class': '1', 'glucose_class': '0', 'smoke': '0', 'active': '0', 'cvd_prediction': '1', 'diabetes_prediction': '0'}, 'health_statuses': {'bmi_status': 'Obese', 'map_status': 'Elevated', 'cholesterol_status': 'Borderline High', 'glucose_status': 'Normal', 'cvd_risk': 'High Risk', 'diabetes_risk': 'Low Risk'}}\n"
     ]
    },
    {
     "name": "stderr",
     "output_type": "stream",
     "text": [
      "127.0.0.1 - - [16/May/2022 23:00:00] \"POST /_dash-update-component HTTP/1.1\" 200 -\n",
      "127.0.0.1 - - [16/May/2022 23:00:00] \"POST /_dash-update-component HTTP/1.1\" 200 -\n",
      "127.0.0.1 - - [16/May/2022 23:00:00] \"POST /_dash-update-component HTTP/1.1\" 200 -\n",
      "127.0.0.1 - - [16/May/2022 23:00:00] \"POST /_dash-update-component HTTP/1.1\" 200 -\n"
     ]
    },
    {
     "name": "stdout",
     "output_type": "stream",
     "text": [
      "{'patient': {'cluster': '1', 'age': '33', 'gender': '0', 'cholesterol': '239', 'systolic_bp': '143', 'diastolic_bp': '93', 'mean_arterial_pressure': '109.66666666666667', 'skin_thickness': '27', 'insulin': '164', 'bmi': '31', 'dpf': '1', 'age_class': '0', 'bmi_class': '3', 'map_class': '2', 'cholesterol_class': '1', 'glucose_class': '0', 'smoke': '0', 'active': '0', 'cvd_prediction': '1', 'diabetes_prediction': '0'}, 'health_statuses': {'bmi_status': 'Obese', 'map_status': 'Elevated', 'cholesterol_status': 'Borderline High', 'glucose_status': 'Normal', 'cvd_risk': 'High Risk', 'diabetes_risk': 'Low Risk'}}\n",
      "{'patient': {'cluster': '1', 'age': '33', 'gender': '0', 'cholesterol': '239', 'systolic_bp': '143', 'diastolic_bp': '93', 'mean_arterial_pressure': '109.66666666666667', 'skin_thickness': '27', 'insulin': '164', 'bmi': '31', 'dpf': '1', 'age_class': '0', 'bmi_class': '3', 'map_class': '2', 'cholesterol_class': '1', 'glucose_class': '0', 'smoke': '0', 'active': '0', 'cvd_prediction': '1', 'diabetes_prediction': '0'}, 'health_statuses': {'bmi_status': 'Obese', 'map_status': 'Elevated', 'cholesterol_status': 'Borderline High', 'glucose_status': 'Normal', 'cvd_risk': 'High Risk', 'diabetes_risk': 'Low Risk'}}\n"
     ]
    },
    {
     "name": "stderr",
     "output_type": "stream",
     "text": [
      "127.0.0.1 - - [16/May/2022 23:00:00] \"POST /_dash-update-component HTTP/1.1\" 200 -\n",
      "127.0.0.1 - - [16/May/2022 23:00:01] \"POST /_dash-update-component HTTP/1.1\" 200 -\n",
      "127.0.0.1 - - [16/May/2022 23:00:01] \"POST /_dash-update-component HTTP/1.1\" 200 -\n",
      "127.0.0.1 - - [16/May/2022 23:00:01] \"POST /_dash-update-component HTTP/1.1\" 200 -\n"
     ]
    },
    {
     "name": "stdout",
     "output_type": "stream",
     "text": [
      "{'patient': {'cluster': '1', 'age': '33', 'gender': '0', 'cholesterol': '239', 'systolic_bp': '143', 'diastolic_bp': '93', 'mean_arterial_pressure': '109.66666666666667', 'skin_thickness': '27', 'insulin': '164', 'bmi': '31', 'dpf': '1', 'age_class': '0', 'bmi_class': '3', 'map_class': '2', 'cholesterol_class': '1', 'glucose_class': '0', 'smoke': '0', 'active': '0', 'cvd_prediction': '1', 'diabetes_prediction': '0'}, 'health_statuses': {'bmi_status': 'Obese', 'map_status': 'Elevated', 'cholesterol_status': 'Borderline High', 'glucose_status': 'Normal', 'cvd_risk': 'High Risk', 'diabetes_risk': 'Low Risk'}}\n",
      "{'patient': {'cluster': '1', 'age': '33', 'gender': '0', 'cholesterol': '239', 'systolic_bp': '143', 'diastolic_bp': '93', 'mean_arterial_pressure': '109.66666666666667', 'skin_thickness': '27', 'insulin': '164', 'bmi': '31', 'dpf': '1', 'age_class': '0', 'bmi_class': '3', 'map_class': '2', 'cholesterol_class': '1', 'glucose_class': '0', 'smoke': '0', 'active': '0', 'cvd_prediction': '1', 'diabetes_prediction': '0'}, 'health_statuses': {'bmi_status': 'Obese', 'map_status': 'Elevated', 'cholesterol_status': 'Borderline High', 'glucose_status': 'Normal', 'cvd_risk': 'High Risk', 'diabetes_risk': 'Low Risk'}}\n"
     ]
    },
    {
     "name": "stderr",
     "output_type": "stream",
     "text": [
      "127.0.0.1 - - [16/May/2022 23:00:01] \"POST /_dash-update-component HTTP/1.1\" 200 -\n",
      "127.0.0.1 - - [16/May/2022 23:00:01] \"POST /_dash-update-component HTTP/1.1\" 200 -\n",
      "127.0.0.1 - - [16/May/2022 23:00:01] \"POST /_dash-update-component HTTP/1.1\" 200 -\n",
      "127.0.0.1 - - [16/May/2022 23:00:01] \"POST /_dash-update-component HTTP/1.1\" 200 -\n"
     ]
    },
    {
     "name": "stdout",
     "output_type": "stream",
     "text": [
      "{'patient': {'cluster': '1', 'age': '33', 'gender': '0', 'cholesterol': '239', 'systolic_bp': '143', 'diastolic_bp': '93', 'mean_arterial_pressure': '109.66666666666667', 'skin_thickness': '27', 'insulin': '164', 'bmi': '31', 'dpf': '1', 'age_class': '0', 'bmi_class': '3', 'map_class': '2', 'cholesterol_class': '1', 'glucose_class': '0', 'smoke': '0', 'active': '0', 'cvd_prediction': '1', 'diabetes_prediction': '0'}, 'health_statuses': {'bmi_status': 'Obese', 'map_status': 'Elevated', 'cholesterol_status': 'Borderline High', 'glucose_status': 'Normal', 'cvd_risk': 'High Risk', 'diabetes_risk': 'Low Risk'}}\n"
     ]
    },
    {
     "name": "stderr",
     "output_type": "stream",
     "text": [
      "127.0.0.1 - - [16/May/2022 23:00:02] \"POST /_dash-update-component HTTP/1.1\" 200 -\n",
      "127.0.0.1 - - [16/May/2022 23:00:02] \"POST /_dash-update-component HTTP/1.1\" 200 -\n",
      "127.0.0.1 - - [16/May/2022 23:00:02] \"POST /_dash-update-component HTTP/1.1\" 200 -\n",
      "127.0.0.1 - - [16/May/2022 23:00:02] \"POST /_dash-update-component HTTP/1.1\" 200 -\n"
     ]
    },
    {
     "name": "stdout",
     "output_type": "stream",
     "text": [
      "{'patient': {'cluster': '1', 'age': '33', 'gender': '0', 'cholesterol': '239', 'systolic_bp': '143', 'diastolic_bp': '93', 'mean_arterial_pressure': '109.66666666666667', 'skin_thickness': '27', 'insulin': '164', 'bmi': '31', 'dpf': '1', 'age_class': '0', 'bmi_class': '3', 'map_class': '2', 'cholesterol_class': '1', 'glucose_class': '0', 'smoke': '0', 'active': '0', 'cvd_prediction': '1', 'diabetes_prediction': '0'}, 'health_statuses': {'bmi_status': 'Obese', 'map_status': 'Elevated', 'cholesterol_status': 'Borderline High', 'glucose_status': 'Normal', 'cvd_risk': 'High Risk', 'diabetes_risk': 'Low Risk'}}\n",
      "{'patient': {'cluster': '1', 'age': '33', 'gender': '0', 'cholesterol': '239', 'systolic_bp': '143', 'diastolic_bp': '93', 'mean_arterial_pressure': '109.66666666666667', 'skin_thickness': '27', 'insulin': '164', 'bmi': '31', 'dpf': '1', 'age_class': '0', 'bmi_class': '3', 'map_class': '2', 'cholesterol_class': '1', 'glucose_class': '0', 'smoke': '0', 'active': '0', 'cvd_prediction': '1', 'diabetes_prediction': '0'}, 'health_statuses': {'bmi_status': 'Obese', 'map_status': 'Elevated', 'cholesterol_status': 'Borderline High', 'glucose_status': 'Normal', 'cvd_risk': 'High Risk', 'diabetes_risk': 'Low Risk'}}\n"
     ]
    },
    {
     "name": "stderr",
     "output_type": "stream",
     "text": [
      "127.0.0.1 - - [16/May/2022 23:00:02] \"POST /_dash-update-component HTTP/1.1\" 200 -\n",
      "127.0.0.1 - - [16/May/2022 23:00:02] \"POST /_dash-update-component HTTP/1.1\" 200 -\n"
     ]
    },
    {
     "name": "stdout",
     "output_type": "stream",
     "text": [
      "{'patient': {'cluster': '1', 'age': '33', 'gender': '0', 'cholesterol': '239', 'systolic_bp': '143', 'diastolic_bp': '93', 'mean_arterial_pressure': '109.66666666666667', 'skin_thickness': '27', 'insulin': '164', 'bmi': '31', 'dpf': '1', 'age_class': '0', 'bmi_class': '3', 'map_class': '2', 'cholesterol_class': '1', 'glucose_class': '2', 'smoke': '0', 'active': '0', 'cvd_prediction': '1', 'diabetes_prediction': '0'}, 'health_statuses': {'bmi_status': 'Obese', 'map_status': 'Elevated', 'cholesterol_status': 'Borderline High', 'glucose_status': 'High', 'cvd_risk': 'High Risk', 'diabetes_risk': 'Low Risk'}}\n"
     ]
    },
    {
     "name": "stderr",
     "output_type": "stream",
     "text": [
      "127.0.0.1 - - [16/May/2022 23:00:03] \"POST /_dash-update-component HTTP/1.1\" 200 -\n",
      "127.0.0.1 - - [16/May/2022 23:00:03] \"POST /_dash-update-component HTTP/1.1\" 200 -\n"
     ]
    },
    {
     "name": "stdout",
     "output_type": "stream",
     "text": [
      "{'patient': {'cluster': '1', 'age': '33', 'gender': '0', 'cholesterol': '239', 'systolic_bp': '143', 'diastolic_bp': '93', 'mean_arterial_pressure': '109.66666666666667', 'skin_thickness': '27', 'insulin': '164', 'bmi': '31', 'dpf': '1', 'age_class': '0', 'bmi_class': '3', 'map_class': '2', 'cholesterol_class': '1', 'glucose_class': '0', 'smoke': '0', 'active': '0', 'cvd_prediction': '1', 'diabetes_prediction': '0'}, 'health_statuses': {'bmi_status': 'Obese', 'map_status': 'Elevated', 'cholesterol_status': 'Borderline High', 'glucose_status': 'Normal', 'cvd_risk': 'High Risk', 'diabetes_risk': 'Low Risk'}}\n"
     ]
    },
    {
     "name": "stderr",
     "output_type": "stream",
     "text": [
      "127.0.0.1 - - [16/May/2022 23:00:04] \"POST /_dash-update-component HTTP/1.1\" 200 -\n",
      "127.0.0.1 - - [16/May/2022 23:00:04] \"POST /_dash-update-component HTTP/1.1\" 200 -\n"
     ]
    },
    {
     "name": "stdout",
     "output_type": "stream",
     "text": [
      "{'patient': {'cluster': '1', 'age': '33', 'gender': '0', 'cholesterol': '239', 'systolic_bp': '143', 'diastolic_bp': '93', 'mean_arterial_pressure': '109.66666666666667', 'skin_thickness': '27', 'insulin': '164', 'bmi': '31', 'dpf': '1', 'age_class': '0', 'bmi_class': '3', 'map_class': '2', 'cholesterol_class': '1', 'glucose_class': '2', 'smoke': '0', 'active': '0', 'cvd_prediction': '1', 'diabetes_prediction': '0'}, 'health_statuses': {'bmi_status': 'Obese', 'map_status': 'Elevated', 'cholesterol_status': 'Borderline High', 'glucose_status': 'High', 'cvd_risk': 'High Risk', 'diabetes_risk': 'Low Risk'}}\n"
     ]
    },
    {
     "name": "stderr",
     "output_type": "stream",
     "text": [
      "127.0.0.1 - - [16/May/2022 23:00:06] \"POST /_dash-update-component HTTP/1.1\" 200 -\n",
      "127.0.0.1 - - [16/May/2022 23:00:06] \"POST /_dash-update-component HTTP/1.1\" 200 -\n",
      "127.0.0.1 - - [16/May/2022 23:00:06] \"POST /_dash-update-component HTTP/1.1\" 200 -\n"
     ]
    },
    {
     "name": "stdout",
     "output_type": "stream",
     "text": [
      "{'patient': {'cluster': '1', 'age': '33', 'gender': '0', 'cholesterol': '239', 'systolic_bp': '143', 'diastolic_bp': '93', 'mean_arterial_pressure': '109.66666666666667', 'skin_thickness': '27', 'insulin': '164', 'bmi': '31', 'dpf': '1', 'age_class': '0', 'bmi_class': '3', 'map_class': '2', 'cholesterol_class': '1', 'glucose_class': '2', 'smoke': '0', 'active': '0', 'cvd_prediction': '1', 'diabetes_prediction': '0'}, 'health_statuses': {'bmi_status': 'Obese', 'map_status': 'Elevated', 'cholesterol_status': 'Borderline High', 'glucose_status': 'High', 'cvd_risk': 'High Risk', 'diabetes_risk': 'Low Risk'}}\n"
     ]
    },
    {
     "name": "stderr",
     "output_type": "stream",
     "text": [
      "127.0.0.1 - - [16/May/2022 23:00:06] \"POST /_dash-update-component HTTP/1.1\" 200 -\n",
      "127.0.0.1 - - [16/May/2022 23:00:06] \"POST /_dash-update-component HTTP/1.1\" 200 -\n"
     ]
    },
    {
     "name": "stdout",
     "output_type": "stream",
     "text": [
      "{'patient': {'cluster': '1', 'age': '33', 'gender': '0', 'cholesterol': '239', 'systolic_bp': '143', 'diastolic_bp': '93', 'mean_arterial_pressure': '109.66666666666667', 'skin_thickness': '27', 'insulin': '164', 'bmi': '31', 'dpf': '1', 'age_class': '0', 'bmi_class': '3', 'map_class': '2', 'cholesterol_class': '1', 'glucose_class': '2', 'smoke': '0', 'active': '0', 'cvd_prediction': '1', 'diabetes_prediction': '0'}, 'health_statuses': {'bmi_status': 'Obese', 'map_status': 'Elevated', 'cholesterol_status': 'Borderline High', 'glucose_status': 'High', 'cvd_risk': 'High Risk', 'diabetes_risk': 'Low Risk'}}\n"
     ]
    },
    {
     "name": "stderr",
     "output_type": "stream",
     "text": [
      "127.0.0.1 - - [16/May/2022 23:00:06] \"POST /_dash-update-component HTTP/1.1\" 200 -\n",
      "127.0.0.1 - - [16/May/2022 23:00:06] \"POST /_dash-update-component HTTP/1.1\" 200 -\n"
     ]
    },
    {
     "name": "stdout",
     "output_type": "stream",
     "text": [
      "{'patient': {'cluster': '1', 'age': '33', 'gender': '0', 'cholesterol': '239', 'systolic_bp': '143', 'diastolic_bp': '93', 'mean_arterial_pressure': '109.66666666666667', 'skin_thickness': '27', 'insulin': '164', 'bmi': '31', 'dpf': '1', 'age_class': '0', 'bmi_class': '3', 'map_class': '2', 'cholesterol_class': '1', 'glucose_class': '2', 'smoke': '0', 'active': '0', 'cvd_prediction': '1', 'diabetes_prediction': '0'}, 'health_statuses': {'bmi_status': 'Obese', 'map_status': 'Elevated', 'cholesterol_status': 'Borderline High', 'glucose_status': 'High', 'cvd_risk': 'High Risk', 'diabetes_risk': 'Low Risk'}}\n",
      "{'patient': {'cluster': '1', 'age': '33', 'gender': '0', 'cholesterol': '239', 'systolic_bp': '143', 'diastolic_bp': '93', 'mean_arterial_pressure': '109.66666666666667', 'skin_thickness': '27', 'insulin': '164', 'bmi': '31', 'dpf': '1', 'age_class': '0', 'bmi_class': '3', 'map_class': '2', 'cholesterol_class': '1', 'glucose_class': '2', 'smoke': '0', 'active': '0', 'cvd_prediction': '1', 'diabetes_prediction': '0'}, 'health_statuses': {'bmi_status': 'Obese', 'map_status': 'Elevated', 'cholesterol_status': 'Borderline High', 'glucose_status': 'High', 'cvd_risk': 'High Risk', 'diabetes_risk': 'Low Risk'}}\n"
     ]
    },
    {
     "name": "stderr",
     "output_type": "stream",
     "text": [
      "127.0.0.1 - - [16/May/2022 23:00:07] \"POST /_dash-update-component HTTP/1.1\" 200 -\n",
      "127.0.0.1 - - [16/May/2022 23:00:07] \"POST /_dash-update-component HTTP/1.1\" 200 -\n",
      "127.0.0.1 - - [16/May/2022 23:00:07] \"POST /_dash-update-component HTTP/1.1\" 200 -\n",
      "127.0.0.1 - - [16/May/2022 23:00:07] \"POST /_dash-update-component HTTP/1.1\" 200 -\n",
      "127.0.0.1 - - [16/May/2022 23:00:07] \"POST /_dash-update-component HTTP/1.1\" 200 -\n"
     ]
    },
    {
     "name": "stdout",
     "output_type": "stream",
     "text": [
      "{'patient': {'cluster': '1', 'age': '33', 'gender': '0', 'cholesterol': '239', 'systolic_bp': '143', 'diastolic_bp': '93', 'mean_arterial_pressure': '109.66666666666667', 'skin_thickness': '27', 'insulin': '164', 'bmi': '31', 'dpf': '1', 'age_class': '0', 'bmi_class': '3', 'map_class': '2', 'cholesterol_class': '1', 'glucose_class': '2', 'smoke': '0', 'active': '0', 'cvd_prediction': '1', 'diabetes_prediction': '0'}, 'health_statuses': {'bmi_status': 'Obese', 'map_status': 'Elevated', 'cholesterol_status': 'Borderline High', 'glucose_status': 'High', 'cvd_risk': 'High Risk', 'diabetes_risk': 'Low Risk'}}\n",
      "{'patient': {'cluster': '1', 'age': '33', 'gender': '0', 'cholesterol': '239', 'systolic_bp': '143', 'diastolic_bp': '93', 'mean_arterial_pressure': '109.66666666666667', 'skin_thickness': '27', 'insulin': '164', 'bmi': '31', 'dpf': '1', 'age_class': '0', 'bmi_class': '3', 'map_class': '2', 'cholesterol_class': '1', 'glucose_class': '2', 'smoke': '0', 'active': '0', 'cvd_prediction': '1', 'diabetes_prediction': '0'}, 'health_statuses': {'bmi_status': 'Obese', 'map_status': 'Elevated', 'cholesterol_status': 'Borderline High', 'glucose_status': 'High', 'cvd_risk': 'High Risk', 'diabetes_risk': 'Low Risk'}}\n"
     ]
    },
    {
     "name": "stderr",
     "output_type": "stream",
     "text": [
      "127.0.0.1 - - [16/May/2022 23:00:07] \"POST /_dash-update-component HTTP/1.1\" 200 -\n",
      "127.0.0.1 - - [16/May/2022 23:00:07] \"POST /_dash-update-component HTTP/1.1\" 200 -\n"
     ]
    },
    {
     "name": "stdout",
     "output_type": "stream",
     "text": [
      "{'patient': {'cluster': '1', 'age': '33', 'gender': '0', 'cholesterol': '239', 'systolic_bp': '143', 'diastolic_bp': '93', 'mean_arterial_pressure': '109.66666666666667', 'skin_thickness': '27', 'insulin': '164', 'bmi': '31', 'dpf': '1', 'age_class': '0', 'bmi_class': '3', 'map_class': '2', 'cholesterol_class': '1', 'glucose_class': '2', 'smoke': '0', 'active': '0', 'cvd_prediction': '1', 'diabetes_prediction': '0'}, 'health_statuses': {'bmi_status': 'Obese', 'map_status': 'Elevated', 'cholesterol_status': 'Borderline High', 'glucose_status': 'High', 'cvd_risk': 'High Risk', 'diabetes_risk': 'Low Risk'}}\n"
     ]
    },
    {
     "name": "stderr",
     "output_type": "stream",
     "text": [
      "127.0.0.1 - - [16/May/2022 23:00:08] \"POST /_dash-update-component HTTP/1.1\" 200 -\n",
      "127.0.0.1 - - [16/May/2022 23:00:08] \"POST /_dash-update-component HTTP/1.1\" 200 -\n"
     ]
    },
    {
     "name": "stdout",
     "output_type": "stream",
     "text": [
      "{'patient': {'cluster': '1', 'age': '33', 'gender': '0', 'cholesterol': '239', 'systolic_bp': '143', 'diastolic_bp': '93', 'mean_arterial_pressure': '109.66666666666667', 'skin_thickness': '27', 'insulin': '164', 'bmi': '31', 'dpf': '1', 'age_class': '0', 'bmi_class': '3', 'map_class': '2', 'cholesterol_class': '1', 'glucose_class': '2', 'smoke': '0', 'active': '0', 'cvd_prediction': '1', 'diabetes_prediction': '0'}, 'health_statuses': {'bmi_status': 'Obese', 'map_status': 'Elevated', 'cholesterol_status': 'Borderline High', 'glucose_status': 'High', 'cvd_risk': 'High Risk', 'diabetes_risk': 'Low Risk'}}\n"
     ]
    },
    {
     "name": "stderr",
     "output_type": "stream",
     "text": [
      "127.0.0.1 - - [16/May/2022 23:00:08] \"POST /_dash-update-component HTTP/1.1\" 200 -\n",
      "127.0.0.1 - - [16/May/2022 23:00:08] \"POST /_dash-update-component HTTP/1.1\" 200 -\n"
     ]
    },
    {
     "name": "stdout",
     "output_type": "stream",
     "text": [
      "{'patient': {'cluster': '1', 'age': '33', 'gender': '0', 'cholesterol': '239', 'systolic_bp': '143', 'diastolic_bp': '93', 'mean_arterial_pressure': '109.66666666666667', 'skin_thickness': '27', 'insulin': '164', 'bmi': '31', 'dpf': '1', 'age_class': '0', 'bmi_class': '3', 'map_class': '2', 'cholesterol_class': '1', 'glucose_class': '2', 'smoke': '0', 'active': '0', 'cvd_prediction': '1', 'diabetes_prediction': '0'}, 'health_statuses': {'bmi_status': 'Obese', 'map_status': 'Elevated', 'cholesterol_status': 'Borderline High', 'glucose_status': 'High', 'cvd_risk': 'High Risk', 'diabetes_risk': 'Low Risk'}}\n"
     ]
    },
    {
     "name": "stderr",
     "output_type": "stream",
     "text": [
      "127.0.0.1 - - [16/May/2022 23:00:08] \"POST /_dash-update-component HTTP/1.1\" 200 -\n",
      "127.0.0.1 - - [16/May/2022 23:00:08] \"POST /_dash-update-component HTTP/1.1\" 200 -\n"
     ]
    },
    {
     "name": "stdout",
     "output_type": "stream",
     "text": [
      "{'patient': {'cluster': '1', 'age': '33', 'gender': '0', 'cholesterol': '239', 'systolic_bp': '143', 'diastolic_bp': '93', 'mean_arterial_pressure': '109.66666666666667', 'skin_thickness': '27', 'insulin': '164', 'bmi': '31', 'dpf': '1', 'age_class': '0', 'bmi_class': '3', 'map_class': '2', 'cholesterol_class': '1', 'glucose_class': '2', 'smoke': '0', 'active': '0', 'cvd_prediction': '1', 'diabetes_prediction': '0'}, 'health_statuses': {'bmi_status': 'Obese', 'map_status': 'Elevated', 'cholesterol_status': 'Borderline High', 'glucose_status': 'High', 'cvd_risk': 'High Risk', 'diabetes_risk': 'Low Risk'}}\n"
     ]
    },
    {
     "name": "stderr",
     "output_type": "stream",
     "text": [
      "127.0.0.1 - - [16/May/2022 23:00:09] \"POST /_dash-update-component HTTP/1.1\" 200 -\n",
      "127.0.0.1 - - [16/May/2022 23:00:09] \"POST /_dash-update-component HTTP/1.1\" 200 -\n"
     ]
    },
    {
     "name": "stdout",
     "output_type": "stream",
     "text": [
      "{'patient': {'cluster': '1', 'age': '33', 'gender': '0', 'cholesterol': '239', 'systolic_bp': '143', 'diastolic_bp': '93', 'mean_arterial_pressure': '109.66666666666667', 'skin_thickness': '27', 'insulin': '164', 'bmi': '31', 'dpf': '1', 'age_class': '0', 'bmi_class': '3', 'map_class': '2', 'cholesterol_class': '1', 'glucose_class': '2', 'smoke': '0', 'active': '0', 'cvd_prediction': '1', 'diabetes_prediction': '0'}, 'health_statuses': {'bmi_status': 'Obese', 'map_status': 'Elevated', 'cholesterol_status': 'Borderline High', 'glucose_status': 'High', 'cvd_risk': 'High Risk', 'diabetes_risk': 'Low Risk'}}\n"
     ]
    },
    {
     "name": "stderr",
     "output_type": "stream",
     "text": [
      "127.0.0.1 - - [16/May/2022 23:00:09] \"POST /_dash-update-component HTTP/1.1\" 200 -\n",
      "127.0.0.1 - - [16/May/2022 23:00:09] \"POST /_dash-update-component HTTP/1.1\" 200 -\n"
     ]
    },
    {
     "name": "stdout",
     "output_type": "stream",
     "text": [
      "{'patient': {'cluster': '1', 'age': '33', 'gender': '0', 'cholesterol': '239', 'systolic_bp': '143', 'diastolic_bp': '93', 'mean_arterial_pressure': '109.66666666666667', 'skin_thickness': '27', 'insulin': '164', 'bmi': '31', 'dpf': '1', 'age_class': '0', 'bmi_class': '3', 'map_class': '2', 'cholesterol_class': '1', 'glucose_class': '2', 'smoke': '0', 'active': '0', 'cvd_prediction': '1', 'diabetes_prediction': '0'}, 'health_statuses': {'bmi_status': 'Obese', 'map_status': 'Elevated', 'cholesterol_status': 'Borderline High', 'glucose_status': 'High', 'cvd_risk': 'High Risk', 'diabetes_risk': 'Low Risk'}}\n"
     ]
    },
    {
     "name": "stderr",
     "output_type": "stream",
     "text": [
      "127.0.0.1 - - [16/May/2022 23:00:09] \"POST /_dash-update-component HTTP/1.1\" 200 -\n",
      "127.0.0.1 - - [16/May/2022 23:00:09] \"POST /_dash-update-component HTTP/1.1\" 200 -\n"
     ]
    },
    {
     "name": "stdout",
     "output_type": "stream",
     "text": [
      "{'patient': {'cluster': '1', 'age': '33', 'gender': '0', 'cholesterol': '239', 'systolic_bp': '143', 'diastolic_bp': '93', 'mean_arterial_pressure': '109.66666666666667', 'skin_thickness': '27', 'insulin': '164', 'bmi': '31', 'dpf': '1', 'age_class': '0', 'bmi_class': '3', 'map_class': '2', 'cholesterol_class': '1', 'glucose_class': '2', 'smoke': '0', 'active': '0', 'cvd_prediction': '1', 'diabetes_prediction': '0'}, 'health_statuses': {'bmi_status': 'Obese', 'map_status': 'Elevated', 'cholesterol_status': 'Borderline High', 'glucose_status': 'High', 'cvd_risk': 'High Risk', 'diabetes_risk': 'Low Risk'}}\n"
     ]
    },
    {
     "name": "stderr",
     "output_type": "stream",
     "text": [
      "127.0.0.1 - - [16/May/2022 23:00:10] \"POST /_dash-update-component HTTP/1.1\" 200 -\n",
      "127.0.0.1 - - [16/May/2022 23:00:10] \"POST /_dash-update-component HTTP/1.1\" 200 -\n",
      "127.0.0.1 - - [16/May/2022 23:00:10] \"POST /_dash-update-component HTTP/1.1\" 200 -\n"
     ]
    },
    {
     "name": "stdout",
     "output_type": "stream",
     "text": [
      "{'patient': {'cluster': '1', 'age': '33', 'gender': '0', 'cholesterol': '239', 'systolic_bp': '143', 'diastolic_bp': '93', 'mean_arterial_pressure': '109.66666666666667', 'skin_thickness': '27', 'insulin': '164', 'bmi': '31', 'dpf': '1', 'age_class': '0', 'bmi_class': '3', 'map_class': '2', 'cholesterol_class': '1', 'glucose_class': '2', 'smoke': '0', 'active': '0', 'cvd_prediction': '1', 'diabetes_prediction': '0'}, 'health_statuses': {'bmi_status': 'Obese', 'map_status': 'Elevated', 'cholesterol_status': 'Borderline High', 'glucose_status': 'High', 'cvd_risk': 'High Risk', 'diabetes_risk': 'Low Risk'}}\n"
     ]
    },
    {
     "name": "stderr",
     "output_type": "stream",
     "text": [
      "127.0.0.1 - - [16/May/2022 23:00:10] \"POST /_dash-update-component HTTP/1.1\" 200 -\n",
      "127.0.0.1 - - [16/May/2022 23:00:10] \"POST /_dash-update-component HTTP/1.1\" 200 -\n"
     ]
    },
    {
     "name": "stdout",
     "output_type": "stream",
     "text": [
      "{'patient': {'cluster': '1', 'age': '33', 'gender': '0', 'cholesterol': '239', 'systolic_bp': '143', 'diastolic_bp': '93', 'mean_arterial_pressure': '109.66666666666667', 'skin_thickness': '27', 'insulin': '164', 'bmi': '31', 'dpf': '1', 'age_class': '0', 'bmi_class': '3', 'map_class': '2', 'cholesterol_class': '1', 'glucose_class': '2', 'smoke': '0', 'active': '0', 'cvd_prediction': '1', 'diabetes_prediction': '0'}, 'health_statuses': {'bmi_status': 'Obese', 'map_status': 'Elevated', 'cholesterol_status': 'Borderline High', 'glucose_status': 'High', 'cvd_risk': 'High Risk', 'diabetes_risk': 'Low Risk'}}\n"
     ]
    },
    {
     "name": "stderr",
     "output_type": "stream",
     "text": [
      "127.0.0.1 - - [16/May/2022 23:00:10] \"POST /_dash-update-component HTTP/1.1\" 200 -\n"
     ]
    },
    {
     "name": "stdout",
     "output_type": "stream",
     "text": [
      "{'patient': {'cluster': '1', 'age': '33', 'gender': '0', 'cholesterol': '239', 'systolic_bp': '143', 'diastolic_bp': '93', 'mean_arterial_pressure': '109.66666666666667', 'skin_thickness': '27', 'insulin': '164', 'bmi': '31', 'dpf': '1', 'age_class': '0', 'bmi_class': '3', 'map_class': '2', 'cholesterol_class': '1', 'glucose_class': '2', 'smoke': '0', 'active': '0', 'cvd_prediction': '1', 'diabetes_prediction': '0'}, 'health_statuses': {'bmi_status': 'Obese', 'map_status': 'Elevated', 'cholesterol_status': 'Borderline High', 'glucose_status': 'High', 'cvd_risk': 'High Risk', 'diabetes_risk': 'Low Risk'}}\n"
     ]
    },
    {
     "name": "stderr",
     "output_type": "stream",
     "text": [
      "127.0.0.1 - - [16/May/2022 23:00:10] \"POST /_dash-update-component HTTP/1.1\" 200 -\n",
      "127.0.0.1 - - [16/May/2022 23:00:11] \"POST /_dash-update-component HTTP/1.1\" 200 -\n"
     ]
    },
    {
     "name": "stdout",
     "output_type": "stream",
     "text": [
      "{'patient': {'cluster': '1', 'age': '33', 'gender': '0', 'cholesterol': '239', 'systolic_bp': '143', 'diastolic_bp': '93', 'mean_arterial_pressure': '109.66666666666667', 'skin_thickness': '27', 'insulin': '164', 'bmi': '31', 'dpf': '1', 'age_class': '0', 'bmi_class': '3', 'map_class': '2', 'cholesterol_class': '1', 'glucose_class': '2', 'smoke': '0', 'active': '0', 'cvd_prediction': '1', 'diabetes_prediction': '0'}, 'health_statuses': {'bmi_status': 'Obese', 'map_status': 'Elevated', 'cholesterol_status': 'Borderline High', 'glucose_status': 'High', 'cvd_risk': 'High Risk', 'diabetes_risk': 'Low Risk'}}\n"
     ]
    },
    {
     "name": "stderr",
     "output_type": "stream",
     "text": [
      "127.0.0.1 - - [16/May/2022 23:00:11] \"POST /_dash-update-component HTTP/1.1\" 200 -\n",
      "127.0.0.1 - - [16/May/2022 23:00:11] \"POST /_dash-update-component HTTP/1.1\" 200 -\n"
     ]
    },
    {
     "name": "stdout",
     "output_type": "stream",
     "text": [
      "{'patient': {'cluster': '1', 'age': '33', 'gender': '0', 'cholesterol': '239', 'systolic_bp': '143', 'diastolic_bp': '93', 'mean_arterial_pressure': '109.66666666666667', 'skin_thickness': '27', 'insulin': '164', 'bmi': '31', 'dpf': '1', 'age_class': '0', 'bmi_class': '3', 'map_class': '2', 'cholesterol_class': '1', 'glucose_class': '2', 'smoke': '0', 'active': '0', 'cvd_prediction': '1', 'diabetes_prediction': '1'}, 'health_statuses': {'bmi_status': 'Obese', 'map_status': 'Elevated', 'cholesterol_status': 'Borderline High', 'glucose_status': 'High', 'cvd_risk': 'High Risk', 'diabetes_risk': 'High Risk'}}\n"
     ]
    },
    {
     "name": "stderr",
     "output_type": "stream",
     "text": [
      "127.0.0.1 - - [16/May/2022 23:00:11] \"POST /_dash-update-component HTTP/1.1\" 200 -\n",
      "127.0.0.1 - - [16/May/2022 23:00:11] \"POST /_dash-update-component HTTP/1.1\" 200 -\n"
     ]
    },
    {
     "name": "stdout",
     "output_type": "stream",
     "text": [
      "{'patient': {'cluster': '1', 'age': '33', 'gender': '0', 'cholesterol': '239', 'systolic_bp': '143', 'diastolic_bp': '93', 'mean_arterial_pressure': '109.66666666666667', 'skin_thickness': '27', 'insulin': '164', 'bmi': '31', 'dpf': '1', 'age_class': '0', 'bmi_class': '3', 'map_class': '2', 'cholesterol_class': '1', 'glucose_class': '2', 'smoke': '0', 'active': '0', 'cvd_prediction': '1', 'diabetes_prediction': '1'}, 'health_statuses': {'bmi_status': 'Obese', 'map_status': 'Elevated', 'cholesterol_status': 'Borderline High', 'glucose_status': 'High', 'cvd_risk': 'High Risk', 'diabetes_risk': 'High Risk'}}\n"
     ]
    },
    {
     "name": "stderr",
     "output_type": "stream",
     "text": [
      "127.0.0.1 - - [16/May/2022 23:00:12] \"POST /_dash-update-component HTTP/1.1\" 200 -\n",
      "127.0.0.1 - - [16/May/2022 23:00:12] \"POST /_dash-update-component HTTP/1.1\" 200 -\n"
     ]
    },
    {
     "name": "stdout",
     "output_type": "stream",
     "text": [
      "{'patient': {'cluster': '1', 'age': '33', 'gender': '0', 'cholesterol': '239', 'systolic_bp': '143', 'diastolic_bp': '93', 'mean_arterial_pressure': '109.66666666666667', 'skin_thickness': '27', 'insulin': '164', 'bmi': '31', 'dpf': '1', 'age_class': '0', 'bmi_class': '3', 'map_class': '2', 'cholesterol_class': '1', 'glucose_class': '2', 'smoke': '0', 'active': '0', 'cvd_prediction': '1', 'diabetes_prediction': '1'}, 'health_statuses': {'bmi_status': 'Obese', 'map_status': 'Elevated', 'cholesterol_status': 'Borderline High', 'glucose_status': 'High', 'cvd_risk': 'High Risk', 'diabetes_risk': 'High Risk'}}\n"
     ]
    },
    {
     "name": "stderr",
     "output_type": "stream",
     "text": [
      "127.0.0.1 - - [16/May/2022 23:00:12] \"POST /_dash-update-component HTTP/1.1\" 200 -\n",
      "127.0.0.1 - - [16/May/2022 23:00:13] \"POST /_dash-update-component HTTP/1.1\" 200 -\n"
     ]
    },
    {
     "name": "stdout",
     "output_type": "stream",
     "text": [
      "{'patient': {'cluster': '1', 'age': '33', 'gender': '0', 'cholesterol': '239', 'systolic_bp': '143', 'diastolic_bp': '93', 'mean_arterial_pressure': '109.66666666666667', 'skin_thickness': '27', 'insulin': '164', 'bmi': '31', 'dpf': '1', 'age_class': '0', 'bmi_class': '3', 'map_class': '2', 'cholesterol_class': '1', 'glucose_class': '2', 'smoke': '0', 'active': '0', 'cvd_prediction': '1', 'diabetes_prediction': '0'}, 'health_statuses': {'bmi_status': 'Obese', 'map_status': 'Elevated', 'cholesterol_status': 'Borderline High', 'glucose_status': 'High', 'cvd_risk': 'High Risk', 'diabetes_risk': 'Low Risk'}}\n"
     ]
    },
    {
     "name": "stderr",
     "output_type": "stream",
     "text": [
      "127.0.0.1 - - [16/May/2022 23:00:13] \"POST /_dash-update-component HTTP/1.1\" 200 -\n",
      "127.0.0.1 - - [16/May/2022 23:00:13] \"POST /_dash-update-component HTTP/1.1\" 200 -\n"
     ]
    },
    {
     "name": "stdout",
     "output_type": "stream",
     "text": [
      "{'patient': {'cluster': '1', 'age': '33', 'gender': '0', 'cholesterol': '239', 'systolic_bp': '143', 'diastolic_bp': '93', 'mean_arterial_pressure': '109.66666666666667', 'skin_thickness': '27', 'insulin': '164', 'bmi': '31', 'dpf': '1', 'age_class': '0', 'bmi_class': '3', 'map_class': '2', 'cholesterol_class': '1', 'glucose_class': '2', 'smoke': '0', 'active': '0', 'cvd_prediction': '1', 'diabetes_prediction': '1'}, 'health_statuses': {'bmi_status': 'Obese', 'map_status': 'Elevated', 'cholesterol_status': 'Borderline High', 'glucose_status': 'High', 'cvd_risk': 'High Risk', 'diabetes_risk': 'High Risk'}}\n"
     ]
    },
    {
     "name": "stderr",
     "output_type": "stream",
     "text": [
      "127.0.0.1 - - [16/May/2022 23:00:14] \"POST /_dash-update-component HTTP/1.1\" 200 -\n",
      "127.0.0.1 - - [16/May/2022 23:00:14] \"POST /_dash-update-component HTTP/1.1\" 200 -\n"
     ]
    },
    {
     "name": "stdout",
     "output_type": "stream",
     "text": [
      "{'patient': {'cluster': '1', 'age': '33', 'gender': '0', 'cholesterol': '239', 'systolic_bp': '143', 'diastolic_bp': '93', 'mean_arterial_pressure': '109.66666666666667', 'skin_thickness': '27', 'insulin': '164', 'bmi': '31', 'dpf': '1', 'age_class': '0', 'bmi_class': '3', 'map_class': '2', 'cholesterol_class': '1', 'glucose_class': '2', 'smoke': '0', 'active': '0', 'cvd_prediction': '1', 'diabetes_prediction': '1'}, 'health_statuses': {'bmi_status': 'Obese', 'map_status': 'Elevated', 'cholesterol_status': 'Borderline High', 'glucose_status': 'High', 'cvd_risk': 'High Risk', 'diabetes_risk': 'High Risk'}}\n"
     ]
    },
    {
     "name": "stderr",
     "output_type": "stream",
     "text": [
      "127.0.0.1 - - [16/May/2022 23:00:16] \"POST /_dash-update-component HTTP/1.1\" 200 -\n",
      "127.0.0.1 - - [16/May/2022 23:00:16] \"POST /_dash-update-component HTTP/1.1\" 200 -\n",
      "127.0.0.1 - - [16/May/2022 23:00:16] \"POST /_dash-update-component HTTP/1.1\" 200 -\n"
     ]
    },
    {
     "name": "stdout",
     "output_type": "stream",
     "text": [
      "{'patient': {'cluster': '1', 'age': '33', 'gender': '0', 'cholesterol': '239', 'systolic_bp': '143', 'diastolic_bp': '93', 'mean_arterial_pressure': '109.66666666666667', 'skin_thickness': '27', 'insulin': '164', 'bmi': '31', 'dpf': '1', 'age_class': '0', 'bmi_class': '3', 'map_class': '2', 'cholesterol_class': '1', 'glucose_class': '2', 'smoke': '0', 'active': '0', 'cvd_prediction': '1', 'diabetes_prediction': '0'}, 'health_statuses': {'bmi_status': 'Obese', 'map_status': 'Elevated', 'cholesterol_status': 'Borderline High', 'glucose_status': 'High', 'cvd_risk': 'High Risk', 'diabetes_risk': 'Low Risk'}}\n"
     ]
    },
    {
     "name": "stderr",
     "output_type": "stream",
     "text": [
      "127.0.0.1 - - [16/May/2022 23:00:17] \"POST /_dash-update-component HTTP/1.1\" 200 -\n"
     ]
    },
    {
     "name": "stdout",
     "output_type": "stream",
     "text": [
      "{'patient': {'cluster': '1', 'age': '33', 'gender': '0', 'cholesterol': '239', 'systolic_bp': '143', 'diastolic_bp': '93', 'mean_arterial_pressure': '109.66666666666667', 'skin_thickness': '27', 'insulin': '164', 'bmi': '31', 'dpf': '1', 'age_class': '0', 'bmi_class': '3', 'map_class': '2', 'cholesterol_class': '1', 'glucose_class': '2', 'smoke': '0', 'active': '0', 'cvd_prediction': '1', 'diabetes_prediction': '0'}, 'health_statuses': {'bmi_status': 'Obese', 'map_status': 'Elevated', 'cholesterol_status': 'Borderline High', 'glucose_status': 'High', 'cvd_risk': 'High Risk', 'diabetes_risk': 'Low Risk'}}\n"
     ]
    },
    {
     "name": "stderr",
     "output_type": "stream",
     "text": [
      "127.0.0.1 - - [16/May/2022 23:00:17] \"POST /_dash-update-component HTTP/1.1\" 200 -\n",
      "127.0.0.1 - - [16/May/2022 23:00:17] \"POST /_dash-update-component HTTP/1.1\" 200 -\n",
      "127.0.0.1 - - [16/May/2022 23:00:17] \"POST /_dash-update-component HTTP/1.1\" 200 -\n",
      "127.0.0.1 - - [16/May/2022 23:00:17] \"POST /_dash-update-component HTTP/1.1\" 200 -\n"
     ]
    },
    {
     "name": "stdout",
     "output_type": "stream",
     "text": [
      "{'patient': {'cluster': '1', 'age': '33', 'gender': '0', 'cholesterol': '239', 'systolic_bp': '143', 'diastolic_bp': '93', 'mean_arterial_pressure': '109.66666666666667', 'skin_thickness': '27', 'insulin': '164', 'bmi': '31', 'dpf': '1', 'age_class': '0', 'bmi_class': '3', 'map_class': '2', 'cholesterol_class': '1', 'glucose_class': '2', 'smoke': '0', 'active': '0', 'cvd_prediction': '1', 'diabetes_prediction': '0'}, 'health_statuses': {'bmi_status': 'Obese', 'map_status': 'Elevated', 'cholesterol_status': 'Borderline High', 'glucose_status': 'High', 'cvd_risk': 'High Risk', 'diabetes_risk': 'Low Risk'}}\n",
      "{'patient': {'cluster': '1', 'age': '33', 'gender': '0', 'cholesterol': '239', 'systolic_bp': '143', 'diastolic_bp': '93', 'mean_arterial_pressure': '109.66666666666667', 'skin_thickness': '27', 'insulin': '164', 'bmi': '31', 'dpf': '1', 'age_class': '0', 'bmi_class': '3', 'map_class': '2', 'cholesterol_class': '1', 'glucose_class': '2', 'smoke': '0', 'active': '0', 'cvd_prediction': '1', 'diabetes_prediction': '1'}, 'health_statuses': {'bmi_status': 'Obese', 'map_status': 'Elevated', 'cholesterol_status': 'Borderline High', 'glucose_status': 'High', 'cvd_risk': 'High Risk', 'diabetes_risk': 'High Risk'}}\n"
     ]
    },
    {
     "name": "stderr",
     "output_type": "stream",
     "text": [
      "127.0.0.1 - - [16/May/2022 23:00:17] \"POST /_dash-update-component HTTP/1.1\" 200 -\n",
      "127.0.0.1 - - [16/May/2022 23:00:18] \"POST /_dash-update-component HTTP/1.1\" 200 -\n",
      "127.0.0.1 - - [16/May/2022 23:00:18] \"POST /_dash-update-component HTTP/1.1\" 200 -\n"
     ]
    },
    {
     "name": "stdout",
     "output_type": "stream",
     "text": [
      "{'patient': {'cluster': '1', 'age': '33', 'gender': '0', 'cholesterol': '239', 'systolic_bp': '143', 'diastolic_bp': '93', 'mean_arterial_pressure': '109.66666666666667', 'skin_thickness': '27', 'insulin': '164', 'bmi': '31', 'dpf': '1', 'age_class': '0', 'bmi_class': '3', 'map_class': '2', 'cholesterol_class': '1', 'glucose_class': '2', 'smoke': '0', 'active': '0', 'cvd_prediction': '1', 'diabetes_prediction': '1'}, 'health_statuses': {'bmi_status': 'Obese', 'map_status': 'Elevated', 'cholesterol_status': 'Borderline High', 'glucose_status': 'High', 'cvd_risk': 'High Risk', 'diabetes_risk': 'High Risk'}}\n",
      "{'patient': {'cluster': '1', 'age': '33', 'gender': '0', 'cholesterol': '239', 'systolic_bp': '143', 'diastolic_bp': '93', 'mean_arterial_pressure': '109.66666666666667', 'skin_thickness': '27', 'insulin': '164', 'bmi': '31', 'dpf': '1', 'age_class': '0', 'bmi_class': '3', 'map_class': '2', 'cholesterol_class': '1', 'glucose_class': '2', 'smoke': '0', 'active': '0', 'cvd_prediction': '1', 'diabetes_prediction': '1'}, 'health_statuses': {'bmi_status': 'Obese', 'map_status': 'Elevated', 'cholesterol_status': 'Borderline High', 'glucose_status': 'High', 'cvd_risk': 'High Risk', 'diabetes_risk': 'High Risk'}}\n"
     ]
    },
    {
     "name": "stderr",
     "output_type": "stream",
     "text": [
      "127.0.0.1 - - [16/May/2022 23:00:18] \"POST /_dash-update-component HTTP/1.1\" 200 -\n",
      "127.0.0.1 - - [16/May/2022 23:00:19] \"POST /_dash-update-component HTTP/1.1\" 200 -\n",
      "127.0.0.1 - - [16/May/2022 23:00:19] \"POST /_dash-update-component HTTP/1.1\" 200 -\n",
      "127.0.0.1 - - [16/May/2022 23:00:20] \"POST /_dash-update-component HTTP/1.1\" 200 -\n"
     ]
    },
    {
     "name": "stdout",
     "output_type": "stream",
     "text": [
      "{'patient': {'cluster': '1', 'age': '33', 'gender': '0', 'cholesterol': '239', 'systolic_bp': '143', 'diastolic_bp': '93', 'mean_arterial_pressure': '109.66666666666667', 'skin_thickness': '27', 'insulin': '164', 'bmi': '31', 'dpf': '1', 'age_class': '0', 'bmi_class': '3', 'map_class': '2', 'cholesterol_class': '1', 'glucose_class': '2', 'smoke': '0', 'active': '0', 'cvd_prediction': '1', 'diabetes_prediction': '1'}, 'health_statuses': {'bmi_status': 'Obese', 'map_status': 'Elevated', 'cholesterol_status': 'Borderline High', 'glucose_status': 'High', 'cvd_risk': 'High Risk', 'diabetes_risk': 'High Risk'}}\n",
      "{'patient': {'cluster': '1', 'age': '33', 'gender': '0', 'cholesterol': '239', 'systolic_bp': '143', 'diastolic_bp': '93', 'mean_arterial_pressure': '109.66666666666667', 'skin_thickness': '27', 'insulin': '164', 'bmi': '31', 'dpf': '1', 'age_class': '0', 'bmi_class': '3', 'map_class': '2', 'cholesterol_class': '1', 'glucose_class': '2', 'smoke': '0', 'active': '0', 'cvd_prediction': '1', 'diabetes_prediction': '1'}, 'health_statuses': {'bmi_status': 'Obese', 'map_status': 'Elevated', 'cholesterol_status': 'Borderline High', 'glucose_status': 'High', 'cvd_risk': 'High Risk', 'diabetes_risk': 'High Risk'}}\n"
     ]
    },
    {
     "name": "stderr",
     "output_type": "stream",
     "text": [
      "127.0.0.1 - - [16/May/2022 23:00:20] \"POST /_dash-update-component HTTP/1.1\" 200 -\n",
      "127.0.0.1 - - [16/May/2022 23:00:20] \"POST /_dash-update-component HTTP/1.1\" 200 -\n",
      "127.0.0.1 - - [16/May/2022 23:00:20] \"POST /_dash-update-component HTTP/1.1\" 200 -\n",
      "127.0.0.1 - - [16/May/2022 23:00:20] \"POST /_dash-update-component HTTP/1.1\" 200 -\n"
     ]
    },
    {
     "name": "stdout",
     "output_type": "stream",
     "text": [
      "{'patient': {'cluster': '1', 'age': '33', 'gender': '0', 'cholesterol': '239', 'systolic_bp': '143', 'diastolic_bp': '93', 'mean_arterial_pressure': '109.66666666666667', 'skin_thickness': '27', 'insulin': '164', 'bmi': '31', 'dpf': '1', 'age_class': '0', 'bmi_class': '3', 'map_class': '2', 'cholesterol_class': '1', 'glucose_class': '2', 'smoke': '0', 'active': '0', 'cvd_prediction': '1', 'diabetes_prediction': '1'}, 'health_statuses': {'bmi_status': 'Obese', 'map_status': 'Elevated', 'cholesterol_status': 'Borderline High', 'glucose_status': 'High', 'cvd_risk': 'High Risk', 'diabetes_risk': 'High Risk'}}\n"
     ]
    },
    {
     "name": "stderr",
     "output_type": "stream",
     "text": [
      "127.0.0.1 - - [16/May/2022 23:00:21] \"POST /_dash-update-component HTTP/1.1\" 200 -\n",
      "127.0.0.1 - - [16/May/2022 23:00:21] \"POST /_dash-update-component HTTP/1.1\" 200 -\n"
     ]
    },
    {
     "name": "stdout",
     "output_type": "stream",
     "text": [
      "{'patient': {'cluster': '1', 'age': '33', 'gender': '0', 'cholesterol': '239', 'systolic_bp': '143', 'diastolic_bp': '93', 'mean_arterial_pressure': '109.66666666666667', 'skin_thickness': '27', 'insulin': '164', 'bmi': '31', 'dpf': '1', 'age_class': '0', 'bmi_class': '3', 'map_class': '2', 'cholesterol_class': '1', 'glucose_class': '2', 'smoke': '0', 'active': '0', 'cvd_prediction': '1', 'diabetes_prediction': '1'}, 'health_statuses': {'bmi_status': 'Obese', 'map_status': 'Elevated', 'cholesterol_status': 'Borderline High', 'glucose_status': 'High', 'cvd_risk': 'High Risk', 'diabetes_risk': 'High Risk'}}\n"
     ]
    },
    {
     "name": "stderr",
     "output_type": "stream",
     "text": [
      "127.0.0.1 - - [16/May/2022 23:00:21] \"POST /_dash-update-component HTTP/1.1\" 200 -\n",
      "127.0.0.1 - - [16/May/2022 23:00:21] \"POST /_dash-update-component HTTP/1.1\" 200 -\n"
     ]
    },
    {
     "name": "stdout",
     "output_type": "stream",
     "text": [
      "{'patient': {'cluster': '1', 'age': '33', 'gender': '0', 'cholesterol': '239', 'systolic_bp': '143', 'diastolic_bp': '93', 'mean_arterial_pressure': '109.66666666666667', 'skin_thickness': '27', 'insulin': '164', 'bmi': '31', 'dpf': '1', 'age_class': '0', 'bmi_class': '3', 'map_class': '2', 'cholesterol_class': '1', 'glucose_class': '2', 'smoke': '0', 'active': '0', 'cvd_prediction': '1', 'diabetes_prediction': '1'}, 'health_statuses': {'bmi_status': 'Obese', 'map_status': 'Elevated', 'cholesterol_status': 'Borderline High', 'glucose_status': 'High', 'cvd_risk': 'High Risk', 'diabetes_risk': 'High Risk'}}\n"
     ]
    },
    {
     "name": "stderr",
     "output_type": "stream",
     "text": [
      "127.0.0.1 - - [16/May/2022 23:00:21] \"POST /_dash-update-component HTTP/1.1\" 200 -\n"
     ]
    },
    {
     "name": "stdout",
     "output_type": "stream",
     "text": [
      "{'patient': {'cluster': '1', 'age': '33', 'gender': '0', 'cholesterol': '239', 'systolic_bp': '143', 'diastolic_bp': '93', 'mean_arterial_pressure': '109.66666666666667', 'skin_thickness': '27', 'insulin': '164', 'bmi': '31', 'dpf': '1', 'age_class': '0', 'bmi_class': '3', 'map_class': '2', 'cholesterol_class': '1', 'glucose_class': '2', 'smoke': '0', 'active': '0', 'cvd_prediction': '1', 'diabetes_prediction': '0'}, 'health_statuses': {'bmi_status': 'Obese', 'map_status': 'Elevated', 'cholesterol_status': 'Borderline High', 'glucose_status': 'High', 'cvd_risk': 'High Risk', 'diabetes_risk': 'Low Risk'}}\n"
     ]
    },
    {
     "name": "stderr",
     "output_type": "stream",
     "text": [
      "127.0.0.1 - - [16/May/2022 23:00:21] \"POST /_dash-update-component HTTP/1.1\" 200 -\n",
      "127.0.0.1 - - [16/May/2022 23:00:21] \"POST /_dash-update-component HTTP/1.1\" 200 -\n"
     ]
    },
    {
     "name": "stdout",
     "output_type": "stream",
     "text": [
      "{'patient': {'cluster': '1', 'age': '33', 'gender': '0', 'cholesterol': '239', 'systolic_bp': '143', 'diastolic_bp': '93', 'mean_arterial_pressure': '109.66666666666667', 'skin_thickness': '27', 'insulin': '164', 'bmi': '31', 'dpf': '1', 'age_class': '0', 'bmi_class': '3', 'map_class': '2', 'cholesterol_class': '1', 'glucose_class': '2', 'smoke': '0', 'active': '0', 'cvd_prediction': '1', 'diabetes_prediction': '0'}, 'health_statuses': {'bmi_status': 'Obese', 'map_status': 'Elevated', 'cholesterol_status': 'Borderline High', 'glucose_status': 'High', 'cvd_risk': 'High Risk', 'diabetes_risk': 'Low Risk'}}\n"
     ]
    },
    {
     "name": "stderr",
     "output_type": "stream",
     "text": [
      "127.0.0.1 - - [16/May/2022 23:00:22] \"POST /_dash-update-component HTTP/1.1\" 200 -\n",
      "127.0.0.1 - - [16/May/2022 23:00:22] \"POST /_dash-update-component HTTP/1.1\" 200 -\n",
      "127.0.0.1 - - [16/May/2022 23:00:22] \"POST /_dash-update-component HTTP/1.1\" 200 -\n"
     ]
    },
    {
     "name": "stdout",
     "output_type": "stream",
     "text": [
      "{'patient': {'cluster': '1', 'age': '33', 'gender': '0', 'cholesterol': '239', 'systolic_bp': '143', 'diastolic_bp': '93', 'mean_arterial_pressure': '109.66666666666667', 'skin_thickness': '27', 'insulin': '164', 'bmi': '31', 'dpf': '1', 'age_class': '0', 'bmi_class': '3', 'map_class': '2', 'cholesterol_class': '1', 'glucose_class': '2', 'smoke': '0', 'active': '0', 'cvd_prediction': '1', 'diabetes_prediction': '0'}, 'health_statuses': {'bmi_status': 'Obese', 'map_status': 'Elevated', 'cholesterol_status': 'Borderline High', 'glucose_status': 'High', 'cvd_risk': 'High Risk', 'diabetes_risk': 'Low Risk'}}\n"
     ]
    },
    {
     "name": "stderr",
     "output_type": "stream",
     "text": [
      "127.0.0.1 - - [16/May/2022 23:00:22] \"POST /_dash-update-component HTTP/1.1\" 200 -\n"
     ]
    },
    {
     "name": "stdout",
     "output_type": "stream",
     "text": [
      "{'patient': {'cluster': '1', 'age': '33', 'gender': '0', 'cholesterol': '239', 'systolic_bp': '143', 'diastolic_bp': '93', 'mean_arterial_pressure': '109.66666666666667', 'skin_thickness': '27', 'insulin': '164', 'bmi': '31', 'dpf': '1', 'age_class': '0', 'bmi_class': '3', 'map_class': '2', 'cholesterol_class': '1', 'glucose_class': '2', 'smoke': '0', 'active': '0', 'cvd_prediction': '1', 'diabetes_prediction': '1'}, 'health_statuses': {'bmi_status': 'Obese', 'map_status': 'Elevated', 'cholesterol_status': 'Borderline High', 'glucose_status': 'High', 'cvd_risk': 'High Risk', 'diabetes_risk': 'High Risk'}}\n"
     ]
    },
    {
     "name": "stderr",
     "output_type": "stream",
     "text": [
      "127.0.0.1 - - [16/May/2022 23:00:24] \"POST /_dash-update-component HTTP/1.1\" 200 -\n",
      "127.0.0.1 - - [16/May/2022 23:00:24] \"POST /_dash-update-component HTTP/1.1\" 200 -\n"
     ]
    },
    {
     "name": "stdout",
     "output_type": "stream",
     "text": [
      "{'patient': {'cluster': '1', 'age': '33', 'gender': '0', 'cholesterol': '239', 'systolic_bp': '143', 'diastolic_bp': '93', 'mean_arterial_pressure': '109.66666666666667', 'skin_thickness': '27', 'insulin': '164', 'bmi': '31', 'dpf': '1', 'age_class': '0', 'bmi_class': '3', 'map_class': '2', 'cholesterol_class': '1', 'glucose_class': '2', 'smoke': '0', 'active': '0', 'cvd_prediction': '1', 'diabetes_prediction': '0'}, 'health_statuses': {'bmi_status': 'Obese', 'map_status': 'Elevated', 'cholesterol_status': 'Borderline High', 'glucose_status': 'High', 'cvd_risk': 'High Risk', 'diabetes_risk': 'Low Risk'}}\n"
     ]
    },
    {
     "name": "stderr",
     "output_type": "stream",
     "text": [
      "127.0.0.1 - - [16/May/2022 23:00:24] \"POST /_dash-update-component HTTP/1.1\" 200 -\n",
      "127.0.0.1 - - [16/May/2022 23:00:24] \"POST /_dash-update-component HTTP/1.1\" 200 -\n"
     ]
    },
    {
     "name": "stdout",
     "output_type": "stream",
     "text": [
      "{'patient': {'cluster': '1', 'age': '33', 'gender': '0', 'cholesterol': '239', 'systolic_bp': '143', 'diastolic_bp': '93', 'mean_arterial_pressure': '109.66666666666667', 'skin_thickness': '27', 'insulin': '164', 'bmi': '31', 'dpf': '1', 'age_class': '0', 'bmi_class': '3', 'map_class': '2', 'cholesterol_class': '1', 'glucose_class': '2', 'smoke': '0', 'active': '0', 'cvd_prediction': '1', 'diabetes_prediction': '0'}, 'health_statuses': {'bmi_status': 'Obese', 'map_status': 'Elevated', 'cholesterol_status': 'Borderline High', 'glucose_status': 'High', 'cvd_risk': 'High Risk', 'diabetes_risk': 'Low Risk'}}\n"
     ]
    },
    {
     "name": "stderr",
     "output_type": "stream",
     "text": [
      "127.0.0.1 - - [16/May/2022 23:00:25] \"POST /_dash-update-component HTTP/1.1\" 200 -\n",
      "127.0.0.1 - - [16/May/2022 23:00:25] \"POST /_dash-update-component HTTP/1.1\" 200 -\n"
     ]
    },
    {
     "name": "stdout",
     "output_type": "stream",
     "text": [
      "{'patient': {'cluster': '1', 'age': '33', 'gender': '0', 'cholesterol': '239', 'systolic_bp': '143', 'diastolic_bp': '93', 'mean_arterial_pressure': '109.66666666666667', 'skin_thickness': '27', 'insulin': '164', 'bmi': '31', 'dpf': '1', 'age_class': '0', 'bmi_class': '3', 'map_class': '2', 'cholesterol_class': '1', 'glucose_class': '2', 'smoke': '0', 'active': '0', 'cvd_prediction': '1', 'diabetes_prediction': '0'}, 'health_statuses': {'bmi_status': 'Obese', 'map_status': 'Elevated', 'cholesterol_status': 'Borderline High', 'glucose_status': 'High', 'cvd_risk': 'High Risk', 'diabetes_risk': 'Low Risk'}}\n"
     ]
    },
    {
     "name": "stderr",
     "output_type": "stream",
     "text": [
      "127.0.0.1 - - [16/May/2022 23:00:25] \"POST /_dash-update-component HTTP/1.1\" 200 -\n",
      "127.0.0.1 - - [16/May/2022 23:00:25] \"POST /_dash-update-component HTTP/1.1\" 200 -\n"
     ]
    },
    {
     "name": "stdout",
     "output_type": "stream",
     "text": [
      "{'patient': {'cluster': '1', 'age': '33', 'gender': '0', 'cholesterol': '239', 'systolic_bp': '143', 'diastolic_bp': '93', 'mean_arterial_pressure': '109.66666666666667', 'skin_thickness': '27', 'insulin': '164', 'bmi': '31', 'dpf': '1', 'age_class': '0', 'bmi_class': '3', 'map_class': '2', 'cholesterol_class': '1', 'glucose_class': '2', 'smoke': '0', 'active': '0', 'cvd_prediction': '1', 'diabetes_prediction': '0'}, 'health_statuses': {'bmi_status': 'Obese', 'map_status': 'Elevated', 'cholesterol_status': 'Borderline High', 'glucose_status': 'High', 'cvd_risk': 'High Risk', 'diabetes_risk': 'Low Risk'}}\n"
     ]
    },
    {
     "name": "stderr",
     "output_type": "stream",
     "text": [
      "127.0.0.1 - - [16/May/2022 23:00:26] \"POST /_dash-update-component HTTP/1.1\" 200 -\n",
      "127.0.0.1 - - [16/May/2022 23:00:26] \"POST /_dash-update-component HTTP/1.1\" 200 -\n"
     ]
    },
    {
     "name": "stdout",
     "output_type": "stream",
     "text": [
      "{'patient': {'cluster': '1', 'age': '33', 'gender': '0', 'cholesterol': '239', 'systolic_bp': '143', 'diastolic_bp': '93', 'mean_arterial_pressure': '109.66666666666667', 'skin_thickness': '27', 'insulin': '164', 'bmi': '31', 'dpf': '1', 'age_class': '0', 'bmi_class': '3', 'map_class': '2', 'cholesterol_class': '1', 'glucose_class': '2', 'smoke': '0', 'active': '0', 'cvd_prediction': '1', 'diabetes_prediction': '0'}, 'health_statuses': {'bmi_status': 'Obese', 'map_status': 'Elevated', 'cholesterol_status': 'Borderline High', 'glucose_status': 'High', 'cvd_risk': 'High Risk', 'diabetes_risk': 'Low Risk'}}\n"
     ]
    },
    {
     "name": "stderr",
     "output_type": "stream",
     "text": [
      "127.0.0.1 - - [16/May/2022 23:00:27] \"POST /_dash-update-component HTTP/1.1\" 200 -\n",
      "127.0.0.1 - - [16/May/2022 23:00:27] \"POST /_dash-update-component HTTP/1.1\" 200 -\n",
      "127.0.0.1 - - [16/May/2022 23:00:27] \"POST /_dash-update-component HTTP/1.1\" 200 -\n"
     ]
    },
    {
     "name": "stdout",
     "output_type": "stream",
     "text": [
      "{'patient': {'cluster': '1', 'age': '33', 'gender': '0', 'cholesterol': '239', 'systolic_bp': '143', 'diastolic_bp': '93', 'mean_arterial_pressure': '109.66666666666667', 'skin_thickness': '27', 'insulin': '164', 'bmi': '31', 'dpf': '1', 'age_class': '0', 'bmi_class': '3', 'map_class': '2', 'cholesterol_class': '1', 'glucose_class': '2', 'smoke': '0', 'active': '0', 'cvd_prediction': '1', 'diabetes_prediction': '0'}, 'health_statuses': {'bmi_status': 'Obese', 'map_status': 'Elevated', 'cholesterol_status': 'Borderline High', 'glucose_status': 'High', 'cvd_risk': 'High Risk', 'diabetes_risk': 'Low Risk'}}\n"
     ]
    },
    {
     "name": "stderr",
     "output_type": "stream",
     "text": [
      "127.0.0.1 - - [16/May/2022 23:00:27] \"POST /_dash-update-component HTTP/1.1\" 200 -\n"
     ]
    },
    {
     "name": "stdout",
     "output_type": "stream",
     "text": [
      "{'patient': {'cluster': '1', 'age': '33', 'gender': '0', 'cholesterol': '239', 'systolic_bp': '143', 'diastolic_bp': '93', 'mean_arterial_pressure': '109.66666666666667', 'skin_thickness': '27', 'insulin': '164', 'bmi': '31', 'dpf': '1', 'age_class': '0', 'bmi_class': '3', 'map_class': '2', 'cholesterol_class': '1', 'glucose_class': '2', 'smoke': '0', 'active': '0', 'cvd_prediction': '1', 'diabetes_prediction': '0'}, 'health_statuses': {'bmi_status': 'Obese', 'map_status': 'Elevated', 'cholesterol_status': 'Borderline High', 'glucose_status': 'High', 'cvd_risk': 'High Risk', 'diabetes_risk': 'Low Risk'}}\n"
     ]
    },
    {
     "name": "stderr",
     "output_type": "stream",
     "text": [
      "127.0.0.1 - - [16/May/2022 23:00:27] \"POST /_dash-update-component HTTP/1.1\" 200 -\n",
      "127.0.0.1 - - [16/May/2022 23:00:27] \"POST /_dash-update-component HTTP/1.1\" 200 -\n"
     ]
    },
    {
     "name": "stdout",
     "output_type": "stream",
     "text": [
      "{'patient': {'cluster': '1', 'age': '33', 'gender': '0', 'cholesterol': '239', 'systolic_bp': '143', 'diastolic_bp': '93', 'mean_arterial_pressure': '109.66666666666667', 'skin_thickness': '27', 'insulin': '164', 'bmi': '31', 'dpf': '1', 'age_class': '0', 'bmi_class': '3', 'map_class': '2', 'cholesterol_class': '1', 'glucose_class': '2', 'smoke': '0', 'active': '0', 'cvd_prediction': '1', 'diabetes_prediction': '0'}, 'health_statuses': {'bmi_status': 'Obese', 'map_status': 'Elevated', 'cholesterol_status': 'Borderline High', 'glucose_status': 'High', 'cvd_risk': 'High Risk', 'diabetes_risk': 'Low Risk'}}\n"
     ]
    },
    {
     "name": "stderr",
     "output_type": "stream",
     "text": [
      "127.0.0.1 - - [16/May/2022 23:00:29] \"POST /_dash-update-component HTTP/1.1\" 200 -\n",
      "127.0.0.1 - - [16/May/2022 23:00:29] \"POST /_dash-update-component HTTP/1.1\" 200 -\n"
     ]
    },
    {
     "name": "stdout",
     "output_type": "stream",
     "text": [
      "{'patient': {'cluster': '3', 'age': '33', 'gender': '1', 'cholesterol': '239', 'systolic_bp': '143', 'diastolic_bp': '93', 'mean_arterial_pressure': '109.66666666666667', 'skin_thickness': '27', 'insulin': '164', 'bmi': '31', 'dpf': '1', 'age_class': '0', 'bmi_class': '3', 'map_class': '2', 'cholesterol_class': '1', 'glucose_class': '2', 'smoke': '0', 'active': '0', 'cvd_prediction': '0', 'diabetes_prediction': '0'}, 'health_statuses': {'bmi_status': 'Obese', 'map_status': 'Elevated', 'cholesterol_status': 'Borderline High', 'glucose_status': 'High', 'cvd_risk': 'Low Risk', 'diabetes_risk': 'Low Risk'}}\n"
     ]
    },
    {
     "name": "stderr",
     "output_type": "stream",
     "text": [
      "127.0.0.1 - - [16/May/2022 23:00:30] \"POST /_dash-update-component HTTP/1.1\" 200 -\n",
      "127.0.0.1 - - [16/May/2022 23:00:30] \"POST /_dash-update-component HTTP/1.1\" 200 -\n"
     ]
    },
    {
     "name": "stdout",
     "output_type": "stream",
     "text": [
      "{'patient': {'cluster': '1', 'age': '33', 'gender': '0', 'cholesterol': '239', 'systolic_bp': '143', 'diastolic_bp': '93', 'mean_arterial_pressure': '109.66666666666667', 'skin_thickness': '27', 'insulin': '164', 'bmi': '31', 'dpf': '1', 'age_class': '0', 'bmi_class': '3', 'map_class': '2', 'cholesterol_class': '1', 'glucose_class': '2', 'smoke': '0', 'active': '0', 'cvd_prediction': '1', 'diabetes_prediction': '0'}, 'health_statuses': {'bmi_status': 'Obese', 'map_status': 'Elevated', 'cholesterol_status': 'Borderline High', 'glucose_status': 'High', 'cvd_risk': 'High Risk', 'diabetes_risk': 'Low Risk'}}\n"
     ]
    },
    {
     "name": "stderr",
     "output_type": "stream",
     "text": [
      "127.0.0.1 - - [16/May/2022 23:00:31] \"POST /_dash-update-component HTTP/1.1\" 200 -\n",
      "127.0.0.1 - - [16/May/2022 23:00:31] \"POST /_dash-update-component HTTP/1.1\" 200 -\n",
      "127.0.0.1 - - [16/May/2022 23:00:31] \"POST /_dash-update-component HTTP/1.1\" 200 -\n",
      "127.0.0.1 - - [16/May/2022 23:00:31] \"POST /_dash-update-component HTTP/1.1\" 200 -\n",
      "127.0.0.1 - - [16/May/2022 23:00:31] \"POST /_dash-update-component HTTP/1.1\" 200 -\n"
     ]
    },
    {
     "name": "stdout",
     "output_type": "stream",
     "text": [
      "{'patient': {'cluster': '1', 'age': '33', 'gender': '0', 'cholesterol': '239', 'systolic_bp': '143', 'diastolic_bp': '93', 'mean_arterial_pressure': '109.66666666666667', 'skin_thickness': '27', 'insulin': '164', 'bmi': '31', 'dpf': '1', 'age_class': '0', 'bmi_class': '3', 'map_class': '2', 'cholesterol_class': '1', 'glucose_class': '2', 'smoke': '0', 'active': '0', 'cvd_prediction': '1', 'diabetes_prediction': '0'}, 'health_statuses': {'bmi_status': 'Obese', 'map_status': 'Elevated', 'cholesterol_status': 'Borderline High', 'glucose_status': 'High', 'cvd_risk': 'High Risk', 'diabetes_risk': 'Low Risk'}}\n",
      "{'patient': {'cluster': '1', 'age': '33', 'gender': '0', 'cholesterol': '239', 'systolic_bp': '143', 'diastolic_bp': '93', 'mean_arterial_pressure': '109.66666666666667', 'skin_thickness': '27', 'insulin': '164', 'bmi': '31', 'dpf': '1', 'age_class': '0', 'bmi_class': '3', 'map_class': '2', 'cholesterol_class': '1', 'glucose_class': '2', 'smoke': '0', 'active': '0', 'cvd_prediction': '1', 'diabetes_prediction': '1'}, 'health_statuses': {'bmi_status': 'Obese', 'map_status': 'Elevated', 'cholesterol_status': 'Borderline High', 'glucose_status': 'High', 'cvd_risk': 'High Risk', 'diabetes_risk': 'High Risk'}}\n"
     ]
    },
    {
     "name": "stderr",
     "output_type": "stream",
     "text": [
      "127.0.0.1 - - [16/May/2022 23:00:32] \"POST /_dash-update-component HTTP/1.1\" 200 -\n",
      "127.0.0.1 - - [16/May/2022 23:00:32] \"POST /_dash-update-component HTTP/1.1\" 200 -\n",
      "127.0.0.1 - - [16/May/2022 23:00:32] \"POST /_dash-update-component HTTP/1.1\" 200 -\n"
     ]
    },
    {
     "name": "stdout",
     "output_type": "stream",
     "text": [
      "{'patient': {'cluster': '1', 'age': '33', 'gender': '0', 'cholesterol': '239', 'systolic_bp': '143', 'diastolic_bp': '93', 'mean_arterial_pressure': '109.66666666666667', 'skin_thickness': '27', 'insulin': '164', 'bmi': '31', 'dpf': '1', 'age_class': '0', 'bmi_class': '3', 'map_class': '2', 'cholesterol_class': '1', 'glucose_class': '2', 'smoke': '0', 'active': '0', 'cvd_prediction': '1', 'diabetes_prediction': '1'}, 'health_statuses': {'bmi_status': 'Obese', 'map_status': 'Elevated', 'cholesterol_status': 'Borderline High', 'glucose_status': 'High', 'cvd_risk': 'High Risk', 'diabetes_risk': 'High Risk'}}\n",
      "{'patient': {'cluster': '1', 'age': '33', 'gender': '0', 'cholesterol': '239', 'systolic_bp': '143', 'diastolic_bp': '93', 'mean_arterial_pressure': '109.66666666666667', 'skin_thickness': '27', 'insulin': '164', 'bmi': '31', 'dpf': '1', 'age_class': '0', 'bmi_class': '3', 'map_class': '2', 'cholesterol_class': '1', 'glucose_class': '2', 'smoke': '0', 'active': '0', 'cvd_prediction': '1', 'diabetes_prediction': '1'}, 'health_statuses': {'bmi_status': 'Obese', 'map_status': 'Elevated', 'cholesterol_status': 'Borderline High', 'glucose_status': 'High', 'cvd_risk': 'High Risk', 'diabetes_risk': 'High Risk'}}\n"
     ]
    },
    {
     "name": "stderr",
     "output_type": "stream",
     "text": [
      "127.0.0.1 - - [16/May/2022 23:00:32] \"POST /_dash-update-component HTTP/1.1\" 200 -\n",
      "127.0.0.1 - - [16/May/2022 23:00:32] \"POST /_dash-update-component HTTP/1.1\" 200 -\n",
      "127.0.0.1 - - [16/May/2022 23:00:32] \"POST /_dash-update-component HTTP/1.1\" 200 -\n"
     ]
    },
    {
     "name": "stdout",
     "output_type": "stream",
     "text": [
      "{'patient': {'cluster': '1', 'age': '33', 'gender': '0', 'cholesterol': '239', 'systolic_bp': '143', 'diastolic_bp': '93', 'mean_arterial_pressure': '109.66666666666667', 'skin_thickness': '27', 'insulin': '164', 'bmi': '31', 'dpf': '1', 'age_class': '0', 'bmi_class': '3', 'map_class': '2', 'cholesterol_class': '1', 'glucose_class': '2', 'smoke': '0', 'active': '0', 'cvd_prediction': '1', 'diabetes_prediction': '1'}, 'health_statuses': {'bmi_status': 'Obese', 'map_status': 'Elevated', 'cholesterol_status': 'Borderline High', 'glucose_status': 'High', 'cvd_risk': 'High Risk', 'diabetes_risk': 'High Risk'}}\n"
     ]
    },
    {
     "name": "stderr",
     "output_type": "stream",
     "text": [
      "127.0.0.1 - - [16/May/2022 23:00:33] \"POST /_dash-update-component HTTP/1.1\" 200 -\n"
     ]
    },
    {
     "name": "stdout",
     "output_type": "stream",
     "text": [
      "{'patient': {'cluster': '1', 'age': '33', 'gender': '0', 'cholesterol': '239', 'systolic_bp': '143', 'diastolic_bp': '93', 'mean_arterial_pressure': '109.66666666666667', 'skin_thickness': '27', 'insulin': '164', 'bmi': '31', 'dpf': '1', 'age_class': '0', 'bmi_class': '3', 'map_class': '2', 'cholesterol_class': '1', 'glucose_class': '2', 'smoke': '0', 'active': '0', 'cvd_prediction': '1', 'diabetes_prediction': '1'}, 'health_statuses': {'bmi_status': 'Obese', 'map_status': 'Elevated', 'cholesterol_status': 'Borderline High', 'glucose_status': 'High', 'cvd_risk': 'High Risk', 'diabetes_risk': 'High Risk'}}\n"
     ]
    },
    {
     "name": "stderr",
     "output_type": "stream",
     "text": [
      "127.0.0.1 - - [16/May/2022 23:00:35] \"POST /_dash-update-component HTTP/1.1\" 200 -\n",
      "127.0.0.1 - - [16/May/2022 23:00:35] \"POST /_dash-update-component HTTP/1.1\" 200 -\n",
      "127.0.0.1 - - [16/May/2022 23:00:35] \"POST /_dash-update-component HTTP/1.1\" 200 -\n",
      "127.0.0.1 - - [16/May/2022 23:00:35] \"POST /_dash-update-component HTTP/1.1\" 200 -\n"
     ]
    },
    {
     "name": "stdout",
     "output_type": "stream",
     "text": [
      "{'patient': {'cluster': '1', 'age': '33', 'gender': '0', 'cholesterol': '239', 'systolic_bp': '143', 'diastolic_bp': '93', 'mean_arterial_pressure': '109.66666666666667', 'skin_thickness': '27', 'insulin': '164', 'bmi': '31', 'dpf': '1', 'age_class': '0', 'bmi_class': '3', 'map_class': '2', 'cholesterol_class': '1', 'glucose_class': '2', 'smoke': '0', 'active': '0', 'cvd_prediction': '1', 'diabetes_prediction': '1'}, 'health_statuses': {'bmi_status': 'Obese', 'map_status': 'Elevated', 'cholesterol_status': 'Borderline High', 'glucose_status': 'High', 'cvd_risk': 'High Risk', 'diabetes_risk': 'High Risk'}}\n",
      "{'patient': {'cluster': '1', 'age': '33', 'gender': '0', 'cholesterol': '239', 'systolic_bp': '143', 'diastolic_bp': '93', 'mean_arterial_pressure': '109.66666666666667', 'skin_thickness': '27', 'insulin': '164', 'bmi': '31', 'dpf': '1', 'age_class': '0', 'bmi_class': '3', 'map_class': '2', 'cholesterol_class': '1', 'glucose_class': '2', 'smoke': '0', 'active': '0', 'cvd_prediction': '1', 'diabetes_prediction': '1'}, 'health_statuses': {'bmi_status': 'Obese', 'map_status': 'Elevated', 'cholesterol_status': 'Borderline High', 'glucose_status': 'High', 'cvd_risk': 'High Risk', 'diabetes_risk': 'High Risk'}}\n"
     ]
    },
    {
     "name": "stderr",
     "output_type": "stream",
     "text": [
      "127.0.0.1 - - [16/May/2022 23:00:35] \"POST /_dash-update-component HTTP/1.1\" 200 -\n",
      "127.0.0.1 - - [16/May/2022 23:00:36] \"POST /_dash-update-component HTTP/1.1\" 200 -\n",
      "127.0.0.1 - - [16/May/2022 23:00:36] \"POST /_dash-update-component HTTP/1.1\" 200 -\n",
      "127.0.0.1 - - [16/May/2022 23:00:36] \"POST /_dash-update-component HTTP/1.1\" 200 -\n"
     ]
    },
    {
     "name": "stdout",
     "output_type": "stream",
     "text": [
      "{'patient': {'cluster': '1', 'age': '33', 'gender': '0', 'cholesterol': '239', 'systolic_bp': '143', 'diastolic_bp': '93', 'mean_arterial_pressure': '109.66666666666667', 'skin_thickness': '27', 'insulin': '164', 'bmi': '31', 'dpf': '1', 'age_class': '0', 'bmi_class': '3', 'map_class': '2', 'cholesterol_class': '1', 'glucose_class': '2', 'smoke': '0', 'active': '0', 'cvd_prediction': '1', 'diabetes_prediction': '1'}, 'health_statuses': {'bmi_status': 'Obese', 'map_status': 'Elevated', 'cholesterol_status': 'Borderline High', 'glucose_status': 'High', 'cvd_risk': 'High Risk', 'diabetes_risk': 'High Risk'}}\n",
      "{'patient': {'cluster': '1', 'age': '33', 'gender': '0', 'cholesterol': '239', 'systolic_bp': '143', 'diastolic_bp': '93', 'mean_arterial_pressure': '109.66666666666667', 'skin_thickness': '27', 'insulin': '164', 'bmi': '31', 'dpf': '1', 'age_class': '0', 'bmi_class': '3', 'map_class': '2', 'cholesterol_class': '1', 'glucose_class': '2', 'smoke': '0', 'active': '0', 'cvd_prediction': '1', 'diabetes_prediction': '1'}, 'health_statuses': {'bmi_status': 'Obese', 'map_status': 'Elevated', 'cholesterol_status': 'Borderline High', 'glucose_status': 'High', 'cvd_risk': 'High Risk', 'diabetes_risk': 'High Risk'}}\n"
     ]
    },
    {
     "name": "stderr",
     "output_type": "stream",
     "text": [
      "127.0.0.1 - - [16/May/2022 23:00:36] \"POST /_dash-update-component HTTP/1.1\" 200 -\n",
      "127.0.0.1 - - [16/May/2022 23:00:36] \"POST /_dash-update-component HTTP/1.1\" 200 -\n",
      "127.0.0.1 - - [16/May/2022 23:00:36] \"POST /_dash-update-component HTTP/1.1\" 200 -\n"
     ]
    },
    {
     "name": "stdout",
     "output_type": "stream",
     "text": [
      "{'patient': {'cluster': '1', 'age': '33', 'gender': '0', 'cholesterol': '239', 'systolic_bp': '143', 'diastolic_bp': '93', 'mean_arterial_pressure': '109.66666666666667', 'skin_thickness': '27', 'insulin': '164', 'bmi': '31', 'dpf': '1', 'age_class': '0', 'bmi_class': '3', 'map_class': '2', 'cholesterol_class': '1', 'glucose_class': '2', 'smoke': '0', 'active': '0', 'cvd_prediction': '1', 'diabetes_prediction': '1'}, 'health_statuses': {'bmi_status': 'Obese', 'map_status': 'Elevated', 'cholesterol_status': 'Borderline High', 'glucose_status': 'High', 'cvd_risk': 'High Risk', 'diabetes_risk': 'High Risk'}}\n",
      "{'patient': {'cluster': '1', 'age': '33', 'gender': '0', 'cholesterol': '239', 'systolic_bp': '143', 'diastolic_bp': '93', 'mean_arterial_pressure': '109.66666666666667', 'skin_thickness': '27', 'insulin': '164', 'bmi': '31', 'dpf': '1', 'age_class': '0', 'bmi_class': '3', 'map_class': '2', 'cholesterol_class': '1', 'glucose_class': '2', 'smoke': '0', 'active': '0', 'cvd_prediction': '1', 'diabetes_prediction': '1'}, 'health_statuses': {'bmi_status': 'Obese', 'map_status': 'Elevated', 'cholesterol_status': 'Borderline High', 'glucose_status': 'High', 'cvd_risk': 'High Risk', 'diabetes_risk': 'High Risk'}}\n"
     ]
    },
    {
     "name": "stderr",
     "output_type": "stream",
     "text": [
      "127.0.0.1 - - [16/May/2022 23:00:36] \"POST /_dash-update-component HTTP/1.1\" 200 -\n",
      "127.0.0.1 - - [16/May/2022 23:00:37] \"POST /_dash-update-component HTTP/1.1\" 200 -\n",
      "127.0.0.1 - - [16/May/2022 23:00:37] \"POST /_dash-update-component HTTP/1.1\" 200 -\n"
     ]
    },
    {
     "name": "stdout",
     "output_type": "stream",
     "text": [
      "{'patient': {'cluster': '1', 'age': '33', 'gender': '0', 'cholesterol': '239', 'systolic_bp': '143', 'diastolic_bp': '93', 'mean_arterial_pressure': '109.66666666666667', 'skin_thickness': '27', 'insulin': '164', 'bmi': '31', 'dpf': '1', 'age_class': '0', 'bmi_class': '3', 'map_class': '2', 'cholesterol_class': '1', 'glucose_class': '2', 'smoke': '0', 'active': '0', 'cvd_prediction': '1', 'diabetes_prediction': '1'}, 'health_statuses': {'bmi_status': 'Obese', 'map_status': 'Elevated', 'cholesterol_status': 'Borderline High', 'glucose_status': 'High', 'cvd_risk': 'High Risk', 'diabetes_risk': 'High Risk'}}\n"
     ]
    },
    {
     "name": "stderr",
     "output_type": "stream",
     "text": [
      "127.0.0.1 - - [16/May/2022 23:00:37] \"POST /_dash-update-component HTTP/1.1\" 200 -\n",
      "127.0.0.1 - - [16/May/2022 23:00:37] \"POST /_dash-update-component HTTP/1.1\" 200 -\n",
      "127.0.0.1 - - [16/May/2022 23:00:37] \"POST /_dash-update-component HTTP/1.1\" 200 -\n"
     ]
    },
    {
     "name": "stdout",
     "output_type": "stream",
     "text": [
      "{'patient': {'cluster': '1', 'age': '33', 'gender': '0', 'cholesterol': '239', 'systolic_bp': '143', 'diastolic_bp': '93', 'mean_arterial_pressure': '109.66666666666667', 'skin_thickness': '27', 'insulin': '164', 'bmi': '31', 'dpf': '1', 'age_class': '0', 'bmi_class': '3', 'map_class': '2', 'cholesterol_class': '1', 'glucose_class': '2', 'smoke': '0', 'active': '0', 'cvd_prediction': '1', 'diabetes_prediction': '1'}, 'health_statuses': {'bmi_status': 'Obese', 'map_status': 'Elevated', 'cholesterol_status': 'Borderline High', 'glucose_status': 'High', 'cvd_risk': 'High Risk', 'diabetes_risk': 'High Risk'}}\n",
      "{'patient': {'cluster': '1', 'age': '33', 'gender': '0', 'cholesterol': '239', 'systolic_bp': '143', 'diastolic_bp': '93', 'mean_arterial_pressure': '109.66666666666667', 'skin_thickness': '27', 'insulin': '164', 'bmi': '31', 'dpf': '1', 'age_class': '0', 'bmi_class': '3', 'map_class': '2', 'cholesterol_class': '1', 'glucose_class': '2', 'smoke': '0', 'active': '0', 'cvd_prediction': '1', 'diabetes_prediction': '1'}, 'health_statuses': {'bmi_status': 'Obese', 'map_status': 'Elevated', 'cholesterol_status': 'Borderline High', 'glucose_status': 'High', 'cvd_risk': 'High Risk', 'diabetes_risk': 'High Risk'}}\n"
     ]
    },
    {
     "name": "stderr",
     "output_type": "stream",
     "text": [
      "127.0.0.1 - - [16/May/2022 23:00:37] \"POST /_dash-update-component HTTP/1.1\" 200 -\n",
      "127.0.0.1 - - [16/May/2022 23:00:37] \"POST /_dash-update-component HTTP/1.1\" 200 -\n",
      "127.0.0.1 - - [16/May/2022 23:00:38] \"POST /_dash-update-component HTTP/1.1\" 200 -\n",
      "127.0.0.1 - - [16/May/2022 23:00:38] \"POST /_dash-update-component HTTP/1.1\" 200 -\n",
      "127.0.0.1 - - [16/May/2022 23:00:38] \"POST /_dash-update-component HTTP/1.1\" 200 -\n"
     ]
    },
    {
     "name": "stdout",
     "output_type": "stream",
     "text": [
      "{'patient': {'cluster': '1', 'age': '33', 'gender': '0', 'cholesterol': '239', 'systolic_bp': '143', 'diastolic_bp': '93', 'mean_arterial_pressure': '109.66666666666667', 'skin_thickness': '27', 'insulin': '164', 'bmi': '31', 'dpf': '1', 'age_class': '0', 'bmi_class': '3', 'map_class': '2', 'cholesterol_class': '1', 'glucose_class': '2', 'smoke': '0', 'active': '0', 'cvd_prediction': '1', 'diabetes_prediction': '1'}, 'health_statuses': {'bmi_status': 'Obese', 'map_status': 'Elevated', 'cholesterol_status': 'Borderline High', 'glucose_status': 'High', 'cvd_risk': 'High Risk', 'diabetes_risk': 'High Risk'}}\n",
      "{'patient': {'cluster': '1', 'age': '33', 'gender': '0', 'cholesterol': '239', 'systolic_bp': '143', 'diastolic_bp': '93', 'mean_arterial_pressure': '109.66666666666667', 'skin_thickness': '27', 'insulin': '164', 'bmi': '31', 'dpf': '1', 'age_class': '0', 'bmi_class': '3', 'map_class': '2', 'cholesterol_class': '1', 'glucose_class': '2', 'smoke': '0', 'active': '0', 'cvd_prediction': '1', 'diabetes_prediction': '1'}, 'health_statuses': {'bmi_status': 'Obese', 'map_status': 'Elevated', 'cholesterol_status': 'Borderline High', 'glucose_status': 'High', 'cvd_risk': 'High Risk', 'diabetes_risk': 'High Risk'}}\n"
     ]
    },
    {
     "name": "stderr",
     "output_type": "stream",
     "text": [
      "127.0.0.1 - - [16/May/2022 23:00:38] \"POST /_dash-update-component HTTP/1.1\" 200 -\n",
      "127.0.0.1 - - [16/May/2022 23:00:38] \"POST /_dash-update-component HTTP/1.1\" 200 -\n"
     ]
    },
    {
     "name": "stdout",
     "output_type": "stream",
     "text": [
      "{'patient': {'cluster': '1', 'age': '33', 'gender': '0', 'cholesterol': '239', 'systolic_bp': '143', 'diastolic_bp': '93', 'mean_arterial_pressure': '109.66666666666667', 'skin_thickness': '27', 'insulin': '164', 'bmi': '31', 'dpf': '1', 'age_class': '0', 'bmi_class': '3', 'map_class': '2', 'cholesterol_class': '1', 'glucose_class': '2', 'smoke': '0', 'active': '0', 'cvd_prediction': '1', 'diabetes_prediction': '1'}, 'health_statuses': {'bmi_status': 'Obese', 'map_status': 'Elevated', 'cholesterol_status': 'Borderline High', 'glucose_status': 'High', 'cvd_risk': 'High Risk', 'diabetes_risk': 'High Risk'}}\n"
     ]
    },
    {
     "name": "stderr",
     "output_type": "stream",
     "text": [
      "127.0.0.1 - - [16/May/2022 23:00:39] \"POST /_dash-update-component HTTP/1.1\" 200 -\n",
      "127.0.0.1 - - [16/May/2022 23:00:39] \"POST /_dash-update-component HTTP/1.1\" 200 -\n",
      "127.0.0.1 - - [16/May/2022 23:00:39] \"POST /_dash-update-component HTTP/1.1\" 200 -\n"
     ]
    },
    {
     "name": "stdout",
     "output_type": "stream",
     "text": [
      "{'patient': {'cluster': '1', 'age': '33', 'gender': '0', 'cholesterol': '239', 'systolic_bp': '143', 'diastolic_bp': '93', 'mean_arterial_pressure': '109.66666666666667', 'skin_thickness': '27', 'insulin': '164', 'bmi': '31', 'dpf': '1', 'age_class': '0', 'bmi_class': '3', 'map_class': '2', 'cholesterol_class': '1', 'glucose_class': '2', 'smoke': '0', 'active': '0', 'cvd_prediction': '1', 'diabetes_prediction': '0'}, 'health_statuses': {'bmi_status': 'Obese', 'map_status': 'Elevated', 'cholesterol_status': 'Borderline High', 'glucose_status': 'High', 'cvd_risk': 'High Risk', 'diabetes_risk': 'Low Risk'}}\n"
     ]
    },
    {
     "name": "stderr",
     "output_type": "stream",
     "text": [
      "127.0.0.1 - - [16/May/2022 23:00:39] \"POST /_dash-update-component HTTP/1.1\" 200 -\n"
     ]
    },
    {
     "name": "stdout",
     "output_type": "stream",
     "text": [
      "{'patient': {'cluster': '1', 'age': '33', 'gender': '0', 'cholesterol': '239', 'systolic_bp': '143', 'diastolic_bp': '93', 'mean_arterial_pressure': '109.66666666666667', 'skin_thickness': '27', 'insulin': '164', 'bmi': '31', 'dpf': '1', 'age_class': '0', 'bmi_class': '3', 'map_class': '2', 'cholesterol_class': '1', 'glucose_class': '2', 'smoke': '0', 'active': '0', 'cvd_prediction': '1', 'diabetes_prediction': '0'}, 'health_statuses': {'bmi_status': 'Obese', 'map_status': 'Elevated', 'cholesterol_status': 'Borderline High', 'glucose_status': 'High', 'cvd_risk': 'High Risk', 'diabetes_risk': 'Low Risk'}}\n"
     ]
    },
    {
     "name": "stderr",
     "output_type": "stream",
     "text": [
      "127.0.0.1 - - [16/May/2022 23:00:40] \"POST /_dash-update-component HTTP/1.1\" 200 -\n",
      "127.0.0.1 - - [16/May/2022 23:00:40] \"POST /_dash-update-component HTTP/1.1\" 200 -\n"
     ]
    },
    {
     "name": "stdout",
     "output_type": "stream",
     "text": [
      "{'patient': {'cluster': '1', 'age': '33', 'gender': '0', 'cholesterol': '239', 'systolic_bp': '143', 'diastolic_bp': '93', 'mean_arterial_pressure': '109.66666666666667', 'skin_thickness': '27', 'insulin': '164', 'bmi': '31', 'dpf': '1', 'age_class': '0', 'bmi_class': '3', 'map_class': '2', 'cholesterol_class': '1', 'glucose_class': '2', 'smoke': '0', 'active': '0', 'cvd_prediction': '1', 'diabetes_prediction': '0'}, 'health_statuses': {'bmi_status': 'Obese', 'map_status': 'Elevated', 'cholesterol_status': 'Borderline High', 'glucose_status': 'High', 'cvd_risk': 'High Risk', 'diabetes_risk': 'Low Risk'}}\n"
     ]
    },
    {
     "name": "stderr",
     "output_type": "stream",
     "text": [
      "127.0.0.1 - - [16/May/2022 23:00:40] \"POST /_dash-update-component HTTP/1.1\" 200 -\n",
      "127.0.0.1 - - [16/May/2022 23:00:40] \"POST /_dash-update-component HTTP/1.1\" 200 -\n",
      "127.0.0.1 - - [16/May/2022 23:00:40] \"POST /_dash-update-component HTTP/1.1\" 200 -\n"
     ]
    },
    {
     "name": "stdout",
     "output_type": "stream",
     "text": [
      "{'patient': {'cluster': '1', 'age': '33', 'gender': '0', 'cholesterol': '239', 'systolic_bp': '143', 'diastolic_bp': '93', 'mean_arterial_pressure': '109.66666666666667', 'skin_thickness': '27', 'insulin': '164', 'bmi': '31', 'dpf': '1', 'age_class': '0', 'bmi_class': '3', 'map_class': '2', 'cholesterol_class': '1', 'glucose_class': '2', 'smoke': '0', 'active': '0', 'cvd_prediction': '1', 'diabetes_prediction': '0'}, 'health_statuses': {'bmi_status': 'Obese', 'map_status': 'Elevated', 'cholesterol_status': 'Borderline High', 'glucose_status': 'High', 'cvd_risk': 'High Risk', 'diabetes_risk': 'Low Risk'}}\n",
      "{'patient': {'cluster': '1', 'age': '33', 'gender': '0', 'cholesterol': '239', 'systolic_bp': '143', 'diastolic_bp': '93', 'mean_arterial_pressure': '109.66666666666667', 'skin_thickness': '27', 'insulin': '164', 'bmi': '31', 'dpf': '1', 'age_class': '0', 'bmi_class': '3', 'map_class': '2', 'cholesterol_class': '1', 'glucose_class': '2', 'smoke': '0', 'active': '0', 'cvd_prediction': '1', 'diabetes_prediction': '0'}, 'health_statuses': {'bmi_status': 'Obese', 'map_status': 'Elevated', 'cholesterol_status': 'Borderline High', 'glucose_status': 'High', 'cvd_risk': 'High Risk', 'diabetes_risk': 'Low Risk'}}\n"
     ]
    },
    {
     "name": "stderr",
     "output_type": "stream",
     "text": [
      "127.0.0.1 - - [16/May/2022 23:00:40] \"POST /_dash-update-component HTTP/1.1\" 200 -\n",
      "127.0.0.1 - - [16/May/2022 23:00:42] \"POST /_dash-update-component HTTP/1.1\" 200 -\n",
      "127.0.0.1 - - [16/May/2022 23:00:42] \"POST /_dash-update-component HTTP/1.1\" 200 -\n",
      "127.0.0.1 - - [16/May/2022 23:00:42] \"POST /_dash-update-component HTTP/1.1\" 200 -\n",
      "127.0.0.1 - - [16/May/2022 23:00:42] \"POST /_dash-update-component HTTP/1.1\" 200 -\n"
     ]
    },
    {
     "name": "stdout",
     "output_type": "stream",
     "text": [
      "{'patient': {'cluster': '1', 'age': '33', 'gender': '0', 'cholesterol': '239', 'systolic_bp': '143', 'diastolic_bp': '93', 'mean_arterial_pressure': '109.66666666666667', 'skin_thickness': '27', 'insulin': '164', 'bmi': '31', 'dpf': '1', 'age_class': '0', 'bmi_class': '3', 'map_class': '2', 'cholesterol_class': '1', 'glucose_class': '0', 'smoke': '0', 'active': '0', 'cvd_prediction': '1', 'diabetes_prediction': '0'}, 'health_statuses': {'bmi_status': 'Obese', 'map_status': 'Elevated', 'cholesterol_status': 'Borderline High', 'glucose_status': 'Normal', 'cvd_risk': 'High Risk', 'diabetes_risk': 'Low Risk'}}\n"
     ]
    },
    {
     "name": "stderr",
     "output_type": "stream",
     "text": [
      "127.0.0.1 - - [16/May/2022 23:00:42] \"POST /_dash-update-component HTTP/1.1\" 200 -\n",
      "127.0.0.1 - - [16/May/2022 23:00:42] \"POST /_dash-update-component HTTP/1.1\" 200 -\n"
     ]
    },
    {
     "name": "stdout",
     "output_type": "stream",
     "text": [
      "{'patient': {'cluster': '1', 'age': '33', 'gender': '0', 'cholesterol': '239', 'systolic_bp': '143', 'diastolic_bp': '93', 'mean_arterial_pressure': '109.66666666666667', 'skin_thickness': '27', 'insulin': '164', 'bmi': '31', 'dpf': '1', 'age_class': '0', 'bmi_class': '3', 'map_class': '2', 'cholesterol_class': '1', 'glucose_class': '0', 'smoke': '0', 'active': '0', 'cvd_prediction': '1', 'diabetes_prediction': '0'}, 'health_statuses': {'bmi_status': 'Obese', 'map_status': 'Elevated', 'cholesterol_status': 'Borderline High', 'glucose_status': 'Normal', 'cvd_risk': 'High Risk', 'diabetes_risk': 'Low Risk'}}\n",
      "{'patient': {'cluster': '1', 'age': '33', 'gender': '0', 'cholesterol': '239', 'systolic_bp': '143', 'diastolic_bp': '93', 'mean_arterial_pressure': '109.66666666666667', 'skin_thickness': '27', 'insulin': '164', 'bmi': '31', 'dpf': '1', 'age_class': '0', 'bmi_class': '3', 'map_class': '2', 'cholesterol_class': '1', 'glucose_class': '1', 'smoke': '0', 'active': '0', 'cvd_prediction': '1', 'diabetes_prediction': '0'}, 'health_statuses': {'bmi_status': 'Obese', 'map_status': 'Elevated', 'cholesterol_status': 'Borderline High', 'glucose_status': 'Borderline High', 'cvd_risk': 'High Risk', 'diabetes_risk': 'Low Risk'}}\n"
     ]
    },
    {
     "name": "stderr",
     "output_type": "stream",
     "text": [
      "127.0.0.1 - - [16/May/2022 23:00:47] \"POST /_dash-update-component HTTP/1.1\" 200 -\n",
      "127.0.0.1 - - [16/May/2022 23:00:47] \"POST /_dash-update-component HTTP/1.1\" 200 -\n"
     ]
    },
    {
     "name": "stdout",
     "output_type": "stream",
     "text": [
      "{'patient': {'cluster': '1', 'age': '33', 'gender': '0', 'cholesterol': '239', 'systolic_bp': '142', 'diastolic_bp': '93', 'mean_arterial_pressure': '109.33333333333333', 'skin_thickness': '27', 'insulin': '164', 'bmi': '31', 'dpf': '1', 'age_class': '0', 'bmi_class': '3', 'map_class': '2', 'cholesterol_class': '1', 'glucose_class': '1', 'smoke': '0', 'active': '0', 'cvd_prediction': '1', 'diabetes_prediction': '0'}, 'health_statuses': {'bmi_status': 'Obese', 'map_status': 'Elevated', 'cholesterol_status': 'Borderline High', 'glucose_status': 'Borderline High', 'cvd_risk': 'High Risk', 'diabetes_risk': 'Low Risk'}}\n"
     ]
    },
    {
     "name": "stderr",
     "output_type": "stream",
     "text": [
      "127.0.0.1 - - [16/May/2022 23:00:48] \"POST /_dash-update-component HTTP/1.1\" 200 -\n",
      "127.0.0.1 - - [16/May/2022 23:00:48] \"POST /_dash-update-component HTTP/1.1\" 200 -\n"
     ]
    },
    {
     "name": "stdout",
     "output_type": "stream",
     "text": [
      "{'patient': {'cluster': '1', 'age': '33', 'gender': '0', 'cholesterol': '239', 'systolic_bp': '141', 'diastolic_bp': '93', 'mean_arterial_pressure': '109.0', 'skin_thickness': '27', 'insulin': '164', 'bmi': '31', 'dpf': '1', 'age_class': '0', 'bmi_class': '3', 'map_class': '2', 'cholesterol_class': '1', 'glucose_class': '1', 'smoke': '0', 'active': '0', 'cvd_prediction': '1', 'diabetes_prediction': '0'}, 'health_statuses': {'bmi_status': 'Obese', 'map_status': 'Elevated', 'cholesterol_status': 'Borderline High', 'glucose_status': 'Borderline High', 'cvd_risk': 'High Risk', 'diabetes_risk': 'Low Risk'}}\n"
     ]
    },
    {
     "name": "stderr",
     "output_type": "stream",
     "text": [
      "127.0.0.1 - - [16/May/2022 23:00:48] \"POST /_dash-update-component HTTP/1.1\" 200 -\n",
      "127.0.0.1 - - [16/May/2022 23:00:48] \"POST /_dash-update-component HTTP/1.1\" 200 -\n"
     ]
    },
    {
     "name": "stdout",
     "output_type": "stream",
     "text": [
      "{'patient': {'cluster': '1', 'age': '33', 'gender': '0', 'cholesterol': '239', 'systolic_bp': '140', 'diastolic_bp': '93', 'mean_arterial_pressure': '108.66666666666667', 'skin_thickness': '27', 'insulin': '164', 'bmi': '31', 'dpf': '1', 'age_class': '0', 'bmi_class': '3', 'map_class': '2', 'cholesterol_class': '1', 'glucose_class': '1', 'smoke': '0', 'active': '0', 'cvd_prediction': '1', 'diabetes_prediction': '0'}, 'health_statuses': {'bmi_status': 'Obese', 'map_status': 'Elevated', 'cholesterol_status': 'Borderline High', 'glucose_status': 'Borderline High', 'cvd_risk': 'High Risk', 'diabetes_risk': 'Low Risk'}}\n"
     ]
    },
    {
     "name": "stderr",
     "output_type": "stream",
     "text": [
      "127.0.0.1 - - [16/May/2022 23:00:49] \"POST /_dash-update-component HTTP/1.1\" 200 -\n",
      "127.0.0.1 - - [16/May/2022 23:00:49] \"POST /_dash-update-component HTTP/1.1\" 200 -\n"
     ]
    },
    {
     "name": "stdout",
     "output_type": "stream",
     "text": [
      "{'patient': {'cluster': '1', 'age': '33', 'gender': '0', 'cholesterol': '239', 'systolic_bp': '139', 'diastolic_bp': '93', 'mean_arterial_pressure': '108.33333333333333', 'skin_thickness': '27', 'insulin': '164', 'bmi': '31', 'dpf': '1', 'age_class': '0', 'bmi_class': '3', 'map_class': '2', 'cholesterol_class': '1', 'glucose_class': '1', 'smoke': '0', 'active': '0', 'cvd_prediction': '1', 'diabetes_prediction': '0'}, 'health_statuses': {'bmi_status': 'Obese', 'map_status': 'Elevated', 'cholesterol_status': 'Borderline High', 'glucose_status': 'Borderline High', 'cvd_risk': 'High Risk', 'diabetes_risk': 'Low Risk'}}\n"
     ]
    },
    {
     "name": "stderr",
     "output_type": "stream",
     "text": [
      "127.0.0.1 - - [16/May/2022 23:00:49] \"POST /_dash-update-component HTTP/1.1\" 200 -\n",
      "127.0.0.1 - - [16/May/2022 23:00:49] \"POST /_dash-update-component HTTP/1.1\" 200 -\n"
     ]
    },
    {
     "name": "stdout",
     "output_type": "stream",
     "text": [
      "{'patient': {'cluster': '1', 'age': '33', 'gender': '0', 'cholesterol': '239', 'systolic_bp': '138', 'diastolic_bp': '93', 'mean_arterial_pressure': '108.0', 'skin_thickness': '27', 'insulin': '164', 'bmi': '31', 'dpf': '1', 'age_class': '0', 'bmi_class': '3', 'map_class': '2', 'cholesterol_class': '1', 'glucose_class': '1', 'smoke': '0', 'active': '0', 'cvd_prediction': '1', 'diabetes_prediction': '0'}, 'health_statuses': {'bmi_status': 'Obese', 'map_status': 'Elevated', 'cholesterol_status': 'Borderline High', 'glucose_status': 'Borderline High', 'cvd_risk': 'High Risk', 'diabetes_risk': 'Low Risk'}}\n"
     ]
    },
    {
     "name": "stderr",
     "output_type": "stream",
     "text": [
      "127.0.0.1 - - [16/May/2022 23:00:50] \"POST /_dash-update-component HTTP/1.1\" 200 -\n",
      "127.0.0.1 - - [16/May/2022 23:00:50] \"POST /_dash-update-component HTTP/1.1\" 200 -\n"
     ]
    },
    {
     "name": "stdout",
     "output_type": "stream",
     "text": [
      "{'patient': {'cluster': '1', 'age': '33', 'gender': '0', 'cholesterol': '239', 'systolic_bp': '137', 'diastolic_bp': '93', 'mean_arterial_pressure': '107.66666666666667', 'skin_thickness': '27', 'insulin': '164', 'bmi': '31', 'dpf': '1', 'age_class': '0', 'bmi_class': '3', 'map_class': '2', 'cholesterol_class': '1', 'glucose_class': '1', 'smoke': '0', 'active': '0', 'cvd_prediction': '1', 'diabetes_prediction': '0'}, 'health_statuses': {'bmi_status': 'Obese', 'map_status': 'Elevated', 'cholesterol_status': 'Borderline High', 'glucose_status': 'Borderline High', 'cvd_risk': 'High Risk', 'diabetes_risk': 'Low Risk'}}\n"
     ]
    },
    {
     "name": "stderr",
     "output_type": "stream",
     "text": [
      "127.0.0.1 - - [16/May/2022 23:00:50] \"POST /_dash-update-component HTTP/1.1\" 200 -\n",
      "127.0.0.1 - - [16/May/2022 23:00:51] \"POST /_dash-update-component HTTP/1.1\" 200 -\n"
     ]
    },
    {
     "name": "stdout",
     "output_type": "stream",
     "text": [
      "{'patient': {'cluster': '1', 'age': '33', 'gender': '0', 'cholesterol': '239', 'systolic_bp': '136', 'diastolic_bp': '93', 'mean_arterial_pressure': '107.33333333333333', 'skin_thickness': '27', 'insulin': '164', 'bmi': '31', 'dpf': '1', 'age_class': '0', 'bmi_class': '3', 'map_class': '2', 'cholesterol_class': '1', 'glucose_class': '1', 'smoke': '0', 'active': '0', 'cvd_prediction': '1', 'diabetes_prediction': '0'}, 'health_statuses': {'bmi_status': 'Obese', 'map_status': 'Elevated', 'cholesterol_status': 'Borderline High', 'glucose_status': 'Borderline High', 'cvd_risk': 'High Risk', 'diabetes_risk': 'Low Risk'}}\n"
     ]
    },
    {
     "name": "stderr",
     "output_type": "stream",
     "text": [
      "127.0.0.1 - - [16/May/2022 23:00:51] \"POST /_dash-update-component HTTP/1.1\" 200 -\n",
      "127.0.0.1 - - [16/May/2022 23:00:51] \"POST /_dash-update-component HTTP/1.1\" 200 -\n"
     ]
    },
    {
     "name": "stdout",
     "output_type": "stream",
     "text": [
      "{'patient': {'cluster': '1', 'age': '33', 'gender': '0', 'cholesterol': '239', 'systolic_bp': '135', 'diastolic_bp': '93', 'mean_arterial_pressure': '107.0', 'skin_thickness': '27', 'insulin': '164', 'bmi': '31', 'dpf': '1', 'age_class': '0', 'bmi_class': '3', 'map_class': '2', 'cholesterol_class': '1', 'glucose_class': '1', 'smoke': '0', 'active': '0', 'cvd_prediction': '1', 'diabetes_prediction': '0'}, 'health_statuses': {'bmi_status': 'Obese', 'map_status': 'Elevated', 'cholesterol_status': 'Borderline High', 'glucose_status': 'Borderline High', 'cvd_risk': 'High Risk', 'diabetes_risk': 'Low Risk'}}\n"
     ]
    },
    {
     "name": "stderr",
     "output_type": "stream",
     "text": [
      "127.0.0.1 - - [16/May/2022 23:00:52] \"POST /_dash-update-component HTTP/1.1\" 200 -\n",
      "127.0.0.1 - - [16/May/2022 23:00:52] \"POST /_dash-update-component HTTP/1.1\" 200 -\n"
     ]
    },
    {
     "name": "stdout",
     "output_type": "stream",
     "text": [
      "{'patient': {'cluster': '1', 'age': '33', 'gender': '0', 'cholesterol': '239', 'systolic_bp': '134', 'diastolic_bp': '93', 'mean_arterial_pressure': '106.66666666666667', 'skin_thickness': '27', 'insulin': '164', 'bmi': '31', 'dpf': '1', 'age_class': '0', 'bmi_class': '3', 'map_class': '2', 'cholesterol_class': '1', 'glucose_class': '1', 'smoke': '0', 'active': '0', 'cvd_prediction': '1', 'diabetes_prediction': '0'}, 'health_statuses': {'bmi_status': 'Obese', 'map_status': 'Elevated', 'cholesterol_status': 'Borderline High', 'glucose_status': 'Borderline High', 'cvd_risk': 'High Risk', 'diabetes_risk': 'Low Risk'}}\n"
     ]
    },
    {
     "name": "stderr",
     "output_type": "stream",
     "text": [
      "127.0.0.1 - - [16/May/2022 23:00:52] \"POST /_dash-update-component HTTP/1.1\" 200 -\n",
      "127.0.0.1 - - [16/May/2022 23:00:52] \"POST /_dash-update-component HTTP/1.1\" 200 -\n"
     ]
    },
    {
     "name": "stdout",
     "output_type": "stream",
     "text": [
      "{'patient': {'cluster': '1', 'age': '33', 'gender': '0', 'cholesterol': '239', 'systolic_bp': '133', 'diastolic_bp': '93', 'mean_arterial_pressure': '106.33333333333333', 'skin_thickness': '27', 'insulin': '164', 'bmi': '31', 'dpf': '1', 'age_class': '0', 'bmi_class': '3', 'map_class': '2', 'cholesterol_class': '1', 'glucose_class': '1', 'smoke': '0', 'active': '0', 'cvd_prediction': '1', 'diabetes_prediction': '0'}, 'health_statuses': {'bmi_status': 'Obese', 'map_status': 'Elevated', 'cholesterol_status': 'Borderline High', 'glucose_status': 'Borderline High', 'cvd_risk': 'High Risk', 'diabetes_risk': 'Low Risk'}}\n"
     ]
    },
    {
     "name": "stderr",
     "output_type": "stream",
     "text": [
      "127.0.0.1 - - [16/May/2022 23:00:53] \"POST /_dash-update-component HTTP/1.1\" 200 -\n",
      "127.0.0.1 - - [16/May/2022 23:00:53] \"POST /_dash-update-component HTTP/1.1\" 200 -\n",
      "127.0.0.1 - - [16/May/2022 23:00:53] \"POST /_dash-update-component HTTP/1.1\" 200 -\n",
      "127.0.0.1 - - [16/May/2022 23:00:53] \"POST /_dash-update-component HTTP/1.1\" 200 -\n"
     ]
    },
    {
     "name": "stdout",
     "output_type": "stream",
     "text": [
      "{'patient': {'cluster': '1', 'age': '33', 'gender': '0', 'cholesterol': '239', 'systolic_bp': '132', 'diastolic_bp': '93', 'mean_arterial_pressure': '106.0', 'skin_thickness': '27', 'insulin': '164', 'bmi': '31', 'dpf': '1', 'age_class': '0', 'bmi_class': '3', 'map_class': '2', 'cholesterol_class': '1', 'glucose_class': '1', 'smoke': '0', 'active': '0', 'cvd_prediction': '1', 'diabetes_prediction': '0'}, 'health_statuses': {'bmi_status': 'Obese', 'map_status': 'Elevated', 'cholesterol_status': 'Borderline High', 'glucose_status': 'Borderline High', 'cvd_risk': 'High Risk', 'diabetes_risk': 'Low Risk'}}\n",
      "{'patient': {'cluster': '1', 'age': '33', 'gender': '0', 'cholesterol': '239', 'systolic_bp': '131', 'diastolic_bp': '93', 'mean_arterial_pressure': '105.66666666666667', 'skin_thickness': '27', 'insulin': '164', 'bmi': '31', 'dpf': '1', 'age_class': '0', 'bmi_class': '3', 'map_class': '2', 'cholesterol_class': '1', 'glucose_class': '1', 'smoke': '0', 'active': '0', 'cvd_prediction': '1', 'diabetes_prediction': '0'}, 'health_statuses': {'bmi_status': 'Obese', 'map_status': 'Elevated', 'cholesterol_status': 'Borderline High', 'glucose_status': 'Borderline High', 'cvd_risk': 'High Risk', 'diabetes_risk': 'Low Risk'}}\n"
     ]
    },
    {
     "name": "stderr",
     "output_type": "stream",
     "text": [
      "127.0.0.1 - - [16/May/2022 23:00:53] \"POST /_dash-update-component HTTP/1.1\" 200 -\n",
      "127.0.0.1 - - [16/May/2022 23:00:53] \"POST /_dash-update-component HTTP/1.1\" 200 -\n",
      "127.0.0.1 - - [16/May/2022 23:00:53] \"POST /_dash-update-component HTTP/1.1\" 200 -\n",
      "127.0.0.1 - - [16/May/2022 23:00:53] \"POST /_dash-update-component HTTP/1.1\" 200 -\n"
     ]
    },
    {
     "name": "stdout",
     "output_type": "stream",
     "text": [
      "{'patient': {'cluster': '1', 'age': '33', 'gender': '0', 'cholesterol': '239', 'systolic_bp': '130', 'diastolic_bp': '93', 'mean_arterial_pressure': '105.33333333333333', 'skin_thickness': '27', 'insulin': '164', 'bmi': '31', 'dpf': '1', 'age_class': '0', 'bmi_class': '3', 'map_class': '2', 'cholesterol_class': '1', 'glucose_class': '1', 'smoke': '0', 'active': '0', 'cvd_prediction': '1', 'diabetes_prediction': '0'}, 'health_statuses': {'bmi_status': 'Obese', 'map_status': 'Elevated', 'cholesterol_status': 'Borderline High', 'glucose_status': 'Borderline High', 'cvd_risk': 'High Risk', 'diabetes_risk': 'Low Risk'}}\n",
      "{'patient': {'cluster': '1', 'age': '33', 'gender': '0', 'cholesterol': '239', 'systolic_bp': '129', 'diastolic_bp': '93', 'mean_arterial_pressure': '105.0', 'skin_thickness': '27', 'insulin': '164', 'bmi': '31', 'dpf': '1', 'age_class': '0', 'bmi_class': '3', 'map_class': '2', 'cholesterol_class': '1', 'glucose_class': '1', 'smoke': '0', 'active': '0', 'cvd_prediction': '1', 'diabetes_prediction': '0'}, 'health_statuses': {'bmi_status': 'Obese', 'map_status': 'Elevated', 'cholesterol_status': 'Borderline High', 'glucose_status': 'Borderline High', 'cvd_risk': 'High Risk', 'diabetes_risk': 'Low Risk'}}\n"
     ]
    },
    {
     "name": "stderr",
     "output_type": "stream",
     "text": [
      "127.0.0.1 - - [16/May/2022 23:00:53] \"POST /_dash-update-component HTTP/1.1\" 200 -\n",
      "127.0.0.1 - - [16/May/2022 23:00:54] \"POST /_dash-update-component HTTP/1.1\" 200 -\n"
     ]
    },
    {
     "name": "stdout",
     "output_type": "stream",
     "text": [
      "{'patient': {'cluster': '1', 'age': '33', 'gender': '0', 'cholesterol': '239', 'systolic_bp': '128', 'diastolic_bp': '93', 'mean_arterial_pressure': '104.66666666666667', 'skin_thickness': '27', 'insulin': '164', 'bmi': '31', 'dpf': '1', 'age_class': '0', 'bmi_class': '3', 'map_class': '2', 'cholesterol_class': '1', 'glucose_class': '1', 'smoke': '0', 'active': '0', 'cvd_prediction': '1', 'diabetes_prediction': '0'}, 'health_statuses': {'bmi_status': 'Obese', 'map_status': 'Elevated', 'cholesterol_status': 'Borderline High', 'glucose_status': 'Borderline High', 'cvd_risk': 'High Risk', 'diabetes_risk': 'Low Risk'}}\n"
     ]
    },
    {
     "name": "stderr",
     "output_type": "stream",
     "text": [
      "127.0.0.1 - - [16/May/2022 23:00:54] \"POST /_dash-update-component HTTP/1.1\" 200 -\n",
      "127.0.0.1 - - [16/May/2022 23:00:54] \"POST /_dash-update-component HTTP/1.1\" 200 -\n"
     ]
    },
    {
     "name": "stdout",
     "output_type": "stream",
     "text": [
      "{'patient': {'cluster': '1', 'age': '33', 'gender': '0', 'cholesterol': '239', 'systolic_bp': '127', 'diastolic_bp': '93', 'mean_arterial_pressure': '104.33333333333333', 'skin_thickness': '27', 'insulin': '164', 'bmi': '31', 'dpf': '1', 'age_class': '0', 'bmi_class': '3', 'map_class': '2', 'cholesterol_class': '1', 'glucose_class': '1', 'smoke': '0', 'active': '0', 'cvd_prediction': '1', 'diabetes_prediction': '0'}, 'health_statuses': {'bmi_status': 'Obese', 'map_status': 'Elevated', 'cholesterol_status': 'Borderline High', 'glucose_status': 'Borderline High', 'cvd_risk': 'High Risk', 'diabetes_risk': 'Low Risk'}}\n"
     ]
    },
    {
     "name": "stderr",
     "output_type": "stream",
     "text": [
      "127.0.0.1 - - [16/May/2022 23:01:06] \"POST /_dash-update-component HTTP/1.1\" 200 -\n",
      "127.0.0.1 - - [16/May/2022 23:01:06] \"POST /_dash-update-component HTTP/1.1\" 200 -\n"
     ]
    },
    {
     "name": "stdout",
     "output_type": "stream",
     "text": [
      "{'patient': {'cluster': '1', 'age': '33', 'gender': '0', 'cholesterol': '239', 'systolic_bp': '127', 'diastolic_bp': '92', 'mean_arterial_pressure': '103.66666666666667', 'skin_thickness': '27', 'insulin': '164', 'bmi': '31', 'dpf': '1', 'age_class': '0', 'bmi_class': '3', 'map_class': '2', 'cholesterol_class': '1', 'glucose_class': '1', 'smoke': '0', 'active': '0', 'cvd_prediction': '1', 'diabetes_prediction': '0'}, 'health_statuses': {'bmi_status': 'Obese', 'map_status': 'Elevated', 'cholesterol_status': 'Borderline High', 'glucose_status': 'Borderline High', 'cvd_risk': 'High Risk', 'diabetes_risk': 'Low Risk'}}\n"
     ]
    },
    {
     "name": "stderr",
     "output_type": "stream",
     "text": [
      "127.0.0.1 - - [16/May/2022 23:01:06] \"POST /_dash-update-component HTTP/1.1\" 200 -\n",
      "127.0.0.1 - - [16/May/2022 23:01:06] \"POST /_dash-update-component HTTP/1.1\" 200 -\n",
      "127.0.0.1 - - [16/May/2022 23:01:06] \"POST /_dash-update-component HTTP/1.1\" 200 -\n"
     ]
    },
    {
     "name": "stdout",
     "output_type": "stream",
     "text": [
      "{'patient': {'cluster': '1', 'age': '33', 'gender': '0', 'cholesterol': '239', 'systolic_bp': '127', 'diastolic_bp': '91', 'mean_arterial_pressure': '103.0', 'skin_thickness': '27', 'insulin': '164', 'bmi': '31', 'dpf': '1', 'age_class': '0', 'bmi_class': '3', 'map_class': '2', 'cholesterol_class': '1', 'glucose_class': '1', 'smoke': '0', 'active': '0', 'cvd_prediction': '1', 'diabetes_prediction': '0'}, 'health_statuses': {'bmi_status': 'Obese', 'map_status': 'Elevated', 'cholesterol_status': 'Borderline High', 'glucose_status': 'Borderline High', 'cvd_risk': 'High Risk', 'diabetes_risk': 'Low Risk'}}\n",
      "{'patient': {'cluster': '1', 'age': '33', 'gender': '0', 'cholesterol': '239', 'systolic_bp': '127', 'diastolic_bp': '90', 'mean_arterial_pressure': '102.33333333333333', 'skin_thickness': '27', 'insulin': '164', 'bmi': '31', 'dpf': '1', 'age_class': '0', 'bmi_class': '3', 'map_class': '2', 'cholesterol_class': '1', 'glucose_class': '1', 'smoke': '0', 'active': '0', 'cvd_prediction': '1', 'diabetes_prediction': '0'}, 'health_statuses': {'bmi_status': 'Obese', 'map_status': 'Elevated', 'cholesterol_status': 'Borderline High', 'glucose_status': 'Borderline High', 'cvd_risk': 'High Risk', 'diabetes_risk': 'Low Risk'}}\n"
     ]
    },
    {
     "name": "stderr",
     "output_type": "stream",
     "text": [
      "127.0.0.1 - - [16/May/2022 23:01:07] \"POST /_dash-update-component HTTP/1.1\" 200 -\n",
      "127.0.0.1 - - [16/May/2022 23:01:07] \"POST /_dash-update-component HTTP/1.1\" 200 -\n",
      "127.0.0.1 - - [16/May/2022 23:01:07] \"POST /_dash-update-component HTTP/1.1\" 200 -\n"
     ]
    },
    {
     "name": "stdout",
     "output_type": "stream",
     "text": [
      "{'patient': {'cluster': '1', 'age': '33', 'gender': '0', 'cholesterol': '239', 'systolic_bp': '127', 'diastolic_bp': '89', 'mean_arterial_pressure': '101.66666666666667', 'skin_thickness': '27', 'insulin': '164', 'bmi': '31', 'dpf': '1', 'age_class': '0', 'bmi_class': '3', 'map_class': '2', 'cholesterol_class': '1', 'glucose_class': '1', 'smoke': '0', 'active': '0', 'cvd_prediction': '1', 'diabetes_prediction': '0'}, 'health_statuses': {'bmi_status': 'Obese', 'map_status': 'Elevated', 'cholesterol_status': 'Borderline High', 'glucose_status': 'Borderline High', 'cvd_risk': 'High Risk', 'diabetes_risk': 'Low Risk'}}\n"
     ]
    },
    {
     "name": "stderr",
     "output_type": "stream",
     "text": [
      "127.0.0.1 - - [16/May/2022 23:01:07] \"POST /_dash-update-component HTTP/1.1\" 200 -\n",
      "127.0.0.1 - - [16/May/2022 23:01:07] \"POST /_dash-update-component HTTP/1.1\" 200 -\n"
     ]
    },
    {
     "name": "stdout",
     "output_type": "stream",
     "text": [
      "{'patient': {'cluster': '1', 'age': '33', 'gender': '0', 'cholesterol': '239', 'systolic_bp': '127', 'diastolic_bp': '88', 'mean_arterial_pressure': '101.0', 'skin_thickness': '27', 'insulin': '164', 'bmi': '31', 'dpf': '1', 'age_class': '0', 'bmi_class': '3', 'map_class': '2', 'cholesterol_class': '1', 'glucose_class': '1', 'smoke': '0', 'active': '0', 'cvd_prediction': '1', 'diabetes_prediction': '0'}, 'health_statuses': {'bmi_status': 'Obese', 'map_status': 'Elevated', 'cholesterol_status': 'Borderline High', 'glucose_status': 'Borderline High', 'cvd_risk': 'High Risk', 'diabetes_risk': 'Low Risk'}}\n"
     ]
    },
    {
     "name": "stderr",
     "output_type": "stream",
     "text": [
      "127.0.0.1 - - [16/May/2022 23:01:07] \"POST /_dash-update-component HTTP/1.1\" 200 -\n",
      "127.0.0.1 - - [16/May/2022 23:01:08] \"POST /_dash-update-component HTTP/1.1\" 200 -\n",
      "127.0.0.1 - - [16/May/2022 23:01:08] \"POST /_dash-update-component HTTP/1.1\" 200 -\n"
     ]
    },
    {
     "name": "stdout",
     "output_type": "stream",
     "text": [
      "{'patient': {'cluster': '1', 'age': '33', 'gender': '0', 'cholesterol': '239', 'systolic_bp': '127', 'diastolic_bp': '87', 'mean_arterial_pressure': '100.33333333333333', 'skin_thickness': '27', 'insulin': '164', 'bmi': '31', 'dpf': '1', 'age_class': '0', 'bmi_class': '3', 'map_class': '1', 'cholesterol_class': '1', 'glucose_class': '1', 'smoke': '0', 'active': '0', 'cvd_prediction': '1', 'diabetes_prediction': '0'}, 'health_statuses': {'bmi_status': 'Obese', 'map_status': 'Normal', 'cholesterol_status': 'Borderline High', 'glucose_status': 'Borderline High', 'cvd_risk': 'High Risk', 'diabetes_risk': 'Low Risk'}}\n"
     ]
    },
    {
     "name": "stderr",
     "output_type": "stream",
     "text": [
      "127.0.0.1 - - [16/May/2022 23:01:08] \"POST /_dash-update-component HTTP/1.1\" 200 -\n",
      "127.0.0.1 - - [16/May/2022 23:01:08] \"POST /_dash-update-component HTTP/1.1\" 200 -\n"
     ]
    },
    {
     "name": "stdout",
     "output_type": "stream",
     "text": [
      "{'patient': {'cluster': '1', 'age': '33', 'gender': '0', 'cholesterol': '239', 'systolic_bp': '127', 'diastolic_bp': '86', 'mean_arterial_pressure': '99.66666666666667', 'skin_thickness': '27', 'insulin': '164', 'bmi': '31', 'dpf': '1', 'age_class': '0', 'bmi_class': '3', 'map_class': '1', 'cholesterol_class': '1', 'glucose_class': '1', 'smoke': '0', 'active': '0', 'cvd_prediction': '1', 'diabetes_prediction': '0'}, 'health_statuses': {'bmi_status': 'Obese', 'map_status': 'Normal', 'cholesterol_status': 'Borderline High', 'glucose_status': 'Borderline High', 'cvd_risk': 'High Risk', 'diabetes_risk': 'Low Risk'}}\n",
      "{'patient': {'cluster': '1', 'age': '33', 'gender': '0', 'cholesterol': '239', 'systolic_bp': '127', 'diastolic_bp': '85', 'mean_arterial_pressure': '99.0', 'skin_thickness': '27', 'insulin': '164', 'bmi': '31', 'dpf': '1', 'age_class': '0', 'bmi_class': '3', 'map_class': '1', 'cholesterol_class': '1', 'glucose_class': '1', 'smoke': '0', 'active': '0', 'cvd_prediction': '1', 'diabetes_prediction': '0'}, 'health_statuses': {'bmi_status': 'Obese', 'map_status': 'Normal', 'cholesterol_status': 'Borderline High', 'glucose_status': 'Borderline High', 'cvd_risk': 'High Risk', 'diabetes_risk': 'Low Risk'}}\n"
     ]
    },
    {
     "name": "stderr",
     "output_type": "stream",
     "text": [
      "127.0.0.1 - - [16/May/2022 23:01:08] \"POST /_dash-update-component HTTP/1.1\" 200 -\n",
      "127.0.0.1 - - [16/May/2022 23:01:08] \"POST /_dash-update-component HTTP/1.1\" 200 -\n",
      "127.0.0.1 - - [16/May/2022 23:01:08] \"POST /_dash-update-component HTTP/1.1\" 200 -\n",
      "127.0.0.1 - - [16/May/2022 23:01:08] \"POST /_dash-update-component HTTP/1.1\" 200 -\n",
      "127.0.0.1 - - [16/May/2022 23:01:08] \"POST /_dash-update-component HTTP/1.1\" 200 -\n"
     ]
    },
    {
     "name": "stdout",
     "output_type": "stream",
     "text": [
      "{'patient': {'cluster': '1', 'age': '33', 'gender': '0', 'cholesterol': '239', 'systolic_bp': '127', 'diastolic_bp': '84', 'mean_arterial_pressure': '98.33333333333333', 'skin_thickness': '27', 'insulin': '164', 'bmi': '31', 'dpf': '1', 'age_class': '0', 'bmi_class': '3', 'map_class': '1', 'cholesterol_class': '1', 'glucose_class': '1', 'smoke': '0', 'active': '0', 'cvd_prediction': '1', 'diabetes_prediction': '0'}, 'health_statuses': {'bmi_status': 'Obese', 'map_status': 'Normal', 'cholesterol_status': 'Borderline High', 'glucose_status': 'Borderline High', 'cvd_risk': 'High Risk', 'diabetes_risk': 'Low Risk'}}\n",
      "{'patient': {'cluster': '1', 'age': '33', 'gender': '0', 'cholesterol': '239', 'systolic_bp': '127', 'diastolic_bp': '83', 'mean_arterial_pressure': '97.66666666666667', 'skin_thickness': '27', 'insulin': '164', 'bmi': '31', 'dpf': '1', 'age_class': '0', 'bmi_class': '3', 'map_class': '1', 'cholesterol_class': '1', 'glucose_class': '1', 'smoke': '0', 'active': '0', 'cvd_prediction': '1', 'diabetes_prediction': '0'}, 'health_statuses': {'bmi_status': 'Obese', 'map_status': 'Normal', 'cholesterol_status': 'Borderline High', 'glucose_status': 'Borderline High', 'cvd_risk': 'High Risk', 'diabetes_risk': 'Low Risk'}}\n"
     ]
    },
    {
     "name": "stderr",
     "output_type": "stream",
     "text": [
      "127.0.0.1 - - [16/May/2022 23:01:09] \"POST /_dash-update-component HTTP/1.1\" 200 -\n",
      "127.0.0.1 - - [16/May/2022 23:01:09] \"POST /_dash-update-component HTTP/1.1\" 200 -\n",
      "127.0.0.1 - - [16/May/2022 23:01:09] \"POST /_dash-update-component HTTP/1.1\" 200 -\n"
     ]
    },
    {
     "name": "stdout",
     "output_type": "stream",
     "text": [
      "{'patient': {'cluster': '1', 'age': '33', 'gender': '0', 'cholesterol': '239', 'systolic_bp': '127', 'diastolic_bp': '82', 'mean_arterial_pressure': '97.0', 'skin_thickness': '27', 'insulin': '164', 'bmi': '31', 'dpf': '1', 'age_class': '0', 'bmi_class': '3', 'map_class': '1', 'cholesterol_class': '1', 'glucose_class': '1', 'smoke': '0', 'active': '0', 'cvd_prediction': '1', 'diabetes_prediction': '0'}, 'health_statuses': {'bmi_status': 'Obese', 'map_status': 'Normal', 'cholesterol_status': 'Borderline High', 'glucose_status': 'Borderline High', 'cvd_risk': 'High Risk', 'diabetes_risk': 'Low Risk'}}\n",
      "{'patient': {'cluster': '1', 'age': '33', 'gender': '0', 'cholesterol': '239', 'systolic_bp': '127', 'diastolic_bp': '81', 'mean_arterial_pressure': '96.33333333333333', 'skin_thickness': '27', 'insulin': '164', 'bmi': '31', 'dpf': '1', 'age_class': '0', 'bmi_class': '3', 'map_class': '1', 'cholesterol_class': '1', 'glucose_class': '1', 'smoke': '0', 'active': '0', 'cvd_prediction': '1', 'diabetes_prediction': '0'}, 'health_statuses': {'bmi_status': 'Obese', 'map_status': 'Normal', 'cholesterol_status': 'Borderline High', 'glucose_status': 'Borderline High', 'cvd_risk': 'High Risk', 'diabetes_risk': 'Low Risk'}}\n"
     ]
    },
    {
     "name": "stderr",
     "output_type": "stream",
     "text": [
      "127.0.0.1 - - [16/May/2022 23:01:09] \"POST /_dash-update-component HTTP/1.1\" 200 -\n",
      "127.0.0.1 - - [16/May/2022 23:01:09] \"POST /_dash-update-component HTTP/1.1\" 200 -\n",
      "127.0.0.1 - - [16/May/2022 23:01:09] \"POST /_dash-update-component HTTP/1.1\" 200 -\n",
      "127.0.0.1 - - [16/May/2022 23:01:09] \"POST /_dash-update-component HTTP/1.1\" 200 -\n"
     ]
    },
    {
     "name": "stdout",
     "output_type": "stream",
     "text": [
      "{'patient': {'cluster': '1', 'age': '33', 'gender': '0', 'cholesterol': '239', 'systolic_bp': '127', 'diastolic_bp': '80', 'mean_arterial_pressure': '95.66666666666667', 'skin_thickness': '27', 'insulin': '164', 'bmi': '31', 'dpf': '1', 'age_class': '0', 'bmi_class': '3', 'map_class': '1', 'cholesterol_class': '1', 'glucose_class': '1', 'smoke': '0', 'active': '0', 'cvd_prediction': '1', 'diabetes_prediction': '0'}, 'health_statuses': {'bmi_status': 'Obese', 'map_status': 'Normal', 'cholesterol_status': 'Borderline High', 'glucose_status': 'Borderline High', 'cvd_risk': 'High Risk', 'diabetes_risk': 'Low Risk'}}\n"
     ]
    },
    {
     "name": "stderr",
     "output_type": "stream",
     "text": [
      "127.0.0.1 - - [16/May/2022 23:01:09] \"POST /_dash-update-component HTTP/1.1\" 200 -\n"
     ]
    },
    {
     "name": "stdout",
     "output_type": "stream",
     "text": [
      "{'patient': {'cluster': '1', 'age': '33', 'gender': '0', 'cholesterol': '239', 'systolic_bp': '127', 'diastolic_bp': '79', 'mean_arterial_pressure': '95.0', 'skin_thickness': '27', 'insulin': '164', 'bmi': '31', 'dpf': '1', 'age_class': '0', 'bmi_class': '3', 'map_class': '1', 'cholesterol_class': '1', 'glucose_class': '1', 'smoke': '0', 'active': '0', 'cvd_prediction': '1', 'diabetes_prediction': '0'}, 'health_statuses': {'bmi_status': 'Obese', 'map_status': 'Normal', 'cholesterol_status': 'Borderline High', 'glucose_status': 'Borderline High', 'cvd_risk': 'High Risk', 'diabetes_risk': 'Low Risk'}}\n"
     ]
    },
    {
     "name": "stderr",
     "output_type": "stream",
     "text": [
      "127.0.0.1 - - [16/May/2022 23:01:10] \"POST /_dash-update-component HTTP/1.1\" 200 -\n",
      "127.0.0.1 - - [16/May/2022 23:01:10] \"POST /_dash-update-component HTTP/1.1\" 200 -\n"
     ]
    },
    {
     "name": "stdout",
     "output_type": "stream",
     "text": [
      "{'patient': {'cluster': '1', 'age': '33', 'gender': '0', 'cholesterol': '239', 'systolic_bp': '127', 'diastolic_bp': '78', 'mean_arterial_pressure': '94.33333333333333', 'skin_thickness': '27', 'insulin': '164', 'bmi': '31', 'dpf': '1', 'age_class': '0', 'bmi_class': '3', 'map_class': '1', 'cholesterol_class': '1', 'glucose_class': '1', 'smoke': '0', 'active': '0', 'cvd_prediction': '1', 'diabetes_prediction': '0'}, 'health_statuses': {'bmi_status': 'Obese', 'map_status': 'Normal', 'cholesterol_status': 'Borderline High', 'glucose_status': 'Borderline High', 'cvd_risk': 'High Risk', 'diabetes_risk': 'Low Risk'}}\n"
     ]
    },
    {
     "name": "stderr",
     "output_type": "stream",
     "text": [
      "127.0.0.1 - - [16/May/2022 23:01:10] \"POST /_dash-update-component HTTP/1.1\" 200 -\n",
      "127.0.0.1 - - [16/May/2022 23:01:10] \"POST /_dash-update-component HTTP/1.1\" 200 -\n"
     ]
    },
    {
     "name": "stdout",
     "output_type": "stream",
     "text": [
      "{'patient': {'cluster': '1', 'age': '33', 'gender': '0', 'cholesterol': '239', 'systolic_bp': '127', 'diastolic_bp': '77', 'mean_arterial_pressure': '93.66666666666667', 'skin_thickness': '27', 'insulin': '164', 'bmi': '31', 'dpf': '1', 'age_class': '0', 'bmi_class': '3', 'map_class': '1', 'cholesterol_class': '1', 'glucose_class': '1', 'smoke': '0', 'active': '0', 'cvd_prediction': '1', 'diabetes_prediction': '0'}, 'health_statuses': {'bmi_status': 'Obese', 'map_status': 'Normal', 'cholesterol_status': 'Borderline High', 'glucose_status': 'Borderline High', 'cvd_risk': 'High Risk', 'diabetes_risk': 'Low Risk'}}\n"
     ]
    },
    {
     "name": "stderr",
     "output_type": "stream",
     "text": [
      "127.0.0.1 - - [16/May/2022 23:01:11] \"POST /_dash-update-component HTTP/1.1\" 200 -\n",
      "127.0.0.1 - - [16/May/2022 23:01:11] \"POST /_dash-update-component HTTP/1.1\" 200 -\n",
      "127.0.0.1 - - [16/May/2022 23:01:11] \"POST /_dash-update-component HTTP/1.1\" 200 -\n"
     ]
    },
    {
     "name": "stdout",
     "output_type": "stream",
     "text": [
      "{'patient': {'cluster': '1', 'age': '33', 'gender': '0', 'cholesterol': '239', 'systolic_bp': '127', 'diastolic_bp': '76', 'mean_arterial_pressure': '93.0', 'skin_thickness': '27', 'insulin': '164', 'bmi': '31', 'dpf': '1', 'age_class': '0', 'bmi_class': '3', 'map_class': '1', 'cholesterol_class': '1', 'glucose_class': '1', 'smoke': '0', 'active': '0', 'cvd_prediction': '1', 'diabetes_prediction': '0'}, 'health_statuses': {'bmi_status': 'Obese', 'map_status': 'Normal', 'cholesterol_status': 'Borderline High', 'glucose_status': 'Borderline High', 'cvd_risk': 'High Risk', 'diabetes_risk': 'Low Risk'}}\n"
     ]
    },
    {
     "name": "stderr",
     "output_type": "stream",
     "text": [
      "127.0.0.1 - - [16/May/2022 23:01:11] \"POST /_dash-update-component HTTP/1.1\" 200 -\n"
     ]
    },
    {
     "name": "stdout",
     "output_type": "stream",
     "text": [
      "{'patient': {'cluster': '1', 'age': '33', 'gender': '0', 'cholesterol': '239', 'systolic_bp': '127', 'diastolic_bp': '75', 'mean_arterial_pressure': '92.33333333333333', 'skin_thickness': '27', 'insulin': '164', 'bmi': '31', 'dpf': '1', 'age_class': '0', 'bmi_class': '3', 'map_class': '1', 'cholesterol_class': '1', 'glucose_class': '1', 'smoke': '0', 'active': '0', 'cvd_prediction': '1', 'diabetes_prediction': '0'}, 'health_statuses': {'bmi_status': 'Obese', 'map_status': 'Normal', 'cholesterol_status': 'Borderline High', 'glucose_status': 'Borderline High', 'cvd_risk': 'High Risk', 'diabetes_risk': 'Low Risk'}}\n"
     ]
    },
    {
     "name": "stderr",
     "output_type": "stream",
     "text": [
      "127.0.0.1 - - [16/May/2022 23:01:11] \"POST /_dash-update-component HTTP/1.1\" 200 -\n",
      "127.0.0.1 - - [16/May/2022 23:01:11] \"POST /_dash-update-component HTTP/1.1\" 200 -\n",
      "127.0.0.1 - - [16/May/2022 23:01:12] \"POST /_dash-update-component HTTP/1.1\" 200 -\n"
     ]
    },
    {
     "name": "stdout",
     "output_type": "stream",
     "text": [
      "{'patient': {'cluster': '1', 'age': '33', 'gender': '0', 'cholesterol': '239', 'systolic_bp': '127', 'diastolic_bp': '74', 'mean_arterial_pressure': '91.66666666666667', 'skin_thickness': '27', 'insulin': '164', 'bmi': '31', 'dpf': '1', 'age_class': '0', 'bmi_class': '3', 'map_class': '1', 'cholesterol_class': '1', 'glucose_class': '1', 'smoke': '0', 'active': '0', 'cvd_prediction': '1', 'diabetes_prediction': '0'}, 'health_statuses': {'bmi_status': 'Obese', 'map_status': 'Normal', 'cholesterol_status': 'Borderline High', 'glucose_status': 'Borderline High', 'cvd_risk': 'High Risk', 'diabetes_risk': 'Low Risk'}}\n"
     ]
    },
    {
     "name": "stderr",
     "output_type": "stream",
     "text": [
      "127.0.0.1 - - [16/May/2022 23:01:12] \"POST /_dash-update-component HTTP/1.1\" 200 -\n",
      "127.0.0.1 - - [16/May/2022 23:01:12] \"POST /_dash-update-component HTTP/1.1\" 200 -\n"
     ]
    },
    {
     "name": "stdout",
     "output_type": "stream",
     "text": [
      "{'patient': {'cluster': '1', 'age': '33', 'gender': '0', 'cholesterol': '239', 'systolic_bp': '127', 'diastolic_bp': '73', 'mean_arterial_pressure': '91.0', 'skin_thickness': '27', 'insulin': '164', 'bmi': '31', 'dpf': '1', 'age_class': '0', 'bmi_class': '3', 'map_class': '1', 'cholesterol_class': '1', 'glucose_class': '1', 'smoke': '0', 'active': '0', 'cvd_prediction': '1', 'diabetes_prediction': '0'}, 'health_statuses': {'bmi_status': 'Obese', 'map_status': 'Normal', 'cholesterol_status': 'Borderline High', 'glucose_status': 'Borderline High', 'cvd_risk': 'High Risk', 'diabetes_risk': 'Low Risk'}}\n",
      "{'patient': {'cluster': '1', 'age': '33', 'gender': '0', 'cholesterol': '239', 'systolic_bp': '127', 'diastolic_bp': '72', 'mean_arterial_pressure': '90.33333333333333', 'skin_thickness': '27', 'insulin': '164', 'bmi': '31', 'dpf': '1', 'age_class': '0', 'bmi_class': '3', 'map_class': '1', 'cholesterol_class': '1', 'glucose_class': '1', 'smoke': '0', 'active': '0', 'cvd_prediction': '1', 'diabetes_prediction': '0'}, 'health_statuses': {'bmi_status': 'Obese', 'map_status': 'Normal', 'cholesterol_status': 'Borderline High', 'glucose_status': 'Borderline High', 'cvd_risk': 'High Risk', 'diabetes_risk': 'Low Risk'}}\n"
     ]
    },
    {
     "name": "stderr",
     "output_type": "stream",
     "text": [
      "127.0.0.1 - - [16/May/2022 23:01:12] \"POST /_dash-update-component HTTP/1.1\" 200 -\n",
      "127.0.0.1 - - [16/May/2022 23:01:12] \"POST /_dash-update-component HTTP/1.1\" 200 -\n",
      "127.0.0.1 - - [16/May/2022 23:01:12] \"POST /_dash-update-component HTTP/1.1\" 200 -\n"
     ]
    },
    {
     "name": "stdout",
     "output_type": "stream",
     "text": [
      "{'patient': {'cluster': '1', 'age': '33', 'gender': '0', 'cholesterol': '239', 'systolic_bp': '127', 'diastolic_bp': '71', 'mean_arterial_pressure': '89.66666666666667', 'skin_thickness': '27', 'insulin': '164', 'bmi': '31', 'dpf': '1', 'age_class': '0', 'bmi_class': '3', 'map_class': '1', 'cholesterol_class': '1', 'glucose_class': '1', 'smoke': '0', 'active': '0', 'cvd_prediction': '1', 'diabetes_prediction': '0'}, 'health_statuses': {'bmi_status': 'Obese', 'map_status': 'Normal', 'cholesterol_status': 'Borderline High', 'glucose_status': 'Borderline High', 'cvd_risk': 'High Risk', 'diabetes_risk': 'Low Risk'}}\n"
     ]
    },
    {
     "name": "stderr",
     "output_type": "stream",
     "text": [
      "127.0.0.1 - - [16/May/2022 23:01:13] \"POST /_dash-update-component HTTP/1.1\" 200 -\n",
      "127.0.0.1 - - [16/May/2022 23:01:14] \"POST /_dash-update-component HTTP/1.1\" 200 -\n",
      "127.0.0.1 - - [16/May/2022 23:01:14] \"POST /_dash-update-component HTTP/1.1\" 200 -\n",
      "127.0.0.1 - - [16/May/2022 23:01:14] \"POST /_dash-update-component HTTP/1.1\" 200 -\n"
     ]
    },
    {
     "name": "stdout",
     "output_type": "stream",
     "text": [
      "{'patient': {'cluster': '1', 'age': '33', 'gender': '0', 'cholesterol': '239', 'systolic_bp': '127', 'diastolic_bp': '72', 'mean_arterial_pressure': '90.33333333333333', 'skin_thickness': '27', 'insulin': '164', 'bmi': '31', 'dpf': '1', 'age_class': '0', 'bmi_class': '3', 'map_class': '1', 'cholesterol_class': '1', 'glucose_class': '1', 'smoke': '0', 'active': '0', 'cvd_prediction': '1', 'diabetes_prediction': '0'}, 'health_statuses': {'bmi_status': 'Obese', 'map_status': 'Normal', 'cholesterol_status': 'Borderline High', 'glucose_status': 'Borderline High', 'cvd_risk': 'High Risk', 'diabetes_risk': 'Low Risk'}}\n",
      "{'patient': {'cluster': '1', 'age': '33', 'gender': '0', 'cholesterol': '239', 'systolic_bp': '127', 'diastolic_bp': '73', 'mean_arterial_pressure': '91.0', 'skin_thickness': '27', 'insulin': '164', 'bmi': '31', 'dpf': '1', 'age_class': '0', 'bmi_class': '3', 'map_class': '1', 'cholesterol_class': '1', 'glucose_class': '1', 'smoke': '0', 'active': '0', 'cvd_prediction': '1', 'diabetes_prediction': '0'}, 'health_statuses': {'bmi_status': 'Obese', 'map_status': 'Normal', 'cholesterol_status': 'Borderline High', 'glucose_status': 'Borderline High', 'cvd_risk': 'High Risk', 'diabetes_risk': 'Low Risk'}}\n"
     ]
    },
    {
     "name": "stderr",
     "output_type": "stream",
     "text": [
      "127.0.0.1 - - [16/May/2022 23:01:14] \"POST /_dash-update-component HTTP/1.1\" 200 -\n",
      "127.0.0.1 - - [16/May/2022 23:01:14] \"POST /_dash-update-component HTTP/1.1\" 200 -\n",
      "127.0.0.1 - - [16/May/2022 23:01:14] \"POST /_dash-update-component HTTP/1.1\" 200 -\n"
     ]
    },
    {
     "name": "stdout",
     "output_type": "stream",
     "text": [
      "{'patient': {'cluster': '1', 'age': '33', 'gender': '0', 'cholesterol': '239', 'systolic_bp': '127', 'diastolic_bp': '74', 'mean_arterial_pressure': '91.66666666666667', 'skin_thickness': '27', 'insulin': '164', 'bmi': '31', 'dpf': '1', 'age_class': '0', 'bmi_class': '3', 'map_class': '1', 'cholesterol_class': '1', 'glucose_class': '1', 'smoke': '0', 'active': '0', 'cvd_prediction': '1', 'diabetes_prediction': '0'}, 'health_statuses': {'bmi_status': 'Obese', 'map_status': 'Normal', 'cholesterol_status': 'Borderline High', 'glucose_status': 'Borderline High', 'cvd_risk': 'High Risk', 'diabetes_risk': 'Low Risk'}}\n",
      "{'patient': {'cluster': '1', 'age': '33', 'gender': '0', 'cholesterol': '239', 'systolic_bp': '127', 'diastolic_bp': '75', 'mean_arterial_pressure': '92.33333333333333', 'skin_thickness': '27', 'insulin': '164', 'bmi': '31', 'dpf': '1', 'age_class': '0', 'bmi_class': '3', 'map_class': '1', 'cholesterol_class': '1', 'glucose_class': '1', 'smoke': '0', 'active': '0', 'cvd_prediction': '1', 'diabetes_prediction': '0'}, 'health_statuses': {'bmi_status': 'Obese', 'map_status': 'Normal', 'cholesterol_status': 'Borderline High', 'glucose_status': 'Borderline High', 'cvd_risk': 'High Risk', 'diabetes_risk': 'Low Risk'}}\n"
     ]
    },
    {
     "name": "stderr",
     "output_type": "stream",
     "text": [
      "127.0.0.1 - - [16/May/2022 23:01:14] \"POST /_dash-update-component HTTP/1.1\" 200 -\n",
      "127.0.0.1 - - [16/May/2022 23:01:14] \"POST /_dash-update-component HTTP/1.1\" 200 -\n",
      "127.0.0.1 - - [16/May/2022 23:01:14] \"POST /_dash-update-component HTTP/1.1\" 200 -\n",
      "127.0.0.1 - - [16/May/2022 23:01:14] \"POST /_dash-update-component HTTP/1.1\" 200 -\n",
      "127.0.0.1 - - [16/May/2022 23:01:15] \"POST /_dash-update-component HTTP/1.1\" 200 -\n"
     ]
    },
    {
     "name": "stdout",
     "output_type": "stream",
     "text": [
      "{'patient': {'cluster': '1', 'age': '33', 'gender': '0', 'cholesterol': '239', 'systolic_bp': '127', 'diastolic_bp': '76', 'mean_arterial_pressure': '93.0', 'skin_thickness': '27', 'insulin': '164', 'bmi': '31', 'dpf': '1', 'age_class': '0', 'bmi_class': '3', 'map_class': '1', 'cholesterol_class': '1', 'glucose_class': '1', 'smoke': '0', 'active': '0', 'cvd_prediction': '1', 'diabetes_prediction': '0'}, 'health_statuses': {'bmi_status': 'Obese', 'map_status': 'Normal', 'cholesterol_status': 'Borderline High', 'glucose_status': 'Borderline High', 'cvd_risk': 'High Risk', 'diabetes_risk': 'Low Risk'}}\n",
      "{'patient': {'cluster': '1', 'age': '33', 'gender': '0', 'cholesterol': '239', 'systolic_bp': '127', 'diastolic_bp': '77', 'mean_arterial_pressure': '93.66666666666667', 'skin_thickness': '27', 'insulin': '164', 'bmi': '31', 'dpf': '1', 'age_class': '0', 'bmi_class': '3', 'map_class': '1', 'cholesterol_class': '1', 'glucose_class': '1', 'smoke': '0', 'active': '0', 'cvd_prediction': '1', 'diabetes_prediction': '0'}, 'health_statuses': {'bmi_status': 'Obese', 'map_status': 'Normal', 'cholesterol_status': 'Borderline High', 'glucose_status': 'Borderline High', 'cvd_risk': 'High Risk', 'diabetes_risk': 'Low Risk'}}\n"
     ]
    },
    {
     "name": "stderr",
     "output_type": "stream",
     "text": [
      "127.0.0.1 - - [16/May/2022 23:01:15] \"POST /_dash-update-component HTTP/1.1\" 200 -\n",
      "127.0.0.1 - - [16/May/2022 23:01:15] \"POST /_dash-update-component HTTP/1.1\" 200 -\n",
      "127.0.0.1 - - [16/May/2022 23:01:15] \"POST /_dash-update-component HTTP/1.1\" 200 -\n",
      "127.0.0.1 - - [16/May/2022 23:01:15] \"POST /_dash-update-component HTTP/1.1\" 200 -\n"
     ]
    },
    {
     "name": "stdout",
     "output_type": "stream",
     "text": [
      "{'patient': {'cluster': '1', 'age': '33', 'gender': '0', 'cholesterol': '239', 'systolic_bp': '127', 'diastolic_bp': '78', 'mean_arterial_pressure': '94.33333333333333', 'skin_thickness': '27', 'insulin': '164', 'bmi': '31', 'dpf': '1', 'age_class': '0', 'bmi_class': '3', 'map_class': '1', 'cholesterol_class': '1', 'glucose_class': '1', 'smoke': '0', 'active': '0', 'cvd_prediction': '1', 'diabetes_prediction': '0'}, 'health_statuses': {'bmi_status': 'Obese', 'map_status': 'Normal', 'cholesterol_status': 'Borderline High', 'glucose_status': 'Borderline High', 'cvd_risk': 'High Risk', 'diabetes_risk': 'Low Risk'}}\n",
      "{'patient': {'cluster': '1', 'age': '33', 'gender': '0', 'cholesterol': '239', 'systolic_bp': '127', 'diastolic_bp': '79', 'mean_arterial_pressure': '95.0', 'skin_thickness': '27', 'insulin': '164', 'bmi': '31', 'dpf': '1', 'age_class': '0', 'bmi_class': '3', 'map_class': '1', 'cholesterol_class': '1', 'glucose_class': '1', 'smoke': '0', 'active': '0', 'cvd_prediction': '1', 'diabetes_prediction': '0'}, 'health_statuses': {'bmi_status': 'Obese', 'map_status': 'Normal', 'cholesterol_status': 'Borderline High', 'glucose_status': 'Borderline High', 'cvd_risk': 'High Risk', 'diabetes_risk': 'Low Risk'}}\n"
     ]
    },
    {
     "name": "stderr",
     "output_type": "stream",
     "text": [
      "127.0.0.1 - - [16/May/2022 23:01:15] \"POST /_dash-update-component HTTP/1.1\" 200 -\n",
      "127.0.0.1 - - [16/May/2022 23:01:15] \"POST /_dash-update-component HTTP/1.1\" 200 -\n"
     ]
    },
    {
     "name": "stdout",
     "output_type": "stream",
     "text": [
      "{'patient': {'cluster': '1', 'age': '33', 'gender': '0', 'cholesterol': '239', 'systolic_bp': '127', 'diastolic_bp': '80', 'mean_arterial_pressure': '95.66666666666667', 'skin_thickness': '27', 'insulin': '164', 'bmi': '31', 'dpf': '1', 'age_class': '0', 'bmi_class': '3', 'map_class': '1', 'cholesterol_class': '1', 'glucose_class': '1', 'smoke': '0', 'active': '0', 'cvd_prediction': '1', 'diabetes_prediction': '0'}, 'health_statuses': {'bmi_status': 'Obese', 'map_status': 'Normal', 'cholesterol_status': 'Borderline High', 'glucose_status': 'Borderline High', 'cvd_risk': 'High Risk', 'diabetes_risk': 'Low Risk'}}\n"
     ]
    },
    {
     "name": "stderr",
     "output_type": "stream",
     "text": [
      "127.0.0.1 - - [16/May/2022 23:01:18] \"POST /_dash-update-component HTTP/1.1\" 200 -\n",
      "127.0.0.1 - - [16/May/2022 23:01:18] \"POST /_dash-update-component HTTP/1.1\" 200 -\n"
     ]
    },
    {
     "name": "stdout",
     "output_type": "stream",
     "text": [
      "{'patient': {'cluster': '1', 'age': '33', 'gender': '0', 'cholesterol': '239', 'systolic_bp': '127', 'diastolic_bp': '80', 'mean_arterial_pressure': '95.66666666666667', 'skin_thickness': '27', 'insulin': '164', 'bmi': '31', 'dpf': '1', 'age_class': '0', 'bmi_class': '3', 'map_class': '1', 'cholesterol_class': '1', 'glucose_class': '1', 'smoke': '1', 'active': '0', 'cvd_prediction': '1', 'diabetes_prediction': '0'}, 'health_statuses': {'bmi_status': 'Obese', 'map_status': 'Normal', 'cholesterol_status': 'Borderline High', 'glucose_status': 'Borderline High', 'cvd_risk': 'High Risk', 'diabetes_risk': 'Low Risk'}}\n"
     ]
    },
    {
     "name": "stderr",
     "output_type": "stream",
     "text": [
      "127.0.0.1 - - [16/May/2022 23:01:20] \"POST /_dash-update-component HTTP/1.1\" 200 -\n",
      "127.0.0.1 - - [16/May/2022 23:01:21] \"POST /_dash-update-component HTTP/1.1\" 200 -\n"
     ]
    },
    {
     "name": "stdout",
     "output_type": "stream",
     "text": [
      "{'patient': {'cluster': '1', 'age': '33', 'gender': '0', 'cholesterol': '239', 'systolic_bp': '127', 'diastolic_bp': '80', 'mean_arterial_pressure': '95.66666666666667', 'skin_thickness': '27', 'insulin': '164', 'bmi': '31', 'dpf': '1', 'age_class': '0', 'bmi_class': '3', 'map_class': '1', 'cholesterol_class': '1', 'glucose_class': '1', 'smoke': '1', 'active': '1', 'cvd_prediction': '1', 'diabetes_prediction': '0'}, 'health_statuses': {'bmi_status': 'Obese', 'map_status': 'Normal', 'cholesterol_status': 'Borderline High', 'glucose_status': 'Borderline High', 'cvd_risk': 'High Risk', 'diabetes_risk': 'Low Risk'}}\n"
     ]
    },
    {
     "name": "stderr",
     "output_type": "stream",
     "text": [
      "127.0.0.1 - - [16/May/2022 23:01:22] \"POST /_dash-update-component HTTP/1.1\" 200 -\n",
      "127.0.0.1 - - [16/May/2022 23:01:22] \"POST /_dash-update-component HTTP/1.1\" 200 -\n"
     ]
    },
    {
     "name": "stdout",
     "output_type": "stream",
     "text": [
      "{'patient': {'cluster': '1', 'age': '33', 'gender': '0', 'cholesterol': '239', 'systolic_bp': '127', 'diastolic_bp': '80', 'mean_arterial_pressure': '95.66666666666667', 'skin_thickness': '27', 'insulin': '164', 'bmi': '31', 'dpf': '1', 'age_class': '0', 'bmi_class': '3', 'map_class': '1', 'cholesterol_class': '1', 'glucose_class': '1', 'smoke': '0', 'active': '1', 'cvd_prediction': '1', 'diabetes_prediction': '0'}, 'health_statuses': {'bmi_status': 'Obese', 'map_status': 'Normal', 'cholesterol_status': 'Borderline High', 'glucose_status': 'Borderline High', 'cvd_risk': 'High Risk', 'diabetes_risk': 'Low Risk'}}\n"
     ]
    },
    {
     "name": "stderr",
     "output_type": "stream",
     "text": [
      "127.0.0.1 - - [16/May/2022 23:01:26] \"POST /_dash-update-component HTTP/1.1\" 200 -\n",
      "127.0.0.1 - - [16/May/2022 23:01:26] \"POST /_dash-update-component HTTP/1.1\" 200 -\n",
      "127.0.0.1 - - [16/May/2022 23:01:26] \"POST /_dash-update-component HTTP/1.1\" 200 -\n"
     ]
    },
    {
     "name": "stdout",
     "output_type": "stream",
     "text": [
      "{'patient': {'cluster': '1', 'age': '32', 'gender': '0', 'cholesterol': '239', 'systolic_bp': '127', 'diastolic_bp': '80', 'mean_arterial_pressure': '95.66666666666667', 'skin_thickness': '27', 'insulin': '164', 'bmi': '31', 'dpf': '1', 'age_class': '0', 'bmi_class': '3', 'map_class': '1', 'cholesterol_class': '1', 'glucose_class': '1', 'smoke': '0', 'active': '1', 'cvd_prediction': '1', 'diabetes_prediction': '0'}, 'health_statuses': {'bmi_status': 'Obese', 'map_status': 'Normal', 'cholesterol_status': 'Borderline High', 'glucose_status': 'Borderline High', 'cvd_risk': 'High Risk', 'diabetes_risk': 'Low Risk'}}\n",
      "{'patient': {'cluster': '1', 'age': '31', 'gender': '0', 'cholesterol': '239', 'systolic_bp': '127', 'diastolic_bp': '80', 'mean_arterial_pressure': '95.66666666666667', 'skin_thickness': '27', 'insulin': '164', 'bmi': '31', 'dpf': '1', 'age_class': '0', 'bmi_class': '3', 'map_class': '1', 'cholesterol_class': '1', 'glucose_class': '1', 'smoke': '0', 'active': '1', 'cvd_prediction': '1', 'diabetes_prediction': '0'}, 'health_statuses': {'bmi_status': 'Obese', 'map_status': 'Normal', 'cholesterol_status': 'Borderline High', 'glucose_status': 'Borderline High', 'cvd_risk': 'High Risk', 'diabetes_risk': 'Low Risk'}}\n"
     ]
    },
    {
     "name": "stderr",
     "output_type": "stream",
     "text": [
      "127.0.0.1 - - [16/May/2022 23:01:26] \"POST /_dash-update-component HTTP/1.1\" 200 -\n",
      "127.0.0.1 - - [16/May/2022 23:01:27] \"POST /_dash-update-component HTTP/1.1\" 200 -\n",
      "127.0.0.1 - - [16/May/2022 23:01:27] \"POST /_dash-update-component HTTP/1.1\" 200 -\n",
      "127.0.0.1 - - [16/May/2022 23:01:27] \"POST /_dash-update-component HTTP/1.1\" 200 -\n"
     ]
    },
    {
     "name": "stdout",
     "output_type": "stream",
     "text": [
      "{'patient': {'cluster': '1', 'age': '30', 'gender': '0', 'cholesterol': '239', 'systolic_bp': '127', 'diastolic_bp': '80', 'mean_arterial_pressure': '95.66666666666667', 'skin_thickness': '27', 'insulin': '164', 'bmi': '31', 'dpf': '1', 'age_class': '0', 'bmi_class': '3', 'map_class': '1', 'cholesterol_class': '1', 'glucose_class': '1', 'smoke': '0', 'active': '1', 'cvd_prediction': '1', 'diabetes_prediction': '0'}, 'health_statuses': {'bmi_status': 'Obese', 'map_status': 'Normal', 'cholesterol_status': 'Borderline High', 'glucose_status': 'Borderline High', 'cvd_risk': 'High Risk', 'diabetes_risk': 'Low Risk'}}\n"
     ]
    },
    {
     "name": "stderr",
     "output_type": "stream",
     "text": [
      "127.0.0.1 - - [16/May/2022 23:01:27] \"POST /_dash-update-component HTTP/1.1\" 200 -\n",
      "127.0.0.1 - - [16/May/2022 23:01:27] \"POST /_dash-update-component HTTP/1.1\" 200 -\n"
     ]
    },
    {
     "name": "stdout",
     "output_type": "stream",
     "text": [
      "{'patient': {'cluster': '1', 'age': '29', 'gender': '0', 'cholesterol': '239', 'systolic_bp': '127', 'diastolic_bp': '80', 'mean_arterial_pressure': '95.66666666666667', 'skin_thickness': '27', 'insulin': '164', 'bmi': '31', 'dpf': '1', 'age_class': '0', 'bmi_class': '3', 'map_class': '1', 'cholesterol_class': '1', 'glucose_class': '1', 'smoke': '0', 'active': '1', 'cvd_prediction': '1', 'diabetes_prediction': '0'}, 'health_statuses': {'bmi_status': 'Obese', 'map_status': 'Normal', 'cholesterol_status': 'Borderline High', 'glucose_status': 'Borderline High', 'cvd_risk': 'High Risk', 'diabetes_risk': 'Low Risk'}}\n"
     ]
    },
    {
     "name": "stderr",
     "output_type": "stream",
     "text": [
      "127.0.0.1 - - [16/May/2022 23:01:27] \"POST /_dash-update-component HTTP/1.1\" 200 -\n"
     ]
    },
    {
     "name": "stdout",
     "output_type": "stream",
     "text": [
      "{'patient': {'cluster': '1', 'age': '28', 'gender': '0', 'cholesterol': '239', 'systolic_bp': '127', 'diastolic_bp': '80', 'mean_arterial_pressure': '95.66666666666667', 'skin_thickness': '27', 'insulin': '164', 'bmi': '31', 'dpf': '1', 'age_class': '0', 'bmi_class': '3', 'map_class': '1', 'cholesterol_class': '1', 'glucose_class': '1', 'smoke': '0', 'active': '1', 'cvd_prediction': '1', 'diabetes_prediction': '0'}, 'health_statuses': {'bmi_status': 'Obese', 'map_status': 'Normal', 'cholesterol_status': 'Borderline High', 'glucose_status': 'Borderline High', 'cvd_risk': 'High Risk', 'diabetes_risk': 'Low Risk'}}\n"
     ]
    },
    {
     "name": "stderr",
     "output_type": "stream",
     "text": [
      "127.0.0.1 - - [16/May/2022 23:01:27] \"POST /_dash-update-component HTTP/1.1\" 200 -\n",
      "127.0.0.1 - - [16/May/2022 23:01:27] \"POST /_dash-update-component HTTP/1.1\" 200 -\n"
     ]
    },
    {
     "name": "stdout",
     "output_type": "stream",
     "text": [
      "{'patient': {'cluster': '1', 'age': '27', 'gender': '0', 'cholesterol': '239', 'systolic_bp': '127', 'diastolic_bp': '80', 'mean_arterial_pressure': '95.66666666666667', 'skin_thickness': '27', 'insulin': '164', 'bmi': '31', 'dpf': '1', 'age_class': '0', 'bmi_class': '3', 'map_class': '1', 'cholesterol_class': '1', 'glucose_class': '1', 'smoke': '0', 'active': '1', 'cvd_prediction': '1', 'diabetes_prediction': '0'}, 'health_statuses': {'bmi_status': 'Obese', 'map_status': 'Normal', 'cholesterol_status': 'Borderline High', 'glucose_status': 'Borderline High', 'cvd_risk': 'High Risk', 'diabetes_risk': 'Low Risk'}}\n"
     ]
    },
    {
     "name": "stderr",
     "output_type": "stream",
     "text": [
      "127.0.0.1 - - [16/May/2022 23:01:28] \"POST /_dash-update-component HTTP/1.1\" 200 -\n",
      "127.0.0.1 - - [16/May/2022 23:01:28] \"POST /_dash-update-component HTTP/1.1\" 200 -\n"
     ]
    },
    {
     "name": "stdout",
     "output_type": "stream",
     "text": [
      "{'patient': {'cluster': '1', 'age': '28', 'gender': '0', 'cholesterol': '239', 'systolic_bp': '127', 'diastolic_bp': '80', 'mean_arterial_pressure': '95.66666666666667', 'skin_thickness': '27', 'insulin': '164', 'bmi': '31', 'dpf': '1', 'age_class': '0', 'bmi_class': '3', 'map_class': '1', 'cholesterol_class': '1', 'glucose_class': '1', 'smoke': '0', 'active': '1', 'cvd_prediction': '1', 'diabetes_prediction': '0'}, 'health_statuses': {'bmi_status': 'Obese', 'map_status': 'Normal', 'cholesterol_status': 'Borderline High', 'glucose_status': 'Borderline High', 'cvd_risk': 'High Risk', 'diabetes_risk': 'Low Risk'}}\n"
     ]
    },
    {
     "name": "stderr",
     "output_type": "stream",
     "text": [
      "127.0.0.1 - - [16/May/2022 23:01:28] \"POST /_dash-update-component HTTP/1.1\" 200 -\n",
      "127.0.0.1 - - [16/May/2022 23:01:29] \"POST /_dash-update-component HTTP/1.1\" 200 -\n"
     ]
    },
    {
     "name": "stdout",
     "output_type": "stream",
     "text": [
      "{'patient': {'cluster': '1', 'age': '29', 'gender': '0', 'cholesterol': '239', 'systolic_bp': '127', 'diastolic_bp': '80', 'mean_arterial_pressure': '95.66666666666667', 'skin_thickness': '27', 'insulin': '164', 'bmi': '31', 'dpf': '1', 'age_class': '0', 'bmi_class': '3', 'map_class': '1', 'cholesterol_class': '1', 'glucose_class': '1', 'smoke': '0', 'active': '1', 'cvd_prediction': '1', 'diabetes_prediction': '0'}, 'health_statuses': {'bmi_status': 'Obese', 'map_status': 'Normal', 'cholesterol_status': 'Borderline High', 'glucose_status': 'Borderline High', 'cvd_risk': 'High Risk', 'diabetes_risk': 'Low Risk'}}\n"
     ]
    },
    {
     "name": "stderr",
     "output_type": "stream",
     "text": [
      "127.0.0.1 - - [16/May/2022 23:01:31] \"POST /_dash-update-component HTTP/1.1\" 200 -\n",
      "127.0.0.1 - - [16/May/2022 23:01:31] \"POST /_dash-update-component HTTP/1.1\" 200 -\n",
      "127.0.0.1 - - [16/May/2022 23:01:31] \"POST /_dash-update-component HTTP/1.1\" 200 -\n",
      "127.0.0.1 - - [16/May/2022 23:01:31] \"POST /_dash-update-component HTTP/1.1\" 200 -\n",
      "127.0.0.1 - - [16/May/2022 23:01:31] \"POST /_dash-update-component HTTP/1.1\" 200 -\n"
     ]
    },
    {
     "name": "stdout",
     "output_type": "stream",
     "text": [
      "{'patient': {'cluster': '1', 'age': '29', 'gender': '0', 'cholesterol': '238', 'systolic_bp': '127', 'diastolic_bp': '80', 'mean_arterial_pressure': '95.66666666666667', 'skin_thickness': '27', 'insulin': '164', 'bmi': '31', 'dpf': '1', 'age_class': '0', 'bmi_class': '3', 'map_class': '1', 'cholesterol_class': '1', 'glucose_class': '1', 'smoke': '0', 'active': '1', 'cvd_prediction': '1', 'diabetes_prediction': '0'}, 'health_statuses': {'bmi_status': 'Obese', 'map_status': 'Normal', 'cholesterol_status': 'Borderline High', 'glucose_status': 'Borderline High', 'cvd_risk': 'High Risk', 'diabetes_risk': 'Low Risk'}}\n",
      "{'patient': {'cluster': '1', 'age': '29', 'gender': '0', 'cholesterol': '237', 'systolic_bp': '127', 'diastolic_bp': '80', 'mean_arterial_pressure': '95.66666666666667', 'skin_thickness': '27', 'insulin': '164', 'bmi': '31', 'dpf': '1', 'age_class': '0', 'bmi_class': '3', 'map_class': '1', 'cholesterol_class': '1', 'glucose_class': '1', 'smoke': '0', 'active': '1', 'cvd_prediction': '1', 'diabetes_prediction': '0'}, 'health_statuses': {'bmi_status': 'Obese', 'map_status': 'Normal', 'cholesterol_status': 'Borderline High', 'glucose_status': 'Borderline High', 'cvd_risk': 'High Risk', 'diabetes_risk': 'Low Risk'}}\n"
     ]
    },
    {
     "name": "stderr",
     "output_type": "stream",
     "text": [
      "127.0.0.1 - - [16/May/2022 23:01:31] \"POST /_dash-update-component HTTP/1.1\" 200 -\n",
      "127.0.0.1 - - [16/May/2022 23:01:31] \"POST /_dash-update-component HTTP/1.1\" 200 -\n",
      "127.0.0.1 - - [16/May/2022 23:01:31] \"POST /_dash-update-component HTTP/1.1\" 200 -\n"
     ]
    },
    {
     "name": "stdout",
     "output_type": "stream",
     "text": [
      "{'patient': {'cluster': '1', 'age': '29', 'gender': '0', 'cholesterol': '236', 'systolic_bp': '127', 'diastolic_bp': '80', 'mean_arterial_pressure': '95.66666666666667', 'skin_thickness': '27', 'insulin': '164', 'bmi': '31', 'dpf': '1', 'age_class': '0', 'bmi_class': '3', 'map_class': '1', 'cholesterol_class': '1', 'glucose_class': '1', 'smoke': '0', 'active': '1', 'cvd_prediction': '1', 'diabetes_prediction': '0'}, 'health_statuses': {'bmi_status': 'Obese', 'map_status': 'Normal', 'cholesterol_status': 'Borderline High', 'glucose_status': 'Borderline High', 'cvd_risk': 'High Risk', 'diabetes_risk': 'Low Risk'}}\n",
      "{'patient': {'cluster': '1', 'age': '29', 'gender': '0', 'cholesterol': '235', 'systolic_bp': '127', 'diastolic_bp': '80', 'mean_arterial_pressure': '95.66666666666667', 'skin_thickness': '27', 'insulin': '164', 'bmi': '31', 'dpf': '1', 'age_class': '0', 'bmi_class': '3', 'map_class': '1', 'cholesterol_class': '1', 'glucose_class': '1', 'smoke': '0', 'active': '1', 'cvd_prediction': '1', 'diabetes_prediction': '0'}, 'health_statuses': {'bmi_status': 'Obese', 'map_status': 'Normal', 'cholesterol_status': 'Borderline High', 'glucose_status': 'Borderline High', 'cvd_risk': 'High Risk', 'diabetes_risk': 'Low Risk'}}\n"
     ]
    },
    {
     "name": "stderr",
     "output_type": "stream",
     "text": [
      "127.0.0.1 - - [16/May/2022 23:01:31] \"POST /_dash-update-component HTTP/1.1\" 200 -\n",
      "127.0.0.1 - - [16/May/2022 23:01:32] \"POST /_dash-update-component HTTP/1.1\" 200 -\n",
      "127.0.0.1 - - [16/May/2022 23:01:32] \"POST /_dash-update-component HTTP/1.1\" 200 -\n",
      "127.0.0.1 - - [16/May/2022 23:01:32] \"POST /_dash-update-component HTTP/1.1\" 200 -\n"
     ]
    },
    {
     "name": "stdout",
     "output_type": "stream",
     "text": [
      "{'patient': {'cluster': '1', 'age': '29', 'gender': '0', 'cholesterol': '234', 'systolic_bp': '127', 'diastolic_bp': '80', 'mean_arterial_pressure': '95.66666666666667', 'skin_thickness': '27', 'insulin': '164', 'bmi': '31', 'dpf': '1', 'age_class': '0', 'bmi_class': '3', 'map_class': '1', 'cholesterol_class': '1', 'glucose_class': '1', 'smoke': '0', 'active': '1', 'cvd_prediction': '1', 'diabetes_prediction': '0'}, 'health_statuses': {'bmi_status': 'Obese', 'map_status': 'Normal', 'cholesterol_status': 'Borderline High', 'glucose_status': 'Borderline High', 'cvd_risk': 'High Risk', 'diabetes_risk': 'Low Risk'}}\n",
      "{'patient': {'cluster': '1', 'age': '29', 'gender': '0', 'cholesterol': '233', 'systolic_bp': '127', 'diastolic_bp': '80', 'mean_arterial_pressure': '95.66666666666667', 'skin_thickness': '27', 'insulin': '164', 'bmi': '31', 'dpf': '1', 'age_class': '0', 'bmi_class': '3', 'map_class': '1', 'cholesterol_class': '1', 'glucose_class': '1', 'smoke': '0', 'active': '1', 'cvd_prediction': '1', 'diabetes_prediction': '0'}, 'health_statuses': {'bmi_status': 'Obese', 'map_status': 'Normal', 'cholesterol_status': 'Borderline High', 'glucose_status': 'Borderline High', 'cvd_risk': 'High Risk', 'diabetes_risk': 'Low Risk'}}\n"
     ]
    },
    {
     "name": "stderr",
     "output_type": "stream",
     "text": [
      "127.0.0.1 - - [16/May/2022 23:01:32] \"POST /_dash-update-component HTTP/1.1\" 200 -\n",
      "127.0.0.1 - - [16/May/2022 23:01:32] \"POST /_dash-update-component HTTP/1.1\" 200 -\n",
      "127.0.0.1 - - [16/May/2022 23:01:32] \"POST /_dash-update-component HTTP/1.1\" 200 -\n",
      "127.0.0.1 - - [16/May/2022 23:01:32] \"POST /_dash-update-component HTTP/1.1\" 200 -\n"
     ]
    },
    {
     "name": "stdout",
     "output_type": "stream",
     "text": [
      "{'patient': {'cluster': '1', 'age': '29', 'gender': '0', 'cholesterol': '232', 'systolic_bp': '127', 'diastolic_bp': '80', 'mean_arterial_pressure': '95.66666666666667', 'skin_thickness': '27', 'insulin': '164', 'bmi': '31', 'dpf': '1', 'age_class': '0', 'bmi_class': '3', 'map_class': '1', 'cholesterol_class': '1', 'glucose_class': '1', 'smoke': '0', 'active': '1', 'cvd_prediction': '1', 'diabetes_prediction': '0'}, 'health_statuses': {'bmi_status': 'Obese', 'map_status': 'Normal', 'cholesterol_status': 'Borderline High', 'glucose_status': 'Borderline High', 'cvd_risk': 'High Risk', 'diabetes_risk': 'Low Risk'}}\n",
      "{'patient': {'cluster': '1', 'age': '29', 'gender': '0', 'cholesterol': '231', 'systolic_bp': '127', 'diastolic_bp': '80', 'mean_arterial_pressure': '95.66666666666667', 'skin_thickness': '27', 'insulin': '164', 'bmi': '31', 'dpf': '1', 'age_class': '0', 'bmi_class': '3', 'map_class': '1', 'cholesterol_class': '1', 'glucose_class': '1', 'smoke': '0', 'active': '1', 'cvd_prediction': '1', 'diabetes_prediction': '0'}, 'health_statuses': {'bmi_status': 'Obese', 'map_status': 'Normal', 'cholesterol_status': 'Borderline High', 'glucose_status': 'Borderline High', 'cvd_risk': 'High Risk', 'diabetes_risk': 'Low Risk'}}\n"
     ]
    },
    {
     "name": "stderr",
     "output_type": "stream",
     "text": [
      "127.0.0.1 - - [16/May/2022 23:01:32] \"POST /_dash-update-component HTTP/1.1\" 200 -\n",
      "127.0.0.1 - - [16/May/2022 23:01:32] \"POST /_dash-update-component HTTP/1.1\" 200 -\n",
      "127.0.0.1 - - [16/May/2022 23:01:32] \"POST /_dash-update-component HTTP/1.1\" 200 -\n"
     ]
    },
    {
     "name": "stdout",
     "output_type": "stream",
     "text": [
      "{'patient': {'cluster': '1', 'age': '29', 'gender': '0', 'cholesterol': '230', 'systolic_bp': '127', 'diastolic_bp': '80', 'mean_arterial_pressure': '95.66666666666667', 'skin_thickness': '27', 'insulin': '164', 'bmi': '31', 'dpf': '1', 'age_class': '0', 'bmi_class': '3', 'map_class': '1', 'cholesterol_class': '1', 'glucose_class': '1', 'smoke': '0', 'active': '1', 'cvd_prediction': '1', 'diabetes_prediction': '0'}, 'health_statuses': {'bmi_status': 'Obese', 'map_status': 'Normal', 'cholesterol_status': 'Borderline High', 'glucose_status': 'Borderline High', 'cvd_risk': 'High Risk', 'diabetes_risk': 'Low Risk'}}\n"
     ]
    },
    {
     "name": "stderr",
     "output_type": "stream",
     "text": [
      "127.0.0.1 - - [16/May/2022 23:01:32] \"POST /_dash-update-component HTTP/1.1\" 200 -\n",
      "127.0.0.1 - - [16/May/2022 23:01:33] \"POST /_dash-update-component HTTP/1.1\" 200 -\n",
      "127.0.0.1 - - [16/May/2022 23:01:33] \"POST /_dash-update-component HTTP/1.1\" 200 -\n",
      "127.0.0.1 - - [16/May/2022 23:01:33] \"POST /_dash-update-component HTTP/1.1\" 200 -\n",
      "127.0.0.1 - - [16/May/2022 23:01:33] \"POST /_dash-update-component HTTP/1.1\" 200 -\n",
      "127.0.0.1 - - [16/May/2022 23:01:33] \"POST /_dash-update-component HTTP/1.1\" 200 -\n",
      "127.0.0.1 - - [16/May/2022 23:01:33] \"POST /_dash-update-component HTTP/1.1\" 200 -\n"
     ]
    },
    {
     "name": "stdout",
     "output_type": "stream",
     "text": [
      "{'patient': {'cluster': '1', 'age': '29', 'gender': '0', 'cholesterol': '229', 'systolic_bp': '127', 'diastolic_bp': '80', 'mean_arterial_pressure': '95.66666666666667', 'skin_thickness': '27', 'insulin': '164', 'bmi': '31', 'dpf': '1', 'age_class': '0', 'bmi_class': '3', 'map_class': '1', 'cholesterol_class': '1', 'glucose_class': '1', 'smoke': '0', 'active': '1', 'cvd_prediction': '1', 'diabetes_prediction': '0'}, 'health_statuses': {'bmi_status': 'Obese', 'map_status': 'Normal', 'cholesterol_status': 'Borderline High', 'glucose_status': 'Borderline High', 'cvd_risk': 'High Risk', 'diabetes_risk': 'Low Risk'}}\n"
     ]
    },
    {
     "name": "stderr",
     "output_type": "stream",
     "text": [
      "127.0.0.1 - - [16/May/2022 23:01:33] \"POST /_dash-update-component HTTP/1.1\" 200 -\n",
      "127.0.0.1 - - [16/May/2022 23:01:33] \"POST /_dash-update-component HTTP/1.1\" 200 -\n",
      "127.0.0.1 - - [16/May/2022 23:01:33] \"POST /_dash-update-component HTTP/1.1\" 200 -\n",
      "127.0.0.1 - - [16/May/2022 23:01:33] \"POST /_dash-update-component HTTP/1.1\" 200 -\n"
     ]
    },
    {
     "name": "stdout",
     "output_type": "stream",
     "text": [
      "{'patient': {'cluster': '1', 'age': '29', 'gender': '0', 'cholesterol': '228', 'systolic_bp': '127', 'diastolic_bp': '80', 'mean_arterial_pressure': '95.66666666666667', 'skin_thickness': '27', 'insulin': '164', 'bmi': '31', 'dpf': '1', 'age_class': '0', 'bmi_class': '3', 'map_class': '1', 'cholesterol_class': '1', 'glucose_class': '1', 'smoke': '0', 'active': '1', 'cvd_prediction': '1', 'diabetes_prediction': '0'}, 'health_statuses': {'bmi_status': 'Obese', 'map_status': 'Normal', 'cholesterol_status': 'Borderline High', 'glucose_status': 'Borderline High', 'cvd_risk': 'High Risk', 'diabetes_risk': 'Low Risk'}}\n",
      "{'patient': {'cluster': '1', 'age': '29', 'gender': '0', 'cholesterol': '227', 'systolic_bp': '127', 'diastolic_bp': '80', 'mean_arterial_pressure': '95.66666666666667', 'skin_thickness': '27', 'insulin': '164', 'bmi': '31', 'dpf': '1', 'age_class': '0', 'bmi_class': '3', 'map_class': '1', 'cholesterol_class': '1', 'glucose_class': '1', 'smoke': '0', 'active': '1', 'cvd_prediction': '1', 'diabetes_prediction': '0'}, 'health_statuses': {'bmi_status': 'Obese', 'map_status': 'Normal', 'cholesterol_status': 'Borderline High', 'glucose_status': 'Borderline High', 'cvd_risk': 'High Risk', 'diabetes_risk': 'Low Risk'}}\n"
     ]
    },
    {
     "name": "stderr",
     "output_type": "stream",
     "text": [
      "127.0.0.1 - - [16/May/2022 23:01:33] \"POST /_dash-update-component HTTP/1.1\" 200 -\n",
      "127.0.0.1 - - [16/May/2022 23:01:33] \"POST /_dash-update-component HTTP/1.1\" 200 -\n",
      "127.0.0.1 - - [16/May/2022 23:01:33] \"POST /_dash-update-component HTTP/1.1\" 200 -\n",
      "127.0.0.1 - - [16/May/2022 23:01:33] \"POST /_dash-update-component HTTP/1.1\" 200 -\n",
      "127.0.0.1 - - [16/May/2022 23:01:33] \"POST /_dash-update-component HTTP/1.1\" 200 -\n",
      "127.0.0.1 - - [16/May/2022 23:01:33] \"POST /_dash-update-component HTTP/1.1\" 200 -\n"
     ]
    },
    {
     "name": "stdout",
     "output_type": "stream",
     "text": [
      "{'patient': {'cluster': '1', 'age': '29', 'gender': '0', 'cholesterol': '226', 'systolic_bp': '127', 'diastolic_bp': '80', 'mean_arterial_pressure': '95.66666666666667', 'skin_thickness': '27', 'insulin': '164', 'bmi': '31', 'dpf': '1', 'age_class': '0', 'bmi_class': '3', 'map_class': '1', 'cholesterol_class': '1', 'glucose_class': '1', 'smoke': '0', 'active': '1', 'cvd_prediction': '1', 'diabetes_prediction': '0'}, 'health_statuses': {'bmi_status': 'Obese', 'map_status': 'Normal', 'cholesterol_status': 'Borderline High', 'glucose_status': 'Borderline High', 'cvd_risk': 'High Risk', 'diabetes_risk': 'Low Risk'}}\n",
      "{'patient': {'cluster': '1', 'age': '29', 'gender': '0', 'cholesterol': '225', 'systolic_bp': '127', 'diastolic_bp': '80', 'mean_arterial_pressure': '95.66666666666667', 'skin_thickness': '27', 'insulin': '164', 'bmi': '31', 'dpf': '1', 'age_class': '0', 'bmi_class': '3', 'map_class': '1', 'cholesterol_class': '1', 'glucose_class': '1', 'smoke': '0', 'active': '1', 'cvd_prediction': '1', 'diabetes_prediction': '0'}, 'health_statuses': {'bmi_status': 'Obese', 'map_status': 'Normal', 'cholesterol_status': 'Borderline High', 'glucose_status': 'Borderline High', 'cvd_risk': 'High Risk', 'diabetes_risk': 'Low Risk'}}\n",
      "{'patient': {'cluster': '1', 'age': '29', 'gender': '0', 'cholesterol': '224', 'systolic_bp': '127', 'diastolic_bp': '80', 'mean_arterial_pressure': '95.66666666666667', 'skin_thickness': '27', 'insulin': '164', 'bmi': '31', 'dpf': '1', 'age_class': '0', 'bmi_class': '3', 'map_class': '1', 'cholesterol_class': '1', 'glucose_class': '1', 'smoke': '0', 'active': '1', 'cvd_prediction': '1', 'diabetes_prediction': '0'}, 'health_statuses': {'bmi_status': 'Obese', 'map_status': 'Normal', 'cholesterol_status': 'Borderline High', 'glucose_status': 'Borderline High', 'cvd_risk': 'High Risk', 'diabetes_risk': 'Low Risk'}}\n"
     ]
    },
    {
     "name": "stderr",
     "output_type": "stream",
     "text": [
      "127.0.0.1 - - [16/May/2022 23:01:33] \"POST /_dash-update-component HTTP/1.1\" 200 -\n",
      "127.0.0.1 - - [16/May/2022 23:01:33] \"POST /_dash-update-component HTTP/1.1\" 200 -\n"
     ]
    },
    {
     "name": "stdout",
     "output_type": "stream",
     "text": [
      "{'patient': {'cluster': '1', 'age': '29', 'gender': '0', 'cholesterol': '223', 'systolic_bp': '127', 'diastolic_bp': '80', 'mean_arterial_pressure': '95.66666666666667', 'skin_thickness': '27', 'insulin': '164', 'bmi': '31', 'dpf': '1', 'age_class': '0', 'bmi_class': '3', 'map_class': '1', 'cholesterol_class': '1', 'glucose_class': '1', 'smoke': '0', 'active': '1', 'cvd_prediction': '1', 'diabetes_prediction': '0'}, 'health_statuses': {'bmi_status': 'Obese', 'map_status': 'Normal', 'cholesterol_status': 'Borderline High', 'glucose_status': 'Borderline High', 'cvd_risk': 'High Risk', 'diabetes_risk': 'Low Risk'}}\n"
     ]
    },
    {
     "name": "stderr",
     "output_type": "stream",
     "text": [
      "127.0.0.1 - - [16/May/2022 23:01:34] \"POST /_dash-update-component HTTP/1.1\" 200 -\n",
      "127.0.0.1 - - [16/May/2022 23:01:34] \"POST /_dash-update-component HTTP/1.1\" 200 -\n",
      "127.0.0.1 - - [16/May/2022 23:01:34] \"POST /_dash-update-component HTTP/1.1\" 200 -\n",
      "127.0.0.1 - - [16/May/2022 23:01:34] \"POST /_dash-update-component HTTP/1.1\" 200 -\n"
     ]
    },
    {
     "name": "stdout",
     "output_type": "stream",
     "text": [
      "{'patient': {'cluster': '1', 'age': '29', 'gender': '0', 'cholesterol': '222', 'systolic_bp': '127', 'diastolic_bp': '80', 'mean_arterial_pressure': '95.66666666666667', 'skin_thickness': '27', 'insulin': '164', 'bmi': '31', 'dpf': '1', 'age_class': '0', 'bmi_class': '3', 'map_class': '1', 'cholesterol_class': '1', 'glucose_class': '1', 'smoke': '0', 'active': '1', 'cvd_prediction': '1', 'diabetes_prediction': '0'}, 'health_statuses': {'bmi_status': 'Obese', 'map_status': 'Normal', 'cholesterol_status': 'Borderline High', 'glucose_status': 'Borderline High', 'cvd_risk': 'High Risk', 'diabetes_risk': 'Low Risk'}}\n",
      "{'patient': {'cluster': '1', 'age': '29', 'gender': '0', 'cholesterol': '221', 'systolic_bp': '127', 'diastolic_bp': '80', 'mean_arterial_pressure': '95.66666666666667', 'skin_thickness': '27', 'insulin': '164', 'bmi': '31', 'dpf': '1', 'age_class': '0', 'bmi_class': '3', 'map_class': '1', 'cholesterol_class': '1', 'glucose_class': '1', 'smoke': '0', 'active': '1', 'cvd_prediction': '1', 'diabetes_prediction': '0'}, 'health_statuses': {'bmi_status': 'Obese', 'map_status': 'Normal', 'cholesterol_status': 'Borderline High', 'glucose_status': 'Borderline High', 'cvd_risk': 'High Risk', 'diabetes_risk': 'Low Risk'}}\n"
     ]
    },
    {
     "name": "stderr",
     "output_type": "stream",
     "text": [
      "127.0.0.1 - - [16/May/2022 23:01:34] \"POST /_dash-update-component HTTP/1.1\" 200 -\n",
      "127.0.0.1 - - [16/May/2022 23:01:34] \"POST /_dash-update-component HTTP/1.1\" 200 -\n",
      "127.0.0.1 - - [16/May/2022 23:01:34] \"POST /_dash-update-component HTTP/1.1\" 200 -\n",
      "127.0.0.1 - - [16/May/2022 23:01:34] \"POST /_dash-update-component HTTP/1.1\" 200 -\n",
      "127.0.0.1 - - [16/May/2022 23:01:34] \"POST /_dash-update-component HTTP/1.1\" 200 -\n",
      "127.0.0.1 - - [16/May/2022 23:01:34] \"POST /_dash-update-component HTTP/1.1\" 200 -\n"
     ]
    },
    {
     "name": "stdout",
     "output_type": "stream",
     "text": [
      "{'patient': {'cluster': '1', 'age': '29', 'gender': '0', 'cholesterol': '220', 'systolic_bp': '127', 'diastolic_bp': '80', 'mean_arterial_pressure': '95.66666666666667', 'skin_thickness': '27', 'insulin': '164', 'bmi': '31', 'dpf': '1', 'age_class': '0', 'bmi_class': '3', 'map_class': '1', 'cholesterol_class': '1', 'glucose_class': '1', 'smoke': '0', 'active': '1', 'cvd_prediction': '1', 'diabetes_prediction': '0'}, 'health_statuses': {'bmi_status': 'Obese', 'map_status': 'Normal', 'cholesterol_status': 'Borderline High', 'glucose_status': 'Borderline High', 'cvd_risk': 'High Risk', 'diabetes_risk': 'Low Risk'}}\n",
      "{'patient': {'cluster': '1', 'age': '29', 'gender': '0', 'cholesterol': '219', 'systolic_bp': '127', 'diastolic_bp': '80', 'mean_arterial_pressure': '95.66666666666667', 'skin_thickness': '27', 'insulin': '164', 'bmi': '31', 'dpf': '1', 'age_class': '0', 'bmi_class': '3', 'map_class': '1', 'cholesterol_class': '1', 'glucose_class': '1', 'smoke': '0', 'active': '1', 'cvd_prediction': '1', 'diabetes_prediction': '0'}, 'health_statuses': {'bmi_status': 'Obese', 'map_status': 'Normal', 'cholesterol_status': 'Borderline High', 'glucose_status': 'Borderline High', 'cvd_risk': 'High Risk', 'diabetes_risk': 'Low Risk'}}\n",
      "{'patient': {'cluster': '1', 'age': '29', 'gender': '0', 'cholesterol': '218', 'systolic_bp': '127', 'diastolic_bp': '80', 'mean_arterial_pressure': '95.66666666666667', 'skin_thickness': '27', 'insulin': '164', 'bmi': '31', 'dpf': '1', 'age_class': '0', 'bmi_class': '3', 'map_class': '1', 'cholesterol_class': '1', 'glucose_class': '1', 'smoke': '0', 'active': '1', 'cvd_prediction': '1', 'diabetes_prediction': '0'}, 'health_statuses': {'bmi_status': 'Obese', 'map_status': 'Normal', 'cholesterol_status': 'Borderline High', 'glucose_status': 'Borderline High', 'cvd_risk': 'High Risk', 'diabetes_risk': 'Low Risk'}}\n"
     ]
    },
    {
     "name": "stderr",
     "output_type": "stream",
     "text": [
      "127.0.0.1 - - [16/May/2022 23:01:34] \"POST /_dash-update-component HTTP/1.1\" 200 -\n",
      "127.0.0.1 - - [16/May/2022 23:01:34] \"POST /_dash-update-component HTTP/1.1\" 200 -\n",
      "127.0.0.1 - - [16/May/2022 23:01:35] \"POST /_dash-update-component HTTP/1.1\" 200 -\n",
      "127.0.0.1 - - [16/May/2022 23:01:35] \"POST /_dash-update-component HTTP/1.1\" 200 -\n"
     ]
    },
    {
     "name": "stdout",
     "output_type": "stream",
     "text": [
      "{'patient': {'cluster': '1', 'age': '29', 'gender': '0', 'cholesterol': '217', 'systolic_bp': '127', 'diastolic_bp': '80', 'mean_arterial_pressure': '95.66666666666667', 'skin_thickness': '27', 'insulin': '164', 'bmi': '31', 'dpf': '1', 'age_class': '0', 'bmi_class': '3', 'map_class': '1', 'cholesterol_class': '1', 'glucose_class': '1', 'smoke': '0', 'active': '1', 'cvd_prediction': '1', 'diabetes_prediction': '0'}, 'health_statuses': {'bmi_status': 'Obese', 'map_status': 'Normal', 'cholesterol_status': 'Borderline High', 'glucose_status': 'Borderline High', 'cvd_risk': 'High Risk', 'diabetes_risk': 'Low Risk'}}\n",
      "{'patient': {'cluster': '1', 'age': '29', 'gender': '0', 'cholesterol': '216', 'systolic_bp': '127', 'diastolic_bp': '80', 'mean_arterial_pressure': '95.66666666666667', 'skin_thickness': '27', 'insulin': '164', 'bmi': '31', 'dpf': '1', 'age_class': '0', 'bmi_class': '3', 'map_class': '1', 'cholesterol_class': '1', 'glucose_class': '1', 'smoke': '0', 'active': '1', 'cvd_prediction': '1', 'diabetes_prediction': '0'}, 'health_statuses': {'bmi_status': 'Obese', 'map_status': 'Normal', 'cholesterol_status': 'Borderline High', 'glucose_status': 'Borderline High', 'cvd_risk': 'High Risk', 'diabetes_risk': 'Low Risk'}}\n"
     ]
    },
    {
     "name": "stderr",
     "output_type": "stream",
     "text": [
      "127.0.0.1 - - [16/May/2022 23:01:35] \"POST /_dash-update-component HTTP/1.1\" 200 -\n",
      "127.0.0.1 - - [16/May/2022 23:01:35] \"POST /_dash-update-component HTTP/1.1\" 200 -\n",
      "127.0.0.1 - - [16/May/2022 23:01:35] \"POST /_dash-update-component HTTP/1.1\" 200 -\n",
      "127.0.0.1 - - [16/May/2022 23:01:35] \"POST /_dash-update-component HTTP/1.1\" 200 -\n",
      "127.0.0.1 - - [16/May/2022 23:01:35] \"POST /_dash-update-component HTTP/1.1\" 200 -\n",
      "127.0.0.1 - - [16/May/2022 23:01:35] \"POST /_dash-update-component HTTP/1.1\" 200 -\n"
     ]
    },
    {
     "name": "stdout",
     "output_type": "stream",
     "text": [
      "{'patient': {'cluster': '1', 'age': '29', 'gender': '0', 'cholesterol': '215', 'systolic_bp': '127', 'diastolic_bp': '80', 'mean_arterial_pressure': '95.66666666666667', 'skin_thickness': '27', 'insulin': '164', 'bmi': '31', 'dpf': '1', 'age_class': '0', 'bmi_class': '3', 'map_class': '1', 'cholesterol_class': '1', 'glucose_class': '1', 'smoke': '0', 'active': '1', 'cvd_prediction': '1', 'diabetes_prediction': '0'}, 'health_statuses': {'bmi_status': 'Obese', 'map_status': 'Normal', 'cholesterol_status': 'Borderline High', 'glucose_status': 'Borderline High', 'cvd_risk': 'High Risk', 'diabetes_risk': 'Low Risk'}}\n",
      "{'patient': {'cluster': '1', 'age': '29', 'gender': '0', 'cholesterol': '214', 'systolic_bp': '127', 'diastolic_bp': '80', 'mean_arterial_pressure': '95.66666666666667', 'skin_thickness': '27', 'insulin': '164', 'bmi': '31', 'dpf': '1', 'age_class': '0', 'bmi_class': '3', 'map_class': '1', 'cholesterol_class': '1', 'glucose_class': '1', 'smoke': '0', 'active': '1', 'cvd_prediction': '1', 'diabetes_prediction': '0'}, 'health_statuses': {'bmi_status': 'Obese', 'map_status': 'Normal', 'cholesterol_status': 'Borderline High', 'glucose_status': 'Borderline High', 'cvd_risk': 'High Risk', 'diabetes_risk': 'Low Risk'}}\n",
      "{'patient': {'cluster': '1', 'age': '29', 'gender': '0', 'cholesterol': '213', 'systolic_bp': '127', 'diastolic_bp': '80', 'mean_arterial_pressure': '95.66666666666667', 'skin_thickness': '27', 'insulin': '164', 'bmi': '31', 'dpf': '1', 'age_class': '0', 'bmi_class': '3', 'map_class': '1', 'cholesterol_class': '1', 'glucose_class': '1', 'smoke': '0', 'active': '1', 'cvd_prediction': '1', 'diabetes_prediction': '0'}, 'health_statuses': {'bmi_status': 'Obese', 'map_status': 'Normal', 'cholesterol_status': 'Borderline High', 'glucose_status': 'Borderline High', 'cvd_risk': 'High Risk', 'diabetes_risk': 'Low Risk'}}\n"
     ]
    },
    {
     "name": "stderr",
     "output_type": "stream",
     "text": [
      "127.0.0.1 - - [16/May/2022 23:01:35] \"POST /_dash-update-component HTTP/1.1\" 200 -\n",
      "127.0.0.1 - - [16/May/2022 23:01:35] \"POST /_dash-update-component HTTP/1.1\" 200 -\n"
     ]
    },
    {
     "name": "stdout",
     "output_type": "stream",
     "text": [
      "{'patient': {'cluster': '1', 'age': '29', 'gender': '0', 'cholesterol': '212', 'systolic_bp': '127', 'diastolic_bp': '80', 'mean_arterial_pressure': '95.66666666666667', 'skin_thickness': '27', 'insulin': '164', 'bmi': '31', 'dpf': '1', 'age_class': '0', 'bmi_class': '3', 'map_class': '1', 'cholesterol_class': '1', 'glucose_class': '1', 'smoke': '0', 'active': '1', 'cvd_prediction': '1', 'diabetes_prediction': '0'}, 'health_statuses': {'bmi_status': 'Obese', 'map_status': 'Normal', 'cholesterol_status': 'Borderline High', 'glucose_status': 'Borderline High', 'cvd_risk': 'High Risk', 'diabetes_risk': 'Low Risk'}}\n"
     ]
    },
    {
     "name": "stderr",
     "output_type": "stream",
     "text": [
      "127.0.0.1 - - [16/May/2022 23:01:35] \"POST /_dash-update-component HTTP/1.1\" 200 -\n",
      "127.0.0.1 - - [16/May/2022 23:01:35] \"POST /_dash-update-component HTTP/1.1\" 200 -\n",
      "127.0.0.1 - - [16/May/2022 23:01:35] \"POST /_dash-update-component HTTP/1.1\" 200 -\n",
      "127.0.0.1 - - [16/May/2022 23:01:35] \"POST /_dash-update-component HTTP/1.1\" 200 -\n"
     ]
    },
    {
     "name": "stdout",
     "output_type": "stream",
     "text": [
      "{'patient': {'cluster': '1', 'age': '29', 'gender': '0', 'cholesterol': '211', 'systolic_bp': '127', 'diastolic_bp': '80', 'mean_arterial_pressure': '95.66666666666667', 'skin_thickness': '27', 'insulin': '164', 'bmi': '31', 'dpf': '1', 'age_class': '0', 'bmi_class': '3', 'map_class': '1', 'cholesterol_class': '1', 'glucose_class': '1', 'smoke': '0', 'active': '1', 'cvd_prediction': '1', 'diabetes_prediction': '0'}, 'health_statuses': {'bmi_status': 'Obese', 'map_status': 'Normal', 'cholesterol_status': 'Borderline High', 'glucose_status': 'Borderline High', 'cvd_risk': 'High Risk', 'diabetes_risk': 'Low Risk'}}\n",
      "{'patient': {'cluster': '1', 'age': '29', 'gender': '0', 'cholesterol': '210', 'systolic_bp': '127', 'diastolic_bp': '80', 'mean_arterial_pressure': '95.66666666666667', 'skin_thickness': '27', 'insulin': '164', 'bmi': '31', 'dpf': '1', 'age_class': '0', 'bmi_class': '3', 'map_class': '1', 'cholesterol_class': '1', 'glucose_class': '1', 'smoke': '0', 'active': '1', 'cvd_prediction': '1', 'diabetes_prediction': '0'}, 'health_statuses': {'bmi_status': 'Obese', 'map_status': 'Normal', 'cholesterol_status': 'Borderline High', 'glucose_status': 'Borderline High', 'cvd_risk': 'High Risk', 'diabetes_risk': 'Low Risk'}}\n"
     ]
    },
    {
     "name": "stderr",
     "output_type": "stream",
     "text": [
      "127.0.0.1 - - [16/May/2022 23:01:35] \"POST /_dash-update-component HTTP/1.1\" 200 -\n",
      "127.0.0.1 - - [16/May/2022 23:01:35] \"POST /_dash-update-component HTTP/1.1\" 200 -\n",
      "127.0.0.1 - - [16/May/2022 23:01:36] \"POST /_dash-update-component HTTP/1.1\" 200 -\n",
      "127.0.0.1 - - [16/May/2022 23:01:36] \"POST /_dash-update-component HTTP/1.1\" 200 -\n",
      "127.0.0.1 - - [16/May/2022 23:01:36] \"POST /_dash-update-component HTTP/1.1\" 200 -\n",
      "127.0.0.1 - - [16/May/2022 23:01:36] \"POST /_dash-update-component HTTP/1.1\" 200 -\n"
     ]
    },
    {
     "name": "stdout",
     "output_type": "stream",
     "text": [
      "{'patient': {'cluster': '1', 'age': '29', 'gender': '0', 'cholesterol': '209', 'systolic_bp': '127', 'diastolic_bp': '80', 'mean_arterial_pressure': '95.66666666666667', 'skin_thickness': '27', 'insulin': '164', 'bmi': '31', 'dpf': '1', 'age_class': '0', 'bmi_class': '3', 'map_class': '1', 'cholesterol_class': '1', 'glucose_class': '1', 'smoke': '0', 'active': '1', 'cvd_prediction': '1', 'diabetes_prediction': '0'}, 'health_statuses': {'bmi_status': 'Obese', 'map_status': 'Normal', 'cholesterol_status': 'Borderline High', 'glucose_status': 'Borderline High', 'cvd_risk': 'High Risk', 'diabetes_risk': 'Low Risk'}}\n",
      "{'patient': {'cluster': '1', 'age': '29', 'gender': '0', 'cholesterol': '208', 'systolic_bp': '127', 'diastolic_bp': '80', 'mean_arterial_pressure': '95.66666666666667', 'skin_thickness': '27', 'insulin': '164', 'bmi': '31', 'dpf': '1', 'age_class': '0', 'bmi_class': '3', 'map_class': '1', 'cholesterol_class': '1', 'glucose_class': '1', 'smoke': '0', 'active': '1', 'cvd_prediction': '1', 'diabetes_prediction': '0'}, 'health_statuses': {'bmi_status': 'Obese', 'map_status': 'Normal', 'cholesterol_status': 'Borderline High', 'glucose_status': 'Borderline High', 'cvd_risk': 'High Risk', 'diabetes_risk': 'Low Risk'}}\n",
      "{'patient': {'cluster': '1', 'age': '29', 'gender': '0', 'cholesterol': '207', 'systolic_bp': '127', 'diastolic_bp': '80', 'mean_arterial_pressure': '95.66666666666667', 'skin_thickness': '27', 'insulin': '164', 'bmi': '31', 'dpf': '1', 'age_class': '0', 'bmi_class': '3', 'map_class': '1', 'cholesterol_class': '1', 'glucose_class': '1', 'smoke': '0', 'active': '1', 'cvd_prediction': '1', 'diabetes_prediction': '0'}, 'health_statuses': {'bmi_status': 'Obese', 'map_status': 'Normal', 'cholesterol_status': 'Borderline High', 'glucose_status': 'Borderline High', 'cvd_risk': 'High Risk', 'diabetes_risk': 'Low Risk'}}\n"
     ]
    },
    {
     "name": "stderr",
     "output_type": "stream",
     "text": [
      "127.0.0.1 - - [16/May/2022 23:01:36] \"POST /_dash-update-component HTTP/1.1\" 200 -\n",
      "127.0.0.1 - - [16/May/2022 23:01:36] \"POST /_dash-update-component HTTP/1.1\" 200 -\n"
     ]
    },
    {
     "name": "stdout",
     "output_type": "stream",
     "text": [
      "{'patient': {'cluster': '1', 'age': '29', 'gender': '0', 'cholesterol': '206', 'systolic_bp': '127', 'diastolic_bp': '80', 'mean_arterial_pressure': '95.66666666666667', 'skin_thickness': '27', 'insulin': '164', 'bmi': '31', 'dpf': '1', 'age_class': '0', 'bmi_class': '3', 'map_class': '1', 'cholesterol_class': '1', 'glucose_class': '1', 'smoke': '0', 'active': '1', 'cvd_prediction': '1', 'diabetes_prediction': '0'}, 'health_statuses': {'bmi_status': 'Obese', 'map_status': 'Normal', 'cholesterol_status': 'Borderline High', 'glucose_status': 'Borderline High', 'cvd_risk': 'High Risk', 'diabetes_risk': 'Low Risk'}}\n"
     ]
    },
    {
     "name": "stderr",
     "output_type": "stream",
     "text": [
      "127.0.0.1 - - [16/May/2022 23:01:36] \"POST /_dash-update-component HTTP/1.1\" 200 -\n",
      "127.0.0.1 - - [16/May/2022 23:01:36] \"POST /_dash-update-component HTTP/1.1\" 200 -\n",
      "127.0.0.1 - - [16/May/2022 23:01:36] \"POST /_dash-update-component HTTP/1.1\" 200 -\n",
      "127.0.0.1 - - [16/May/2022 23:01:36] \"POST /_dash-update-component HTTP/1.1\" 200 -\n"
     ]
    },
    {
     "name": "stdout",
     "output_type": "stream",
     "text": [
      "{'patient': {'cluster': '1', 'age': '29', 'gender': '0', 'cholesterol': '205', 'systolic_bp': '127', 'diastolic_bp': '80', 'mean_arterial_pressure': '95.66666666666667', 'skin_thickness': '27', 'insulin': '164', 'bmi': '31', 'dpf': '1', 'age_class': '0', 'bmi_class': '3', 'map_class': '1', 'cholesterol_class': '1', 'glucose_class': '1', 'smoke': '0', 'active': '1', 'cvd_prediction': '1', 'diabetes_prediction': '0'}, 'health_statuses': {'bmi_status': 'Obese', 'map_status': 'Normal', 'cholesterol_status': 'Borderline High', 'glucose_status': 'Borderline High', 'cvd_risk': 'High Risk', 'diabetes_risk': 'Low Risk'}}\n",
      "{'patient': {'cluster': '1', 'age': '29', 'gender': '0', 'cholesterol': '204', 'systolic_bp': '127', 'diastolic_bp': '80', 'mean_arterial_pressure': '95.66666666666667', 'skin_thickness': '27', 'insulin': '164', 'bmi': '31', 'dpf': '1', 'age_class': '0', 'bmi_class': '3', 'map_class': '1', 'cholesterol_class': '1', 'glucose_class': '1', 'smoke': '0', 'active': '1', 'cvd_prediction': '1', 'diabetes_prediction': '0'}, 'health_statuses': {'bmi_status': 'Obese', 'map_status': 'Normal', 'cholesterol_status': 'Borderline High', 'glucose_status': 'Borderline High', 'cvd_risk': 'High Risk', 'diabetes_risk': 'Low Risk'}}\n"
     ]
    },
    {
     "name": "stderr",
     "output_type": "stream",
     "text": [
      "127.0.0.1 - - [16/May/2022 23:01:36] \"POST /_dash-update-component HTTP/1.1\" 200 -\n",
      "127.0.0.1 - - [16/May/2022 23:01:36] \"POST /_dash-update-component HTTP/1.1\" 200 -\n",
      "127.0.0.1 - - [16/May/2022 23:01:36] \"POST /_dash-update-component HTTP/1.1\" 200 -\n",
      "127.0.0.1 - - [16/May/2022 23:01:36] \"POST /_dash-update-component HTTP/1.1\" 200 -\n",
      "127.0.0.1 - - [16/May/2022 23:01:36] \"POST /_dash-update-component HTTP/1.1\" 200 -\n",
      "127.0.0.1 - - [16/May/2022 23:01:36] \"POST /_dash-update-component HTTP/1.1\" 200 -\n"
     ]
    },
    {
     "name": "stdout",
     "output_type": "stream",
     "text": [
      "{'patient': {'cluster': '1', 'age': '29', 'gender': '0', 'cholesterol': '203', 'systolic_bp': '127', 'diastolic_bp': '80', 'mean_arterial_pressure': '95.66666666666667', 'skin_thickness': '27', 'insulin': '164', 'bmi': '31', 'dpf': '1', 'age_class': '0', 'bmi_class': '3', 'map_class': '1', 'cholesterol_class': '1', 'glucose_class': '1', 'smoke': '0', 'active': '1', 'cvd_prediction': '1', 'diabetes_prediction': '0'}, 'health_statuses': {'bmi_status': 'Obese', 'map_status': 'Normal', 'cholesterol_status': 'Borderline High', 'glucose_status': 'Borderline High', 'cvd_risk': 'High Risk', 'diabetes_risk': 'Low Risk'}}\n",
      "{'patient': {'cluster': '1', 'age': '29', 'gender': '0', 'cholesterol': '202', 'systolic_bp': '127', 'diastolic_bp': '80', 'mean_arterial_pressure': '95.66666666666667', 'skin_thickness': '27', 'insulin': '164', 'bmi': '31', 'dpf': '1', 'age_class': '0', 'bmi_class': '3', 'map_class': '1', 'cholesterol_class': '1', 'glucose_class': '1', 'smoke': '0', 'active': '1', 'cvd_prediction': '1', 'diabetes_prediction': '0'}, 'health_statuses': {'bmi_status': 'Obese', 'map_status': 'Normal', 'cholesterol_status': 'Borderline High', 'glucose_status': 'Borderline High', 'cvd_risk': 'High Risk', 'diabetes_risk': 'Low Risk'}}\n",
      "{'patient': {'cluster': '1', 'age': '29', 'gender': '0', 'cholesterol': '201', 'systolic_bp': '127', 'diastolic_bp': '80', 'mean_arterial_pressure': '95.66666666666667', 'skin_thickness': '27', 'insulin': '164', 'bmi': '31', 'dpf': '1', 'age_class': '0', 'bmi_class': '3', 'map_class': '1', 'cholesterol_class': '1', 'glucose_class': '1', 'smoke': '0', 'active': '1', 'cvd_prediction': '1', 'diabetes_prediction': '0'}, 'health_statuses': {'bmi_status': 'Obese', 'map_status': 'Normal', 'cholesterol_status': 'Borderline High', 'glucose_status': 'Borderline High', 'cvd_risk': 'High Risk', 'diabetes_risk': 'Low Risk'}}\n"
     ]
    },
    {
     "name": "stderr",
     "output_type": "stream",
     "text": [
      "127.0.0.1 - - [16/May/2022 23:01:36] \"POST /_dash-update-component HTTP/1.1\" 200 -\n",
      "127.0.0.1 - - [16/May/2022 23:01:36] \"POST /_dash-update-component HTTP/1.1\" 200 -\n"
     ]
    },
    {
     "name": "stdout",
     "output_type": "stream",
     "text": [
      "{'patient': {'cluster': '1', 'age': '29', 'gender': '0', 'cholesterol': '200', 'systolic_bp': '127', 'diastolic_bp': '80', 'mean_arterial_pressure': '95.66666666666667', 'skin_thickness': '27', 'insulin': '164', 'bmi': '31', 'dpf': '1', 'age_class': '0', 'bmi_class': '3', 'map_class': '1', 'cholesterol_class': '0', 'glucose_class': '1', 'smoke': '0', 'active': '1', 'cvd_prediction': '1', 'diabetes_prediction': '0'}, 'health_statuses': {'bmi_status': 'Obese', 'map_status': 'Normal', 'cholesterol_status': 'Normal', 'glucose_status': 'Borderline High', 'cvd_risk': 'High Risk', 'diabetes_risk': 'Low Risk'}}\n"
     ]
    },
    {
     "name": "stderr",
     "output_type": "stream",
     "text": [
      "127.0.0.1 - - [16/May/2022 23:01:37] \"POST /_dash-update-component HTTP/1.1\" 200 -\n",
      "127.0.0.1 - - [16/May/2022 23:01:37] \"POST /_dash-update-component HTTP/1.1\" 200 -\n",
      "127.0.0.1 - - [16/May/2022 23:01:37] \"POST /_dash-update-component HTTP/1.1\" 200 -\n",
      "127.0.0.1 - - [16/May/2022 23:01:37] \"POST /_dash-update-component HTTP/1.1\" 200 -\n"
     ]
    },
    {
     "name": "stdout",
     "output_type": "stream",
     "text": [
      "{'patient': {'cluster': '1', 'age': '29', 'gender': '0', 'cholesterol': '199', 'systolic_bp': '127', 'diastolic_bp': '80', 'mean_arterial_pressure': '95.66666666666667', 'skin_thickness': '27', 'insulin': '164', 'bmi': '31', 'dpf': '1', 'age_class': '0', 'bmi_class': '3', 'map_class': '1', 'cholesterol_class': '0', 'glucose_class': '1', 'smoke': '0', 'active': '1', 'cvd_prediction': '1', 'diabetes_prediction': '0'}, 'health_statuses': {'bmi_status': 'Obese', 'map_status': 'Normal', 'cholesterol_status': 'Normal', 'glucose_status': 'Borderline High', 'cvd_risk': 'High Risk', 'diabetes_risk': 'Low Risk'}}\n",
      "{'patient': {'cluster': '1', 'age': '29', 'gender': '0', 'cholesterol': '198', 'systolic_bp': '127', 'diastolic_bp': '80', 'mean_arterial_pressure': '95.66666666666667', 'skin_thickness': '27', 'insulin': '164', 'bmi': '31', 'dpf': '1', 'age_class': '0', 'bmi_class': '3', 'map_class': '1', 'cholesterol_class': '0', 'glucose_class': '1', 'smoke': '0', 'active': '1', 'cvd_prediction': '1', 'diabetes_prediction': '0'}, 'health_statuses': {'bmi_status': 'Obese', 'map_status': 'Normal', 'cholesterol_status': 'Normal', 'glucose_status': 'Borderline High', 'cvd_risk': 'High Risk', 'diabetes_risk': 'Low Risk'}}\n"
     ]
    },
    {
     "name": "stderr",
     "output_type": "stream",
     "text": [
      "127.0.0.1 - - [16/May/2022 23:01:37] \"POST /_dash-update-component HTTP/1.1\" 200 -\n",
      "127.0.0.1 - - [16/May/2022 23:01:37] \"POST /_dash-update-component HTTP/1.1\" 200 -\n",
      "127.0.0.1 - - [16/May/2022 23:01:37] \"POST /_dash-update-component HTTP/1.1\" 200 -\n",
      "127.0.0.1 - - [16/May/2022 23:01:37] \"POST /_dash-update-component HTTP/1.1\" 200 -\n",
      "127.0.0.1 - - [16/May/2022 23:01:37] \"POST /_dash-update-component HTTP/1.1\" 200 -\n",
      "127.0.0.1 - - [16/May/2022 23:01:37] \"POST /_dash-update-component HTTP/1.1\" 200 -\n"
     ]
    },
    {
     "name": "stdout",
     "output_type": "stream",
     "text": [
      "{'patient': {'cluster': '1', 'age': '29', 'gender': '0', 'cholesterol': '197', 'systolic_bp': '127', 'diastolic_bp': '80', 'mean_arterial_pressure': '95.66666666666667', 'skin_thickness': '27', 'insulin': '164', 'bmi': '31', 'dpf': '1', 'age_class': '0', 'bmi_class': '3', 'map_class': '1', 'cholesterol_class': '0', 'glucose_class': '1', 'smoke': '0', 'active': '1', 'cvd_prediction': '1', 'diabetes_prediction': '0'}, 'health_statuses': {'bmi_status': 'Obese', 'map_status': 'Normal', 'cholesterol_status': 'Normal', 'glucose_status': 'Borderline High', 'cvd_risk': 'High Risk', 'diabetes_risk': 'Low Risk'}}\n",
      "{'patient': {'cluster': '1', 'age': '29', 'gender': '0', 'cholesterol': '196', 'systolic_bp': '127', 'diastolic_bp': '80', 'mean_arterial_pressure': '95.66666666666667', 'skin_thickness': '27', 'insulin': '164', 'bmi': '31', 'dpf': '1', 'age_class': '0', 'bmi_class': '3', 'map_class': '1', 'cholesterol_class': '0', 'glucose_class': '1', 'smoke': '0', 'active': '1', 'cvd_prediction': '1', 'diabetes_prediction': '0'}, 'health_statuses': {'bmi_status': 'Obese', 'map_status': 'Normal', 'cholesterol_status': 'Normal', 'glucose_status': 'Borderline High', 'cvd_risk': 'High Risk', 'diabetes_risk': 'Low Risk'}}\n",
      "{'patient': {'cluster': '1', 'age': '29', 'gender': '0', 'cholesterol': '195', 'systolic_bp': '127', 'diastolic_bp': '80', 'mean_arterial_pressure': '95.66666666666667', 'skin_thickness': '27', 'insulin': '164', 'bmi': '31', 'dpf': '1', 'age_class': '0', 'bmi_class': '3', 'map_class': '1', 'cholesterol_class': '0', 'glucose_class': '1', 'smoke': '0', 'active': '1', 'cvd_prediction': '1', 'diabetes_prediction': '0'}, 'health_statuses': {'bmi_status': 'Obese', 'map_status': 'Normal', 'cholesterol_status': 'Normal', 'glucose_status': 'Borderline High', 'cvd_risk': 'High Risk', 'diabetes_risk': 'Low Risk'}}\n"
     ]
    },
    {
     "name": "stderr",
     "output_type": "stream",
     "text": [
      "127.0.0.1 - - [16/May/2022 23:01:37] \"POST /_dash-update-component HTTP/1.1\" 200 -\n",
      "127.0.0.1 - - [16/May/2022 23:01:37] \"POST /_dash-update-component HTTP/1.1\" 200 -\n"
     ]
    },
    {
     "name": "stdout",
     "output_type": "stream",
     "text": [
      "{'patient': {'cluster': '1', 'age': '29', 'gender': '0', 'cholesterol': '194', 'systolic_bp': '127', 'diastolic_bp': '80', 'mean_arterial_pressure': '95.66666666666667', 'skin_thickness': '27', 'insulin': '164', 'bmi': '31', 'dpf': '1', 'age_class': '0', 'bmi_class': '3', 'map_class': '1', 'cholesterol_class': '0', 'glucose_class': '1', 'smoke': '0', 'active': '1', 'cvd_prediction': '1', 'diabetes_prediction': '0'}, 'health_statuses': {'bmi_status': 'Obese', 'map_status': 'Normal', 'cholesterol_status': 'Normal', 'glucose_status': 'Borderline High', 'cvd_risk': 'High Risk', 'diabetes_risk': 'Low Risk'}}\n"
     ]
    },
    {
     "name": "stderr",
     "output_type": "stream",
     "text": [
      "127.0.0.1 - - [16/May/2022 23:01:37] \"POST /_dash-update-component HTTP/1.1\" 200 -\n",
      "127.0.0.1 - - [16/May/2022 23:01:37] \"POST /_dash-update-component HTTP/1.1\" 200 -\n"
     ]
    },
    {
     "name": "stdout",
     "output_type": "stream",
     "text": [
      "{'patient': {'cluster': '1', 'age': '29', 'gender': '0', 'cholesterol': '193', 'systolic_bp': '127', 'diastolic_bp': '80', 'mean_arterial_pressure': '95.66666666666667', 'skin_thickness': '27', 'insulin': '164', 'bmi': '31', 'dpf': '1', 'age_class': '0', 'bmi_class': '3', 'map_class': '1', 'cholesterol_class': '0', 'glucose_class': '1', 'smoke': '0', 'active': '1', 'cvd_prediction': '1', 'diabetes_prediction': '0'}, 'health_statuses': {'bmi_status': 'Obese', 'map_status': 'Normal', 'cholesterol_status': 'Normal', 'glucose_status': 'Borderline High', 'cvd_risk': 'High Risk', 'diabetes_risk': 'Low Risk'}}\n"
     ]
    },
    {
     "name": "stderr",
     "output_type": "stream",
     "text": [
      "127.0.0.1 - - [16/May/2022 23:01:38] \"POST /_dash-update-component HTTP/1.1\" 200 -\n",
      "127.0.0.1 - - [16/May/2022 23:01:38] \"POST /_dash-update-component HTTP/1.1\" 200 -\n",
      "127.0.0.1 - - [16/May/2022 23:01:38] \"POST /_dash-update-component HTTP/1.1\" 200 -\n",
      "127.0.0.1 - - [16/May/2022 23:01:38] \"POST /_dash-update-component HTTP/1.1\" 200 -\n"
     ]
    },
    {
     "name": "stdout",
     "output_type": "stream",
     "text": [
      "{'patient': {'cluster': '1', 'age': '29', 'gender': '0', 'cholesterol': '192', 'systolic_bp': '127', 'diastolic_bp': '80', 'mean_arterial_pressure': '95.66666666666667', 'skin_thickness': '27', 'insulin': '164', 'bmi': '31', 'dpf': '1', 'age_class': '0', 'bmi_class': '3', 'map_class': '1', 'cholesterol_class': '0', 'glucose_class': '1', 'smoke': '0', 'active': '1', 'cvd_prediction': '1', 'diabetes_prediction': '0'}, 'health_statuses': {'bmi_status': 'Obese', 'map_status': 'Normal', 'cholesterol_status': 'Normal', 'glucose_status': 'Borderline High', 'cvd_risk': 'High Risk', 'diabetes_risk': 'Low Risk'}}\n",
      "{'patient': {'cluster': '1', 'age': '29', 'gender': '0', 'cholesterol': '191', 'systolic_bp': '127', 'diastolic_bp': '80', 'mean_arterial_pressure': '95.66666666666667', 'skin_thickness': '27', 'insulin': '164', 'bmi': '31', 'dpf': '1', 'age_class': '0', 'bmi_class': '3', 'map_class': '1', 'cholesterol_class': '0', 'glucose_class': '1', 'smoke': '0', 'active': '1', 'cvd_prediction': '1', 'diabetes_prediction': '0'}, 'health_statuses': {'bmi_status': 'Obese', 'map_status': 'Normal', 'cholesterol_status': 'Normal', 'glucose_status': 'Borderline High', 'cvd_risk': 'High Risk', 'diabetes_risk': 'Low Risk'}}\n"
     ]
    },
    {
     "name": "stderr",
     "output_type": "stream",
     "text": [
      "127.0.0.1 - - [16/May/2022 23:01:38] \"POST /_dash-update-component HTTP/1.1\" 200 -\n",
      "127.0.0.1 - - [16/May/2022 23:01:38] \"POST /_dash-update-component HTTP/1.1\" 200 -\n",
      "127.0.0.1 - - [16/May/2022 23:01:38] \"POST /_dash-update-component HTTP/1.1\" 200 -\n",
      "127.0.0.1 - - [16/May/2022 23:01:38] \"POST /_dash-update-component HTTP/1.1\" 200 -\n",
      "127.0.0.1 - - [16/May/2022 23:01:38] \"POST /_dash-update-component HTTP/1.1\" 200 -\n",
      "127.0.0.1 - - [16/May/2022 23:01:38] \"POST /_dash-update-component HTTP/1.1\" 200 -\n"
     ]
    },
    {
     "name": "stdout",
     "output_type": "stream",
     "text": [
      "{'patient': {'cluster': '1', 'age': '29', 'gender': '0', 'cholesterol': '190', 'systolic_bp': '127', 'diastolic_bp': '80', 'mean_arterial_pressure': '95.66666666666667', 'skin_thickness': '27', 'insulin': '164', 'bmi': '31', 'dpf': '1', 'age_class': '0', 'bmi_class': '3', 'map_class': '1', 'cholesterol_class': '0', 'glucose_class': '1', 'smoke': '0', 'active': '1', 'cvd_prediction': '1', 'diabetes_prediction': '0'}, 'health_statuses': {'bmi_status': 'Obese', 'map_status': 'Normal', 'cholesterol_status': 'Normal', 'glucose_status': 'Borderline High', 'cvd_risk': 'High Risk', 'diabetes_risk': 'Low Risk'}}\n",
      "{'patient': {'cluster': '1', 'age': '29', 'gender': '0', 'cholesterol': '189', 'systolic_bp': '127', 'diastolic_bp': '80', 'mean_arterial_pressure': '95.66666666666667', 'skin_thickness': '27', 'insulin': '164', 'bmi': '31', 'dpf': '1', 'age_class': '0', 'bmi_class': '3', 'map_class': '1', 'cholesterol_class': '0', 'glucose_class': '1', 'smoke': '0', 'active': '1', 'cvd_prediction': '1', 'diabetes_prediction': '0'}, 'health_statuses': {'bmi_status': 'Obese', 'map_status': 'Normal', 'cholesterol_status': 'Normal', 'glucose_status': 'Borderline High', 'cvd_risk': 'High Risk', 'diabetes_risk': 'Low Risk'}}\n",
      "{'patient': {'cluster': '1', 'age': '29', 'gender': '0', 'cholesterol': '188', 'systolic_bp': '127', 'diastolic_bp': '80', 'mean_arterial_pressure': '95.66666666666667', 'skin_thickness': '27', 'insulin': '164', 'bmi': '31', 'dpf': '1', 'age_class': '0', 'bmi_class': '3', 'map_class': '1', 'cholesterol_class': '0', 'glucose_class': '1', 'smoke': '0', 'active': '1', 'cvd_prediction': '1', 'diabetes_prediction': '0'}, 'health_statuses': {'bmi_status': 'Obese', 'map_status': 'Normal', 'cholesterol_status': 'Normal', 'glucose_status': 'Borderline High', 'cvd_risk': 'High Risk', 'diabetes_risk': 'Low Risk'}}\n"
     ]
    },
    {
     "name": "stderr",
     "output_type": "stream",
     "text": [
      "127.0.0.1 - - [16/May/2022 23:01:38] \"POST /_dash-update-component HTTP/1.1\" 200 -\n",
      "127.0.0.1 - - [16/May/2022 23:01:38] \"POST /_dash-update-component HTTP/1.1\" 200 -\n"
     ]
    },
    {
     "name": "stdout",
     "output_type": "stream",
     "text": [
      "{'patient': {'cluster': '1', 'age': '29', 'gender': '0', 'cholesterol': '187', 'systolic_bp': '127', 'diastolic_bp': '80', 'mean_arterial_pressure': '95.66666666666667', 'skin_thickness': '27', 'insulin': '164', 'bmi': '31', 'dpf': '1', 'age_class': '0', 'bmi_class': '3', 'map_class': '1', 'cholesterol_class': '0', 'glucose_class': '1', 'smoke': '0', 'active': '1', 'cvd_prediction': '1', 'diabetes_prediction': '0'}, 'health_statuses': {'bmi_status': 'Obese', 'map_status': 'Normal', 'cholesterol_status': 'Normal', 'glucose_status': 'Borderline High', 'cvd_risk': 'High Risk', 'diabetes_risk': 'Low Risk'}}\n",
      "{'patient': {'cluster': '1', 'age': '29', 'gender': '0', 'cholesterol': '186', 'systolic_bp': '127', 'diastolic_bp': '80', 'mean_arterial_pressure': '95.66666666666667', 'skin_thickness': '27', 'insulin': '164', 'bmi': '31', 'dpf': '1', 'age_class': '0', 'bmi_class': '3', 'map_class': '1', 'cholesterol_class': '0', 'glucose_class': '1', 'smoke': '0', 'active': '1', 'cvd_prediction': '1', 'diabetes_prediction': '0'}, 'health_statuses': {'bmi_status': 'Obese', 'map_status': 'Normal', 'cholesterol_status': 'Normal', 'glucose_status': 'Borderline High', 'cvd_risk': 'High Risk', 'diabetes_risk': 'Low Risk'}}\n"
     ]
    },
    {
     "name": "stderr",
     "output_type": "stream",
     "text": [
      "127.0.0.1 - - [16/May/2022 23:01:38] \"POST /_dash-update-component HTTP/1.1\" 200 -\n",
      "127.0.0.1 - - [16/May/2022 23:01:38] \"POST /_dash-update-component HTTP/1.1\" 200 -\n",
      "127.0.0.1 - - [16/May/2022 23:01:38] \"POST /_dash-update-component HTTP/1.1\" 200 -\n",
      "127.0.0.1 - - [16/May/2022 23:01:38] \"POST /_dash-update-component HTTP/1.1\" 200 -\n",
      "127.0.0.1 - - [16/May/2022 23:01:39] \"POST /_dash-update-component HTTP/1.1\" 200 -\n",
      "127.0.0.1 - - [16/May/2022 23:01:39] \"POST /_dash-update-component HTTP/1.1\" 200 -\n",
      "127.0.0.1 - - [16/May/2022 23:01:39] \"POST /_dash-update-component HTTP/1.1\" 200 -\n",
      "127.0.0.1 - - [16/May/2022 23:01:39] \"POST /_dash-update-component HTTP/1.1\" 200 -\n"
     ]
    },
    {
     "name": "stdout",
     "output_type": "stream",
     "text": [
      "{'patient': {'cluster': '1', 'age': '29', 'gender': '0', 'cholesterol': '185', 'systolic_bp': '127', 'diastolic_bp': '80', 'mean_arterial_pressure': '95.66666666666667', 'skin_thickness': '27', 'insulin': '164', 'bmi': '31', 'dpf': '1', 'age_class': '0', 'bmi_class': '3', 'map_class': '1', 'cholesterol_class': '0', 'glucose_class': '1', 'smoke': '0', 'active': '1', 'cvd_prediction': '1', 'diabetes_prediction': '0'}, 'health_statuses': {'bmi_status': 'Obese', 'map_status': 'Normal', 'cholesterol_status': 'Normal', 'glucose_status': 'Borderline High', 'cvd_risk': 'High Risk', 'diabetes_risk': 'Low Risk'}}\n",
      "{'patient': {'cluster': '1', 'age': '29', 'gender': '0', 'cholesterol': '184', 'systolic_bp': '127', 'diastolic_bp': '80', 'mean_arterial_pressure': '95.66666666666667', 'skin_thickness': '27', 'insulin': '164', 'bmi': '31', 'dpf': '1', 'age_class': '0', 'bmi_class': '3', 'map_class': '1', 'cholesterol_class': '0', 'glucose_class': '1', 'smoke': '0', 'active': '1', 'cvd_prediction': '1', 'diabetes_prediction': '0'}, 'health_statuses': {'bmi_status': 'Obese', 'map_status': 'Normal', 'cholesterol_status': 'Normal', 'glucose_status': 'Borderline High', 'cvd_risk': 'High Risk', 'diabetes_risk': 'Low Risk'}}\n",
      "{'patient': {'cluster': '1', 'age': '29', 'gender': '0', 'cholesterol': '183', 'systolic_bp': '127', 'diastolic_bp': '80', 'mean_arterial_pressure': '95.66666666666667', 'skin_thickness': '27', 'insulin': '164', 'bmi': '31', 'dpf': '1', 'age_class': '0', 'bmi_class': '3', 'map_class': '1', 'cholesterol_class': '0', 'glucose_class': '1', 'smoke': '0', 'active': '1', 'cvd_prediction': '1', 'diabetes_prediction': '0'}, 'health_statuses': {'bmi_status': 'Obese', 'map_status': 'Normal', 'cholesterol_status': 'Normal', 'glucose_status': 'Borderline High', 'cvd_risk': 'High Risk', 'diabetes_risk': 'Low Risk'}}\n"
     ]
    },
    {
     "name": "stderr",
     "output_type": "stream",
     "text": [
      "127.0.0.1 - - [16/May/2022 23:01:39] \"POST /_dash-update-component HTTP/1.1\" 200 -\n",
      "127.0.0.1 - - [16/May/2022 23:01:39] \"POST /_dash-update-component HTTP/1.1\" 200 -\n"
     ]
    },
    {
     "name": "stdout",
     "output_type": "stream",
     "text": [
      "{'patient': {'cluster': '1', 'age': '29', 'gender': '0', 'cholesterol': '182', 'systolic_bp': '127', 'diastolic_bp': '80', 'mean_arterial_pressure': '95.66666666666667', 'skin_thickness': '27', 'insulin': '164', 'bmi': '31', 'dpf': '1', 'age_class': '0', 'bmi_class': '3', 'map_class': '1', 'cholesterol_class': '0', 'glucose_class': '1', 'smoke': '0', 'active': '1', 'cvd_prediction': '1', 'diabetes_prediction': '0'}, 'health_statuses': {'bmi_status': 'Obese', 'map_status': 'Normal', 'cholesterol_status': 'Normal', 'glucose_status': 'Borderline High', 'cvd_risk': 'High Risk', 'diabetes_risk': 'Low Risk'}}\n"
     ]
    },
    {
     "name": "stderr",
     "output_type": "stream",
     "text": [
      "127.0.0.1 - - [16/May/2022 23:01:39] \"POST /_dash-update-component HTTP/1.1\" 200 -\n",
      "127.0.0.1 - - [16/May/2022 23:01:39] \"POST /_dash-update-component HTTP/1.1\" 200 -\n",
      "127.0.0.1 - - [16/May/2022 23:01:39] \"POST /_dash-update-component HTTP/1.1\" 200 -\n"
     ]
    },
    {
     "name": "stdout",
     "output_type": "stream",
     "text": [
      "{'patient': {'cluster': '1', 'age': '29', 'gender': '0', 'cholesterol': '181', 'systolic_bp': '127', 'diastolic_bp': '80', 'mean_arterial_pressure': '95.66666666666667', 'skin_thickness': '27', 'insulin': '164', 'bmi': '31', 'dpf': '1', 'age_class': '0', 'bmi_class': '3', 'map_class': '1', 'cholesterol_class': '0', 'glucose_class': '1', 'smoke': '0', 'active': '1', 'cvd_prediction': '1', 'diabetes_prediction': '0'}, 'health_statuses': {'bmi_status': 'Obese', 'map_status': 'Normal', 'cholesterol_status': 'Normal', 'glucose_status': 'Borderline High', 'cvd_risk': 'High Risk', 'diabetes_risk': 'Low Risk'}}\n",
      "{'patient': {'cluster': '1', 'age': '29', 'gender': '0', 'cholesterol': '180', 'systolic_bp': '127', 'diastolic_bp': '80', 'mean_arterial_pressure': '95.66666666666667', 'skin_thickness': '27', 'insulin': '164', 'bmi': '31', 'dpf': '1', 'age_class': '0', 'bmi_class': '3', 'map_class': '1', 'cholesterol_class': '0', 'glucose_class': '1', 'smoke': '0', 'active': '1', 'cvd_prediction': '1', 'diabetes_prediction': '0'}, 'health_statuses': {'bmi_status': 'Obese', 'map_status': 'Normal', 'cholesterol_status': 'Normal', 'glucose_status': 'Borderline High', 'cvd_risk': 'High Risk', 'diabetes_risk': 'Low Risk'}}\n"
     ]
    },
    {
     "name": "stderr",
     "output_type": "stream",
     "text": [
      "127.0.0.1 - - [16/May/2022 23:01:39] \"POST /_dash-update-component HTTP/1.1\" 200 -\n",
      "127.0.0.1 - - [16/May/2022 23:01:39] \"POST /_dash-update-component HTTP/1.1\" 200 -\n",
      "127.0.0.1 - - [16/May/2022 23:01:39] \"POST /_dash-update-component HTTP/1.1\" 200 -\n",
      "127.0.0.1 - - [16/May/2022 23:01:39] \"POST /_dash-update-component HTTP/1.1\" 200 -\n",
      "127.0.0.1 - - [16/May/2022 23:01:39] \"POST /_dash-update-component HTTP/1.1\" 200 -\n",
      "127.0.0.1 - - [16/May/2022 23:01:39] \"POST /_dash-update-component HTTP/1.1\" 200 -\n"
     ]
    },
    {
     "name": "stdout",
     "output_type": "stream",
     "text": [
      "{'patient': {'cluster': '1', 'age': '29', 'gender': '0', 'cholesterol': '179', 'systolic_bp': '127', 'diastolic_bp': '80', 'mean_arterial_pressure': '95.66666666666667', 'skin_thickness': '27', 'insulin': '164', 'bmi': '31', 'dpf': '1', 'age_class': '0', 'bmi_class': '3', 'map_class': '1', 'cholesterol_class': '0', 'glucose_class': '1', 'smoke': '0', 'active': '1', 'cvd_prediction': '1', 'diabetes_prediction': '0'}, 'health_statuses': {'bmi_status': 'Obese', 'map_status': 'Normal', 'cholesterol_status': 'Normal', 'glucose_status': 'Borderline High', 'cvd_risk': 'High Risk', 'diabetes_risk': 'Low Risk'}}\n",
      "{'patient': {'cluster': '1', 'age': '29', 'gender': '0', 'cholesterol': '178', 'systolic_bp': '127', 'diastolic_bp': '80', 'mean_arterial_pressure': '95.66666666666667', 'skin_thickness': '27', 'insulin': '164', 'bmi': '31', 'dpf': '1', 'age_class': '0', 'bmi_class': '3', 'map_class': '1', 'cholesterol_class': '0', 'glucose_class': '1', 'smoke': '0', 'active': '1', 'cvd_prediction': '1', 'diabetes_prediction': '0'}, 'health_statuses': {'bmi_status': 'Obese', 'map_status': 'Normal', 'cholesterol_status': 'Normal', 'glucose_status': 'Borderline High', 'cvd_risk': 'High Risk', 'diabetes_risk': 'Low Risk'}}\n",
      "{'patient': {'cluster': '1', 'age': '29', 'gender': '0', 'cholesterol': '177', 'systolic_bp': '127', 'diastolic_bp': '80', 'mean_arterial_pressure': '95.66666666666667', 'skin_thickness': '27', 'insulin': '164', 'bmi': '31', 'dpf': '1', 'age_class': '0', 'bmi_class': '3', 'map_class': '1', 'cholesterol_class': '0', 'glucose_class': '1', 'smoke': '0', 'active': '1', 'cvd_prediction': '1', 'diabetes_prediction': '0'}, 'health_statuses': {'bmi_status': 'Obese', 'map_status': 'Normal', 'cholesterol_status': 'Normal', 'glucose_status': 'Borderline High', 'cvd_risk': 'High Risk', 'diabetes_risk': 'Low Risk'}}\n"
     ]
    },
    {
     "name": "stderr",
     "output_type": "stream",
     "text": [
      "127.0.0.1 - - [16/May/2022 23:01:39] \"POST /_dash-update-component HTTP/1.1\" 200 -\n",
      "127.0.0.1 - - [16/May/2022 23:01:39] \"POST /_dash-update-component HTTP/1.1\" 200 -\n",
      "127.0.0.1 - - [16/May/2022 23:01:39] \"POST /_dash-update-component HTTP/1.1\" 200 -\n"
     ]
    },
    {
     "name": "stdout",
     "output_type": "stream",
     "text": [
      "{'patient': {'cluster': '1', 'age': '29', 'gender': '0', 'cholesterol': '176', 'systolic_bp': '127', 'diastolic_bp': '80', 'mean_arterial_pressure': '95.66666666666667', 'skin_thickness': '27', 'insulin': '164', 'bmi': '31', 'dpf': '1', 'age_class': '0', 'bmi_class': '3', 'map_class': '1', 'cholesterol_class': '0', 'glucose_class': '1', 'smoke': '0', 'active': '1', 'cvd_prediction': '1', 'diabetes_prediction': '0'}, 'health_statuses': {'bmi_status': 'Obese', 'map_status': 'Normal', 'cholesterol_status': 'Normal', 'glucose_status': 'Borderline High', 'cvd_risk': 'High Risk', 'diabetes_risk': 'Low Risk'}}\n"
     ]
    },
    {
     "name": "stderr",
     "output_type": "stream",
     "text": [
      "127.0.0.1 - - [16/May/2022 23:01:40] \"POST /_dash-update-component HTTP/1.1\" 200 -\n",
      "127.0.0.1 - - [16/May/2022 23:01:40] \"POST /_dash-update-component HTTP/1.1\" 200 -\n"
     ]
    },
    {
     "name": "stdout",
     "output_type": "stream",
     "text": [
      "{'patient': {'cluster': '1', 'age': '29', 'gender': '0', 'cholesterol': '175', 'systolic_bp': '127', 'diastolic_bp': '80', 'mean_arterial_pressure': '95.66666666666667', 'skin_thickness': '27', 'insulin': '164', 'bmi': '31', 'dpf': '1', 'age_class': '0', 'bmi_class': '3', 'map_class': '1', 'cholesterol_class': '0', 'glucose_class': '1', 'smoke': '0', 'active': '1', 'cvd_prediction': '1', 'diabetes_prediction': '0'}, 'health_statuses': {'bmi_status': 'Obese', 'map_status': 'Normal', 'cholesterol_status': 'Normal', 'glucose_status': 'Borderline High', 'cvd_risk': 'High Risk', 'diabetes_risk': 'Low Risk'}}\n",
      "{'patient': {'cluster': '1', 'age': '29', 'gender': '0', 'cholesterol': '174', 'systolic_bp': '127', 'diastolic_bp': '80', 'mean_arterial_pressure': '95.66666666666667', 'skin_thickness': '27', 'insulin': '164', 'bmi': '31', 'dpf': '1', 'age_class': '0', 'bmi_class': '3', 'map_class': '1', 'cholesterol_class': '0', 'glucose_class': '1', 'smoke': '0', 'active': '1', 'cvd_prediction': '1', 'diabetes_prediction': '0'}, 'health_statuses': {'bmi_status': 'Obese', 'map_status': 'Normal', 'cholesterol_status': 'Normal', 'glucose_status': 'Borderline High', 'cvd_risk': 'High Risk', 'diabetes_risk': 'Low Risk'}}\n"
     ]
    },
    {
     "name": "stderr",
     "output_type": "stream",
     "text": [
      "127.0.0.1 - - [16/May/2022 23:01:40] \"POST /_dash-update-component HTTP/1.1\" 200 -\n",
      "127.0.0.1 - - [16/May/2022 23:01:40] \"POST /_dash-update-component HTTP/1.1\" 200 -\n",
      "127.0.0.1 - - [16/May/2022 23:01:40] \"POST /_dash-update-component HTTP/1.1\" 200 -\n",
      "127.0.0.1 - - [16/May/2022 23:01:40] \"POST /_dash-update-component HTTP/1.1\" 200 -\n",
      "127.0.0.1 - - [16/May/2022 23:01:40] \"POST /_dash-update-component HTTP/1.1\" 200 -\n",
      "127.0.0.1 - - [16/May/2022 23:01:40] \"POST /_dash-update-component HTTP/1.1\" 200 -\n",
      "127.0.0.1 - - [16/May/2022 23:01:40] \"POST /_dash-update-component HTTP/1.1\" 200 -\n"
     ]
    },
    {
     "name": "stdout",
     "output_type": "stream",
     "text": [
      "{'patient': {'cluster': '1', 'age': '29', 'gender': '0', 'cholesterol': '173', 'systolic_bp': '127', 'diastolic_bp': '80', 'mean_arterial_pressure': '95.66666666666667', 'skin_thickness': '27', 'insulin': '164', 'bmi': '31', 'dpf': '1', 'age_class': '0', 'bmi_class': '3', 'map_class': '1', 'cholesterol_class': '0', 'glucose_class': '1', 'smoke': '0', 'active': '1', 'cvd_prediction': '1', 'diabetes_prediction': '0'}, 'health_statuses': {'bmi_status': 'Obese', 'map_status': 'Normal', 'cholesterol_status': 'Normal', 'glucose_status': 'Borderline High', 'cvd_risk': 'High Risk', 'diabetes_risk': 'Low Risk'}}\n",
      "{'patient': {'cluster': '1', 'age': '29', 'gender': '0', 'cholesterol': '172', 'systolic_bp': '127', 'diastolic_bp': '80', 'mean_arterial_pressure': '95.66666666666667', 'skin_thickness': '27', 'insulin': '164', 'bmi': '31', 'dpf': '1', 'age_class': '0', 'bmi_class': '3', 'map_class': '1', 'cholesterol_class': '0', 'glucose_class': '1', 'smoke': '0', 'active': '1', 'cvd_prediction': '1', 'diabetes_prediction': '0'}, 'health_statuses': {'bmi_status': 'Obese', 'map_status': 'Normal', 'cholesterol_status': 'Normal', 'glucose_status': 'Borderline High', 'cvd_risk': 'High Risk', 'diabetes_risk': 'Low Risk'}}\n",
      "{'patient': {'cluster': '1', 'age': '29', 'gender': '0', 'cholesterol': '171', 'systolic_bp': '127', 'diastolic_bp': '80', 'mean_arterial_pressure': '95.66666666666667', 'skin_thickness': '27', 'insulin': '164', 'bmi': '31', 'dpf': '1', 'age_class': '0', 'bmi_class': '3', 'map_class': '1', 'cholesterol_class': '0', 'glucose_class': '1', 'smoke': '0', 'active': '1', 'cvd_prediction': '1', 'diabetes_prediction': '0'}, 'health_statuses': {'bmi_status': 'Obese', 'map_status': 'Normal', 'cholesterol_status': 'Normal', 'glucose_status': 'Borderline High', 'cvd_risk': 'High Risk', 'diabetes_risk': 'Low Risk'}}\n"
     ]
    },
    {
     "name": "stderr",
     "output_type": "stream",
     "text": [
      "127.0.0.1 - - [16/May/2022 23:01:40] \"POST /_dash-update-component HTTP/1.1\" 200 -\n",
      "127.0.0.1 - - [16/May/2022 23:01:40] \"POST /_dash-update-component HTTP/1.1\" 200 -\n",
      "127.0.0.1 - - [16/May/2022 23:01:40] \"POST /_dash-update-component HTTP/1.1\" 200 -\n"
     ]
    },
    {
     "name": "stdout",
     "output_type": "stream",
     "text": [
      "{'patient': {'cluster': '1', 'age': '29', 'gender': '0', 'cholesterol': '170', 'systolic_bp': '127', 'diastolic_bp': '80', 'mean_arterial_pressure': '95.66666666666667', 'skin_thickness': '27', 'insulin': '164', 'bmi': '31', 'dpf': '1', 'age_class': '0', 'bmi_class': '3', 'map_class': '1', 'cholesterol_class': '0', 'glucose_class': '1', 'smoke': '0', 'active': '1', 'cvd_prediction': '1', 'diabetes_prediction': '0'}, 'health_statuses': {'bmi_status': 'Obese', 'map_status': 'Normal', 'cholesterol_status': 'Normal', 'glucose_status': 'Borderline High', 'cvd_risk': 'High Risk', 'diabetes_risk': 'Low Risk'}}\n"
     ]
    },
    {
     "name": "stderr",
     "output_type": "stream",
     "text": [
      "127.0.0.1 - - [16/May/2022 23:01:41] \"POST /_dash-update-component HTTP/1.1\" 200 -\n",
      "127.0.0.1 - - [16/May/2022 23:01:41] \"POST /_dash-update-component HTTP/1.1\" 200 -\n"
     ]
    },
    {
     "name": "stdout",
     "output_type": "stream",
     "text": [
      "{'patient': {'cluster': '1', 'age': '29', 'gender': '0', 'cholesterol': '169', 'systolic_bp': '127', 'diastolic_bp': '80', 'mean_arterial_pressure': '95.66666666666667', 'skin_thickness': '27', 'insulin': '164', 'bmi': '31', 'dpf': '1', 'age_class': '0', 'bmi_class': '3', 'map_class': '1', 'cholesterol_class': '0', 'glucose_class': '1', 'smoke': '0', 'active': '1', 'cvd_prediction': '1', 'diabetes_prediction': '0'}, 'health_statuses': {'bmi_status': 'Obese', 'map_status': 'Normal', 'cholesterol_status': 'Normal', 'glucose_status': 'Borderline High', 'cvd_risk': 'High Risk', 'diabetes_risk': 'Low Risk'}}\n",
      "{'patient': {'cluster': '1', 'age': '29', 'gender': '0', 'cholesterol': '168', 'systolic_bp': '127', 'diastolic_bp': '80', 'mean_arterial_pressure': '95.66666666666667', 'skin_thickness': '27', 'insulin': '164', 'bmi': '31', 'dpf': '1', 'age_class': '0', 'bmi_class': '3', 'map_class': '1', 'cholesterol_class': '0', 'glucose_class': '1', 'smoke': '0', 'active': '1', 'cvd_prediction': '1', 'diabetes_prediction': '0'}, 'health_statuses': {'bmi_status': 'Obese', 'map_status': 'Normal', 'cholesterol_status': 'Normal', 'glucose_status': 'Borderline High', 'cvd_risk': 'High Risk', 'diabetes_risk': 'Low Risk'}}\n"
     ]
    },
    {
     "name": "stderr",
     "output_type": "stream",
     "text": [
      "127.0.0.1 - - [16/May/2022 23:01:41] \"POST /_dash-update-component HTTP/1.1\" 200 -\n",
      "127.0.0.1 - - [16/May/2022 23:01:41] \"POST /_dash-update-component HTTP/1.1\" 200 -\n",
      "127.0.0.1 - - [16/May/2022 23:01:41] \"POST /_dash-update-component HTTP/1.1\" 200 -\n",
      "127.0.0.1 - - [16/May/2022 23:01:41] \"POST /_dash-update-component HTTP/1.1\" 200 -\n",
      "127.0.0.1 - - [16/May/2022 23:01:41] \"POST /_dash-update-component HTTP/1.1\" 200 -\n",
      "127.0.0.1 - - [16/May/2022 23:01:41] \"POST /_dash-update-component HTTP/1.1\" 200 -\n",
      "127.0.0.1 - - [16/May/2022 23:01:41] \"POST /_dash-update-component HTTP/1.1\" 200 -\n"
     ]
    },
    {
     "name": "stdout",
     "output_type": "stream",
     "text": [
      "{'patient': {'cluster': '1', 'age': '29', 'gender': '0', 'cholesterol': '167', 'systolic_bp': '127', 'diastolic_bp': '80', 'mean_arterial_pressure': '95.66666666666667', 'skin_thickness': '27', 'insulin': '164', 'bmi': '31', 'dpf': '1', 'age_class': '0', 'bmi_class': '3', 'map_class': '1', 'cholesterol_class': '0', 'glucose_class': '1', 'smoke': '0', 'active': '1', 'cvd_prediction': '1', 'diabetes_prediction': '0'}, 'health_statuses': {'bmi_status': 'Obese', 'map_status': 'Normal', 'cholesterol_status': 'Normal', 'glucose_status': 'Borderline High', 'cvd_risk': 'High Risk', 'diabetes_risk': 'Low Risk'}}\n",
      "{'patient': {'cluster': '1', 'age': '29', 'gender': '0', 'cholesterol': '166', 'systolic_bp': '127', 'diastolic_bp': '80', 'mean_arterial_pressure': '95.66666666666667', 'skin_thickness': '27', 'insulin': '164', 'bmi': '31', 'dpf': '1', 'age_class': '0', 'bmi_class': '3', 'map_class': '1', 'cholesterol_class': '0', 'glucose_class': '1', 'smoke': '0', 'active': '1', 'cvd_prediction': '1', 'diabetes_prediction': '0'}, 'health_statuses': {'bmi_status': 'Obese', 'map_status': 'Normal', 'cholesterol_status': 'Normal', 'glucose_status': 'Borderline High', 'cvd_risk': 'High Risk', 'diabetes_risk': 'Low Risk'}}\n",
      "{'patient': {'cluster': '1', 'age': '29', 'gender': '0', 'cholesterol': '165', 'systolic_bp': '127', 'diastolic_bp': '80', 'mean_arterial_pressure': '95.66666666666667', 'skin_thickness': '27', 'insulin': '164', 'bmi': '31', 'dpf': '1', 'age_class': '0', 'bmi_class': '3', 'map_class': '1', 'cholesterol_class': '0', 'glucose_class': '1', 'smoke': '0', 'active': '1', 'cvd_prediction': '1', 'diabetes_prediction': '0'}, 'health_statuses': {'bmi_status': 'Obese', 'map_status': 'Normal', 'cholesterol_status': 'Normal', 'glucose_status': 'Borderline High', 'cvd_risk': 'High Risk', 'diabetes_risk': 'Low Risk'}}\n"
     ]
    },
    {
     "name": "stderr",
     "output_type": "stream",
     "text": [
      "127.0.0.1 - - [16/May/2022 23:01:41] \"POST /_dash-update-component HTTP/1.1\" 200 -\n",
      "127.0.0.1 - - [16/May/2022 23:01:41] \"POST /_dash-update-component HTTP/1.1\" 200 -\n",
      "127.0.0.1 - - [16/May/2022 23:01:41] \"POST /_dash-update-component HTTP/1.1\" 200 -\n"
     ]
    },
    {
     "name": "stdout",
     "output_type": "stream",
     "text": [
      "{'patient': {'cluster': '1', 'age': '29', 'gender': '0', 'cholesterol': '164', 'systolic_bp': '127', 'diastolic_bp': '80', 'mean_arterial_pressure': '95.66666666666667', 'skin_thickness': '27', 'insulin': '164', 'bmi': '31', 'dpf': '1', 'age_class': '0', 'bmi_class': '3', 'map_class': '1', 'cholesterol_class': '0', 'glucose_class': '1', 'smoke': '0', 'active': '1', 'cvd_prediction': '1', 'diabetes_prediction': '0'}, 'health_statuses': {'bmi_status': 'Obese', 'map_status': 'Normal', 'cholesterol_status': 'Normal', 'glucose_status': 'Borderline High', 'cvd_risk': 'High Risk', 'diabetes_risk': 'Low Risk'}}\n"
     ]
    },
    {
     "name": "stderr",
     "output_type": "stream",
     "text": [
      "127.0.0.1 - - [16/May/2022 23:01:41] \"POST /_dash-update-component HTTP/1.1\" 200 -\n",
      "127.0.0.1 - - [16/May/2022 23:01:41] \"POST /_dash-update-component HTTP/1.1\" 200 -\n"
     ]
    },
    {
     "name": "stdout",
     "output_type": "stream",
     "text": [
      "{'patient': {'cluster': '1', 'age': '29', 'gender': '0', 'cholesterol': '163', 'systolic_bp': '127', 'diastolic_bp': '80', 'mean_arterial_pressure': '95.66666666666667', 'skin_thickness': '27', 'insulin': '164', 'bmi': '31', 'dpf': '1', 'age_class': '0', 'bmi_class': '3', 'map_class': '1', 'cholesterol_class': '0', 'glucose_class': '1', 'smoke': '0', 'active': '1', 'cvd_prediction': '1', 'diabetes_prediction': '0'}, 'health_statuses': {'bmi_status': 'Obese', 'map_status': 'Normal', 'cholesterol_status': 'Normal', 'glucose_status': 'Borderline High', 'cvd_risk': 'High Risk', 'diabetes_risk': 'Low Risk'}}\n"
     ]
    },
    {
     "name": "stderr",
     "output_type": "stream",
     "text": [
      "127.0.0.1 - - [16/May/2022 23:01:41] \"POST /_dash-update-component HTTP/1.1\" 200 -\n",
      "127.0.0.1 - - [16/May/2022 23:01:41] \"POST /_dash-update-component HTTP/1.1\" 200 -\n",
      "127.0.0.1 - - [16/May/2022 23:01:41] \"POST /_dash-update-component HTTP/1.1\" 200 -\n",
      "127.0.0.1 - - [16/May/2022 23:01:42] \"POST /_dash-update-component HTTP/1.1\" 200 -\n",
      "127.0.0.1 - - [16/May/2022 23:01:42] \"POST /_dash-update-component HTTP/1.1\" 200 -\n",
      "127.0.0.1 - - [16/May/2022 23:01:42] \"POST /_dash-update-component HTTP/1.1\" 200 -\n"
     ]
    },
    {
     "name": "stdout",
     "output_type": "stream",
     "text": [
      "{'patient': {'cluster': '1', 'age': '29', 'gender': '0', 'cholesterol': '162', 'systolic_bp': '127', 'diastolic_bp': '80', 'mean_arterial_pressure': '95.66666666666667', 'skin_thickness': '27', 'insulin': '164', 'bmi': '31', 'dpf': '1', 'age_class': '0', 'bmi_class': '3', 'map_class': '1', 'cholesterol_class': '0', 'glucose_class': '1', 'smoke': '0', 'active': '1', 'cvd_prediction': '1', 'diabetes_prediction': '0'}, 'health_statuses': {'bmi_status': 'Obese', 'map_status': 'Normal', 'cholesterol_status': 'Normal', 'glucose_status': 'Borderline High', 'cvd_risk': 'High Risk', 'diabetes_risk': 'Low Risk'}}\n",
      "{'patient': {'cluster': '1', 'age': '29', 'gender': '0', 'cholesterol': '161', 'systolic_bp': '127', 'diastolic_bp': '80', 'mean_arterial_pressure': '95.66666666666667', 'skin_thickness': '27', 'insulin': '164', 'bmi': '31', 'dpf': '1', 'age_class': '0', 'bmi_class': '3', 'map_class': '1', 'cholesterol_class': '0', 'glucose_class': '1', 'smoke': '0', 'active': '1', 'cvd_prediction': '1', 'diabetes_prediction': '0'}, 'health_statuses': {'bmi_status': 'Obese', 'map_status': 'Normal', 'cholesterol_status': 'Normal', 'glucose_status': 'Borderline High', 'cvd_risk': 'High Risk', 'diabetes_risk': 'Low Risk'}}\n",
      "{'patient': {'cluster': '1', 'age': '29', 'gender': '0', 'cholesterol': '160', 'systolic_bp': '127', 'diastolic_bp': '80', 'mean_arterial_pressure': '95.66666666666667', 'skin_thickness': '27', 'insulin': '164', 'bmi': '31', 'dpf': '1', 'age_class': '0', 'bmi_class': '3', 'map_class': '1', 'cholesterol_class': '0', 'glucose_class': '1', 'smoke': '0', 'active': '1', 'cvd_prediction': '1', 'diabetes_prediction': '0'}, 'health_statuses': {'bmi_status': 'Obese', 'map_status': 'Normal', 'cholesterol_status': 'Normal', 'glucose_status': 'Borderline High', 'cvd_risk': 'High Risk', 'diabetes_risk': 'Low Risk'}}\n"
     ]
    },
    {
     "name": "stderr",
     "output_type": "stream",
     "text": [
      "127.0.0.1 - - [16/May/2022 23:01:42] \"POST /_dash-update-component HTTP/1.1\" 200 -\n",
      "127.0.0.1 - - [16/May/2022 23:01:42] \"POST /_dash-update-component HTTP/1.1\" 200 -\n",
      "127.0.0.1 - - [16/May/2022 23:01:42] \"POST /_dash-update-component HTTP/1.1\" 200 -\n",
      "127.0.0.1 - - [16/May/2022 23:01:42] \"POST /_dash-update-component HTTP/1.1\" 200 -\n"
     ]
    },
    {
     "name": "stdout",
     "output_type": "stream",
     "text": [
      "{'patient': {'cluster': '1', 'age': '29', 'gender': '0', 'cholesterol': '159', 'systolic_bp': '127', 'diastolic_bp': '80', 'mean_arterial_pressure': '95.66666666666667', 'skin_thickness': '27', 'insulin': '164', 'bmi': '31', 'dpf': '1', 'age_class': '0', 'bmi_class': '3', 'map_class': '1', 'cholesterol_class': '0', 'glucose_class': '1', 'smoke': '0', 'active': '1', 'cvd_prediction': '1', 'diabetes_prediction': '0'}, 'health_statuses': {'bmi_status': 'Obese', 'map_status': 'Normal', 'cholesterol_status': 'Normal', 'glucose_status': 'Borderline High', 'cvd_risk': 'High Risk', 'diabetes_risk': 'Low Risk'}}\n",
      "{'patient': {'cluster': '1', 'age': '29', 'gender': '0', 'cholesterol': '158', 'systolic_bp': '127', 'diastolic_bp': '80', 'mean_arterial_pressure': '95.66666666666667', 'skin_thickness': '27', 'insulin': '164', 'bmi': '31', 'dpf': '1', 'age_class': '0', 'bmi_class': '3', 'map_class': '1', 'cholesterol_class': '0', 'glucose_class': '1', 'smoke': '0', 'active': '1', 'cvd_prediction': '1', 'diabetes_prediction': '0'}, 'health_statuses': {'bmi_status': 'Obese', 'map_status': 'Normal', 'cholesterol_status': 'Normal', 'glucose_status': 'Borderline High', 'cvd_risk': 'High Risk', 'diabetes_risk': 'Low Risk'}}\n"
     ]
    },
    {
     "name": "stderr",
     "output_type": "stream",
     "text": [
      "127.0.0.1 - - [16/May/2022 23:01:42] \"POST /_dash-update-component HTTP/1.1\" 200 -\n",
      "127.0.0.1 - - [16/May/2022 23:01:42] \"POST /_dash-update-component HTTP/1.1\" 200 -\n"
     ]
    },
    {
     "name": "stdout",
     "output_type": "stream",
     "text": [
      "{'patient': {'cluster': '1', 'age': '29', 'gender': '0', 'cholesterol': '157', 'systolic_bp': '127', 'diastolic_bp': '80', 'mean_arterial_pressure': '95.66666666666667', 'skin_thickness': '27', 'insulin': '164', 'bmi': '31', 'dpf': '1', 'age_class': '0', 'bmi_class': '3', 'map_class': '1', 'cholesterol_class': '0', 'glucose_class': '1', 'smoke': '0', 'active': '1', 'cvd_prediction': '1', 'diabetes_prediction': '0'}, 'health_statuses': {'bmi_status': 'Obese', 'map_status': 'Normal', 'cholesterol_status': 'Normal', 'glucose_status': 'Borderline High', 'cvd_risk': 'High Risk', 'diabetes_risk': 'Low Risk'}}\n"
     ]
    },
    {
     "name": "stderr",
     "output_type": "stream",
     "text": [
      "127.0.0.1 - - [16/May/2022 23:01:42] \"POST /_dash-update-component HTTP/1.1\" 200 -\n",
      "127.0.0.1 - - [16/May/2022 23:01:42] \"POST /_dash-update-component HTTP/1.1\" 200 -\n",
      "127.0.0.1 - - [16/May/2022 23:01:42] \"POST /_dash-update-component HTTP/1.1\" 200 -\n",
      "127.0.0.1 - - [16/May/2022 23:01:42] \"POST /_dash-update-component HTTP/1.1\" 200 -\n",
      "127.0.0.1 - - [16/May/2022 23:01:42] \"POST /_dash-update-component HTTP/1.1\" 200 -\n",
      "127.0.0.1 - - [16/May/2022 23:01:42] \"POST /_dash-update-component HTTP/1.1\" 200 -\n"
     ]
    },
    {
     "name": "stdout",
     "output_type": "stream",
     "text": [
      "{'patient': {'cluster': '1', 'age': '29', 'gender': '0', 'cholesterol': '156', 'systolic_bp': '127', 'diastolic_bp': '80', 'mean_arterial_pressure': '95.66666666666667', 'skin_thickness': '27', 'insulin': '164', 'bmi': '31', 'dpf': '1', 'age_class': '0', 'bmi_class': '3', 'map_class': '1', 'cholesterol_class': '0', 'glucose_class': '1', 'smoke': '0', 'active': '1', 'cvd_prediction': '1', 'diabetes_prediction': '0'}, 'health_statuses': {'bmi_status': 'Obese', 'map_status': 'Normal', 'cholesterol_status': 'Normal', 'glucose_status': 'Borderline High', 'cvd_risk': 'High Risk', 'diabetes_risk': 'Low Risk'}}\n",
      "{'patient': {'cluster': '1', 'age': '29', 'gender': '0', 'cholesterol': '155', 'systolic_bp': '127', 'diastolic_bp': '80', 'mean_arterial_pressure': '95.66666666666667', 'skin_thickness': '27', 'insulin': '164', 'bmi': '31', 'dpf': '1', 'age_class': '0', 'bmi_class': '3', 'map_class': '1', 'cholesterol_class': '0', 'glucose_class': '1', 'smoke': '0', 'active': '1', 'cvd_prediction': '1', 'diabetes_prediction': '0'}, 'health_statuses': {'bmi_status': 'Obese', 'map_status': 'Normal', 'cholesterol_status': 'Normal', 'glucose_status': 'Borderline High', 'cvd_risk': 'High Risk', 'diabetes_risk': 'Low Risk'}}\n",
      "{'patient': {'cluster': '1', 'age': '29', 'gender': '0', 'cholesterol': '154', 'systolic_bp': '127', 'diastolic_bp': '80', 'mean_arterial_pressure': '95.66666666666667', 'skin_thickness': '27', 'insulin': '164', 'bmi': '31', 'dpf': '1', 'age_class': '0', 'bmi_class': '3', 'map_class': '1', 'cholesterol_class': '0', 'glucose_class': '1', 'smoke': '0', 'active': '1', 'cvd_prediction': '1', 'diabetes_prediction': '0'}, 'health_statuses': {'bmi_status': 'Obese', 'map_status': 'Normal', 'cholesterol_status': 'Normal', 'glucose_status': 'Borderline High', 'cvd_risk': 'High Risk', 'diabetes_risk': 'Low Risk'}}\n"
     ]
    },
    {
     "name": "stderr",
     "output_type": "stream",
     "text": [
      "127.0.0.1 - - [16/May/2022 23:01:42] \"POST /_dash-update-component HTTP/1.1\" 200 -\n",
      "127.0.0.1 - - [16/May/2022 23:01:42] \"POST /_dash-update-component HTTP/1.1\" 200 -\n",
      "127.0.0.1 - - [16/May/2022 23:01:43] \"POST /_dash-update-component HTTP/1.1\" 200 -\n",
      "127.0.0.1 - - [16/May/2022 23:01:43] \"POST /_dash-update-component HTTP/1.1\" 200 -\n"
     ]
    },
    {
     "name": "stdout",
     "output_type": "stream",
     "text": [
      "{'patient': {'cluster': '1', 'age': '29', 'gender': '0', 'cholesterol': '153', 'systolic_bp': '127', 'diastolic_bp': '80', 'mean_arterial_pressure': '95.66666666666667', 'skin_thickness': '27', 'insulin': '164', 'bmi': '31', 'dpf': '1', 'age_class': '0', 'bmi_class': '3', 'map_class': '1', 'cholesterol_class': '0', 'glucose_class': '1', 'smoke': '0', 'active': '1', 'cvd_prediction': '1', 'diabetes_prediction': '0'}, 'health_statuses': {'bmi_status': 'Obese', 'map_status': 'Normal', 'cholesterol_status': 'Normal', 'glucose_status': 'Borderline High', 'cvd_risk': 'High Risk', 'diabetes_risk': 'Low Risk'}}\n",
      "{'patient': {'cluster': '1', 'age': '29', 'gender': '0', 'cholesterol': '152', 'systolic_bp': '127', 'diastolic_bp': '80', 'mean_arterial_pressure': '95.66666666666667', 'skin_thickness': '27', 'insulin': '164', 'bmi': '31', 'dpf': '1', 'age_class': '0', 'bmi_class': '3', 'map_class': '1', 'cholesterol_class': '0', 'glucose_class': '1', 'smoke': '0', 'active': '1', 'cvd_prediction': '1', 'diabetes_prediction': '0'}, 'health_statuses': {'bmi_status': 'Obese', 'map_status': 'Normal', 'cholesterol_status': 'Normal', 'glucose_status': 'Borderline High', 'cvd_risk': 'High Risk', 'diabetes_risk': 'Low Risk'}}\n"
     ]
    },
    {
     "name": "stderr",
     "output_type": "stream",
     "text": [
      "127.0.0.1 - - [16/May/2022 23:01:43] \"POST /_dash-update-component HTTP/1.1\" 200 -\n",
      "127.0.0.1 - - [16/May/2022 23:01:43] \"POST /_dash-update-component HTTP/1.1\" 200 -\n"
     ]
    },
    {
     "name": "stdout",
     "output_type": "stream",
     "text": [
      "{'patient': {'cluster': '1', 'age': '29', 'gender': '0', 'cholesterol': '151', 'systolic_bp': '127', 'diastolic_bp': '80', 'mean_arterial_pressure': '95.66666666666667', 'skin_thickness': '27', 'insulin': '164', 'bmi': '31', 'dpf': '1', 'age_class': '0', 'bmi_class': '3', 'map_class': '1', 'cholesterol_class': '0', 'glucose_class': '1', 'smoke': '0', 'active': '1', 'cvd_prediction': '1', 'diabetes_prediction': '0'}, 'health_statuses': {'bmi_status': 'Obese', 'map_status': 'Normal', 'cholesterol_status': 'Normal', 'glucose_status': 'Borderline High', 'cvd_risk': 'High Risk', 'diabetes_risk': 'Low Risk'}}\n"
     ]
    },
    {
     "name": "stderr",
     "output_type": "stream",
     "text": [
      "127.0.0.1 - - [16/May/2022 23:01:43] \"POST /_dash-update-component HTTP/1.1\" 200 -\n",
      "127.0.0.1 - - [16/May/2022 23:01:43] \"POST /_dash-update-component HTTP/1.1\" 200 -\n",
      "127.0.0.1 - - [16/May/2022 23:01:43] \"POST /_dash-update-component HTTP/1.1\" 200 -\n",
      "127.0.0.1 - - [16/May/2022 23:01:43] \"POST /_dash-update-component HTTP/1.1\" 200 -\n"
     ]
    },
    {
     "name": "stdout",
     "output_type": "stream",
     "text": [
      "{'patient': {'cluster': '1', 'age': '29', 'gender': '0', 'cholesterol': '150', 'systolic_bp': '127', 'diastolic_bp': '80', 'mean_arterial_pressure': '95.66666666666667', 'skin_thickness': '27', 'insulin': '164', 'bmi': '31', 'dpf': '1', 'age_class': '0', 'bmi_class': '3', 'map_class': '1', 'cholesterol_class': '0', 'glucose_class': '1', 'smoke': '0', 'active': '1', 'cvd_prediction': '1', 'diabetes_prediction': '0'}, 'health_statuses': {'bmi_status': 'Obese', 'map_status': 'Normal', 'cholesterol_status': 'Normal', 'glucose_status': 'Borderline High', 'cvd_risk': 'High Risk', 'diabetes_risk': 'Low Risk'}}\n",
      "{'patient': {'cluster': '1', 'age': '29', 'gender': '0', 'cholesterol': '149', 'systolic_bp': '127', 'diastolic_bp': '80', 'mean_arterial_pressure': '95.66666666666667', 'skin_thickness': '27', 'insulin': '164', 'bmi': '31', 'dpf': '1', 'age_class': '0', 'bmi_class': '3', 'map_class': '1', 'cholesterol_class': '0', 'glucose_class': '1', 'smoke': '0', 'active': '1', 'cvd_prediction': '1', 'diabetes_prediction': '0'}, 'health_statuses': {'bmi_status': 'Obese', 'map_status': 'Normal', 'cholesterol_status': 'Normal', 'glucose_status': 'Borderline High', 'cvd_risk': 'High Risk', 'diabetes_risk': 'Low Risk'}}\n",
      "{'patient': {'cluster': '1', 'age': '29', 'gender': '0', 'cholesterol': '148', 'systolic_bp': '127', 'diastolic_bp': '80', 'mean_arterial_pressure': '95.66666666666667', 'skin_thickness': '27', 'insulin': '164', 'bmi': '31', 'dpf': '1', 'age_class': '0', 'bmi_class': '3', 'map_class': '1', 'cholesterol_class': '0', 'glucose_class': '1', 'smoke': '0', 'active': '1', 'cvd_prediction': '1', 'diabetes_prediction': '0'}, 'health_statuses': {'bmi_status': 'Obese', 'map_status': 'Normal', 'cholesterol_status': 'Normal', 'glucose_status': 'Borderline High', 'cvd_risk': 'High Risk', 'diabetes_risk': 'Low Risk'}}\n"
     ]
    },
    {
     "name": "stderr",
     "output_type": "stream",
     "text": [
      "127.0.0.1 - - [16/May/2022 23:01:43] \"POST /_dash-update-component HTTP/1.1\" 200 -\n",
      "127.0.0.1 - - [16/May/2022 23:01:43] \"POST /_dash-update-component HTTP/1.1\" 200 -\n",
      "127.0.0.1 - - [16/May/2022 23:01:43] \"POST /_dash-update-component HTTP/1.1\" 200 -\n",
      "127.0.0.1 - - [16/May/2022 23:01:43] \"POST /_dash-update-component HTTP/1.1\" 200 -\n",
      "127.0.0.1 - - [16/May/2022 23:01:43] \"POST /_dash-update-component HTTP/1.1\" 200 -\n",
      "127.0.0.1 - - [16/May/2022 23:01:43] \"POST /_dash-update-component HTTP/1.1\" 200 -\n"
     ]
    },
    {
     "name": "stdout",
     "output_type": "stream",
     "text": [
      "{'patient': {'cluster': '1', 'age': '29', 'gender': '0', 'cholesterol': '147', 'systolic_bp': '127', 'diastolic_bp': '80', 'mean_arterial_pressure': '95.66666666666667', 'skin_thickness': '27', 'insulin': '164', 'bmi': '31', 'dpf': '1', 'age_class': '0', 'bmi_class': '3', 'map_class': '1', 'cholesterol_class': '0', 'glucose_class': '1', 'smoke': '0', 'active': '1', 'cvd_prediction': '1', 'diabetes_prediction': '0'}, 'health_statuses': {'bmi_status': 'Obese', 'map_status': 'Normal', 'cholesterol_status': 'Normal', 'glucose_status': 'Borderline High', 'cvd_risk': 'High Risk', 'diabetes_risk': 'Low Risk'}}\n",
      "{'patient': {'cluster': '1', 'age': '29', 'gender': '0', 'cholesterol': '146', 'systolic_bp': '127', 'diastolic_bp': '80', 'mean_arterial_pressure': '95.66666666666667', 'skin_thickness': '27', 'insulin': '164', 'bmi': '31', 'dpf': '1', 'age_class': '0', 'bmi_class': '3', 'map_class': '1', 'cholesterol_class': '0', 'glucose_class': '1', 'smoke': '0', 'active': '1', 'cvd_prediction': '1', 'diabetes_prediction': '0'}, 'health_statuses': {'bmi_status': 'Obese', 'map_status': 'Normal', 'cholesterol_status': 'Normal', 'glucose_status': 'Borderline High', 'cvd_risk': 'High Risk', 'diabetes_risk': 'Low Risk'}}\n"
     ]
    },
    {
     "name": "stderr",
     "output_type": "stream",
     "text": [
      "127.0.0.1 - - [16/May/2022 23:01:43] \"POST /_dash-update-component HTTP/1.1\" 200 -\n",
      "127.0.0.1 - - [16/May/2022 23:01:43] \"POST /_dash-update-component HTTP/1.1\" 200 -\n"
     ]
    },
    {
     "name": "stdout",
     "output_type": "stream",
     "text": [
      "{'patient': {'cluster': '1', 'age': '29', 'gender': '0', 'cholesterol': '145', 'systolic_bp': '127', 'diastolic_bp': '80', 'mean_arterial_pressure': '95.66666666666667', 'skin_thickness': '27', 'insulin': '164', 'bmi': '31', 'dpf': '1', 'age_class': '0', 'bmi_class': '3', 'map_class': '1', 'cholesterol_class': '0', 'glucose_class': '1', 'smoke': '0', 'active': '1', 'cvd_prediction': '1', 'diabetes_prediction': '0'}, 'health_statuses': {'bmi_status': 'Obese', 'map_status': 'Normal', 'cholesterol_status': 'Normal', 'glucose_status': 'Borderline High', 'cvd_risk': 'High Risk', 'diabetes_risk': 'Low Risk'}}\n",
      "{'patient': {'cluster': '1', 'age': '29', 'gender': '0', 'cholesterol': '144', 'systolic_bp': '127', 'diastolic_bp': '80', 'mean_arterial_pressure': '95.66666666666667', 'skin_thickness': '27', 'insulin': '164', 'bmi': '31', 'dpf': '1', 'age_class': '0', 'bmi_class': '3', 'map_class': '1', 'cholesterol_class': '0', 'glucose_class': '1', 'smoke': '0', 'active': '1', 'cvd_prediction': '1', 'diabetes_prediction': '0'}, 'health_statuses': {'bmi_status': 'Obese', 'map_status': 'Normal', 'cholesterol_status': 'Normal', 'glucose_status': 'Borderline High', 'cvd_risk': 'High Risk', 'diabetes_risk': 'Low Risk'}}\n"
     ]
    },
    {
     "name": "stderr",
     "output_type": "stream",
     "text": [
      "127.0.0.1 - - [16/May/2022 23:01:44] \"POST /_dash-update-component HTTP/1.1\" 200 -\n",
      "127.0.0.1 - - [16/May/2022 23:01:44] \"POST /_dash-update-component HTTP/1.1\" 200 -\n",
      "127.0.0.1 - - [16/May/2022 23:01:44] \"POST /_dash-update-component HTTP/1.1\" 200 -\n",
      "127.0.0.1 - - [16/May/2022 23:01:44] \"POST /_dash-update-component HTTP/1.1\" 200 -\n",
      "127.0.0.1 - - [16/May/2022 23:01:44] \"POST /_dash-update-component HTTP/1.1\" 200 -\n"
     ]
    },
    {
     "name": "stdout",
     "output_type": "stream",
     "text": [
      "{'patient': {'cluster': '1', 'age': '29', 'gender': '0', 'cholesterol': '143', 'systolic_bp': '127', 'diastolic_bp': '80', 'mean_arterial_pressure': '95.66666666666667', 'skin_thickness': '27', 'insulin': '164', 'bmi': '31', 'dpf': '1', 'age_class': '0', 'bmi_class': '3', 'map_class': '1', 'cholesterol_class': '0', 'glucose_class': '1', 'smoke': '0', 'active': '1', 'cvd_prediction': '1', 'diabetes_prediction': '0'}, 'health_statuses': {'bmi_status': 'Obese', 'map_status': 'Normal', 'cholesterol_status': 'Normal', 'glucose_status': 'Borderline High', 'cvd_risk': 'High Risk', 'diabetes_risk': 'Low Risk'}}\n",
      "{'patient': {'cluster': '1', 'age': '29', 'gender': '0', 'cholesterol': '142', 'systolic_bp': '127', 'diastolic_bp': '80', 'mean_arterial_pressure': '95.66666666666667', 'skin_thickness': '27', 'insulin': '164', 'bmi': '31', 'dpf': '1', 'age_class': '0', 'bmi_class': '3', 'map_class': '1', 'cholesterol_class': '0', 'glucose_class': '1', 'smoke': '0', 'active': '1', 'cvd_prediction': '1', 'diabetes_prediction': '0'}, 'health_statuses': {'bmi_status': 'Obese', 'map_status': 'Normal', 'cholesterol_status': 'Normal', 'glucose_status': 'Borderline High', 'cvd_risk': 'High Risk', 'diabetes_risk': 'Low Risk'}}\n"
     ]
    },
    {
     "name": "stderr",
     "output_type": "stream",
     "text": [
      "127.0.0.1 - - [16/May/2022 23:01:44] \"POST /_dash-update-component HTTP/1.1\" 200 -\n",
      "127.0.0.1 - - [16/May/2022 23:01:44] \"POST /_dash-update-component HTTP/1.1\" 200 -\n",
      "127.0.0.1 - - [16/May/2022 23:01:44] \"POST /_dash-update-component HTTP/1.1\" 200 -\n",
      "127.0.0.1 - - [16/May/2022 23:01:44] \"POST /_dash-update-component HTTP/1.1\" 200 -\n",
      "127.0.0.1 - - [16/May/2022 23:01:44] \"POST /_dash-update-component HTTP/1.1\" 200 -\n"
     ]
    },
    {
     "name": "stdout",
     "output_type": "stream",
     "text": [
      "{'patient': {'cluster': '1', 'age': '29', 'gender': '0', 'cholesterol': '141', 'systolic_bp': '127', 'diastolic_bp': '80', 'mean_arterial_pressure': '95.66666666666667', 'skin_thickness': '27', 'insulin': '164', 'bmi': '31', 'dpf': '1', 'age_class': '0', 'bmi_class': '3', 'map_class': '1', 'cholesterol_class': '0', 'glucose_class': '1', 'smoke': '0', 'active': '1', 'cvd_prediction': '1', 'diabetes_prediction': '0'}, 'health_statuses': {'bmi_status': 'Obese', 'map_status': 'Normal', 'cholesterol_status': 'Normal', 'glucose_status': 'Borderline High', 'cvd_risk': 'High Risk', 'diabetes_risk': 'Low Risk'}}\n",
      "{'patient': {'cluster': '1', 'age': '29', 'gender': '0', 'cholesterol': '140', 'systolic_bp': '127', 'diastolic_bp': '80', 'mean_arterial_pressure': '95.66666666666667', 'skin_thickness': '27', 'insulin': '164', 'bmi': '31', 'dpf': '1', 'age_class': '0', 'bmi_class': '3', 'map_class': '1', 'cholesterol_class': '0', 'glucose_class': '1', 'smoke': '0', 'active': '1', 'cvd_prediction': '1', 'diabetes_prediction': '0'}, 'health_statuses': {'bmi_status': 'Obese', 'map_status': 'Normal', 'cholesterol_status': 'Normal', 'glucose_status': 'Borderline High', 'cvd_risk': 'High Risk', 'diabetes_risk': 'Low Risk'}}\n"
     ]
    },
    {
     "name": "stderr",
     "output_type": "stream",
     "text": [
      "127.0.0.1 - - [16/May/2022 23:01:44] \"POST /_dash-update-component HTTP/1.1\" 200 -\n",
      "127.0.0.1 - - [16/May/2022 23:01:44] \"POST /_dash-update-component HTTP/1.1\" 200 -\n"
     ]
    },
    {
     "name": "stdout",
     "output_type": "stream",
     "text": [
      "{'patient': {'cluster': '1', 'age': '29', 'gender': '0', 'cholesterol': '139', 'systolic_bp': '127', 'diastolic_bp': '80', 'mean_arterial_pressure': '95.66666666666667', 'skin_thickness': '27', 'insulin': '164', 'bmi': '31', 'dpf': '1', 'age_class': '0', 'bmi_class': '3', 'map_class': '1', 'cholesterol_class': '0', 'glucose_class': '1', 'smoke': '0', 'active': '1', 'cvd_prediction': '1', 'diabetes_prediction': '0'}, 'health_statuses': {'bmi_status': 'Obese', 'map_status': 'Normal', 'cholesterol_status': 'Normal', 'glucose_status': 'Borderline High', 'cvd_risk': 'High Risk', 'diabetes_risk': 'Low Risk'}}\n"
     ]
    },
    {
     "name": "stderr",
     "output_type": "stream",
     "text": [
      "127.0.0.1 - - [16/May/2022 23:01:45] \"POST /_dash-update-component HTTP/1.1\" 200 -\n",
      "127.0.0.1 - - [16/May/2022 23:01:45] \"POST /_dash-update-component HTTP/1.1\" 200 -\n",
      "127.0.0.1 - - [16/May/2022 23:01:45] \"POST /_dash-update-component HTTP/1.1\" 200 -\n",
      "127.0.0.1 - - [16/May/2022 23:01:45] \"POST /_dash-update-component HTTP/1.1\" 200 -\n"
     ]
    },
    {
     "name": "stdout",
     "output_type": "stream",
     "text": [
      "{'patient': {'cluster': '1', 'age': '29', 'gender': '0', 'cholesterol': '138', 'systolic_bp': '127', 'diastolic_bp': '80', 'mean_arterial_pressure': '95.66666666666667', 'skin_thickness': '27', 'insulin': '164', 'bmi': '31', 'dpf': '1', 'age_class': '0', 'bmi_class': '3', 'map_class': '1', 'cholesterol_class': '0', 'glucose_class': '1', 'smoke': '0', 'active': '1', 'cvd_prediction': '1', 'diabetes_prediction': '0'}, 'health_statuses': {'bmi_status': 'Obese', 'map_status': 'Normal', 'cholesterol_status': 'Normal', 'glucose_status': 'Borderline High', 'cvd_risk': 'High Risk', 'diabetes_risk': 'Low Risk'}}\n",
      "{'patient': {'cluster': '1', 'age': '29', 'gender': '0', 'cholesterol': '137', 'systolic_bp': '127', 'diastolic_bp': '80', 'mean_arterial_pressure': '95.66666666666667', 'skin_thickness': '27', 'insulin': '164', 'bmi': '31', 'dpf': '1', 'age_class': '0', 'bmi_class': '3', 'map_class': '1', 'cholesterol_class': '0', 'glucose_class': '1', 'smoke': '0', 'active': '1', 'cvd_prediction': '1', 'diabetes_prediction': '0'}, 'health_statuses': {'bmi_status': 'Obese', 'map_status': 'Normal', 'cholesterol_status': 'Normal', 'glucose_status': 'Borderline High', 'cvd_risk': 'High Risk', 'diabetes_risk': 'Low Risk'}}\n"
     ]
    },
    {
     "name": "stderr",
     "output_type": "stream",
     "text": [
      "127.0.0.1 - - [16/May/2022 23:01:45] \"POST /_dash-update-component HTTP/1.1\" 200 -\n",
      "127.0.0.1 - - [16/May/2022 23:01:45] \"POST /_dash-update-component HTTP/1.1\" 200 -\n",
      "127.0.0.1 - - [16/May/2022 23:01:45] \"POST /_dash-update-component HTTP/1.1\" 200 -\n",
      "127.0.0.1 - - [16/May/2022 23:01:45] \"POST /_dash-update-component HTTP/1.1\" 200 -\n",
      "127.0.0.1 - - [16/May/2022 23:01:45] \"POST /_dash-update-component HTTP/1.1\" 200 -\n",
      "127.0.0.1 - - [16/May/2022 23:01:45] \"POST /_dash-update-component HTTP/1.1\" 200 -\n"
     ]
    },
    {
     "name": "stdout",
     "output_type": "stream",
     "text": [
      "{'patient': {'cluster': '1', 'age': '29', 'gender': '0', 'cholesterol': '136', 'systolic_bp': '127', 'diastolic_bp': '80', 'mean_arterial_pressure': '95.66666666666667', 'skin_thickness': '27', 'insulin': '164', 'bmi': '31', 'dpf': '1', 'age_class': '0', 'bmi_class': '3', 'map_class': '1', 'cholesterol_class': '0', 'glucose_class': '1', 'smoke': '0', 'active': '1', 'cvd_prediction': '1', 'diabetes_prediction': '0'}, 'health_statuses': {'bmi_status': 'Obese', 'map_status': 'Normal', 'cholesterol_status': 'Normal', 'glucose_status': 'Borderline High', 'cvd_risk': 'High Risk', 'diabetes_risk': 'Low Risk'}}\n",
      "{'patient': {'cluster': '1', 'age': '29', 'gender': '0', 'cholesterol': '135', 'systolic_bp': '127', 'diastolic_bp': '80', 'mean_arterial_pressure': '95.66666666666667', 'skin_thickness': '27', 'insulin': '164', 'bmi': '31', 'dpf': '1', 'age_class': '0', 'bmi_class': '3', 'map_class': '1', 'cholesterol_class': '0', 'glucose_class': '1', 'smoke': '0', 'active': '1', 'cvd_prediction': '1', 'diabetes_prediction': '0'}, 'health_statuses': {'bmi_status': 'Obese', 'map_status': 'Normal', 'cholesterol_status': 'Normal', 'glucose_status': 'Borderline High', 'cvd_risk': 'High Risk', 'diabetes_risk': 'Low Risk'}}\n",
      "{'patient': {'cluster': '1', 'age': '29', 'gender': '0', 'cholesterol': '134', 'systolic_bp': '127', 'diastolic_bp': '80', 'mean_arterial_pressure': '95.66666666666667', 'skin_thickness': '27', 'insulin': '164', 'bmi': '31', 'dpf': '1', 'age_class': '0', 'bmi_class': '3', 'map_class': '1', 'cholesterol_class': '0', 'glucose_class': '1', 'smoke': '0', 'active': '1', 'cvd_prediction': '1', 'diabetes_prediction': '0'}, 'health_statuses': {'bmi_status': 'Obese', 'map_status': 'Normal', 'cholesterol_status': 'Normal', 'glucose_status': 'Borderline High', 'cvd_risk': 'High Risk', 'diabetes_risk': 'Low Risk'}}\n"
     ]
    },
    {
     "name": "stderr",
     "output_type": "stream",
     "text": [
      "127.0.0.1 - - [16/May/2022 23:01:45] \"POST /_dash-update-component HTTP/1.1\" 200 -\n",
      "127.0.0.1 - - [16/May/2022 23:01:45] \"POST /_dash-update-component HTTP/1.1\" 200 -\n"
     ]
    },
    {
     "name": "stdout",
     "output_type": "stream",
     "text": [
      "{'patient': {'cluster': '1', 'age': '29', 'gender': '0', 'cholesterol': '133', 'systolic_bp': '127', 'diastolic_bp': '80', 'mean_arterial_pressure': '95.66666666666667', 'skin_thickness': '27', 'insulin': '164', 'bmi': '31', 'dpf': '1', 'age_class': '0', 'bmi_class': '3', 'map_class': '1', 'cholesterol_class': '0', 'glucose_class': '1', 'smoke': '0', 'active': '1', 'cvd_prediction': '1', 'diabetes_prediction': '0'}, 'health_statuses': {'bmi_status': 'Obese', 'map_status': 'Normal', 'cholesterol_status': 'Normal', 'glucose_status': 'Borderline High', 'cvd_risk': 'High Risk', 'diabetes_risk': 'Low Risk'}}\n",
      "{'patient': {'cluster': '1', 'age': '29', 'gender': '0', 'cholesterol': '132', 'systolic_bp': '127', 'diastolic_bp': '80', 'mean_arterial_pressure': '95.66666666666667', 'skin_thickness': '27', 'insulin': '164', 'bmi': '31', 'dpf': '1', 'age_class': '0', 'bmi_class': '3', 'map_class': '1', 'cholesterol_class': '0', 'glucose_class': '1', 'smoke': '0', 'active': '1', 'cvd_prediction': '1', 'diabetes_prediction': '0'}, 'health_statuses': {'bmi_status': 'Obese', 'map_status': 'Normal', 'cholesterol_status': 'Normal', 'glucose_status': 'Borderline High', 'cvd_risk': 'High Risk', 'diabetes_risk': 'Low Risk'}}\n"
     ]
    },
    {
     "name": "stderr",
     "output_type": "stream",
     "text": [
      "127.0.0.1 - - [16/May/2022 23:01:45] \"POST /_dash-update-component HTTP/1.1\" 200 -\n",
      "127.0.0.1 - - [16/May/2022 23:01:45] \"POST /_dash-update-component HTTP/1.1\" 200 -\n",
      "127.0.0.1 - - [16/May/2022 23:01:45] \"POST /_dash-update-component HTTP/1.1\" 200 -\n",
      "127.0.0.1 - - [16/May/2022 23:01:45] \"POST /_dash-update-component HTTP/1.1\" 200 -\n",
      "127.0.0.1 - - [16/May/2022 23:01:45] \"POST /_dash-update-component HTTP/1.1\" 200 -\n",
      "127.0.0.1 - - [16/May/2022 23:01:45] \"POST /_dash-update-component HTTP/1.1\" 200 -\n",
      "127.0.0.1 - - [16/May/2022 23:01:45] \"POST /_dash-update-component HTTP/1.1\" 200 -\n",
      "127.0.0.1 - - [16/May/2022 23:01:46] \"POST /_dash-update-component HTTP/1.1\" 200 -\n"
     ]
    },
    {
     "name": "stdout",
     "output_type": "stream",
     "text": [
      "{'patient': {'cluster': '1', 'age': '29', 'gender': '0', 'cholesterol': '131', 'systolic_bp': '127', 'diastolic_bp': '80', 'mean_arterial_pressure': '95.66666666666667', 'skin_thickness': '27', 'insulin': '164', 'bmi': '31', 'dpf': '1', 'age_class': '0', 'bmi_class': '3', 'map_class': '1', 'cholesterol_class': '0', 'glucose_class': '1', 'smoke': '0', 'active': '1', 'cvd_prediction': '1', 'diabetes_prediction': '0'}, 'health_statuses': {'bmi_status': 'Obese', 'map_status': 'Normal', 'cholesterol_status': 'Normal', 'glucose_status': 'Borderline High', 'cvd_risk': 'High Risk', 'diabetes_risk': 'Low Risk'}}\n",
      "{'patient': {'cluster': '1', 'age': '29', 'gender': '0', 'cholesterol': '130', 'systolic_bp': '127', 'diastolic_bp': '80', 'mean_arterial_pressure': '95.66666666666667', 'skin_thickness': '27', 'insulin': '164', 'bmi': '31', 'dpf': '1', 'age_class': '0', 'bmi_class': '3', 'map_class': '1', 'cholesterol_class': '0', 'glucose_class': '1', 'smoke': '0', 'active': '1', 'cvd_prediction': '1', 'diabetes_prediction': '0'}, 'health_statuses': {'bmi_status': 'Obese', 'map_status': 'Normal', 'cholesterol_status': 'Normal', 'glucose_status': 'Borderline High', 'cvd_risk': 'High Risk', 'diabetes_risk': 'Low Risk'}}\n",
      "{'patient': {'cluster': '1', 'age': '29', 'gender': '0', 'cholesterol': '129', 'systolic_bp': '127', 'diastolic_bp': '80', 'mean_arterial_pressure': '95.66666666666667', 'skin_thickness': '27', 'insulin': '164', 'bmi': '31', 'dpf': '1', 'age_class': '0', 'bmi_class': '3', 'map_class': '1', 'cholesterol_class': '0', 'glucose_class': '1', 'smoke': '0', 'active': '1', 'cvd_prediction': '1', 'diabetes_prediction': '0'}, 'health_statuses': {'bmi_status': 'Obese', 'map_status': 'Normal', 'cholesterol_status': 'Normal', 'glucose_status': 'Borderline High', 'cvd_risk': 'High Risk', 'diabetes_risk': 'Low Risk'}}\n"
     ]
    },
    {
     "name": "stderr",
     "output_type": "stream",
     "text": [
      "127.0.0.1 - - [16/May/2022 23:01:46] \"POST /_dash-update-component HTTP/1.1\" 200 -\n",
      "127.0.0.1 - - [16/May/2022 23:01:46] \"POST /_dash-update-component HTTP/1.1\" 200 -\n"
     ]
    },
    {
     "name": "stdout",
     "output_type": "stream",
     "text": [
      "{'patient': {'cluster': '1', 'age': '29', 'gender': '0', 'cholesterol': '128', 'systolic_bp': '127', 'diastolic_bp': '80', 'mean_arterial_pressure': '95.66666666666667', 'skin_thickness': '27', 'insulin': '164', 'bmi': '31', 'dpf': '1', 'age_class': '0', 'bmi_class': '3', 'map_class': '1', 'cholesterol_class': '0', 'glucose_class': '1', 'smoke': '0', 'active': '1', 'cvd_prediction': '1', 'diabetes_prediction': '0'}, 'health_statuses': {'bmi_status': 'Obese', 'map_status': 'Normal', 'cholesterol_status': 'Normal', 'glucose_status': 'Borderline High', 'cvd_risk': 'High Risk', 'diabetes_risk': 'Low Risk'}}\n"
     ]
    },
    {
     "name": "stderr",
     "output_type": "stream",
     "text": [
      "127.0.0.1 - - [16/May/2022 23:01:46] \"POST /_dash-update-component HTTP/1.1\" 200 -\n",
      "127.0.0.1 - - [16/May/2022 23:01:46] \"POST /_dash-update-component HTTP/1.1\" 200 -\n"
     ]
    },
    {
     "name": "stdout",
     "output_type": "stream",
     "text": [
      "{'patient': {'cluster': '1', 'age': '29', 'gender': '0', 'cholesterol': '127', 'systolic_bp': '127', 'diastolic_bp': '80', 'mean_arterial_pressure': '95.66666666666667', 'skin_thickness': '27', 'insulin': '164', 'bmi': '31', 'dpf': '1', 'age_class': '0', 'bmi_class': '3', 'map_class': '1', 'cholesterol_class': '0', 'glucose_class': '1', 'smoke': '0', 'active': '1', 'cvd_prediction': '1', 'diabetes_prediction': '0'}, 'health_statuses': {'bmi_status': 'Obese', 'map_status': 'Normal', 'cholesterol_status': 'Normal', 'glucose_status': 'Borderline High', 'cvd_risk': 'High Risk', 'diabetes_risk': 'Low Risk'}}\n"
     ]
    },
    {
     "name": "stderr",
     "output_type": "stream",
     "text": [
      "127.0.0.1 - - [16/May/2022 23:01:46] \"POST /_dash-update-component HTTP/1.1\" 200 -\n",
      "127.0.0.1 - - [16/May/2022 23:01:46] \"POST /_dash-update-component HTTP/1.1\" 200 -\n",
      "127.0.0.1 - - [16/May/2022 23:01:46] \"POST /_dash-update-component HTTP/1.1\" 200 -\n",
      "127.0.0.1 - - [16/May/2022 23:01:46] \"POST /_dash-update-component HTTP/1.1\" 200 -\n",
      "127.0.0.1 - - [16/May/2022 23:01:46] \"POST /_dash-update-component HTTP/1.1\" 200 -\n"
     ]
    },
    {
     "name": "stdout",
     "output_type": "stream",
     "text": [
      "{'patient': {'cluster': '1', 'age': '29', 'gender': '0', 'cholesterol': '126', 'systolic_bp': '127', 'diastolic_bp': '80', 'mean_arterial_pressure': '95.66666666666667', 'skin_thickness': '27', 'insulin': '164', 'bmi': '31', 'dpf': '1', 'age_class': '0', 'bmi_class': '3', 'map_class': '1', 'cholesterol_class': '0', 'glucose_class': '1', 'smoke': '0', 'active': '1', 'cvd_prediction': '1', 'diabetes_prediction': '0'}, 'health_statuses': {'bmi_status': 'Obese', 'map_status': 'Normal', 'cholesterol_status': 'Normal', 'glucose_status': 'Borderline High', 'cvd_risk': 'High Risk', 'diabetes_risk': 'Low Risk'}}\n",
      "{'patient': {'cluster': '1', 'age': '29', 'gender': '0', 'cholesterol': '125', 'systolic_bp': '127', 'diastolic_bp': '80', 'mean_arterial_pressure': '95.66666666666667', 'skin_thickness': '27', 'insulin': '164', 'bmi': '31', 'dpf': '1', 'age_class': '0', 'bmi_class': '3', 'map_class': '1', 'cholesterol_class': '0', 'glucose_class': '1', 'smoke': '0', 'active': '1', 'cvd_prediction': '1', 'diabetes_prediction': '0'}, 'health_statuses': {'bmi_status': 'Obese', 'map_status': 'Normal', 'cholesterol_status': 'Normal', 'glucose_status': 'Borderline High', 'cvd_risk': 'High Risk', 'diabetes_risk': 'Low Risk'}}\n",
      "{'patient': {'cluster': '1', 'age': '29', 'gender': '0', 'cholesterol': '124', 'systolic_bp': '127', 'diastolic_bp': '80', 'mean_arterial_pressure': '95.66666666666667', 'skin_thickness': '27', 'insulin': '164', 'bmi': '31', 'dpf': '1', 'age_class': '0', 'bmi_class': '3', 'map_class': '1', 'cholesterol_class': '0', 'glucose_class': '1', 'smoke': '0', 'active': '1', 'cvd_prediction': '1', 'diabetes_prediction': '0'}, 'health_statuses': {'bmi_status': 'Obese', 'map_status': 'Normal', 'cholesterol_status': 'Normal', 'glucose_status': 'Borderline High', 'cvd_risk': 'High Risk', 'diabetes_risk': 'Low Risk'}}\n"
     ]
    },
    {
     "name": "stderr",
     "output_type": "stream",
     "text": [
      "127.0.0.1 - - [16/May/2022 23:01:46] \"POST /_dash-update-component HTTP/1.1\" 200 -\n",
      "127.0.0.1 - - [16/May/2022 23:01:46] \"POST /_dash-update-component HTTP/1.1\" 200 -\n",
      "127.0.0.1 - - [16/May/2022 23:01:46] \"POST /_dash-update-component HTTP/1.1\" 200 -\n",
      "127.0.0.1 - - [16/May/2022 23:01:46] \"POST /_dash-update-component HTTP/1.1\" 200 -\n",
      "127.0.0.1 - - [16/May/2022 23:01:46] \"POST /_dash-update-component HTTP/1.1\" 200 -\n"
     ]
    },
    {
     "name": "stdout",
     "output_type": "stream",
     "text": [
      "{'patient': {'cluster': '1', 'age': '29', 'gender': '0', 'cholesterol': '123', 'systolic_bp': '127', 'diastolic_bp': '80', 'mean_arterial_pressure': '95.66666666666667', 'skin_thickness': '27', 'insulin': '164', 'bmi': '31', 'dpf': '1', 'age_class': '0', 'bmi_class': '3', 'map_class': '1', 'cholesterol_class': '0', 'glucose_class': '1', 'smoke': '0', 'active': '1', 'cvd_prediction': '1', 'diabetes_prediction': '0'}, 'health_statuses': {'bmi_status': 'Obese', 'map_status': 'Normal', 'cholesterol_status': 'Normal', 'glucose_status': 'Borderline High', 'cvd_risk': 'High Risk', 'diabetes_risk': 'Low Risk'}}\n",
      "{'patient': {'cluster': '1', 'age': '29', 'gender': '0', 'cholesterol': '122', 'systolic_bp': '127', 'diastolic_bp': '80', 'mean_arterial_pressure': '95.66666666666667', 'skin_thickness': '27', 'insulin': '164', 'bmi': '31', 'dpf': '1', 'age_class': '0', 'bmi_class': '3', 'map_class': '1', 'cholesterol_class': '0', 'glucose_class': '1', 'smoke': '0', 'active': '1', 'cvd_prediction': '1', 'diabetes_prediction': '0'}, 'health_statuses': {'bmi_status': 'Obese', 'map_status': 'Normal', 'cholesterol_status': 'Normal', 'glucose_status': 'Borderline High', 'cvd_risk': 'High Risk', 'diabetes_risk': 'Low Risk'}}\n"
     ]
    },
    {
     "name": "stderr",
     "output_type": "stream",
     "text": [
      "127.0.0.1 - - [16/May/2022 23:01:46] \"POST /_dash-update-component HTTP/1.1\" 200 -\n",
      "127.0.0.1 - - [16/May/2022 23:01:46] \"POST /_dash-update-component HTTP/1.1\" 200 -\n"
     ]
    },
    {
     "name": "stdout",
     "output_type": "stream",
     "text": [
      "{'patient': {'cluster': '1', 'age': '29', 'gender': '0', 'cholesterol': '121', 'systolic_bp': '127', 'diastolic_bp': '80', 'mean_arterial_pressure': '95.66666666666667', 'skin_thickness': '27', 'insulin': '164', 'bmi': '31', 'dpf': '1', 'age_class': '0', 'bmi_class': '3', 'map_class': '1', 'cholesterol_class': '0', 'glucose_class': '1', 'smoke': '0', 'active': '1', 'cvd_prediction': '1', 'diabetes_prediction': '0'}, 'health_statuses': {'bmi_status': 'Obese', 'map_status': 'Normal', 'cholesterol_status': 'Normal', 'glucose_status': 'Borderline High', 'cvd_risk': 'High Risk', 'diabetes_risk': 'Low Risk'}}\n"
     ]
    },
    {
     "name": "stderr",
     "output_type": "stream",
     "text": [
      "127.0.0.1 - - [16/May/2022 23:01:47] \"POST /_dash-update-component HTTP/1.1\" 200 -\n",
      "127.0.0.1 - - [16/May/2022 23:01:47] \"POST /_dash-update-component HTTP/1.1\" 200 -\n",
      "127.0.0.1 - - [16/May/2022 23:01:47] \"POST /_dash-update-component HTTP/1.1\" 200 -\n",
      "127.0.0.1 - - [16/May/2022 23:01:47] \"POST /_dash-update-component HTTP/1.1\" 200 -\n",
      "127.0.0.1 - - [16/May/2022 23:01:47] \"POST /_dash-update-component HTTP/1.1\" 200 -\n"
     ]
    },
    {
     "name": "stdout",
     "output_type": "stream",
     "text": [
      "{'patient': {'cluster': '1', 'age': '29', 'gender': '0', 'cholesterol': '119', 'systolic_bp': '127', 'diastolic_bp': '80', 'mean_arterial_pressure': '95.66666666666667', 'skin_thickness': '27', 'insulin': '164', 'bmi': '31', 'dpf': '1', 'age_class': '0', 'bmi_class': '3', 'map_class': '1', 'cholesterol_class': '0', 'glucose_class': '1', 'smoke': '0', 'active': '1', 'cvd_prediction': '1', 'diabetes_prediction': '0'}, 'health_statuses': {'bmi_status': 'Obese', 'map_status': 'Normal', 'cholesterol_status': 'Normal', 'glucose_status': 'Borderline High', 'cvd_risk': 'High Risk', 'diabetes_risk': 'Low Risk'}}\n",
      "{'patient': {'cluster': '1', 'age': '29', 'gender': '0', 'cholesterol': '120', 'systolic_bp': '127', 'diastolic_bp': '80', 'mean_arterial_pressure': '95.66666666666667', 'skin_thickness': '27', 'insulin': '164', 'bmi': '31', 'dpf': '1', 'age_class': '0', 'bmi_class': '3', 'map_class': '1', 'cholesterol_class': '0', 'glucose_class': '1', 'smoke': '0', 'active': '1', 'cvd_prediction': '1', 'diabetes_prediction': '0'}, 'health_statuses': {'bmi_status': 'Obese', 'map_status': 'Normal', 'cholesterol_status': 'Normal', 'glucose_status': 'Borderline High', 'cvd_risk': 'High Risk', 'diabetes_risk': 'Low Risk'}}\n",
      "{'patient': {'cluster': '1', 'age': '29', 'gender': '0', 'cholesterol': '118', 'systolic_bp': '127', 'diastolic_bp': '80', 'mean_arterial_pressure': '95.66666666666667', 'skin_thickness': '27', 'insulin': '164', 'bmi': '31', 'dpf': '1', 'age_class': '0', 'bmi_class': '3', 'map_class': '1', 'cholesterol_class': '0', 'glucose_class': '1', 'smoke': '0', 'active': '1', 'cvd_prediction': '1', 'diabetes_prediction': '0'}, 'health_statuses': {'bmi_status': 'Obese', 'map_status': 'Normal', 'cholesterol_status': 'Normal', 'glucose_status': 'Borderline High', 'cvd_risk': 'High Risk', 'diabetes_risk': 'Low Risk'}}\n"
     ]
    },
    {
     "name": "stderr",
     "output_type": "stream",
     "text": [
      "127.0.0.1 - - [16/May/2022 23:01:47] \"POST /_dash-update-component HTTP/1.1\" 200 -\n",
      "127.0.0.1 - - [16/May/2022 23:01:47] \"POST /_dash-update-component HTTP/1.1\" 200 -\n",
      "127.0.0.1 - - [16/May/2022 23:01:47] \"POST /_dash-update-component HTTP/1.1\" 200 -\n",
      "127.0.0.1 - - [16/May/2022 23:01:47] \"POST /_dash-update-component HTTP/1.1\" 200 -\n",
      "127.0.0.1 - - [16/May/2022 23:01:47] \"POST /_dash-update-component HTTP/1.1\" 200 -\n"
     ]
    },
    {
     "name": "stdout",
     "output_type": "stream",
     "text": [
      "{'patient': {'cluster': '1', 'age': '29', 'gender': '0', 'cholesterol': '117', 'systolic_bp': '127', 'diastolic_bp': '80', 'mean_arterial_pressure': '95.66666666666667', 'skin_thickness': '27', 'insulin': '164', 'bmi': '31', 'dpf': '1', 'age_class': '0', 'bmi_class': '3', 'map_class': '1', 'cholesterol_class': '0', 'glucose_class': '1', 'smoke': '0', 'active': '1', 'cvd_prediction': '1', 'diabetes_prediction': '0'}, 'health_statuses': {'bmi_status': 'Obese', 'map_status': 'Normal', 'cholesterol_status': 'Normal', 'glucose_status': 'Borderline High', 'cvd_risk': 'High Risk', 'diabetes_risk': 'Low Risk'}}\n",
      "{'patient': {'cluster': '1', 'age': '29', 'gender': '0', 'cholesterol': '116', 'systolic_bp': '127', 'diastolic_bp': '80', 'mean_arterial_pressure': '95.66666666666667', 'skin_thickness': '27', 'insulin': '164', 'bmi': '31', 'dpf': '1', 'age_class': '0', 'bmi_class': '3', 'map_class': '1', 'cholesterol_class': '0', 'glucose_class': '1', 'smoke': '0', 'active': '1', 'cvd_prediction': '1', 'diabetes_prediction': '0'}, 'health_statuses': {'bmi_status': 'Obese', 'map_status': 'Normal', 'cholesterol_status': 'Normal', 'glucose_status': 'Borderline High', 'cvd_risk': 'High Risk', 'diabetes_risk': 'Low Risk'}}\n"
     ]
    },
    {
     "name": "stderr",
     "output_type": "stream",
     "text": [
      "127.0.0.1 - - [16/May/2022 23:01:47] \"POST /_dash-update-component HTTP/1.1\" 200 -\n",
      "127.0.0.1 - - [16/May/2022 23:01:47] \"POST /_dash-update-component HTTP/1.1\" 200 -\n"
     ]
    },
    {
     "name": "stdout",
     "output_type": "stream",
     "text": [
      "{'patient': {'cluster': '1', 'age': '29', 'gender': '0', 'cholesterol': '115', 'systolic_bp': '127', 'diastolic_bp': '80', 'mean_arterial_pressure': '95.66666666666667', 'skin_thickness': '27', 'insulin': '164', 'bmi': '31', 'dpf': '1', 'age_class': '0', 'bmi_class': '3', 'map_class': '1', 'cholesterol_class': '0', 'glucose_class': '1', 'smoke': '0', 'active': '1', 'cvd_prediction': '1', 'diabetes_prediction': '0'}, 'health_statuses': {'bmi_status': 'Obese', 'map_status': 'Normal', 'cholesterol_status': 'Normal', 'glucose_status': 'Borderline High', 'cvd_risk': 'High Risk', 'diabetes_risk': 'Low Risk'}}\n"
     ]
    },
    {
     "name": "stderr",
     "output_type": "stream",
     "text": [
      "127.0.0.1 - - [16/May/2022 23:01:47] \"POST /_dash-update-component HTTP/1.1\" 200 -\n",
      "127.0.0.1 - - [16/May/2022 23:01:47] \"POST /_dash-update-component HTTP/1.1\" 200 -\n",
      "127.0.0.1 - - [16/May/2022 23:01:47] \"POST /_dash-update-component HTTP/1.1\" 200 -\n",
      "127.0.0.1 - - [16/May/2022 23:01:47] \"POST /_dash-update-component HTTP/1.1\" 200 -\n"
     ]
    },
    {
     "name": "stdout",
     "output_type": "stream",
     "text": [
      "{'patient': {'cluster': '1', 'age': '29', 'gender': '0', 'cholesterol': '114', 'systolic_bp': '127', 'diastolic_bp': '80', 'mean_arterial_pressure': '95.66666666666667', 'skin_thickness': '27', 'insulin': '164', 'bmi': '31', 'dpf': '1', 'age_class': '0', 'bmi_class': '3', 'map_class': '1', 'cholesterol_class': '0', 'glucose_class': '1', 'smoke': '0', 'active': '1', 'cvd_prediction': '1', 'diabetes_prediction': '0'}, 'health_statuses': {'bmi_status': 'Obese', 'map_status': 'Normal', 'cholesterol_status': 'Normal', 'glucose_status': 'Borderline High', 'cvd_risk': 'High Risk', 'diabetes_risk': 'Low Risk'}}\n",
      "{'patient': {'cluster': '1', 'age': '29', 'gender': '0', 'cholesterol': '113', 'systolic_bp': '127', 'diastolic_bp': '80', 'mean_arterial_pressure': '95.66666666666667', 'skin_thickness': '27', 'insulin': '164', 'bmi': '31', 'dpf': '1', 'age_class': '0', 'bmi_class': '3', 'map_class': '1', 'cholesterol_class': '0', 'glucose_class': '1', 'smoke': '0', 'active': '1', 'cvd_prediction': '1', 'diabetes_prediction': '0'}, 'health_statuses': {'bmi_status': 'Obese', 'map_status': 'Normal', 'cholesterol_status': 'Normal', 'glucose_status': 'Borderline High', 'cvd_risk': 'High Risk', 'diabetes_risk': 'Low Risk'}}\n",
      "{'patient': {'cluster': '1', 'age': '29', 'gender': '0', 'cholesterol': '112', 'systolic_bp': '127', 'diastolic_bp': '80', 'mean_arterial_pressure': '95.66666666666667', 'skin_thickness': '27', 'insulin': '164', 'bmi': '31', 'dpf': '1', 'age_class': '0', 'bmi_class': '3', 'map_class': '1', 'cholesterol_class': '0', 'glucose_class': '1', 'smoke': '0', 'active': '1', 'cvd_prediction': '1', 'diabetes_prediction': '0'}, 'health_statuses': {'bmi_status': 'Obese', 'map_status': 'Normal', 'cholesterol_status': 'Normal', 'glucose_status': 'Borderline High', 'cvd_risk': 'High Risk', 'diabetes_risk': 'Low Risk'}}\n"
     ]
    },
    {
     "name": "stderr",
     "output_type": "stream",
     "text": [
      "127.0.0.1 - - [16/May/2022 23:01:48] \"POST /_dash-update-component HTTP/1.1\" 200 -\n",
      "127.0.0.1 - - [16/May/2022 23:01:48] \"POST /_dash-update-component HTTP/1.1\" 200 -\n",
      "127.0.0.1 - - [16/May/2022 23:01:48] \"POST /_dash-update-component HTTP/1.1\" 200 -\n",
      "127.0.0.1 - - [16/May/2022 23:01:48] \"POST /_dash-update-component HTTP/1.1\" 200 -\n",
      "127.0.0.1 - - [16/May/2022 23:01:48] \"POST /_dash-update-component HTTP/1.1\" 200 -\n",
      "127.0.0.1 - - [16/May/2022 23:01:48] \"POST /_dash-update-component HTTP/1.1\" 200 -\n"
     ]
    },
    {
     "name": "stdout",
     "output_type": "stream",
     "text": [
      "{'patient': {'cluster': '1', 'age': '29', 'gender': '0', 'cholesterol': '111', 'systolic_bp': '127', 'diastolic_bp': '80', 'mean_arterial_pressure': '95.66666666666667', 'skin_thickness': '27', 'insulin': '164', 'bmi': '31', 'dpf': '1', 'age_class': '0', 'bmi_class': '3', 'map_class': '1', 'cholesterol_class': '0', 'glucose_class': '1', 'smoke': '0', 'active': '1', 'cvd_prediction': '1', 'diabetes_prediction': '0'}, 'health_statuses': {'bmi_status': 'Obese', 'map_status': 'Normal', 'cholesterol_status': 'Normal', 'glucose_status': 'Borderline High', 'cvd_risk': 'High Risk', 'diabetes_risk': 'Low Risk'}}\n",
      "{'patient': {'cluster': '1', 'age': '29', 'gender': '0', 'cholesterol': '110', 'systolic_bp': '127', 'diastolic_bp': '80', 'mean_arterial_pressure': '95.66666666666667', 'skin_thickness': '27', 'insulin': '164', 'bmi': '31', 'dpf': '1', 'age_class': '0', 'bmi_class': '3', 'map_class': '1', 'cholesterol_class': '0', 'glucose_class': '1', 'smoke': '0', 'active': '1', 'cvd_prediction': '1', 'diabetes_prediction': '0'}, 'health_statuses': {'bmi_status': 'Obese', 'map_status': 'Normal', 'cholesterol_status': 'Normal', 'glucose_status': 'Borderline High', 'cvd_risk': 'High Risk', 'diabetes_risk': 'Low Risk'}}\n"
     ]
    },
    {
     "name": "stderr",
     "output_type": "stream",
     "text": [
      "127.0.0.1 - - [16/May/2022 23:01:48] \"POST /_dash-update-component HTTP/1.1\" 200 -\n",
      "127.0.0.1 - - [16/May/2022 23:01:48] \"POST /_dash-update-component HTTP/1.1\" 200 -\n"
     ]
    },
    {
     "name": "stdout",
     "output_type": "stream",
     "text": [
      "{'patient': {'cluster': '1', 'age': '29', 'gender': '0', 'cholesterol': '109', 'systolic_bp': '127', 'diastolic_bp': '80', 'mean_arterial_pressure': '95.66666666666667', 'skin_thickness': '27', 'insulin': '164', 'bmi': '31', 'dpf': '1', 'age_class': '0', 'bmi_class': '3', 'map_class': '1', 'cholesterol_class': '0', 'glucose_class': '1', 'smoke': '0', 'active': '1', 'cvd_prediction': '1', 'diabetes_prediction': '0'}, 'health_statuses': {'bmi_status': 'Obese', 'map_status': 'Normal', 'cholesterol_status': 'Normal', 'glucose_status': 'Borderline High', 'cvd_risk': 'High Risk', 'diabetes_risk': 'Low Risk'}}\n"
     ]
    },
    {
     "name": "stderr",
     "output_type": "stream",
     "text": [
      "127.0.0.1 - - [16/May/2022 23:01:48] \"POST /_dash-update-component HTTP/1.1\" 200 -\n",
      "127.0.0.1 - - [16/May/2022 23:01:48] \"POST /_dash-update-component HTTP/1.1\" 200 -\n",
      "127.0.0.1 - - [16/May/2022 23:01:48] \"POST /_dash-update-component HTTP/1.1\" 200 -\n",
      "127.0.0.1 - - [16/May/2022 23:01:48] \"POST /_dash-update-component HTTP/1.1\" 200 -\n",
      "127.0.0.1 - - [16/May/2022 23:01:48] \"POST /_dash-update-component HTTP/1.1\" 200 -\n"
     ]
    },
    {
     "name": "stdout",
     "output_type": "stream",
     "text": [
      "{'patient': {'cluster': '1', 'age': '29', 'gender': '0', 'cholesterol': '108', 'systolic_bp': '127', 'diastolic_bp': '80', 'mean_arterial_pressure': '95.66666666666667', 'skin_thickness': '27', 'insulin': '164', 'bmi': '31', 'dpf': '1', 'age_class': '0', 'bmi_class': '3', 'map_class': '1', 'cholesterol_class': '0', 'glucose_class': '1', 'smoke': '0', 'active': '1', 'cvd_prediction': '1', 'diabetes_prediction': '0'}, 'health_statuses': {'bmi_status': 'Obese', 'map_status': 'Normal', 'cholesterol_status': 'Normal', 'glucose_status': 'Borderline High', 'cvd_risk': 'High Risk', 'diabetes_risk': 'Low Risk'}}\n",
      "{'patient': {'cluster': '1', 'age': '29', 'gender': '0', 'cholesterol': '107', 'systolic_bp': '127', 'diastolic_bp': '80', 'mean_arterial_pressure': '95.66666666666667', 'skin_thickness': '27', 'insulin': '164', 'bmi': '31', 'dpf': '1', 'age_class': '0', 'bmi_class': '3', 'map_class': '1', 'cholesterol_class': '0', 'glucose_class': '1', 'smoke': '0', 'active': '1', 'cvd_prediction': '1', 'diabetes_prediction': '0'}, 'health_statuses': {'bmi_status': 'Obese', 'map_status': 'Normal', 'cholesterol_status': 'Normal', 'glucose_status': 'Borderline High', 'cvd_risk': 'High Risk', 'diabetes_risk': 'Low Risk'}}\n",
      "{'patient': {'cluster': '1', 'age': '29', 'gender': '0', 'cholesterol': '106', 'systolic_bp': '127', 'diastolic_bp': '80', 'mean_arterial_pressure': '95.66666666666667', 'skin_thickness': '27', 'insulin': '164', 'bmi': '31', 'dpf': '1', 'age_class': '0', 'bmi_class': '3', 'map_class': '1', 'cholesterol_class': '0', 'glucose_class': '1', 'smoke': '0', 'active': '1', 'cvd_prediction': '1', 'diabetes_prediction': '0'}, 'health_statuses': {'bmi_status': 'Obese', 'map_status': 'Normal', 'cholesterol_status': 'Normal', 'glucose_status': 'Borderline High', 'cvd_risk': 'High Risk', 'diabetes_risk': 'Low Risk'}}\n"
     ]
    },
    {
     "name": "stderr",
     "output_type": "stream",
     "text": [
      "127.0.0.1 - - [16/May/2022 23:01:48] \"POST /_dash-update-component HTTP/1.1\" 200 -\n",
      "127.0.0.1 - - [16/May/2022 23:01:48] \"POST /_dash-update-component HTTP/1.1\" 200 -\n",
      "127.0.0.1 - - [16/May/2022 23:01:48] \"POST /_dash-update-component HTTP/1.1\" 200 -\n",
      "127.0.0.1 - - [16/May/2022 23:01:48] \"POST /_dash-update-component HTTP/1.1\" 200 -\n",
      "127.0.0.1 - - [16/May/2022 23:01:49] \"POST /_dash-update-component HTTP/1.1\" 200 -\n"
     ]
    },
    {
     "name": "stdout",
     "output_type": "stream",
     "text": [
      "{'patient': {'cluster': '1', 'age': '29', 'gender': '0', 'cholesterol': '104', 'systolic_bp': '127', 'diastolic_bp': '80', 'mean_arterial_pressure': '95.66666666666667', 'skin_thickness': '27', 'insulin': '164', 'bmi': '31', 'dpf': '1', 'age_class': '0', 'bmi_class': '3', 'map_class': '1', 'cholesterol_class': '0', 'glucose_class': '1', 'smoke': '0', 'active': '1', 'cvd_prediction': '1', 'diabetes_prediction': '0'}, 'health_statuses': {'bmi_status': 'Obese', 'map_status': 'Normal', 'cholesterol_status': 'Normal', 'glucose_status': 'Borderline High', 'cvd_risk': 'High Risk', 'diabetes_risk': 'Low Risk'}}\n",
      "{'patient': {'cluster': '1', 'age': '29', 'gender': '0', 'cholesterol': '105', 'systolic_bp': '127', 'diastolic_bp': '80', 'mean_arterial_pressure': '95.66666666666667', 'skin_thickness': '27', 'insulin': '164', 'bmi': '31', 'dpf': '1', 'age_class': '0', 'bmi_class': '3', 'map_class': '1', 'cholesterol_class': '0', 'glucose_class': '1', 'smoke': '0', 'active': '1', 'cvd_prediction': '1', 'diabetes_prediction': '0'}, 'health_statuses': {'bmi_status': 'Obese', 'map_status': 'Normal', 'cholesterol_status': 'Normal', 'glucose_status': 'Borderline High', 'cvd_risk': 'High Risk', 'diabetes_risk': 'Low Risk'}}\n"
     ]
    },
    {
     "name": "stderr",
     "output_type": "stream",
     "text": [
      "127.0.0.1 - - [16/May/2022 23:01:49] \"POST /_dash-update-component HTTP/1.1\" 200 -\n",
      "127.0.0.1 - - [16/May/2022 23:01:49] \"POST /_dash-update-component HTTP/1.1\" 200 -\n"
     ]
    },
    {
     "name": "stdout",
     "output_type": "stream",
     "text": [
      "{'patient': {'cluster': '1', 'age': '29', 'gender': '0', 'cholesterol': '103', 'systolic_bp': '127', 'diastolic_bp': '80', 'mean_arterial_pressure': '95.66666666666667', 'skin_thickness': '27', 'insulin': '164', 'bmi': '31', 'dpf': '1', 'age_class': '0', 'bmi_class': '3', 'map_class': '1', 'cholesterol_class': '0', 'glucose_class': '1', 'smoke': '0', 'active': '1', 'cvd_prediction': '1', 'diabetes_prediction': '0'}, 'health_statuses': {'bmi_status': 'Obese', 'map_status': 'Normal', 'cholesterol_status': 'Normal', 'glucose_status': 'Borderline High', 'cvd_risk': 'High Risk', 'diabetes_risk': 'Low Risk'}}\n"
     ]
    },
    {
     "name": "stderr",
     "output_type": "stream",
     "text": [
      "127.0.0.1 - - [16/May/2022 23:01:49] \"POST /_dash-update-component HTTP/1.1\" 200 -\n",
      "127.0.0.1 - - [16/May/2022 23:01:49] \"POST /_dash-update-component HTTP/1.1\" 200 -\n",
      "127.0.0.1 - - [16/May/2022 23:01:49] \"POST /_dash-update-component HTTP/1.1\" 200 -\n",
      "127.0.0.1 - - [16/May/2022 23:01:49] \"POST /_dash-update-component HTTP/1.1\" 200 -\n",
      "127.0.0.1 - - [16/May/2022 23:01:49] \"POST /_dash-update-component HTTP/1.1\" 200 -\n"
     ]
    },
    {
     "name": "stdout",
     "output_type": "stream",
     "text": [
      "{'patient': {'cluster': '1', 'age': '29', 'gender': '0', 'cholesterol': '102', 'systolic_bp': '127', 'diastolic_bp': '80', 'mean_arterial_pressure': '95.66666666666667', 'skin_thickness': '27', 'insulin': '164', 'bmi': '31', 'dpf': '1', 'age_class': '0', 'bmi_class': '3', 'map_class': '1', 'cholesterol_class': '0', 'glucose_class': '1', 'smoke': '0', 'active': '1', 'cvd_prediction': '1', 'diabetes_prediction': '0'}, 'health_statuses': {'bmi_status': 'Obese', 'map_status': 'Normal', 'cholesterol_status': 'Normal', 'glucose_status': 'Borderline High', 'cvd_risk': 'High Risk', 'diabetes_risk': 'Low Risk'}}\n",
      "{'patient': {'cluster': '1', 'age': '29', 'gender': '0', 'cholesterol': '101', 'systolic_bp': '127', 'diastolic_bp': '80', 'mean_arterial_pressure': '95.66666666666667', 'skin_thickness': '27', 'insulin': '164', 'bmi': '31', 'dpf': '1', 'age_class': '0', 'bmi_class': '3', 'map_class': '1', 'cholesterol_class': '0', 'glucose_class': '1', 'smoke': '0', 'active': '1', 'cvd_prediction': '1', 'diabetes_prediction': '0'}, 'health_statuses': {'bmi_status': 'Obese', 'map_status': 'Normal', 'cholesterol_status': 'Normal', 'glucose_status': 'Borderline High', 'cvd_risk': 'High Risk', 'diabetes_risk': 'Low Risk'}}\n",
      "{'patient': {'cluster': '1', 'age': '29', 'gender': '0', 'cholesterol': '101', 'systolic_bp': '126', 'diastolic_bp': '80', 'mean_arterial_pressure': '95.33333333333333', 'skin_thickness': '27', 'insulin': '164', 'bmi': '31', 'dpf': '1', 'age_class': '0', 'bmi_class': '3', 'map_class': '1', 'cholesterol_class': '0', 'glucose_class': '1', 'smoke': '0', 'active': '1', 'cvd_prediction': '1', 'diabetes_prediction': '0'}, 'health_statuses': {'bmi_status': 'Obese', 'map_status': 'Normal', 'cholesterol_status': 'Normal', 'glucose_status': 'Borderline High', 'cvd_risk': 'High Risk', 'diabetes_risk': 'Low Risk'}}\n"
     ]
    },
    {
     "name": "stderr",
     "output_type": "stream",
     "text": [
      "127.0.0.1 - - [16/May/2022 23:01:49] \"POST /_dash-update-component HTTP/1.1\" 200 -\n",
      "127.0.0.1 - - [16/May/2022 23:01:49] \"POST /_dash-update-component HTTP/1.1\" 200 -\n",
      "127.0.0.1 - - [16/May/2022 23:01:49] \"POST /_dash-update-component HTTP/1.1\" 200 -\n",
      "127.0.0.1 - - [16/May/2022 23:01:49] \"POST /_dash-update-component HTTP/1.1\" 200 -\n",
      "127.0.0.1 - - [16/May/2022 23:01:49] \"POST /_dash-update-component HTTP/1.1\" 200 -\n"
     ]
    },
    {
     "name": "stdout",
     "output_type": "stream",
     "text": [
      "{'patient': {'cluster': '1', 'age': '29', 'gender': '0', 'cholesterol': '101', 'systolic_bp': '124', 'diastolic_bp': '80', 'mean_arterial_pressure': '94.66666666666667', 'skin_thickness': '27', 'insulin': '164', 'bmi': '31', 'dpf': '1', 'age_class': '0', 'bmi_class': '3', 'map_class': '1', 'cholesterol_class': '0', 'glucose_class': '1', 'smoke': '0', 'active': '1', 'cvd_prediction': '1', 'diabetes_prediction': '0'}, 'health_statuses': {'bmi_status': 'Obese', 'map_status': 'Normal', 'cholesterol_status': 'Normal', 'glucose_status': 'Borderline High', 'cvd_risk': 'High Risk', 'diabetes_risk': 'Low Risk'}}\n",
      "{'patient': {'cluster': '1', 'age': '29', 'gender': '0', 'cholesterol': '101', 'systolic_bp': '125', 'diastolic_bp': '80', 'mean_arterial_pressure': '95.0', 'skin_thickness': '27', 'insulin': '164', 'bmi': '31', 'dpf': '1', 'age_class': '0', 'bmi_class': '3', 'map_class': '1', 'cholesterol_class': '0', 'glucose_class': '1', 'smoke': '0', 'active': '1', 'cvd_prediction': '1', 'diabetes_prediction': '0'}, 'health_statuses': {'bmi_status': 'Obese', 'map_status': 'Normal', 'cholesterol_status': 'Normal', 'glucose_status': 'Borderline High', 'cvd_risk': 'High Risk', 'diabetes_risk': 'Low Risk'}}\n"
     ]
    },
    {
     "name": "stderr",
     "output_type": "stream",
     "text": [
      "127.0.0.1 - - [16/May/2022 23:01:49] \"POST /_dash-update-component HTTP/1.1\" 200 -\n",
      "127.0.0.1 - - [16/May/2022 23:01:49] \"POST /_dash-update-component HTTP/1.1\" 200 -\n"
     ]
    },
    {
     "name": "stdout",
     "output_type": "stream",
     "text": [
      "{'patient': {'cluster': '1', 'age': '29', 'gender': '0', 'cholesterol': '101', 'systolic_bp': '123', 'diastolic_bp': '80', 'mean_arterial_pressure': '94.33333333333333', 'skin_thickness': '27', 'insulin': '164', 'bmi': '31', 'dpf': '1', 'age_class': '0', 'bmi_class': '3', 'map_class': '1', 'cholesterol_class': '0', 'glucose_class': '1', 'smoke': '0', 'active': '1', 'cvd_prediction': '1', 'diabetes_prediction': '0'}, 'health_statuses': {'bmi_status': 'Obese', 'map_status': 'Normal', 'cholesterol_status': 'Normal', 'glucose_status': 'Borderline High', 'cvd_risk': 'High Risk', 'diabetes_risk': 'Low Risk'}}\n"
     ]
    },
    {
     "name": "stderr",
     "output_type": "stream",
     "text": [
      "127.0.0.1 - - [16/May/2022 23:01:50] \"POST /_dash-update-component HTTP/1.1\" 200 -\n",
      "127.0.0.1 - - [16/May/2022 23:01:50] \"POST /_dash-update-component HTTP/1.1\" 200 -\n",
      "127.0.0.1 - - [16/May/2022 23:01:50] \"POST /_dash-update-component HTTP/1.1\" 200 -\n",
      "127.0.0.1 - - [16/May/2022 23:01:50] \"POST /_dash-update-component HTTP/1.1\" 200 -\n",
      "127.0.0.1 - - [16/May/2022 23:01:50] \"POST /_dash-update-component HTTP/1.1\" 200 -\n",
      "127.0.0.1 - - [16/May/2022 23:01:50] \"POST /_dash-update-component HTTP/1.1\" 200 -\n"
     ]
    },
    {
     "name": "stdout",
     "output_type": "stream",
     "text": [
      "{'patient': {'cluster': '1', 'age': '29', 'gender': '0', 'cholesterol': '101', 'systolic_bp': '122', 'diastolic_bp': '80', 'mean_arterial_pressure': '94.0', 'skin_thickness': '27', 'insulin': '164', 'bmi': '31', 'dpf': '1', 'age_class': '0', 'bmi_class': '3', 'map_class': '1', 'cholesterol_class': '0', 'glucose_class': '1', 'smoke': '0', 'active': '1', 'cvd_prediction': '1', 'diabetes_prediction': '0'}, 'health_statuses': {'bmi_status': 'Obese', 'map_status': 'Normal', 'cholesterol_status': 'Normal', 'glucose_status': 'Borderline High', 'cvd_risk': 'High Risk', 'diabetes_risk': 'Low Risk'}}\n",
      "{'patient': {'cluster': '1', 'age': '29', 'gender': '0', 'cholesterol': '101', 'systolic_bp': '121', 'diastolic_bp': '80', 'mean_arterial_pressure': '93.66666666666667', 'skin_thickness': '27', 'insulin': '164', 'bmi': '31', 'dpf': '1', 'age_class': '0', 'bmi_class': '3', 'map_class': '1', 'cholesterol_class': '0', 'glucose_class': '1', 'smoke': '0', 'active': '1', 'cvd_prediction': '1', 'diabetes_prediction': '0'}, 'health_statuses': {'bmi_status': 'Obese', 'map_status': 'Normal', 'cholesterol_status': 'Normal', 'glucose_status': 'Borderline High', 'cvd_risk': 'High Risk', 'diabetes_risk': 'Low Risk'}}\n",
      "{'patient': {'cluster': '1', 'age': '29', 'gender': '0', 'cholesterol': '101', 'systolic_bp': '120', 'diastolic_bp': '80', 'mean_arterial_pressure': '93.33333333333333', 'skin_thickness': '27', 'insulin': '164', 'bmi': '31', 'dpf': '1', 'age_class': '0', 'bmi_class': '3', 'map_class': '1', 'cholesterol_class': '0', 'glucose_class': '1', 'smoke': '0', 'active': '1', 'cvd_prediction': '1', 'diabetes_prediction': '0'}, 'health_statuses': {'bmi_status': 'Obese', 'map_status': 'Normal', 'cholesterol_status': 'Normal', 'glucose_status': 'Borderline High', 'cvd_risk': 'High Risk', 'diabetes_risk': 'Low Risk'}}\n"
     ]
    },
    {
     "name": "stderr",
     "output_type": "stream",
     "text": [
      "127.0.0.1 - - [16/May/2022 23:01:50] \"POST /_dash-update-component HTTP/1.1\" 200 -\n",
      "127.0.0.1 - - [16/May/2022 23:01:50] \"POST /_dash-update-component HTTP/1.1\" 200 -\n",
      "127.0.0.1 - - [16/May/2022 23:01:50] \"POST /_dash-update-component HTTP/1.1\" 200 -\n",
      "127.0.0.1 - - [16/May/2022 23:01:50] \"POST /_dash-update-component HTTP/1.1\" 200 -\n"
     ]
    },
    {
     "name": "stdout",
     "output_type": "stream",
     "text": [
      "{'patient': {'cluster': '1', 'age': '29', 'gender': '0', 'cholesterol': '101', 'systolic_bp': '118', 'diastolic_bp': '80', 'mean_arterial_pressure': '92.66666666666667', 'skin_thickness': '27', 'insulin': '164', 'bmi': '31', 'dpf': '1', 'age_class': '0', 'bmi_class': '3', 'map_class': '1', 'cholesterol_class': '0', 'glucose_class': '1', 'smoke': '0', 'active': '1', 'cvd_prediction': '1', 'diabetes_prediction': '0'}, 'health_statuses': {'bmi_status': 'Obese', 'map_status': 'Normal', 'cholesterol_status': 'Normal', 'glucose_status': 'Borderline High', 'cvd_risk': 'High Risk', 'diabetes_risk': 'Low Risk'}}\n",
      "{'patient': {'cluster': '1', 'age': '29', 'gender': '0', 'cholesterol': '101', 'systolic_bp': '119', 'diastolic_bp': '80', 'mean_arterial_pressure': '93.0', 'skin_thickness': '27', 'insulin': '164', 'bmi': '31', 'dpf': '1', 'age_class': '0', 'bmi_class': '3', 'map_class': '1', 'cholesterol_class': '0', 'glucose_class': '1', 'smoke': '0', 'active': '1', 'cvd_prediction': '1', 'diabetes_prediction': '0'}, 'health_statuses': {'bmi_status': 'Obese', 'map_status': 'Normal', 'cholesterol_status': 'Normal', 'glucose_status': 'Borderline High', 'cvd_risk': 'High Risk', 'diabetes_risk': 'Low Risk'}}\n",
      "{'patient': {'cluster': '1', 'age': '29', 'gender': '0', 'cholesterol': '101', 'systolic_bp': '117', 'diastolic_bp': '80', 'mean_arterial_pressure': '92.33333333333333', 'skin_thickness': '27', 'insulin': '164', 'bmi': '31', 'dpf': '1', 'age_class': '0', 'bmi_class': '3', 'map_class': '1', 'cholesterol_class': '0', 'glucose_class': '1', 'smoke': '0', 'active': '1', 'cvd_prediction': '1', 'diabetes_prediction': '0'}, 'health_statuses': {'bmi_status': 'Obese', 'map_status': 'Normal', 'cholesterol_status': 'Normal', 'glucose_status': 'Borderline High', 'cvd_risk': 'High Risk', 'diabetes_risk': 'Low Risk'}}\n"
     ]
    },
    {
     "name": "stderr",
     "output_type": "stream",
     "text": [
      "127.0.0.1 - - [16/May/2022 23:01:50] \"POST /_dash-update-component HTTP/1.1\" 200 -\n",
      "127.0.0.1 - - [16/May/2022 23:01:50] \"POST /_dash-update-component HTTP/1.1\" 200 -\n",
      "127.0.0.1 - - [16/May/2022 23:01:50] \"POST /_dash-update-component HTTP/1.1\" 200 -\n",
      "127.0.0.1 - - [16/May/2022 23:01:50] \"POST /_dash-update-component HTTP/1.1\" 200 -\n",
      "127.0.0.1 - - [16/May/2022 23:01:50] \"POST /_dash-update-component HTTP/1.1\" 200 -\n",
      "127.0.0.1 - - [16/May/2022 23:01:50] \"POST /_dash-update-component HTTP/1.1\" 200 -\n",
      "127.0.0.1 - - [16/May/2022 23:01:51] \"POST /_dash-update-component HTTP/1.1\" 200 -\n",
      "127.0.0.1 - - [16/May/2022 23:01:51] \"POST /_dash-update-component HTTP/1.1\" 200 -\n"
     ]
    },
    {
     "name": "stdout",
     "output_type": "stream",
     "text": [
      "{'patient': {'cluster': '1', 'age': '29', 'gender': '0', 'cholesterol': '101', 'systolic_bp': '116', 'diastolic_bp': '80', 'mean_arterial_pressure': '92.0', 'skin_thickness': '27', 'insulin': '164', 'bmi': '31', 'dpf': '1', 'age_class': '0', 'bmi_class': '3', 'map_class': '1', 'cholesterol_class': '0', 'glucose_class': '1', 'smoke': '0', 'active': '1', 'cvd_prediction': '1', 'diabetes_prediction': '0'}, 'health_statuses': {'bmi_status': 'Obese', 'map_status': 'Normal', 'cholesterol_status': 'Normal', 'glucose_status': 'Borderline High', 'cvd_risk': 'High Risk', 'diabetes_risk': 'Low Risk'}}\n",
      "{'patient': {'cluster': '1', 'age': '29', 'gender': '0', 'cholesterol': '101', 'systolic_bp': '115', 'diastolic_bp': '80', 'mean_arterial_pressure': '91.66666666666667', 'skin_thickness': '27', 'insulin': '164', 'bmi': '31', 'dpf': '1', 'age_class': '0', 'bmi_class': '3', 'map_class': '1', 'cholesterol_class': '0', 'glucose_class': '1', 'smoke': '0', 'active': '1', 'cvd_prediction': '1', 'diabetes_prediction': '0'}, 'health_statuses': {'bmi_status': 'Obese', 'map_status': 'Normal', 'cholesterol_status': 'Normal', 'glucose_status': 'Borderline High', 'cvd_risk': 'High Risk', 'diabetes_risk': 'Low Risk'}}\n",
      "{'patient': {'cluster': '1', 'age': '29', 'gender': '0', 'cholesterol': '101', 'systolic_bp': '114', 'diastolic_bp': '80', 'mean_arterial_pressure': '91.33333333333333', 'skin_thickness': '27', 'insulin': '164', 'bmi': '31', 'dpf': '1', 'age_class': '0', 'bmi_class': '3', 'map_class': '1', 'cholesterol_class': '0', 'glucose_class': '1', 'smoke': '0', 'active': '1', 'cvd_prediction': '1', 'diabetes_prediction': '0'}, 'health_statuses': {'bmi_status': 'Obese', 'map_status': 'Normal', 'cholesterol_status': 'Normal', 'glucose_status': 'Borderline High', 'cvd_risk': 'High Risk', 'diabetes_risk': 'Low Risk'}}\n"
     ]
    },
    {
     "name": "stderr",
     "output_type": "stream",
     "text": [
      "127.0.0.1 - - [16/May/2022 23:01:51] \"POST /_dash-update-component HTTP/1.1\" 200 -\n",
      "127.0.0.1 - - [16/May/2022 23:01:51] \"POST /_dash-update-component HTTP/1.1\" 200 -\n",
      "127.0.0.1 - - [16/May/2022 23:01:51] \"POST /_dash-update-component HTTP/1.1\" 200 -\n",
      "127.0.0.1 - - [16/May/2022 23:01:51] \"POST /_dash-update-component HTTP/1.1\" 200 -\n"
     ]
    },
    {
     "name": "stdout",
     "output_type": "stream",
     "text": [
      "{'patient': {'cluster': '1', 'age': '29', 'gender': '0', 'cholesterol': '101', 'systolic_bp': '113', 'diastolic_bp': '80', 'mean_arterial_pressure': '91.0', 'skin_thickness': '27', 'insulin': '164', 'bmi': '31', 'dpf': '1', 'age_class': '0', 'bmi_class': '3', 'map_class': '1', 'cholesterol_class': '0', 'glucose_class': '1', 'smoke': '0', 'active': '1', 'cvd_prediction': '1', 'diabetes_prediction': '0'}, 'health_statuses': {'bmi_status': 'Obese', 'map_status': 'Normal', 'cholesterol_status': 'Normal', 'glucose_status': 'Borderline High', 'cvd_risk': 'High Risk', 'diabetes_risk': 'Low Risk'}}\n",
      "{'patient': {'cluster': '1', 'age': '29', 'gender': '0', 'cholesterol': '101', 'systolic_bp': '112', 'diastolic_bp': '80', 'mean_arterial_pressure': '90.66666666666667', 'skin_thickness': '27', 'insulin': '164', 'bmi': '31', 'dpf': '1', 'age_class': '0', 'bmi_class': '3', 'map_class': '1', 'cholesterol_class': '0', 'glucose_class': '1', 'smoke': '0', 'active': '1', 'cvd_prediction': '1', 'diabetes_prediction': '0'}, 'health_statuses': {'bmi_status': 'Obese', 'map_status': 'Normal', 'cholesterol_status': 'Normal', 'glucose_status': 'Borderline High', 'cvd_risk': 'High Risk', 'diabetes_risk': 'Low Risk'}}\n"
     ]
    },
    {
     "name": "stderr",
     "output_type": "stream",
     "text": [
      "127.0.0.1 - - [16/May/2022 23:01:51] \"POST /_dash-update-component HTTP/1.1\" 200 -\n",
      "127.0.0.1 - - [16/May/2022 23:01:51] \"POST /_dash-update-component HTTP/1.1\" 200 -\n"
     ]
    },
    {
     "name": "stdout",
     "output_type": "stream",
     "text": [
      "{'patient': {'cluster': '1', 'age': '29', 'gender': '0', 'cholesterol': '101', 'systolic_bp': '111', 'diastolic_bp': '80', 'mean_arterial_pressure': '90.33333333333333', 'skin_thickness': '27', 'insulin': '164', 'bmi': '31', 'dpf': '1', 'age_class': '0', 'bmi_class': '3', 'map_class': '1', 'cholesterol_class': '0', 'glucose_class': '1', 'smoke': '0', 'active': '1', 'cvd_prediction': '1', 'diabetes_prediction': '0'}, 'health_statuses': {'bmi_status': 'Obese', 'map_status': 'Normal', 'cholesterol_status': 'Normal', 'glucose_status': 'Borderline High', 'cvd_risk': 'High Risk', 'diabetes_risk': 'Low Risk'}}\n"
     ]
    },
    {
     "name": "stderr",
     "output_type": "stream",
     "text": [
      "127.0.0.1 - - [16/May/2022 23:01:51] \"POST /_dash-update-component HTTP/1.1\" 200 -\n",
      "127.0.0.1 - - [16/May/2022 23:01:51] \"POST /_dash-update-component HTTP/1.1\" 200 -\n",
      "127.0.0.1 - - [16/May/2022 23:01:51] \"POST /_dash-update-component HTTP/1.1\" 200 -\n",
      "127.0.0.1 - - [16/May/2022 23:01:51] \"POST /_dash-update-component HTTP/1.1\" 200 -\n"
     ]
    },
    {
     "name": "stdout",
     "output_type": "stream",
     "text": [
      "{'patient': {'cluster': '1', 'age': '29', 'gender': '0', 'cholesterol': '101', 'systolic_bp': '110', 'diastolic_bp': '80', 'mean_arterial_pressure': '90.0', 'skin_thickness': '27', 'insulin': '164', 'bmi': '31', 'dpf': '1', 'age_class': '0', 'bmi_class': '3', 'map_class': '1', 'cholesterol_class': '0', 'glucose_class': '1', 'smoke': '0', 'active': '1', 'cvd_prediction': '1', 'diabetes_prediction': '0'}, 'health_statuses': {'bmi_status': 'Obese', 'map_status': 'Normal', 'cholesterol_status': 'Normal', 'glucose_status': 'Borderline High', 'cvd_risk': 'High Risk', 'diabetes_risk': 'Low Risk'}}\n",
      "{'patient': {'cluster': '1', 'age': '29', 'gender': '0', 'cholesterol': '101', 'systolic_bp': '109', 'diastolic_bp': '80', 'mean_arterial_pressure': '89.66666666666667', 'skin_thickness': '27', 'insulin': '164', 'bmi': '31', 'dpf': '1', 'age_class': '0', 'bmi_class': '3', 'map_class': '1', 'cholesterol_class': '0', 'glucose_class': '1', 'smoke': '0', 'active': '1', 'cvd_prediction': '1', 'diabetes_prediction': '0'}, 'health_statuses': {'bmi_status': 'Obese', 'map_status': 'Normal', 'cholesterol_status': 'Normal', 'glucose_status': 'Borderline High', 'cvd_risk': 'High Risk', 'diabetes_risk': 'Low Risk'}}\n"
     ]
    },
    {
     "name": "stderr",
     "output_type": "stream",
     "text": [
      "127.0.0.1 - - [16/May/2022 23:01:51] \"POST /_dash-update-component HTTP/1.1\" 200 -\n",
      "127.0.0.1 - - [16/May/2022 23:01:51] \"POST /_dash-update-component HTTP/1.1\" 200 -\n",
      "127.0.0.1 - - [16/May/2022 23:01:51] \"POST /_dash-update-component HTTP/1.1\" 200 -\n",
      "127.0.0.1 - - [16/May/2022 23:01:51] \"POST /_dash-update-component HTTP/1.1\" 200 -\n",
      "127.0.0.1 - - [16/May/2022 23:01:51] \"POST /_dash-update-component HTTP/1.1\" 200 -\n",
      "127.0.0.1 - - [16/May/2022 23:01:51] \"POST /_dash-update-component HTTP/1.1\" 200 -\n"
     ]
    },
    {
     "name": "stdout",
     "output_type": "stream",
     "text": [
      "{'patient': {'cluster': '1', 'age': '29', 'gender': '0', 'cholesterol': '101', 'systolic_bp': '108', 'diastolic_bp': '80', 'mean_arterial_pressure': '89.33333333333333', 'skin_thickness': '27', 'insulin': '164', 'bmi': '31', 'dpf': '1', 'age_class': '0', 'bmi_class': '3', 'map_class': '1', 'cholesterol_class': '0', 'glucose_class': '1', 'smoke': '0', 'active': '1', 'cvd_prediction': '1', 'diabetes_prediction': '0'}, 'health_statuses': {'bmi_status': 'Obese', 'map_status': 'Normal', 'cholesterol_status': 'Normal', 'glucose_status': 'Borderline High', 'cvd_risk': 'High Risk', 'diabetes_risk': 'Low Risk'}}\n",
      "{'patient': {'cluster': '1', 'age': '29', 'gender': '0', 'cholesterol': '101', 'systolic_bp': '107', 'diastolic_bp': '80', 'mean_arterial_pressure': '89.0', 'skin_thickness': '27', 'insulin': '164', 'bmi': '31', 'dpf': '1', 'age_class': '0', 'bmi_class': '3', 'map_class': '1', 'cholesterol_class': '0', 'glucose_class': '1', 'smoke': '0', 'active': '1', 'cvd_prediction': '1', 'diabetes_prediction': '0'}, 'health_statuses': {'bmi_status': 'Obese', 'map_status': 'Normal', 'cholesterol_status': 'Normal', 'glucose_status': 'Borderline High', 'cvd_risk': 'High Risk', 'diabetes_risk': 'Low Risk'}}\n",
      "{'patient': {'cluster': '1', 'age': '29', 'gender': '0', 'cholesterol': '101', 'systolic_bp': '106', 'diastolic_bp': '80', 'mean_arterial_pressure': '88.66666666666667', 'skin_thickness': '27', 'insulin': '164', 'bmi': '31', 'dpf': '1', 'age_class': '0', 'bmi_class': '3', 'map_class': '1', 'cholesterol_class': '0', 'glucose_class': '1', 'smoke': '0', 'active': '1', 'cvd_prediction': '1', 'diabetes_prediction': '0'}, 'health_statuses': {'bmi_status': 'Obese', 'map_status': 'Normal', 'cholesterol_status': 'Normal', 'glucose_status': 'Borderline High', 'cvd_risk': 'High Risk', 'diabetes_risk': 'Low Risk'}}\n"
     ]
    },
    {
     "name": "stderr",
     "output_type": "stream",
     "text": [
      "127.0.0.1 - - [16/May/2022 23:01:52] \"POST /_dash-update-component HTTP/1.1\" 200 -\n",
      "127.0.0.1 - - [16/May/2022 23:01:52] \"POST /_dash-update-component HTTP/1.1\" 200 -\n"
     ]
    },
    {
     "name": "stdout",
     "output_type": "stream",
     "text": [
      "{'patient': {'cluster': '1', 'age': '29', 'gender': '0', 'cholesterol': '101', 'systolic_bp': '105', 'diastolic_bp': '80', 'mean_arterial_pressure': '88.33333333333333', 'skin_thickness': '27', 'insulin': '164', 'bmi': '31', 'dpf': '1', 'age_class': '0', 'bmi_class': '3', 'map_class': '1', 'cholesterol_class': '0', 'glucose_class': '1', 'smoke': '0', 'active': '1', 'cvd_prediction': '1', 'diabetes_prediction': '0'}, 'health_statuses': {'bmi_status': 'Obese', 'map_status': 'Normal', 'cholesterol_status': 'Normal', 'glucose_status': 'Borderline High', 'cvd_risk': 'High Risk', 'diabetes_risk': 'Low Risk'}}\n"
     ]
    },
    {
     "name": "stderr",
     "output_type": "stream",
     "text": [
      "127.0.0.1 - - [16/May/2022 23:01:52] \"POST /_dash-update-component HTTP/1.1\" 200 -\n",
      "127.0.0.1 - - [16/May/2022 23:01:52] \"POST /_dash-update-component HTTP/1.1\" 200 -\n",
      "127.0.0.1 - - [16/May/2022 23:01:52] \"POST /_dash-update-component HTTP/1.1\" 200 -\n",
      "127.0.0.1 - - [16/May/2022 23:01:52] \"POST /_dash-update-component HTTP/1.1\" 200 -\n",
      "127.0.0.1 - - [16/May/2022 23:01:52] \"POST /_dash-update-component HTTP/1.1\" 200 -\n",
      "127.0.0.1 - - [16/May/2022 23:01:52] \"POST /_dash-update-component HTTP/1.1\" 200 -\n"
     ]
    },
    {
     "name": "stdout",
     "output_type": "stream",
     "text": [
      "{'patient': {'cluster': '1', 'age': '29', 'gender': '0', 'cholesterol': '101', 'systolic_bp': '105', 'diastolic_bp': '80', 'mean_arterial_pressure': '88.33333333333333', 'skin_thickness': '27', 'insulin': '164', 'bmi': '31', 'dpf': '1', 'age_class': '0', 'bmi_class': '3', 'map_class': '1', 'cholesterol_class': '0', 'glucose_class': '1', 'smoke': '0', 'active': '1', 'cvd_prediction': '1', 'diabetes_prediction': '0'}, 'health_statuses': {'bmi_status': 'Obese', 'map_status': 'Normal', 'cholesterol_status': 'Normal', 'glucose_status': 'Borderline High', 'cvd_risk': 'High Risk', 'diabetes_risk': 'Low Risk'}}{'patient': {'cluster': '1', 'age': '29', 'gender': '0', 'cholesterol': '101', 'systolic_bp': '104', 'diastolic_bp': '80', 'mean_arterial_pressure': '88.0', 'skin_thickness': '27', 'insulin': '164', 'bmi': '31', 'dpf': '1', 'age_class': '0', 'bmi_class': '3', 'map_class': '1', 'cholesterol_class': '0', 'glucose_class': '1', 'smoke': '0', 'active': '1', 'cvd_prediction': '1', 'diabetes_prediction': '0'}, 'health_statuses': {'bmi_status': 'Obese', 'map_status': 'Normal', 'cholesterol_status': 'Normal', 'glucose_status': 'Borderline High', 'cvd_risk': 'High Risk', 'diabetes_risk': 'Low Risk'}}\n",
      "\n",
      "{'patient': {'cluster': '1', 'age': '29', 'gender': '0', 'cholesterol': '101', 'systolic_bp': '106', 'diastolic_bp': '80', 'mean_arterial_pressure': '88.66666666666667', 'skin_thickness': '27', 'insulin': '164', 'bmi': '31', 'dpf': '1', 'age_class': '0', 'bmi_class': '3', 'map_class': '1', 'cholesterol_class': '0', 'glucose_class': '1', 'smoke': '0', 'active': '1', 'cvd_prediction': '1', 'diabetes_prediction': '0'}, 'health_statuses': {'bmi_status': 'Obese', 'map_status': 'Normal', 'cholesterol_status': 'Normal', 'glucose_status': 'Borderline High', 'cvd_risk': 'High Risk', 'diabetes_risk': 'Low Risk'}}\n"
     ]
    },
    {
     "name": "stderr",
     "output_type": "stream",
     "text": [
      "127.0.0.1 - - [16/May/2022 23:01:52] \"POST /_dash-update-component HTTP/1.1\" 200 -\n",
      "127.0.0.1 - - [16/May/2022 23:01:52] \"POST /_dash-update-component HTTP/1.1\" 200 -\n",
      "127.0.0.1 - - [16/May/2022 23:01:52] \"POST /_dash-update-component HTTP/1.1\" 200 -\n",
      "127.0.0.1 - - [16/May/2022 23:01:52] \"POST /_dash-update-component HTTP/1.1\" 200 -\n"
     ]
    },
    {
     "name": "stdout",
     "output_type": "stream",
     "text": [
      "{'patient': {'cluster': '1', 'age': '29', 'gender': '0', 'cholesterol': '101', 'systolic_bp': '107', 'diastolic_bp': '80', 'mean_arterial_pressure': '89.0', 'skin_thickness': '27', 'insulin': '164', 'bmi': '31', 'dpf': '1', 'age_class': '0', 'bmi_class': '3', 'map_class': '1', 'cholesterol_class': '0', 'glucose_class': '1', 'smoke': '0', 'active': '1', 'cvd_prediction': '1', 'diabetes_prediction': '0'}, 'health_statuses': {'bmi_status': 'Obese', 'map_status': 'Normal', 'cholesterol_status': 'Normal', 'glucose_status': 'Borderline High', 'cvd_risk': 'High Risk', 'diabetes_risk': 'Low Risk'}}\n",
      "{'patient': {'cluster': '1', 'age': '29', 'gender': '0', 'cholesterol': '101', 'systolic_bp': '108', 'diastolic_bp': '80', 'mean_arterial_pressure': '89.33333333333333', 'skin_thickness': '27', 'insulin': '164', 'bmi': '31', 'dpf': '1', 'age_class': '0', 'bmi_class': '3', 'map_class': '1', 'cholesterol_class': '0', 'glucose_class': '1', 'smoke': '0', 'active': '1', 'cvd_prediction': '1', 'diabetes_prediction': '0'}, 'health_statuses': {'bmi_status': 'Obese', 'map_status': 'Normal', 'cholesterol_status': 'Normal', 'glucose_status': 'Borderline High', 'cvd_risk': 'High Risk', 'diabetes_risk': 'Low Risk'}}\n"
     ]
    },
    {
     "name": "stderr",
     "output_type": "stream",
     "text": [
      "127.0.0.1 - - [16/May/2022 23:01:52] \"POST /_dash-update-component HTTP/1.1\" 200 -\n",
      "127.0.0.1 - - [16/May/2022 23:01:52] \"POST /_dash-update-component HTTP/1.1\" 200 -\n"
     ]
    },
    {
     "name": "stdout",
     "output_type": "stream",
     "text": [
      "{'patient': {'cluster': '1', 'age': '29', 'gender': '0', 'cholesterol': '101', 'systolic_bp': '109', 'diastolic_bp': '80', 'mean_arterial_pressure': '89.66666666666667', 'skin_thickness': '27', 'insulin': '164', 'bmi': '31', 'dpf': '1', 'age_class': '0', 'bmi_class': '3', 'map_class': '1', 'cholesterol_class': '0', 'glucose_class': '1', 'smoke': '0', 'active': '1', 'cvd_prediction': '1', 'diabetes_prediction': '0'}, 'health_statuses': {'bmi_status': 'Obese', 'map_status': 'Normal', 'cholesterol_status': 'Normal', 'glucose_status': 'Borderline High', 'cvd_risk': 'High Risk', 'diabetes_risk': 'Low Risk'}}\n"
     ]
    },
    {
     "name": "stderr",
     "output_type": "stream",
     "text": [
      "127.0.0.1 - - [16/May/2022 23:01:53] \"POST /_dash-update-component HTTP/1.1\" 200 -\n",
      "127.0.0.1 - - [16/May/2022 23:01:53] \"POST /_dash-update-component HTTP/1.1\" 200 -\n",
      "127.0.0.1 - - [16/May/2022 23:01:53] \"POST /_dash-update-component HTTP/1.1\" 200 -\n",
      "127.0.0.1 - - [16/May/2022 23:01:53] \"POST /_dash-update-component HTTP/1.1\" 200 -\n",
      "127.0.0.1 - - [16/May/2022 23:01:53] \"POST /_dash-update-component HTTP/1.1\" 200 -\n",
      "127.0.0.1 - - [16/May/2022 23:01:53] \"POST /_dash-update-component HTTP/1.1\" 200 -\n"
     ]
    },
    {
     "name": "stdout",
     "output_type": "stream",
     "text": [
      "{'patient': {'cluster': '1', 'age': '29', 'gender': '0', 'cholesterol': '101', 'systolic_bp': '111', 'diastolic_bp': '80', 'mean_arterial_pressure': '90.33333333333333', 'skin_thickness': '27', 'insulin': '164', 'bmi': '31', 'dpf': '1', 'age_class': '0', 'bmi_class': '3', 'map_class': '1', 'cholesterol_class': '0', 'glucose_class': '1', 'smoke': '0', 'active': '1', 'cvd_prediction': '1', 'diabetes_prediction': '0'}, 'health_statuses': {'bmi_status': 'Obese', 'map_status': 'Normal', 'cholesterol_status': 'Normal', 'glucose_status': 'Borderline High', 'cvd_risk': 'High Risk', 'diabetes_risk': 'Low Risk'}}\n",
      "{'patient': {'cluster': '1', 'age': '29', 'gender': '0', 'cholesterol': '101', 'systolic_bp': '110', 'diastolic_bp': '80', 'mean_arterial_pressure': '90.0', 'skin_thickness': '27', 'insulin': '164', 'bmi': '31', 'dpf': '1', 'age_class': '0', 'bmi_class': '3', 'map_class': '1', 'cholesterol_class': '0', 'glucose_class': '1', 'smoke': '0', 'active': '1', 'cvd_prediction': '1', 'diabetes_prediction': '0'}, 'health_statuses': {'bmi_status': 'Obese', 'map_status': 'Normal', 'cholesterol_status': 'Normal', 'glucose_status': 'Borderline High', 'cvd_risk': 'High Risk', 'diabetes_risk': 'Low Risk'}}\n",
      "{'patient': {'cluster': '1', 'age': '29', 'gender': '0', 'cholesterol': '101', 'systolic_bp': '112', 'diastolic_bp': '80', 'mean_arterial_pressure': '90.66666666666667', 'skin_thickness': '27', 'insulin': '164', 'bmi': '31', 'dpf': '1', 'age_class': '0', 'bmi_class': '3', 'map_class': '1', 'cholesterol_class': '0', 'glucose_class': '1', 'smoke': '0', 'active': '1', 'cvd_prediction': '1', 'diabetes_prediction': '0'}, 'health_statuses': {'bmi_status': 'Obese', 'map_status': 'Normal', 'cholesterol_status': 'Normal', 'glucose_status': 'Borderline High', 'cvd_risk': 'High Risk', 'diabetes_risk': 'Low Risk'}}\n",
      "{'patient': {'cluster': '1', 'age': '29', 'gender': '0', 'cholesterol': '101', 'systolic_bp': '113', 'diastolic_bp': '80', 'mean_arterial_pressure': '91.0', 'skin_thickness': '27', 'insulin': '164', 'bmi': '31', 'dpf': '1', 'age_class': '0', 'bmi_class': '3', 'map_class': '1', 'cholesterol_class': '0', 'glucose_class': '1', 'smoke': '0', 'active': '1', 'cvd_prediction': '1', 'diabetes_prediction': '0'}, 'health_statuses': {'bmi_status': 'Obese', 'map_status': 'Normal', 'cholesterol_status': 'Normal', 'glucose_status': 'Borderline High', 'cvd_risk': 'High Risk', 'diabetes_risk': 'Low Risk'}}\n"
     ]
    },
    {
     "name": "stderr",
     "output_type": "stream",
     "text": [
      "127.0.0.1 - - [16/May/2022 23:01:53] \"POST /_dash-update-component HTTP/1.1\" 200 -\n",
      "127.0.0.1 - - [16/May/2022 23:01:53] \"POST /_dash-update-component HTTP/1.1\" 200 -\n",
      "127.0.0.1 - - [16/May/2022 23:01:53] \"POST /_dash-update-component HTTP/1.1\" 200 -\n",
      "127.0.0.1 - - [16/May/2022 23:01:53] \"POST /_dash-update-component HTTP/1.1\" 200 -\n",
      "127.0.0.1 - - [16/May/2022 23:01:53] \"POST /_dash-update-component HTTP/1.1\" 200 -\n"
     ]
    },
    {
     "name": "stdout",
     "output_type": "stream",
     "text": [
      "{'patient': {'cluster': '1', 'age': '29', 'gender': '0', 'cholesterol': '101', 'systolic_bp': '114', 'diastolic_bp': '80', 'mean_arterial_pressure': '91.33333333333333', 'skin_thickness': '27', 'insulin': '164', 'bmi': '31', 'dpf': '1', 'age_class': '0', 'bmi_class': '3', 'map_class': '1', 'cholesterol_class': '0', 'glucose_class': '1', 'smoke': '0', 'active': '1', 'cvd_prediction': '1', 'diabetes_prediction': '0'}, 'health_statuses': {'bmi_status': 'Obese', 'map_status': 'Normal', 'cholesterol_status': 'Normal', 'glucose_status': 'Borderline High', 'cvd_risk': 'High Risk', 'diabetes_risk': 'Low Risk'}}\n",
      "{'patient': {'cluster': '1', 'age': '29', 'gender': '0', 'cholesterol': '101', 'systolic_bp': '115', 'diastolic_bp': '80', 'mean_arterial_pressure': '91.66666666666667', 'skin_thickness': '27', 'insulin': '164', 'bmi': '31', 'dpf': '1', 'age_class': '0', 'bmi_class': '3', 'map_class': '1', 'cholesterol_class': '0', 'glucose_class': '1', 'smoke': '0', 'active': '1', 'cvd_prediction': '1', 'diabetes_prediction': '0'}, 'health_statuses': {'bmi_status': 'Obese', 'map_status': 'Normal', 'cholesterol_status': 'Normal', 'glucose_status': 'Borderline High', 'cvd_risk': 'High Risk', 'diabetes_risk': 'Low Risk'}}\n"
     ]
    },
    {
     "name": "stderr",
     "output_type": "stream",
     "text": [
      "127.0.0.1 - - [16/May/2022 23:01:53] \"POST /_dash-update-component HTTP/1.1\" 200 -\n",
      "127.0.0.1 - - [16/May/2022 23:01:53] \"POST /_dash-update-component HTTP/1.1\" 200 -\n",
      "127.0.0.1 - - [16/May/2022 23:01:53] \"POST /_dash-update-component HTTP/1.1\" 200 -\n",
      "127.0.0.1 - - [16/May/2022 23:01:53] \"POST /_dash-update-component HTTP/1.1\" 200 -\n",
      "127.0.0.1 - - [16/May/2022 23:01:53] \"POST /_dash-update-component HTTP/1.1\" 200 -\n",
      "127.0.0.1 - - [16/May/2022 23:01:54] \"POST /_dash-update-component HTTP/1.1\" 200 -\n"
     ]
    },
    {
     "name": "stdout",
     "output_type": "stream",
     "text": [
      "{'patient': {'cluster': '1', 'age': '29', 'gender': '0', 'cholesterol': '101', 'systolic_bp': '116', 'diastolic_bp': '80', 'mean_arterial_pressure': '92.0', 'skin_thickness': '27', 'insulin': '164', 'bmi': '31', 'dpf': '1', 'age_class': '0', 'bmi_class': '3', 'map_class': '1', 'cholesterol_class': '0', 'glucose_class': '1', 'smoke': '0', 'active': '1', 'cvd_prediction': '1', 'diabetes_prediction': '0'}, 'health_statuses': {'bmi_status': 'Obese', 'map_status': 'Normal', 'cholesterol_status': 'Normal', 'glucose_status': 'Borderline High', 'cvd_risk': 'High Risk', 'diabetes_risk': 'Low Risk'}}\n",
      "{'patient': {'cluster': '1', 'age': '29', 'gender': '0', 'cholesterol': '101', 'systolic_bp': '117', 'diastolic_bp': '80', 'mean_arterial_pressure': '92.33333333333333', 'skin_thickness': '27', 'insulin': '164', 'bmi': '31', 'dpf': '1', 'age_class': '0', 'bmi_class': '3', 'map_class': '1', 'cholesterol_class': '0', 'glucose_class': '1', 'smoke': '0', 'active': '1', 'cvd_prediction': '1', 'diabetes_prediction': '0'}, 'health_statuses': {'bmi_status': 'Obese', 'map_status': 'Normal', 'cholesterol_status': 'Normal', 'glucose_status': 'Borderline High', 'cvd_risk': 'High Risk', 'diabetes_risk': 'Low Risk'}}\n",
      "{'patient': {'cluster': '1', 'age': '29', 'gender': '0', 'cholesterol': '101', 'systolic_bp': '118', 'diastolic_bp': '80', 'mean_arterial_pressure': '92.66666666666667', 'skin_thickness': '27', 'insulin': '164', 'bmi': '31', 'dpf': '1', 'age_class': '0', 'bmi_class': '3', 'map_class': '1', 'cholesterol_class': '0', 'glucose_class': '1', 'smoke': '0', 'active': '1', 'cvd_prediction': '1', 'diabetes_prediction': '0'}, 'health_statuses': {'bmi_status': 'Obese', 'map_status': 'Normal', 'cholesterol_status': 'Normal', 'glucose_status': 'Borderline High', 'cvd_risk': 'High Risk', 'diabetes_risk': 'Low Risk'}}\n"
     ]
    },
    {
     "name": "stderr",
     "output_type": "stream",
     "text": [
      "127.0.0.1 - - [16/May/2022 23:01:54] \"POST /_dash-update-component HTTP/1.1\" 200 -\n",
      "127.0.0.1 - - [16/May/2022 23:01:54] \"POST /_dash-update-component HTTP/1.1\" 200 -\n",
      "127.0.0.1 - - [16/May/2022 23:01:54] \"POST /_dash-update-component HTTP/1.1\" 200 -\n",
      "127.0.0.1 - - [16/May/2022 23:01:54] \"POST /_dash-update-component HTTP/1.1\" 200 -\n",
      "127.0.0.1 - - [16/May/2022 23:01:54] \"POST /_dash-update-component HTTP/1.1\" 200 -\n"
     ]
    },
    {
     "name": "stdout",
     "output_type": "stream",
     "text": [
      "{'patient': {'cluster': '1', 'age': '29', 'gender': '0', 'cholesterol': '101', 'systolic_bp': '119', 'diastolic_bp': '80', 'mean_arterial_pressure': '93.0', 'skin_thickness': '27', 'insulin': '164', 'bmi': '31', 'dpf': '1', 'age_class': '0', 'bmi_class': '3', 'map_class': '1', 'cholesterol_class': '0', 'glucose_class': '1', 'smoke': '0', 'active': '1', 'cvd_prediction': '1', 'diabetes_prediction': '0'}, 'health_statuses': {'bmi_status': 'Obese', 'map_status': 'Normal', 'cholesterol_status': 'Normal', 'glucose_status': 'Borderline High', 'cvd_risk': 'High Risk', 'diabetes_risk': 'Low Risk'}}\n",
      "{'patient': {'cluster': '1', 'age': '29', 'gender': '0', 'cholesterol': '101', 'systolic_bp': '120', 'diastolic_bp': '80', 'mean_arterial_pressure': '93.33333333333333', 'skin_thickness': '27', 'insulin': '164', 'bmi': '31', 'dpf': '1', 'age_class': '0', 'bmi_class': '3', 'map_class': '1', 'cholesterol_class': '0', 'glucose_class': '1', 'smoke': '0', 'active': '1', 'cvd_prediction': '1', 'diabetes_prediction': '0'}, 'health_statuses': {'bmi_status': 'Obese', 'map_status': 'Normal', 'cholesterol_status': 'Normal', 'glucose_status': 'Borderline High', 'cvd_risk': 'High Risk', 'diabetes_risk': 'Low Risk'}}\n"
     ]
    },
    {
     "name": "stderr",
     "output_type": "stream",
     "text": [
      "127.0.0.1 - - [16/May/2022 23:01:54] \"POST /_dash-update-component HTTP/1.1\" 200 -\n",
      "127.0.0.1 - - [16/May/2022 23:01:54] \"POST /_dash-update-component HTTP/1.1\" 200 -\n"
     ]
    },
    {
     "name": "stdout",
     "output_type": "stream",
     "text": [
      "{'patient': {'cluster': '1', 'age': '29', 'gender': '0', 'cholesterol': '101', 'systolic_bp': '121', 'diastolic_bp': '80', 'mean_arterial_pressure': '93.66666666666667', 'skin_thickness': '27', 'insulin': '164', 'bmi': '31', 'dpf': '1', 'age_class': '0', 'bmi_class': '3', 'map_class': '1', 'cholesterol_class': '0', 'glucose_class': '1', 'smoke': '0', 'active': '1', 'cvd_prediction': '1', 'diabetes_prediction': '0'}, 'health_statuses': {'bmi_status': 'Obese', 'map_status': 'Normal', 'cholesterol_status': 'Normal', 'glucose_status': 'Borderline High', 'cvd_risk': 'High Risk', 'diabetes_risk': 'Low Risk'}}\n"
     ]
    },
    {
     "name": "stderr",
     "output_type": "stream",
     "text": [
      "127.0.0.1 - - [16/May/2022 23:01:54] \"POST /_dash-update-component HTTP/1.1\" 200 -\n",
      "127.0.0.1 - - [16/May/2022 23:01:54] \"POST /_dash-update-component HTTP/1.1\" 200 -\n",
      "127.0.0.1 - - [16/May/2022 23:01:54] \"POST /_dash-update-component HTTP/1.1\" 200 -\n",
      "127.0.0.1 - - [16/May/2022 23:01:54] \"POST /_dash-update-component HTTP/1.1\" 200 -\n",
      "127.0.0.1 - - [16/May/2022 23:01:54] \"POST /_dash-update-component HTTP/1.1\" 200 -\n",
      "127.0.0.1 - - [16/May/2022 23:01:54] \"POST /_dash-update-component HTTP/1.1\" 200 -\n"
     ]
    },
    {
     "name": "stdout",
     "output_type": "stream",
     "text": [
      "{'patient': {'cluster': '1', 'age': '29', 'gender': '0', 'cholesterol': '101', 'systolic_bp': '122', 'diastolic_bp': '80', 'mean_arterial_pressure': '94.0', 'skin_thickness': '27', 'insulin': '164', 'bmi': '31', 'dpf': '1', 'age_class': '0', 'bmi_class': '3', 'map_class': '1', 'cholesterol_class': '0', 'glucose_class': '1', 'smoke': '0', 'active': '1', 'cvd_prediction': '1', 'diabetes_prediction': '0'}, 'health_statuses': {'bmi_status': 'Obese', 'map_status': 'Normal', 'cholesterol_status': 'Normal', 'glucose_status': 'Borderline High', 'cvd_risk': 'High Risk', 'diabetes_risk': 'Low Risk'}}\n",
      "{'patient': {'cluster': '1', 'age': '29', 'gender': '0', 'cholesterol': '101', 'systolic_bp': '123', 'diastolic_bp': '80', 'mean_arterial_pressure': '94.33333333333333', 'skin_thickness': '27', 'insulin': '164', 'bmi': '31', 'dpf': '1', 'age_class': '0', 'bmi_class': '3', 'map_class': '1', 'cholesterol_class': '0', 'glucose_class': '1', 'smoke': '0', 'active': '1', 'cvd_prediction': '1', 'diabetes_prediction': '0'}, 'health_statuses': {'bmi_status': 'Obese', 'map_status': 'Normal', 'cholesterol_status': 'Normal', 'glucose_status': 'Borderline High', 'cvd_risk': 'High Risk', 'diabetes_risk': 'Low Risk'}}\n",
      "{'patient': {'cluster': '1', 'age': '29', 'gender': '0', 'cholesterol': '101', 'systolic_bp': '124', 'diastolic_bp': '80', 'mean_arterial_pressure': '94.66666666666667', 'skin_thickness': '27', 'insulin': '164', 'bmi': '31', 'dpf': '1', 'age_class': '0', 'bmi_class': '3', 'map_class': '1', 'cholesterol_class': '0', 'glucose_class': '1', 'smoke': '0', 'active': '1', 'cvd_prediction': '1', 'diabetes_prediction': '0'}, 'health_statuses': {'bmi_status': 'Obese', 'map_status': 'Normal', 'cholesterol_status': 'Normal', 'glucose_status': 'Borderline High', 'cvd_risk': 'High Risk', 'diabetes_risk': 'Low Risk'}}\n"
     ]
    },
    {
     "name": "stderr",
     "output_type": "stream",
     "text": [
      "127.0.0.1 - - [16/May/2022 23:01:54] \"POST /_dash-update-component HTTP/1.1\" 200 -\n",
      "127.0.0.1 - - [16/May/2022 23:01:54] \"POST /_dash-update-component HTTP/1.1\" 200 -\n",
      "127.0.0.1 - - [16/May/2022 23:01:54] \"POST /_dash-update-component HTTP/1.1\" 200 -\n",
      "127.0.0.1 - - [16/May/2022 23:01:54] \"POST /_dash-update-component HTTP/1.1\" 200 -\n"
     ]
    },
    {
     "name": "stdout",
     "output_type": "stream",
     "text": [
      "{'patient': {'cluster': '0', 'age': '29', 'gender': '0', 'cholesterol': '101', 'systolic_bp': '124', 'diastolic_bp': '80', 'mean_arterial_pressure': '94.66666666666667', 'skin_thickness': '27', 'insulin': '164', 'bmi': '29', 'dpf': '1', 'age_class': '0', 'bmi_class': '2', 'map_class': '1', 'cholesterol_class': '0', 'glucose_class': '1', 'smoke': '0', 'active': '1', 'cvd_prediction': '0', 'diabetes_prediction': '0'}, 'health_statuses': {'bmi_status': 'Overweight', 'map_status': 'Normal', 'cholesterol_status': 'Normal', 'glucose_status': 'Borderline High', 'cvd_risk': 'Low Risk', 'diabetes_risk': 'Low Risk'}}\n",
      "{'patient': {'cluster': '1', 'age': '29', 'gender': '0', 'cholesterol': '101', 'systolic_bp': '124', 'diastolic_bp': '80', 'mean_arterial_pressure': '94.66666666666667', 'skin_thickness': '27', 'insulin': '164', 'bmi': '30', 'dpf': '1', 'age_class': '0', 'bmi_class': '3', 'map_class': '1', 'cholesterol_class': '0', 'glucose_class': '1', 'smoke': '0', 'active': '1', 'cvd_prediction': '1', 'diabetes_prediction': '0'}, 'health_statuses': {'bmi_status': 'Obese', 'map_status': 'Normal', 'cholesterol_status': 'Normal', 'glucose_status': 'Borderline High', 'cvd_risk': 'High Risk', 'diabetes_risk': 'Low Risk'}}\n",
      "{'patient': {'cluster': '0', 'age': '29', 'gender': '0', 'cholesterol': '101', 'systolic_bp': '124', 'diastolic_bp': '80', 'mean_arterial_pressure': '94.66666666666667', 'skin_thickness': '27', 'insulin': '164', 'bmi': '28', 'dpf': '1', 'age_class': '0', 'bmi_class': '2', 'map_class': '1', 'cholesterol_class': '0', 'glucose_class': '1', 'smoke': '0', 'active': '1', 'cvd_prediction': '0', 'diabetes_prediction': '0'}, 'health_statuses': {'bmi_status': 'Overweight', 'map_status': 'Normal', 'cholesterol_status': 'Normal', 'glucose_status': 'Borderline High', 'cvd_risk': 'Low Risk', 'diabetes_risk': 'Low Risk'}}\n"
     ]
    },
    {
     "name": "stderr",
     "output_type": "stream",
     "text": [
      "127.0.0.1 - - [16/May/2022 23:01:55] \"POST /_dash-update-component HTTP/1.1\" 200 -\n",
      "127.0.0.1 - - [16/May/2022 23:01:55] \"POST /_dash-update-component HTTP/1.1\" 200 -\n",
      "127.0.0.1 - - [16/May/2022 23:01:55] \"POST /_dash-update-component HTTP/1.1\" 200 -\n",
      "127.0.0.1 - - [16/May/2022 23:01:55] \"POST /_dash-update-component HTTP/1.1\" 200 -\n",
      "127.0.0.1 - - [16/May/2022 23:01:55] \"POST /_dash-update-component HTTP/1.1\" 200 -\n",
      "127.0.0.1 - - [16/May/2022 23:01:55] \"POST /_dash-update-component HTTP/1.1\" 200 -\n",
      "127.0.0.1 - - [16/May/2022 23:01:55] \"POST /_dash-update-component HTTP/1.1\" 200 -\n",
      "127.0.0.1 - - [16/May/2022 23:01:55] \"POST /_dash-update-component HTTP/1.1\" 200 -\n"
     ]
    },
    {
     "name": "stdout",
     "output_type": "stream",
     "text": [
      "{'patient': {'cluster': '0', 'age': '29', 'gender': '0', 'cholesterol': '101', 'systolic_bp': '124', 'diastolic_bp': '80', 'mean_arterial_pressure': '94.66666666666667', 'skin_thickness': '27', 'insulin': '164', 'bmi': '27', 'dpf': '1', 'age_class': '0', 'bmi_class': '2', 'map_class': '1', 'cholesterol_class': '0', 'glucose_class': '1', 'smoke': '0', 'active': '1', 'cvd_prediction': '0', 'diabetes_prediction': '0'}, 'health_statuses': {'bmi_status': 'Overweight', 'map_status': 'Normal', 'cholesterol_status': 'Normal', 'glucose_status': 'Borderline High', 'cvd_risk': 'Low Risk', 'diabetes_risk': 'Low Risk'}}\n",
      "{'patient': {'cluster': '0', 'age': '29', 'gender': '0', 'cholesterol': '101', 'systolic_bp': '124', 'diastolic_bp': '80', 'mean_arterial_pressure': '94.66666666666667', 'skin_thickness': '27', 'insulin': '164', 'bmi': '26', 'dpf': '1', 'age_class': '0', 'bmi_class': '2', 'map_class': '1', 'cholesterol_class': '0', 'glucose_class': '1', 'smoke': '0', 'active': '1', 'cvd_prediction': '0', 'diabetes_prediction': '0'}, 'health_statuses': {'bmi_status': 'Overweight', 'map_status': 'Normal', 'cholesterol_status': 'Normal', 'glucose_status': 'Borderline High', 'cvd_risk': 'Low Risk', 'diabetes_risk': 'Low Risk'}}\n",
      "{'patient': {'cluster': '0', 'age': '29', 'gender': '0', 'cholesterol': '101', 'systolic_bp': '124', 'diastolic_bp': '80', 'mean_arterial_pressure': '94.66666666666667', 'skin_thickness': '27', 'insulin': '164', 'bmi': '25', 'dpf': '1', 'age_class': '0', 'bmi_class': '2', 'map_class': '1', 'cholesterol_class': '0', 'glucose_class': '1', 'smoke': '0', 'active': '1', 'cvd_prediction': '0', 'diabetes_prediction': '0'}, 'health_statuses': {'bmi_status': 'Overweight', 'map_status': 'Normal', 'cholesterol_status': 'Normal', 'glucose_status': 'Borderline High', 'cvd_risk': 'Low Risk', 'diabetes_risk': 'Low Risk'}}\n"
     ]
    },
    {
     "name": "stderr",
     "output_type": "stream",
     "text": [
      "127.0.0.1 - - [16/May/2022 23:01:55] \"POST /_dash-update-component HTTP/1.1\" 200 -\n",
      "127.0.0.1 - - [16/May/2022 23:01:55] \"POST /_dash-update-component HTTP/1.1\" 200 -\n",
      "127.0.0.1 - - [16/May/2022 23:01:55] \"POST /_dash-update-component HTTP/1.1\" 200 -\n",
      "127.0.0.1 - - [16/May/2022 23:01:55] \"POST /_dash-update-component HTTP/1.1\" 200 -\n"
     ]
    },
    {
     "name": "stdout",
     "output_type": "stream",
     "text": [
      "{'patient': {'cluster': '0', 'age': '29', 'gender': '0', 'cholesterol': '101', 'systolic_bp': '124', 'diastolic_bp': '80', 'mean_arterial_pressure': '94.66666666666667', 'skin_thickness': '27', 'insulin': '164', 'bmi': '26', 'dpf': '1', 'age_class': '0', 'bmi_class': '2', 'map_class': '1', 'cholesterol_class': '0', 'glucose_class': '1', 'smoke': '0', 'active': '1', 'cvd_prediction': '0', 'diabetes_prediction': '0'}, 'health_statuses': {'bmi_status': 'Overweight', 'map_status': 'Normal', 'cholesterol_status': 'Normal', 'glucose_status': 'Borderline High', 'cvd_risk': 'Low Risk', 'diabetes_risk': 'Low Risk'}}\n",
      "{'patient': {'cluster': '0', 'age': '29', 'gender': '0', 'cholesterol': '101', 'systolic_bp': '124', 'diastolic_bp': '80', 'mean_arterial_pressure': '94.66666666666667', 'skin_thickness': '27', 'insulin': '164', 'bmi': '27', 'dpf': '1', 'age_class': '0', 'bmi_class': '2', 'map_class': '1', 'cholesterol_class': '0', 'glucose_class': '1', 'smoke': '0', 'active': '1', 'cvd_prediction': '0', 'diabetes_prediction': '0'}, 'health_statuses': {'bmi_status': 'Overweight', 'map_status': 'Normal', 'cholesterol_status': 'Normal', 'glucose_status': 'Borderline High', 'cvd_risk': 'Low Risk', 'diabetes_risk': 'Low Risk'}}\n",
      "{'patient': {'cluster': '0', 'age': '29', 'gender': '0', 'cholesterol': '101', 'systolic_bp': '124', 'diastolic_bp': '80', 'mean_arterial_pressure': '94.66666666666667', 'skin_thickness': '26', 'insulin': '164', 'bmi': '27', 'dpf': '1', 'age_class': '0', 'bmi_class': '2', 'map_class': '1', 'cholesterol_class': '0', 'glucose_class': '1', 'smoke': '0', 'active': '1', 'cvd_prediction': '0', 'diabetes_prediction': '0'}, 'health_statuses': {'bmi_status': 'Overweight', 'map_status': 'Normal', 'cholesterol_status': 'Normal', 'glucose_status': 'Borderline High', 'cvd_risk': 'Low Risk', 'diabetes_risk': 'Low Risk'}}\n"
     ]
    },
    {
     "name": "stderr",
     "output_type": "stream",
     "text": [
      "127.0.0.1 - - [16/May/2022 23:01:56] \"POST /_dash-update-component HTTP/1.1\" 200 -\n",
      "127.0.0.1 - - [16/May/2022 23:01:56] \"POST /_dash-update-component HTTP/1.1\" 200 -\n",
      "127.0.0.1 - - [16/May/2022 23:01:56] \"POST /_dash-update-component HTTP/1.1\" 200 -\n",
      "127.0.0.1 - - [16/May/2022 23:01:56] \"POST /_dash-update-component HTTP/1.1\" 200 -\n"
     ]
    },
    {
     "name": "stdout",
     "output_type": "stream",
     "text": [
      "{'patient': {'cluster': '0', 'age': '29', 'gender': '0', 'cholesterol': '101', 'systolic_bp': '124', 'diastolic_bp': '80', 'mean_arterial_pressure': '94.66666666666667', 'skin_thickness': '24', 'insulin': '164', 'bmi': '27', 'dpf': '1', 'age_class': '0', 'bmi_class': '2', 'map_class': '1', 'cholesterol_class': '0', 'glucose_class': '1', 'smoke': '0', 'active': '1', 'cvd_prediction': '0', 'diabetes_prediction': '0'}, 'health_statuses': {'bmi_status': 'Overweight', 'map_status': 'Normal', 'cholesterol_status': 'Normal', 'glucose_status': 'Borderline High', 'cvd_risk': 'Low Risk', 'diabetes_risk': 'Low Risk'}}\n",
      "{'patient': {'cluster': '0', 'age': '29', 'gender': '0', 'cholesterol': '101', 'systolic_bp': '124', 'diastolic_bp': '80', 'mean_arterial_pressure': '94.66666666666667', 'skin_thickness': '25', 'insulin': '164', 'bmi': '27', 'dpf': '1', 'age_class': '0', 'bmi_class': '2', 'map_class': '1', 'cholesterol_class': '0', 'glucose_class': '1', 'smoke': '0', 'active': '1', 'cvd_prediction': '0', 'diabetes_prediction': '0'}, 'health_statuses': {'bmi_status': 'Overweight', 'map_status': 'Normal', 'cholesterol_status': 'Normal', 'glucose_status': 'Borderline High', 'cvd_risk': 'Low Risk', 'diabetes_risk': 'Low Risk'}}\n",
      "{'patient': {'cluster': '0', 'age': '29', 'gender': '0', 'cholesterol': '101', 'systolic_bp': '124', 'diastolic_bp': '80', 'mean_arterial_pressure': '94.66666666666667', 'skin_thickness': '23', 'insulin': '164', 'bmi': '27', 'dpf': '1', 'age_class': '0', 'bmi_class': '2', 'map_class': '1', 'cholesterol_class': '0', 'glucose_class': '1', 'smoke': '0', 'active': '1', 'cvd_prediction': '0', 'diabetes_prediction': '0'}, 'health_statuses': {'bmi_status': 'Overweight', 'map_status': 'Normal', 'cholesterol_status': 'Normal', 'glucose_status': 'Borderline High', 'cvd_risk': 'Low Risk', 'diabetes_risk': 'Low Risk'}}\n",
      "{'patient': {'cluster': '0', 'age': '29', 'gender': '0', 'cholesterol': '101', 'systolic_bp': '124', 'diastolic_bp': '80', 'mean_arterial_pressure': '94.66666666666667', 'skin_thickness': '23', 'insulin': '164', 'bmi': '27', 'dpf': '0', 'age_class': '0', 'bmi_class': '2', 'map_class': '1', 'cholesterol_class': '0', 'glucose_class': '1', 'smoke': '0', 'active': '1', 'cvd_prediction': '0', 'diabetes_prediction': '0'}, 'health_statuses': {'bmi_status': 'Overweight', 'map_status': 'Normal', 'cholesterol_status': 'Normal', 'glucose_status': 'Borderline High', 'cvd_risk': 'Low Risk', 'diabetes_risk': 'Low Risk'}}\n"
     ]
    },
    {
     "name": "stderr",
     "output_type": "stream",
     "text": [
      "127.0.0.1 - - [16/May/2022 23:02:00] \"POST /_dash-update-component HTTP/1.1\" 200 -\n",
      "127.0.0.1 - - [16/May/2022 23:02:00] \"POST /_dash-update-component HTTP/1.1\" 200 -\n",
      "127.0.0.1 - - [16/May/2022 23:02:00] \"POST /_dash-update-component HTTP/1.1\" 200 -\n",
      "127.0.0.1 - - [16/May/2022 23:02:00] \"POST /_dash-update-component HTTP/1.1\" 200 -\n"
     ]
    },
    {
     "name": "stdout",
     "output_type": "stream",
     "text": [
      "{'patient': {'cluster': '0', 'age': '29', 'gender': '0', 'cholesterol': '101', 'systolic_bp': '124', 'diastolic_bp': '80', 'mean_arterial_pressure': '94.66666666666667', 'skin_thickness': '23', 'insulin': '164', 'bmi': '28', 'dpf': '0', 'age_class': '0', 'bmi_class': '2', 'map_class': '1', 'cholesterol_class': '0', 'glucose_class': '1', 'smoke': '0', 'active': '1', 'cvd_prediction': '0', 'diabetes_prediction': '0'}, 'health_statuses': {'bmi_status': 'Overweight', 'map_status': 'Normal', 'cholesterol_status': 'Normal', 'glucose_status': 'Borderline High', 'cvd_risk': 'Low Risk', 'diabetes_risk': 'Low Risk'}}\n",
      "{'patient': {'cluster': '0', 'age': '29', 'gender': '0', 'cholesterol': '101', 'systolic_bp': '124', 'diastolic_bp': '80', 'mean_arterial_pressure': '94.66666666666667', 'skin_thickness': '23', 'insulin': '164', 'bmi': '29', 'dpf': '0', 'age_class': '0', 'bmi_class': '2', 'map_class': '1', 'cholesterol_class': '0', 'glucose_class': '1', 'smoke': '0', 'active': '1', 'cvd_prediction': '0', 'diabetes_prediction': '0'}, 'health_statuses': {'bmi_status': 'Overweight', 'map_status': 'Normal', 'cholesterol_status': 'Normal', 'glucose_status': 'Borderline High', 'cvd_risk': 'Low Risk', 'diabetes_risk': 'Low Risk'}}\n"
     ]
    },
    {
     "name": "stderr",
     "output_type": "stream",
     "text": [
      "127.0.0.1 - - [16/May/2022 23:02:00] \"POST /_dash-update-component HTTP/1.1\" 200 -\n",
      "127.0.0.1 - - [16/May/2022 23:02:00] \"POST /_dash-update-component HTTP/1.1\" 200 -\n",
      "127.0.0.1 - - [16/May/2022 23:02:00] \"POST /_dash-update-component HTTP/1.1\" 200 -\n",
      "127.0.0.1 - - [16/May/2022 23:02:01] \"POST /_dash-update-component HTTP/1.1\" 200 -\n"
     ]
    },
    {
     "name": "stdout",
     "output_type": "stream",
     "text": [
      "{'patient': {'cluster': '1', 'age': '29', 'gender': '0', 'cholesterol': '101', 'systolic_bp': '124', 'diastolic_bp': '80', 'mean_arterial_pressure': '94.66666666666667', 'skin_thickness': '23', 'insulin': '164', 'bmi': '30', 'dpf': '0', 'age_class': '0', 'bmi_class': '3', 'map_class': '1', 'cholesterol_class': '0', 'glucose_class': '1', 'smoke': '0', 'active': '1', 'cvd_prediction': '1', 'diabetes_prediction': '0'}, 'health_statuses': {'bmi_status': 'Obese', 'map_status': 'Normal', 'cholesterol_status': 'Normal', 'glucose_status': 'Borderline High', 'cvd_risk': 'High Risk', 'diabetes_risk': 'Low Risk'}}\n",
      "{'patient': {'cluster': '1', 'age': '29', 'gender': '0', 'cholesterol': '101', 'systolic_bp': '124', 'diastolic_bp': '80', 'mean_arterial_pressure': '94.66666666666667', 'skin_thickness': '23', 'insulin': '164', 'bmi': '31', 'dpf': '0', 'age_class': '0', 'bmi_class': '3', 'map_class': '1', 'cholesterol_class': '0', 'glucose_class': '1', 'smoke': '0', 'active': '1', 'cvd_prediction': '1', 'diabetes_prediction': '0'}, 'health_statuses': {'bmi_status': 'Obese', 'map_status': 'Normal', 'cholesterol_status': 'Normal', 'glucose_status': 'Borderline High', 'cvd_risk': 'High Risk', 'diabetes_risk': 'Low Risk'}}\n"
     ]
    },
    {
     "name": "stderr",
     "output_type": "stream",
     "text": [
      "127.0.0.1 - - [16/May/2022 23:02:02] \"POST /_dash-update-component HTTP/1.1\" 200 -\n",
      "127.0.0.1 - - [16/May/2022 23:02:03] \"POST /_dash-update-component HTTP/1.1\" 200 -\n"
     ]
    },
    {
     "name": "stdout",
     "output_type": "stream",
     "text": [
      "{'patient': {'cluster': '1', 'age': '29', 'gender': '0', 'cholesterol': '101', 'systolic_bp': '124', 'diastolic_bp': '80', 'mean_arterial_pressure': '94.66666666666667', 'skin_thickness': '23', 'insulin': '164', 'bmi': '30', 'dpf': '0', 'age_class': '0', 'bmi_class': '3', 'map_class': '1', 'cholesterol_class': '0', 'glucose_class': '1', 'smoke': '0', 'active': '1', 'cvd_prediction': '1', 'diabetes_prediction': '0'}, 'health_statuses': {'bmi_status': 'Obese', 'map_status': 'Normal', 'cholesterol_status': 'Normal', 'glucose_status': 'Borderline High', 'cvd_risk': 'High Risk', 'diabetes_risk': 'Low Risk'}}\n"
     ]
    },
    {
     "name": "stderr",
     "output_type": "stream",
     "text": [
      "127.0.0.1 - - [16/May/2022 23:02:03] \"POST /_dash-update-component HTTP/1.1\" 200 -\n",
      "127.0.0.1 - - [16/May/2022 23:02:03] \"POST /_dash-update-component HTTP/1.1\" 200 -\n"
     ]
    },
    {
     "name": "stdout",
     "output_type": "stream",
     "text": [
      "{'patient': {'cluster': '0', 'age': '29', 'gender': '0', 'cholesterol': '101', 'systolic_bp': '124', 'diastolic_bp': '80', 'mean_arterial_pressure': '94.66666666666667', 'skin_thickness': '23', 'insulin': '164', 'bmi': '29', 'dpf': '0', 'age_class': '0', 'bmi_class': '2', 'map_class': '1', 'cholesterol_class': '0', 'glucose_class': '1', 'smoke': '0', 'active': '1', 'cvd_prediction': '0', 'diabetes_prediction': '0'}, 'health_statuses': {'bmi_status': 'Overweight', 'map_status': 'Normal', 'cholesterol_status': 'Normal', 'glucose_status': 'Borderline High', 'cvd_risk': 'Low Risk', 'diabetes_risk': 'Low Risk'}}\n"
     ]
    },
    {
     "name": "stderr",
     "output_type": "stream",
     "text": [
      "127.0.0.1 - - [16/May/2022 23:02:05] \"POST /_dash-update-component HTTP/1.1\" 200 -\n",
      "127.0.0.1 - - [16/May/2022 23:02:05] \"POST /_dash-update-component HTTP/1.1\" 200 -\n",
      "127.0.0.1 - - [16/May/2022 23:02:05] \"POST /_dash-update-component HTTP/1.1\" 200 -\n",
      "127.0.0.1 - - [16/May/2022 23:02:05] \"POST /_dash-update-component HTTP/1.1\" 200 -\n"
     ]
    },
    {
     "name": "stdout",
     "output_type": "stream",
     "text": [
      "{'patient': {'cluster': '0', 'age': '29', 'gender': '0', 'cholesterol': '101', 'systolic_bp': '124', 'diastolic_bp': '80', 'mean_arterial_pressure': '94.66666666666667', 'skin_thickness': '24', 'insulin': '164', 'bmi': '29', 'dpf': '0', 'age_class': '0', 'bmi_class': '2', 'map_class': '1', 'cholesterol_class': '0', 'glucose_class': '1', 'smoke': '0', 'active': '1', 'cvd_prediction': '0', 'diabetes_prediction': '0'}, 'health_statuses': {'bmi_status': 'Overweight', 'map_status': 'Normal', 'cholesterol_status': 'Normal', 'glucose_status': 'Borderline High', 'cvd_risk': 'Low Risk', 'diabetes_risk': 'Low Risk'}}\n",
      "{'patient': {'cluster': '0', 'age': '29', 'gender': '0', 'cholesterol': '101', 'systolic_bp': '124', 'diastolic_bp': '80', 'mean_arterial_pressure': '94.66666666666667', 'skin_thickness': '25', 'insulin': '164', 'bmi': '29', 'dpf': '0', 'age_class': '0', 'bmi_class': '2', 'map_class': '1', 'cholesterol_class': '0', 'glucose_class': '1', 'smoke': '0', 'active': '1', 'cvd_prediction': '0', 'diabetes_prediction': '0'}, 'health_statuses': {'bmi_status': 'Overweight', 'map_status': 'Normal', 'cholesterol_status': 'Normal', 'glucose_status': 'Borderline High', 'cvd_risk': 'Low Risk', 'diabetes_risk': 'Low Risk'}}\n"
     ]
    },
    {
     "name": "stderr",
     "output_type": "stream",
     "text": [
      "127.0.0.1 - - [16/May/2022 23:02:05] \"POST /_dash-update-component HTTP/1.1\" 200 -\n",
      "127.0.0.1 - - [16/May/2022 23:02:06] \"POST /_dash-update-component HTTP/1.1\" 200 -\n",
      "127.0.0.1 - - [16/May/2022 23:02:06] \"POST /_dash-update-component HTTP/1.1\" 200 -\n"
     ]
    },
    {
     "name": "stdout",
     "output_type": "stream",
     "text": [
      "{'patient': {'cluster': '0', 'age': '29', 'gender': '0', 'cholesterol': '101', 'systolic_bp': '124', 'diastolic_bp': '80', 'mean_arterial_pressure': '94.66666666666667', 'skin_thickness': '24', 'insulin': '164', 'bmi': '29', 'dpf': '0', 'age_class': '0', 'bmi_class': '2', 'map_class': '1', 'cholesterol_class': '0', 'glucose_class': '1', 'smoke': '0', 'active': '1', 'cvd_prediction': '0', 'diabetes_prediction': '0'}, 'health_statuses': {'bmi_status': 'Overweight', 'map_status': 'Normal', 'cholesterol_status': 'Normal', 'glucose_status': 'Borderline High', 'cvd_risk': 'Low Risk', 'diabetes_risk': 'Low Risk'}}\n"
     ]
    },
    {
     "name": "stderr",
     "output_type": "stream",
     "text": [
      "127.0.0.1 - - [16/May/2022 23:02:06] \"POST /_dash-update-component HTTP/1.1\" 200 -\n",
      "127.0.0.1 - - [16/May/2022 23:02:06] \"POST /_dash-update-component HTTP/1.1\" 200 -\n"
     ]
    },
    {
     "name": "stdout",
     "output_type": "stream",
     "text": [
      "{'patient': {'cluster': '0', 'age': '29', 'gender': '0', 'cholesterol': '101', 'systolic_bp': '124', 'diastolic_bp': '80', 'mean_arterial_pressure': '94.66666666666667', 'skin_thickness': '23', 'insulin': '164', 'bmi': '29', 'dpf': '0', 'age_class': '0', 'bmi_class': '2', 'map_class': '1', 'cholesterol_class': '0', 'glucose_class': '1', 'smoke': '0', 'active': '1', 'cvd_prediction': '0', 'diabetes_prediction': '0'}, 'health_statuses': {'bmi_status': 'Overweight', 'map_status': 'Normal', 'cholesterol_status': 'Normal', 'glucose_status': 'Borderline High', 'cvd_risk': 'Low Risk', 'diabetes_risk': 'Low Risk'}}\n"
     ]
    },
    {
     "name": "stderr",
     "output_type": "stream",
     "text": [
      "127.0.0.1 - - [16/May/2022 23:02:06] \"POST /_dash-update-component HTTP/1.1\" 200 -\n"
     ]
    },
    {
     "name": "stdout",
     "output_type": "stream",
     "text": [
      "{'patient': {'cluster': '0', 'age': '29', 'gender': '0', 'cholesterol': '101', 'systolic_bp': '124', 'diastolic_bp': '80', 'mean_arterial_pressure': '94.66666666666667', 'skin_thickness': '22', 'insulin': '164', 'bmi': '29', 'dpf': '0', 'age_class': '0', 'bmi_class': '2', 'map_class': '1', 'cholesterol_class': '0', 'glucose_class': '1', 'smoke': '0', 'active': '1', 'cvd_prediction': '0', 'diabetes_prediction': '0'}, 'health_statuses': {'bmi_status': 'Overweight', 'map_status': 'Normal', 'cholesterol_status': 'Normal', 'glucose_status': 'Borderline High', 'cvd_risk': 'Low Risk', 'diabetes_risk': 'Low Risk'}}\n"
     ]
    },
    {
     "name": "stderr",
     "output_type": "stream",
     "text": [
      "127.0.0.1 - - [16/May/2022 23:02:07] \"POST /_dash-update-component HTTP/1.1\" 200 -\n",
      "127.0.0.1 - - [16/May/2022 23:02:07] \"POST /_dash-update-component HTTP/1.1\" 200 -\n",
      "127.0.0.1 - - [16/May/2022 23:02:07] \"POST /_dash-update-component HTTP/1.1\" 200 -\n",
      "127.0.0.1 - - [16/May/2022 23:02:07] \"POST /_dash-update-component HTTP/1.1\" 200 -\n"
     ]
    },
    {
     "name": "stdout",
     "output_type": "stream",
     "text": [
      "{'patient': {'cluster': '0', 'age': '29', 'gender': '0', 'cholesterol': '101', 'systolic_bp': '124', 'diastolic_bp': '80', 'mean_arterial_pressure': '94.66666666666667', 'skin_thickness': '23', 'insulin': '164', 'bmi': '29', 'dpf': '0', 'age_class': '0', 'bmi_class': '2', 'map_class': '1', 'cholesterol_class': '0', 'glucose_class': '1', 'smoke': '0', 'active': '1', 'cvd_prediction': '0', 'diabetes_prediction': '0'}, 'health_statuses': {'bmi_status': 'Overweight', 'map_status': 'Normal', 'cholesterol_status': 'Normal', 'glucose_status': 'Borderline High', 'cvd_risk': 'Low Risk', 'diabetes_risk': 'Low Risk'}}\n",
      "{'patient': {'cluster': '0', 'age': '29', 'gender': '0', 'cholesterol': '101', 'systolic_bp': '124', 'diastolic_bp': '80', 'mean_arterial_pressure': '94.66666666666667', 'skin_thickness': '24', 'insulin': '164', 'bmi': '29', 'dpf': '0', 'age_class': '0', 'bmi_class': '2', 'map_class': '1', 'cholesterol_class': '0', 'glucose_class': '1', 'smoke': '0', 'active': '1', 'cvd_prediction': '0', 'diabetes_prediction': '0'}, 'health_statuses': {'bmi_status': 'Overweight', 'map_status': 'Normal', 'cholesterol_status': 'Normal', 'glucose_status': 'Borderline High', 'cvd_risk': 'Low Risk', 'diabetes_risk': 'Low Risk'}}\n"
     ]
    },
    {
     "name": "stderr",
     "output_type": "stream",
     "text": [
      "127.0.0.1 - - [16/May/2022 23:02:07] \"POST /_dash-update-component HTTP/1.1\" 200 -\n",
      "127.0.0.1 - - [16/May/2022 23:02:07] \"POST /_dash-update-component HTTP/1.1\" 200 -\n",
      "127.0.0.1 - - [16/May/2022 23:02:07] \"POST /_dash-update-component HTTP/1.1\" 200 -\n",
      "127.0.0.1 - - [16/May/2022 23:02:07] \"POST /_dash-update-component HTTP/1.1\" 200 -\n"
     ]
    },
    {
     "name": "stdout",
     "output_type": "stream",
     "text": [
      "{'patient': {'cluster': '0', 'age': '29', 'gender': '0', 'cholesterol': '101', 'systolic_bp': '124', 'diastolic_bp': '80', 'mean_arterial_pressure': '94.66666666666667', 'skin_thickness': '25', 'insulin': '164', 'bmi': '29', 'dpf': '0', 'age_class': '0', 'bmi_class': '2', 'map_class': '1', 'cholesterol_class': '0', 'glucose_class': '1', 'smoke': '0', 'active': '1', 'cvd_prediction': '0', 'diabetes_prediction': '0'}, 'health_statuses': {'bmi_status': 'Overweight', 'map_status': 'Normal', 'cholesterol_status': 'Normal', 'glucose_status': 'Borderline High', 'cvd_risk': 'Low Risk', 'diabetes_risk': 'Low Risk'}}\n",
      "{'patient': {'cluster': '0', 'age': '29', 'gender': '0', 'cholesterol': '101', 'systolic_bp': '124', 'diastolic_bp': '80', 'mean_arterial_pressure': '94.66666666666667', 'skin_thickness': '26', 'insulin': '164', 'bmi': '29', 'dpf': '0', 'age_class': '0', 'bmi_class': '2', 'map_class': '1', 'cholesterol_class': '0', 'glucose_class': '1', 'smoke': '0', 'active': '1', 'cvd_prediction': '0', 'diabetes_prediction': '0'}, 'health_statuses': {'bmi_status': 'Overweight', 'map_status': 'Normal', 'cholesterol_status': 'Normal', 'glucose_status': 'Borderline High', 'cvd_risk': 'Low Risk', 'diabetes_risk': 'Low Risk'}}\n"
     ]
    },
    {
     "name": "stderr",
     "output_type": "stream",
     "text": [
      "127.0.0.1 - - [16/May/2022 23:02:07] \"POST /_dash-update-component HTTP/1.1\" 200 -\n",
      "127.0.0.1 - - [16/May/2022 23:02:07] \"POST /_dash-update-component HTTP/1.1\" 200 -\n",
      "127.0.0.1 - - [16/May/2022 23:02:07] \"POST /_dash-update-component HTTP/1.1\" 200 -\n",
      "127.0.0.1 - - [16/May/2022 23:02:08] \"POST /_dash-update-component HTTP/1.1\" 200 -\n"
     ]
    },
    {
     "name": "stdout",
     "output_type": "stream",
     "text": [
      "{'patient': {'cluster': '0', 'age': '29', 'gender': '0', 'cholesterol': '101', 'systolic_bp': '124', 'diastolic_bp': '80', 'mean_arterial_pressure': '94.66666666666667', 'skin_thickness': '27', 'insulin': '164', 'bmi': '29', 'dpf': '0', 'age_class': '0', 'bmi_class': '2', 'map_class': '1', 'cholesterol_class': '0', 'glucose_class': '1', 'smoke': '0', 'active': '1', 'cvd_prediction': '0', 'diabetes_prediction': '0'}, 'health_statuses': {'bmi_status': 'Overweight', 'map_status': 'Normal', 'cholesterol_status': 'Normal', 'glucose_status': 'Borderline High', 'cvd_risk': 'Low Risk', 'diabetes_risk': 'Low Risk'}}\n",
      "{'patient': {'cluster': '0', 'age': '29', 'gender': '0', 'cholesterol': '101', 'systolic_bp': '124', 'diastolic_bp': '80', 'mean_arterial_pressure': '94.66666666666667', 'skin_thickness': '28', 'insulin': '164', 'bmi': '29', 'dpf': '0', 'age_class': '0', 'bmi_class': '2', 'map_class': '1', 'cholesterol_class': '0', 'glucose_class': '1', 'smoke': '0', 'active': '1', 'cvd_prediction': '0', 'diabetes_prediction': '0'}, 'health_statuses': {'bmi_status': 'Overweight', 'map_status': 'Normal', 'cholesterol_status': 'Normal', 'glucose_status': 'Borderline High', 'cvd_risk': 'Low Risk', 'diabetes_risk': 'Low Risk'}}\n"
     ]
    },
    {
     "name": "stderr",
     "output_type": "stream",
     "text": [
      "127.0.0.1 - - [16/May/2022 23:02:08] \"POST /_dash-update-component HTTP/1.1\" 200 -\n",
      "127.0.0.1 - - [16/May/2022 23:02:08] \"POST /_dash-update-component HTTP/1.1\" 200 -\n",
      "127.0.0.1 - - [16/May/2022 23:02:08] \"POST /_dash-update-component HTTP/1.1\" 200 -\n",
      "127.0.0.1 - - [16/May/2022 23:02:08] \"POST /_dash-update-component HTTP/1.1\" 200 -\n"
     ]
    },
    {
     "name": "stdout",
     "output_type": "stream",
     "text": [
      "{'patient': {'cluster': '0', 'age': '29', 'gender': '0', 'cholesterol': '101', 'systolic_bp': '124', 'diastolic_bp': '80', 'mean_arterial_pressure': '94.66666666666667', 'skin_thickness': '29', 'insulin': '164', 'bmi': '29', 'dpf': '0', 'age_class': '0', 'bmi_class': '2', 'map_class': '1', 'cholesterol_class': '0', 'glucose_class': '1', 'smoke': '0', 'active': '1', 'cvd_prediction': '0', 'diabetes_prediction': '0'}, 'health_statuses': {'bmi_status': 'Overweight', 'map_status': 'Normal', 'cholesterol_status': 'Normal', 'glucose_status': 'Borderline High', 'cvd_risk': 'Low Risk', 'diabetes_risk': 'Low Risk'}}\n",
      "{'patient': {'cluster': '0', 'age': '29', 'gender': '0', 'cholesterol': '101', 'systolic_bp': '124', 'diastolic_bp': '80', 'mean_arterial_pressure': '94.66666666666667', 'skin_thickness': '30', 'insulin': '164', 'bmi': '29', 'dpf': '0', 'age_class': '0', 'bmi_class': '2', 'map_class': '1', 'cholesterol_class': '0', 'glucose_class': '1', 'smoke': '0', 'active': '1', 'cvd_prediction': '0', 'diabetes_prediction': '0'}, 'health_statuses': {'bmi_status': 'Overweight', 'map_status': 'Normal', 'cholesterol_status': 'Normal', 'glucose_status': 'Borderline High', 'cvd_risk': 'Low Risk', 'diabetes_risk': 'Low Risk'}}\n"
     ]
    },
    {
     "name": "stderr",
     "output_type": "stream",
     "text": [
      "127.0.0.1 - - [16/May/2022 23:02:08] \"POST /_dash-update-component HTTP/1.1\" 200 -\n",
      "127.0.0.1 - - [16/May/2022 23:02:08] \"POST /_dash-update-component HTTP/1.1\" 200 -\n"
     ]
    },
    {
     "name": "stdout",
     "output_type": "stream",
     "text": [
      "{'patient': {'cluster': '0', 'age': '29', 'gender': '0', 'cholesterol': '101', 'systolic_bp': '124', 'diastolic_bp': '80', 'mean_arterial_pressure': '94.66666666666667', 'skin_thickness': '31', 'insulin': '164', 'bmi': '29', 'dpf': '0', 'age_class': '0', 'bmi_class': '2', 'map_class': '1', 'cholesterol_class': '0', 'glucose_class': '1', 'smoke': '0', 'active': '1', 'cvd_prediction': '0', 'diabetes_prediction': '0'}, 'health_statuses': {'bmi_status': 'Overweight', 'map_status': 'Normal', 'cholesterol_status': 'Normal', 'glucose_status': 'Borderline High', 'cvd_risk': 'Low Risk', 'diabetes_risk': 'Low Risk'}}\n"
     ]
    },
    {
     "name": "stderr",
     "output_type": "stream",
     "text": [
      "127.0.0.1 - - [16/May/2022 23:02:10] \"POST /_dash-update-component HTTP/1.1\" 200 -\n",
      "127.0.0.1 - - [16/May/2022 23:02:10] \"POST /_dash-update-component HTTP/1.1\" 200 -\n",
      "127.0.0.1 - - [16/May/2022 23:02:10] \"POST /_dash-update-component HTTP/1.1\" 200 -\n",
      "127.0.0.1 - - [16/May/2022 23:02:10] \"POST /_dash-update-component HTTP/1.1\" 200 -\n",
      "127.0.0.1 - - [16/May/2022 23:02:10] \"POST /_dash-update-component HTTP/1.1\" 200 -\n"
     ]
    },
    {
     "name": "stdout",
     "output_type": "stream",
     "text": [
      "{'patient': {'cluster': '0', 'age': '29', 'gender': '0', 'cholesterol': '101', 'systolic_bp': '124', 'diastolic_bp': '80', 'mean_arterial_pressure': '94.66666666666667', 'skin_thickness': '30', 'insulin': '164', 'bmi': '29', 'dpf': '0', 'age_class': '0', 'bmi_class': '2', 'map_class': '1', 'cholesterol_class': '0', 'glucose_class': '1', 'smoke': '0', 'active': '1', 'cvd_prediction': '0', 'diabetes_prediction': '0'}, 'health_statuses': {'bmi_status': 'Overweight', 'map_status': 'Normal', 'cholesterol_status': 'Normal', 'glucose_status': 'Borderline High', 'cvd_risk': 'Low Risk', 'diabetes_risk': 'Low Risk'}}\n",
      "{'patient': {'cluster': '0', 'age': '29', 'gender': '0', 'cholesterol': '101', 'systolic_bp': '124', 'diastolic_bp': '80', 'mean_arterial_pressure': '94.66666666666667', 'skin_thickness': '29', 'insulin': '164', 'bmi': '29', 'dpf': '0', 'age_class': '0', 'bmi_class': '2', 'map_class': '1', 'cholesterol_class': '0', 'glucose_class': '1', 'smoke': '0', 'active': '1', 'cvd_prediction': '0', 'diabetes_prediction': '0'}, 'health_statuses': {'bmi_status': 'Overweight', 'map_status': 'Normal', 'cholesterol_status': 'Normal', 'glucose_status': 'Borderline High', 'cvd_risk': 'Low Risk', 'diabetes_risk': 'Low Risk'}}\n"
     ]
    },
    {
     "name": "stderr",
     "output_type": "stream",
     "text": [
      "127.0.0.1 - - [16/May/2022 23:02:10] \"POST /_dash-update-component HTTP/1.1\" 200 -\n",
      "127.0.0.1 - - [16/May/2022 23:02:10] \"POST /_dash-update-component HTTP/1.1\" 200 -\n",
      "127.0.0.1 - - [16/May/2022 23:02:10] \"POST /_dash-update-component HTTP/1.1\" 200 -\n"
     ]
    },
    {
     "name": "stdout",
     "output_type": "stream",
     "text": [
      "{'patient': {'cluster': '0', 'age': '29', 'gender': '0', 'cholesterol': '101', 'systolic_bp': '124', 'diastolic_bp': '80', 'mean_arterial_pressure': '94.66666666666667', 'skin_thickness': '28', 'insulin': '164', 'bmi': '29', 'dpf': '0', 'age_class': '0', 'bmi_class': '2', 'map_class': '1', 'cholesterol_class': '0', 'glucose_class': '1', 'smoke': '0', 'active': '1', 'cvd_prediction': '0', 'diabetes_prediction': '0'}, 'health_statuses': {'bmi_status': 'Overweight', 'map_status': 'Normal', 'cholesterol_status': 'Normal', 'glucose_status': 'Borderline High', 'cvd_risk': 'Low Risk', 'diabetes_risk': 'Low Risk'}}\n",
      "{'patient': {'cluster': '0', 'age': '29', 'gender': '0', 'cholesterol': '101', 'systolic_bp': '124', 'diastolic_bp': '80', 'mean_arterial_pressure': '94.66666666666667', 'skin_thickness': '27', 'insulin': '164', 'bmi': '29', 'dpf': '0', 'age_class': '0', 'bmi_class': '2', 'map_class': '1', 'cholesterol_class': '0', 'glucose_class': '1', 'smoke': '0', 'active': '1', 'cvd_prediction': '0', 'diabetes_prediction': '0'}, 'health_statuses': {'bmi_status': 'Overweight', 'map_status': 'Normal', 'cholesterol_status': 'Normal', 'glucose_status': 'Borderline High', 'cvd_risk': 'Low Risk', 'diabetes_risk': 'Low Risk'}}\n"
     ]
    },
    {
     "name": "stderr",
     "output_type": "stream",
     "text": [
      "127.0.0.1 - - [16/May/2022 23:02:12] \"POST /_dash-update-component HTTP/1.1\" 200 -\n",
      "127.0.0.1 - - [16/May/2022 23:02:12] \"POST /_dash-update-component HTTP/1.1\" 200 -\n",
      "127.0.0.1 - - [16/May/2022 23:02:12] \"POST /_dash-update-component HTTP/1.1\" 200 -\n"
     ]
    },
    {
     "name": "stdout",
     "output_type": "stream",
     "text": [
      "{'patient': {'cluster': '0', 'age': '29', 'gender': '0', 'cholesterol': '101', 'systolic_bp': '124', 'diastolic_bp': '80', 'mean_arterial_pressure': '94.66666666666667', 'skin_thickness': '28', 'insulin': '164', 'bmi': '29', 'dpf': '0', 'age_class': '0', 'bmi_class': '2', 'map_class': '1', 'cholesterol_class': '0', 'glucose_class': '1', 'smoke': '0', 'active': '1', 'cvd_prediction': '0', 'diabetes_prediction': '0'}, 'health_statuses': {'bmi_status': 'Overweight', 'map_status': 'Normal', 'cholesterol_status': 'Normal', 'glucose_status': 'Borderline High', 'cvd_risk': 'Low Risk', 'diabetes_risk': 'Low Risk'}}\n",
      "{'patient': {'cluster': '0', 'age': '29', 'gender': '0', 'cholesterol': '101', 'systolic_bp': '124', 'diastolic_bp': '80', 'mean_arterial_pressure': '94.66666666666667', 'skin_thickness': '29', 'insulin': '164', 'bmi': '29', 'dpf': '0', 'age_class': '0', 'bmi_class': '2', 'map_class': '1', 'cholesterol_class': '0', 'glucose_class': '1', 'smoke': '0', 'active': '1', 'cvd_prediction': '0', 'diabetes_prediction': '0'}, 'health_statuses': {'bmi_status': 'Overweight', 'map_status': 'Normal', 'cholesterol_status': 'Normal', 'glucose_status': 'Borderline High', 'cvd_risk': 'Low Risk', 'diabetes_risk': 'Low Risk'}}\n"
     ]
    },
    {
     "name": "stderr",
     "output_type": "stream",
     "text": [
      "127.0.0.1 - - [16/May/2022 23:02:12] \"POST /_dash-update-component HTTP/1.1\" 200 -\n",
      "127.0.0.1 - - [16/May/2022 23:02:12] \"POST /_dash-update-component HTTP/1.1\" 200 -\n",
      "127.0.0.1 - - [16/May/2022 23:02:12] \"POST /_dash-update-component HTTP/1.1\" 200 -\n"
     ]
    },
    {
     "name": "stdout",
     "output_type": "stream",
     "text": [
      "{'patient': {'cluster': '0', 'age': '29', 'gender': '0', 'cholesterol': '101', 'systolic_bp': '124', 'diastolic_bp': '80', 'mean_arterial_pressure': '94.66666666666667', 'skin_thickness': '30', 'insulin': '164', 'bmi': '29', 'dpf': '0', 'age_class': '0', 'bmi_class': '2', 'map_class': '1', 'cholesterol_class': '0', 'glucose_class': '1', 'smoke': '0', 'active': '1', 'cvd_prediction': '0', 'diabetes_prediction': '0'}, 'health_statuses': {'bmi_status': 'Overweight', 'map_status': 'Normal', 'cholesterol_status': 'Normal', 'glucose_status': 'Borderline High', 'cvd_risk': 'Low Risk', 'diabetes_risk': 'Low Risk'}}\n"
     ]
    },
    {
     "name": "stderr",
     "output_type": "stream",
     "text": [
      "127.0.0.1 - - [16/May/2022 23:02:14] \"POST /_dash-update-component HTTP/1.1\" 200 -\n",
      "127.0.0.1 - - [16/May/2022 23:02:14] \"POST /_dash-update-component HTTP/1.1\" 200 -\n"
     ]
    },
    {
     "name": "stdout",
     "output_type": "stream",
     "text": [
      "{'patient': {'cluster': '0', 'age': '29', 'gender': '0', 'cholesterol': '101', 'systolic_bp': '124', 'diastolic_bp': '81', 'mean_arterial_pressure': '95.33333333333333', 'skin_thickness': '30', 'insulin': '164', 'bmi': '29', 'dpf': '0', 'age_class': '0', 'bmi_class': '2', 'map_class': '1', 'cholesterol_class': '0', 'glucose_class': '1', 'smoke': '0', 'active': '1', 'cvd_prediction': '0', 'diabetes_prediction': '0'}, 'health_statuses': {'bmi_status': 'Overweight', 'map_status': 'Normal', 'cholesterol_status': 'Normal', 'glucose_status': 'Borderline High', 'cvd_risk': 'Low Risk', 'diabetes_risk': 'Low Risk'}}\n"
     ]
    },
    {
     "name": "stderr",
     "output_type": "stream",
     "text": [
      "127.0.0.1 - - [16/May/2022 23:02:14] \"POST /_dash-update-component HTTP/1.1\" 200 -\n",
      "127.0.0.1 - - [16/May/2022 23:02:14] \"POST /_dash-update-component HTTP/1.1\" 200 -\n"
     ]
    },
    {
     "name": "stdout",
     "output_type": "stream",
     "text": [
      "{'patient': {'cluster': '0', 'age': '29', 'gender': '0', 'cholesterol': '101', 'systolic_bp': '124', 'diastolic_bp': '80', 'mean_arterial_pressure': '94.66666666666667', 'skin_thickness': '30', 'insulin': '164', 'bmi': '29', 'dpf': '0', 'age_class': '0', 'bmi_class': '2', 'map_class': '1', 'cholesterol_class': '0', 'glucose_class': '1', 'smoke': '0', 'active': '1', 'cvd_prediction': '0', 'diabetes_prediction': '0'}, 'health_statuses': {'bmi_status': 'Overweight', 'map_status': 'Normal', 'cholesterol_status': 'Normal', 'glucose_status': 'Borderline High', 'cvd_risk': 'Low Risk', 'diabetes_risk': 'Low Risk'}}\n"
     ]
    },
    {
     "name": "stderr",
     "output_type": "stream",
     "text": [
      "127.0.0.1 - - [16/May/2022 23:02:15] \"POST /_dash-update-component HTTP/1.1\" 200 -\n",
      "127.0.0.1 - - [16/May/2022 23:02:15] \"POST /_dash-update-component HTTP/1.1\" 200 -\n"
     ]
    },
    {
     "name": "stdout",
     "output_type": "stream",
     "text": [
      "{'patient': {'cluster': '0', 'age': '29', 'gender': '0', 'cholesterol': '101', 'systolic_bp': '124', 'diastolic_bp': '81', 'mean_arterial_pressure': '95.33333333333333', 'skin_thickness': '30', 'insulin': '164', 'bmi': '29', 'dpf': '0', 'age_class': '0', 'bmi_class': '2', 'map_class': '1', 'cholesterol_class': '0', 'glucose_class': '1', 'smoke': '0', 'active': '1', 'cvd_prediction': '0', 'diabetes_prediction': '0'}, 'health_statuses': {'bmi_status': 'Overweight', 'map_status': 'Normal', 'cholesterol_status': 'Normal', 'glucose_status': 'Borderline High', 'cvd_risk': 'Low Risk', 'diabetes_risk': 'Low Risk'}}\n"
     ]
    },
    {
     "name": "stderr",
     "output_type": "stream",
     "text": [
      "127.0.0.1 - - [16/May/2022 23:02:15] \"POST /_dash-update-component HTTP/1.1\" 200 -\n",
      "127.0.0.1 - - [16/May/2022 23:02:16] \"POST /_dash-update-component HTTP/1.1\" 200 -\n"
     ]
    },
    {
     "name": "stdout",
     "output_type": "stream",
     "text": [
      "{'patient': {'cluster': '0', 'age': '29', 'gender': '0', 'cholesterol': '101', 'systolic_bp': '124', 'diastolic_bp': '82', 'mean_arterial_pressure': '96.0', 'skin_thickness': '30', 'insulin': '164', 'bmi': '29', 'dpf': '0', 'age_class': '0', 'bmi_class': '2', 'map_class': '1', 'cholesterol_class': '0', 'glucose_class': '1', 'smoke': '0', 'active': '1', 'cvd_prediction': '0', 'diabetes_prediction': '0'}, 'health_statuses': {'bmi_status': 'Overweight', 'map_status': 'Normal', 'cholesterol_status': 'Normal', 'glucose_status': 'Borderline High', 'cvd_risk': 'Low Risk', 'diabetes_risk': 'Low Risk'}}\n"
     ]
    },
    {
     "name": "stderr",
     "output_type": "stream",
     "text": [
      "127.0.0.1 - - [16/May/2022 23:02:18] \"POST /_dash-update-component HTTP/1.1\" 200 -\n",
      "127.0.0.1 - - [16/May/2022 23:02:18] \"POST /_dash-update-component HTTP/1.1\" 200 -\n",
      "127.0.0.1 - - [16/May/2022 23:02:18] \"POST /_dash-update-component HTTP/1.1\" 200 -\n"
     ]
    },
    {
     "name": "stdout",
     "output_type": "stream",
     "text": [
      "{'patient': {'cluster': '0', 'age': '29', 'gender': '0', 'cholesterol': '101', 'systolic_bp': '124', 'diastolic_bp': '83', 'mean_arterial_pressure': '96.66666666666667', 'skin_thickness': '30', 'insulin': '164', 'bmi': '29', 'dpf': '0', 'age_class': '0', 'bmi_class': '2', 'map_class': '1', 'cholesterol_class': '0', 'glucose_class': '1', 'smoke': '0', 'active': '1', 'cvd_prediction': '0', 'diabetes_prediction': '0'}, 'health_statuses': {'bmi_status': 'Overweight', 'map_status': 'Normal', 'cholesterol_status': 'Normal', 'glucose_status': 'Borderline High', 'cvd_risk': 'Low Risk', 'diabetes_risk': 'Low Risk'}}\n",
      "{'patient': {'cluster': '0', 'age': '29', 'gender': '0', 'cholesterol': '101', 'systolic_bp': '124', 'diastolic_bp': '84', 'mean_arterial_pressure': '97.33333333333333', 'skin_thickness': '30', 'insulin': '164', 'bmi': '29', 'dpf': '0', 'age_class': '0', 'bmi_class': '2', 'map_class': '1', 'cholesterol_class': '0', 'glucose_class': '1', 'smoke': '0', 'active': '1', 'cvd_prediction': '0', 'diabetes_prediction': '0'}, 'health_statuses': {'bmi_status': 'Overweight', 'map_status': 'Normal', 'cholesterol_status': 'Normal', 'glucose_status': 'Borderline High', 'cvd_risk': 'Low Risk', 'diabetes_risk': 'Low Risk'}}\n"
     ]
    },
    {
     "name": "stderr",
     "output_type": "stream",
     "text": [
      "127.0.0.1 - - [16/May/2022 23:02:18] \"POST /_dash-update-component HTTP/1.1\" 200 -\n",
      "127.0.0.1 - - [16/May/2022 23:02:18] \"POST /_dash-update-component HTTP/1.1\" 200 -\n",
      "127.0.0.1 - - [16/May/2022 23:02:18] \"POST /_dash-update-component HTTP/1.1\" 200 -\n",
      "127.0.0.1 - - [16/May/2022 23:02:19] \"POST /_dash-update-component HTTP/1.1\" 200 -\n"
     ]
    },
    {
     "name": "stdout",
     "output_type": "stream",
     "text": [
      "{'patient': {'cluster': '0', 'age': '29', 'gender': '0', 'cholesterol': '101', 'systolic_bp': '124', 'diastolic_bp': '85', 'mean_arterial_pressure': '98.0', 'skin_thickness': '30', 'insulin': '164', 'bmi': '29', 'dpf': '0', 'age_class': '0', 'bmi_class': '2', 'map_class': '1', 'cholesterol_class': '0', 'glucose_class': '1', 'smoke': '0', 'active': '1', 'cvd_prediction': '0', 'diabetes_prediction': '0'}, 'health_statuses': {'bmi_status': 'Overweight', 'map_status': 'Normal', 'cholesterol_status': 'Normal', 'glucose_status': 'Borderline High', 'cvd_risk': 'Low Risk', 'diabetes_risk': 'Low Risk'}}\n",
      "{'patient': {'cluster': '0', 'age': '29', 'gender': '0', 'cholesterol': '101', 'systolic_bp': '124', 'diastolic_bp': '86', 'mean_arterial_pressure': '98.66666666666667', 'skin_thickness': '30', 'insulin': '164', 'bmi': '29', 'dpf': '0', 'age_class': '0', 'bmi_class': '2', 'map_class': '1', 'cholesterol_class': '0', 'glucose_class': '1', 'smoke': '0', 'active': '1', 'cvd_prediction': '0', 'diabetes_prediction': '0'}, 'health_statuses': {'bmi_status': 'Overweight', 'map_status': 'Normal', 'cholesterol_status': 'Normal', 'glucose_status': 'Borderline High', 'cvd_risk': 'Low Risk', 'diabetes_risk': 'Low Risk'}}\n"
     ]
    },
    {
     "name": "stderr",
     "output_type": "stream",
     "text": [
      "127.0.0.1 - - [16/May/2022 23:02:19] \"POST /_dash-update-component HTTP/1.1\" 200 -\n",
      "127.0.0.1 - - [16/May/2022 23:02:20] \"POST /_dash-update-component HTTP/1.1\" 200 -\n",
      "127.0.0.1 - - [16/May/2022 23:02:20] \"POST /_dash-update-component HTTP/1.1\" 200 -\n",
      "127.0.0.1 - - [16/May/2022 23:02:20] \"POST /_dash-update-component HTTP/1.1\" 200 -\n",
      "127.0.0.1 - - [16/May/2022 23:02:20] \"POST /_dash-update-component HTTP/1.1\" 200 -\n"
     ]
    },
    {
     "name": "stdout",
     "output_type": "stream",
     "text": [
      "{'patient': {'cluster': '0', 'age': '29', 'gender': '0', 'cholesterol': '101', 'systolic_bp': '125', 'diastolic_bp': '86', 'mean_arterial_pressure': '99.0', 'skin_thickness': '30', 'insulin': '164', 'bmi': '29', 'dpf': '0', 'age_class': '0', 'bmi_class': '2', 'map_class': '1', 'cholesterol_class': '0', 'glucose_class': '1', 'smoke': '0', 'active': '1', 'cvd_prediction': '0', 'diabetes_prediction': '0'}, 'health_statuses': {'bmi_status': 'Overweight', 'map_status': 'Normal', 'cholesterol_status': 'Normal', 'glucose_status': 'Borderline High', 'cvd_risk': 'Low Risk', 'diabetes_risk': 'Low Risk'}}\n",
      "{'patient': {'cluster': '0', 'age': '29', 'gender': '0', 'cholesterol': '101', 'systolic_bp': '126', 'diastolic_bp': '86', 'mean_arterial_pressure': '99.33333333333333', 'skin_thickness': '30', 'insulin': '164', 'bmi': '29', 'dpf': '0', 'age_class': '0', 'bmi_class': '2', 'map_class': '1', 'cholesterol_class': '0', 'glucose_class': '1', 'smoke': '0', 'active': '1', 'cvd_prediction': '0', 'diabetes_prediction': '0'}, 'health_statuses': {'bmi_status': 'Overweight', 'map_status': 'Normal', 'cholesterol_status': 'Normal', 'glucose_status': 'Borderline High', 'cvd_risk': 'Low Risk', 'diabetes_risk': 'Low Risk'}}\n"
     ]
    },
    {
     "name": "stderr",
     "output_type": "stream",
     "text": [
      "127.0.0.1 - - [16/May/2022 23:02:20] \"POST /_dash-update-component HTTP/1.1\" 200 -\n",
      "127.0.0.1 - - [16/May/2022 23:02:20] \"POST /_dash-update-component HTTP/1.1\" 200 -\n",
      "127.0.0.1 - - [16/May/2022 23:02:21] \"POST /_dash-update-component HTTP/1.1\" 200 -\n"
     ]
    },
    {
     "name": "stdout",
     "output_type": "stream",
     "text": [
      "{'patient': {'cluster': '0', 'age': '29', 'gender': '0', 'cholesterol': '101', 'systolic_bp': '127', 'diastolic_bp': '86', 'mean_arterial_pressure': '99.66666666666667', 'skin_thickness': '30', 'insulin': '164', 'bmi': '29', 'dpf': '0', 'age_class': '0', 'bmi_class': '2', 'map_class': '1', 'cholesterol_class': '0', 'glucose_class': '1', 'smoke': '0', 'active': '1', 'cvd_prediction': '0', 'diabetes_prediction': '0'}, 'health_statuses': {'bmi_status': 'Overweight', 'map_status': 'Normal', 'cholesterol_status': 'Normal', 'glucose_status': 'Borderline High', 'cvd_risk': 'Low Risk', 'diabetes_risk': 'Low Risk'}}\n",
      "{'patient': {'cluster': '0', 'age': '29', 'gender': '0', 'cholesterol': '101', 'systolic_bp': '128', 'diastolic_bp': '86', 'mean_arterial_pressure': '100.0', 'skin_thickness': '30', 'insulin': '164', 'bmi': '29', 'dpf': '0', 'age_class': '0', 'bmi_class': '2', 'map_class': '1', 'cholesterol_class': '0', 'glucose_class': '1', 'smoke': '0', 'active': '1', 'cvd_prediction': '0', 'diabetes_prediction': '0'}, 'health_statuses': {'bmi_status': 'Overweight', 'map_status': 'Normal', 'cholesterol_status': 'Normal', 'glucose_status': 'Borderline High', 'cvd_risk': 'Low Risk', 'diabetes_risk': 'Low Risk'}}\n"
     ]
    },
    {
     "name": "stderr",
     "output_type": "stream",
     "text": [
      "127.0.0.1 - - [16/May/2022 23:02:21] \"POST /_dash-update-component HTTP/1.1\" 200 -\n",
      "127.0.0.1 - - [16/May/2022 23:02:21] \"POST /_dash-update-component HTTP/1.1\" 200 -\n",
      "127.0.0.1 - - [16/May/2022 23:02:21] \"POST /_dash-update-component HTTP/1.1\" 200 -\n"
     ]
    },
    {
     "name": "stdout",
     "output_type": "stream",
     "text": [
      "{'patient': {'cluster': '0', 'age': '29', 'gender': '0', 'cholesterol': '101', 'systolic_bp': '129', 'diastolic_bp': '86', 'mean_arterial_pressure': '100.33333333333333', 'skin_thickness': '30', 'insulin': '164', 'bmi': '29', 'dpf': '0', 'age_class': '0', 'bmi_class': '2', 'map_class': '1', 'cholesterol_class': '0', 'glucose_class': '1', 'smoke': '0', 'active': '1', 'cvd_prediction': '0', 'diabetes_prediction': '0'}, 'health_statuses': {'bmi_status': 'Overweight', 'map_status': 'Normal', 'cholesterol_status': 'Normal', 'glucose_status': 'Borderline High', 'cvd_risk': 'Low Risk', 'diabetes_risk': 'Low Risk'}}\n"
     ]
    },
    {
     "name": "stderr",
     "output_type": "stream",
     "text": [
      "127.0.0.1 - - [16/May/2022 23:02:22] \"POST /_dash-update-component HTTP/1.1\" 200 -\n",
      "127.0.0.1 - - [16/May/2022 23:02:22] \"POST /_dash-update-component HTTP/1.1\" 200 -\n"
     ]
    },
    {
     "name": "stdout",
     "output_type": "stream",
     "text": [
      "{'patient': {'cluster': '0', 'age': '29', 'gender': '0', 'cholesterol': '101', 'systolic_bp': '130', 'diastolic_bp': '86', 'mean_arterial_pressure': '100.66666666666667', 'skin_thickness': '30', 'insulin': '164', 'bmi': '29', 'dpf': '0', 'age_class': '0', 'bmi_class': '2', 'map_class': '1', 'cholesterol_class': '0', 'glucose_class': '1', 'smoke': '0', 'active': '1', 'cvd_prediction': '0', 'diabetes_prediction': '0'}, 'health_statuses': {'bmi_status': 'Overweight', 'map_status': 'Normal', 'cholesterol_status': 'Normal', 'glucose_status': 'Borderline High', 'cvd_risk': 'Low Risk', 'diabetes_risk': 'Low Risk'}}\n"
     ]
    },
    {
     "name": "stderr",
     "output_type": "stream",
     "text": [
      "127.0.0.1 - - [16/May/2022 23:02:34] \"POST /_dash-update-component HTTP/1.1\" 200 -\n",
      "127.0.0.1 - - [16/May/2022 23:02:34] \"POST /_dash-update-component HTTP/1.1\" 200 -\n",
      "127.0.0.1 - - [16/May/2022 23:02:34] \"POST /_dash-update-component HTTP/1.1\" 200 -\n",
      "127.0.0.1 - - [16/May/2022 23:02:35] \"POST /_dash-update-component HTTP/1.1\" 200 -\n"
     ]
    },
    {
     "name": "stdout",
     "output_type": "stream",
     "text": [
      "{'patient': {'cluster': '1', 'age': '29', 'gender': '0', 'cholesterol': '101', 'systolic_bp': '131', 'diastolic_bp': '86', 'mean_arterial_pressure': '101.0', 'skin_thickness': '30', 'insulin': '164', 'bmi': '29', 'dpf': '0', 'age_class': '0', 'bmi_class': '2', 'map_class': '2', 'cholesterol_class': '0', 'glucose_class': '1', 'smoke': '0', 'active': '1', 'cvd_prediction': '1', 'diabetes_prediction': '0'}, 'health_statuses': {'bmi_status': 'Overweight', 'map_status': 'Elevated', 'cholesterol_status': 'Normal', 'glucose_status': 'Borderline High', 'cvd_risk': 'High Risk', 'diabetes_risk': 'Low Risk'}}\n",
      "{'patient': {'cluster': '1', 'age': '29', 'gender': '0', 'cholesterol': '101', 'systolic_bp': '132', 'diastolic_bp': '86', 'mean_arterial_pressure': '101.33333333333333', 'skin_thickness': '30', 'insulin': '164', 'bmi': '29', 'dpf': '0', 'age_class': '0', 'bmi_class': '2', 'map_class': '2', 'cholesterol_class': '0', 'glucose_class': '1', 'smoke': '0', 'active': '1', 'cvd_prediction': '1', 'diabetes_prediction': '0'}, 'health_statuses': {'bmi_status': 'Overweight', 'map_status': 'Elevated', 'cholesterol_status': 'Normal', 'glucose_status': 'Borderline High', 'cvd_risk': 'High Risk', 'diabetes_risk': 'Low Risk'}}\n"
     ]
    },
    {
     "name": "stderr",
     "output_type": "stream",
     "text": [
      "127.0.0.1 - - [16/May/2022 23:02:37] \"POST /_dash-update-component HTTP/1.1\" 200 -\n",
      "127.0.0.1 - - [16/May/2022 23:02:37] \"POST /_dash-update-component HTTP/1.1\" 200 -\n",
      "127.0.0.1 - - [16/May/2022 23:02:37] \"POST /_dash-update-component HTTP/1.1\" 200 -\n",
      "127.0.0.1 - - [16/May/2022 23:02:37] \"POST /_dash-update-component HTTP/1.1\" 200 -\n"
     ]
    },
    {
     "name": "stdout",
     "output_type": "stream",
     "text": [
      "{'patient': {'cluster': '1', 'age': '29', 'gender': '0', 'cholesterol': '101', 'systolic_bp': '131', 'diastolic_bp': '86', 'mean_arterial_pressure': '101.0', 'skin_thickness': '30', 'insulin': '164', 'bmi': '29', 'dpf': '0', 'age_class': '0', 'bmi_class': '2', 'map_class': '2', 'cholesterol_class': '0', 'glucose_class': '1', 'smoke': '0', 'active': '1', 'cvd_prediction': '1', 'diabetes_prediction': '0'}, 'health_statuses': {'bmi_status': 'Overweight', 'map_status': 'Elevated', 'cholesterol_status': 'Normal', 'glucose_status': 'Borderline High', 'cvd_risk': 'High Risk', 'diabetes_risk': 'Low Risk'}}\n",
      "{'patient': {'cluster': '0', 'age': '29', 'gender': '0', 'cholesterol': '101', 'systolic_bp': '130', 'diastolic_bp': '86', 'mean_arterial_pressure': '100.66666666666667', 'skin_thickness': '30', 'insulin': '164', 'bmi': '29', 'dpf': '0', 'age_class': '0', 'bmi_class': '2', 'map_class': '1', 'cholesterol_class': '0', 'glucose_class': '1', 'smoke': '0', 'active': '1', 'cvd_prediction': '0', 'diabetes_prediction': '0'}, 'health_statuses': {'bmi_status': 'Overweight', 'map_status': 'Normal', 'cholesterol_status': 'Normal', 'glucose_status': 'Borderline High', 'cvd_risk': 'Low Risk', 'diabetes_risk': 'Low Risk'}}\n"
     ]
    },
    {
     "name": "stderr",
     "output_type": "stream",
     "text": [
      "127.0.0.1 - - [16/May/2022 23:02:40] \"POST /_dash-update-component HTTP/1.1\" 200 -\n",
      "127.0.0.1 - - [16/May/2022 23:02:41] \"POST /_dash-update-component HTTP/1.1\" 200 -\n"
     ]
    },
    {
     "name": "stdout",
     "output_type": "stream",
     "text": [
      "{'patient': {'cluster': '1', 'age': '29', 'gender': '0', 'cholesterol': '101', 'systolic_bp': '131', 'diastolic_bp': '86', 'mean_arterial_pressure': '101.0', 'skin_thickness': '30', 'insulin': '164', 'bmi': '29', 'dpf': '0', 'age_class': '0', 'bmi_class': '2', 'map_class': '2', 'cholesterol_class': '0', 'glucose_class': '1', 'smoke': '0', 'active': '1', 'cvd_prediction': '1', 'diabetes_prediction': '0'}, 'health_statuses': {'bmi_status': 'Overweight', 'map_status': 'Elevated', 'cholesterol_status': 'Normal', 'glucose_status': 'Borderline High', 'cvd_risk': 'High Risk', 'diabetes_risk': 'Low Risk'}}\n"
     ]
    },
    {
     "name": "stderr",
     "output_type": "stream",
     "text": [
      "127.0.0.1 - - [16/May/2022 23:02:51] \"POST /_dash-update-component HTTP/1.1\" 200 -\n",
      "127.0.0.1 - - [16/May/2022 23:02:51] \"POST /_dash-update-component HTTP/1.1\" 200 -\n",
      "127.0.0.1 - - [16/May/2022 23:02:51] \"POST /_dash-update-component HTTP/1.1\" 200 -\n",
      "127.0.0.1 - - [16/May/2022 23:02:52] \"POST /_dash-update-component HTTP/1.1\" 200 -\n"
     ]
    },
    {
     "name": "stdout",
     "output_type": "stream",
     "text": [
      "{'patient': {'cluster': '1', 'age': '29', 'gender': '0', 'cholesterol': '101', 'systolic_bp': '132', 'diastolic_bp': '86', 'mean_arterial_pressure': '101.33333333333333', 'skin_thickness': '30', 'insulin': '164', 'bmi': '29', 'dpf': '0', 'age_class': '0', 'bmi_class': '2', 'map_class': '2', 'cholesterol_class': '0', 'glucose_class': '1', 'smoke': '0', 'active': '1', 'cvd_prediction': '1', 'diabetes_prediction': '0'}, 'health_statuses': {'bmi_status': 'Overweight', 'map_status': 'Elevated', 'cholesterol_status': 'Normal', 'glucose_status': 'Borderline High', 'cvd_risk': 'High Risk', 'diabetes_risk': 'Low Risk'}}\n",
      "{'patient': {'cluster': '1', 'age': '29', 'gender': '0', 'cholesterol': '101', 'systolic_bp': '133', 'diastolic_bp': '86', 'mean_arterial_pressure': '101.66666666666667', 'skin_thickness': '30', 'insulin': '164', 'bmi': '29', 'dpf': '0', 'age_class': '0', 'bmi_class': '2', 'map_class': '2', 'cholesterol_class': '0', 'glucose_class': '1', 'smoke': '0', 'active': '1', 'cvd_prediction': '1', 'diabetes_prediction': '0'}, 'health_statuses': {'bmi_status': 'Overweight', 'map_status': 'Elevated', 'cholesterol_status': 'Normal', 'glucose_status': 'Borderline High', 'cvd_risk': 'High Risk', 'diabetes_risk': 'Low Risk'}}\n"
     ]
    }
   ],
   "source": [
    "import json\n",
    "import dash\n",
    "import dash_bootstrap_components as dbc\n",
    "import dash_core_components as dcc\n",
    "import dash_html_components as html\n",
    "from dash.dependencies import Input, Output\n",
    "\n",
    "app = dash.Dash(external_stylesheets=[dbc.themes.BOOTSTRAP])\n",
    "\n",
    "app.layout = dbc.Container([\n",
    "    html.Div([\n",
    "        html.H3(children='Cardiovascular Disease and Diabetes Prediction',\n",
    "                className='page-title'),\n",
    "    ]),\n",
    "    html.Hr(),\n",
    "    dbc.Row([\n",
    "        dbc.Col([\n",
    "            dbc.Card([\n",
    "\n",
    "                html.Div(\n",
    "                    id=\"feedback-container\",\n",
    "                    children=[\n",
    "                    ]),\n",
    "\n",
    "                html.Div([\n",
    "                    dbc.Label(\"Age\"),\n",
    "                    dbc.Input(id=\"age\", type=\"number\",  min=0,\n",
    "                              placeholder=\"Enter age\"),\n",
    "                ], className='form-container mb-3'),\n",
    "\n",
    "                html.Div([\n",
    "                    dbc.Label(\"Gender\"),\n",
    "                    dcc.Dropdown(\n",
    "                        id=\"gender\",\n",
    "                        options=[\n",
    "                            {'label': 'Male', 'value': 1, },\n",
    "                            {'label': 'Female', 'value': 0}\n",
    "                        ],\n",
    "                        placeholder=\"Please select\"\n",
    "                    ),\n",
    "                ], className='form-container mb-3'),\n",
    "\n",
    "                html.Div([\n",
    "                    dbc.Label(\"Number of Pregnancies\"),\n",
    "                    dbc.Input(id=\"pregnancies\", type=\"number\",  min=0,\n",
    "                              placeholder=\"Enter number of pregnancies\"),\n",
    "                ], className='form-container mb-3'),\n",
    "\n",
    "                html.Div([\n",
    "                    dbc.Label(\"Glucose Level\"),\n",
    "                    dbc.Input(id=\"glucose\", type=\"number\",  min=0,\n",
    "                              placeholder=\"Enter glucose level\"),\n",
    "                ], className='form-container mb-3'),\n",
    "\n",
    "                html.Div([\n",
    "                    dbc.Label(\"Cholesterol Level\"),\n",
    "                    dbc.Input(id=\"cholesterol\", type=\"number\",  min=0,\n",
    "                              placeholder=\"Enter cholesterol level\"),\n",
    "                ], className='form-container mb-3'),\n",
    "\n",
    "                html.Div([\n",
    "                    dbc.Label(\"Insulin Level\"),\n",
    "                    dbc.Input(id=\"insulin\", type=\"number\",  min=0,\n",
    "                              placeholder=\"Enter insulin level\"),\n",
    "                ], className='form-container mb-3'),\n",
    "\n",
    "                html.Div([\n",
    "                    dbc.Label(\"Systolic Blood Pressure\"),\n",
    "                    dbc.Input(id=\"systolic_bp\", type=\"number\",  min=0,\n",
    "                              placeholder=\"Enter blood pressure here\"),\n",
    "                ], className='form-container mb-3'),\n",
    "\n",
    "                html.Div([\n",
    "                    dbc.Label(\"Diastolic Blood Pressure\"),\n",
    "                    dbc.Input(id=\"diastolic_bp\", type=\"number\", min=0,\n",
    "                              placeholder=\"Enter blood pressure here\"),\n",
    "                ], className='form-container mb-3'),\n",
    "\n",
    "                html.Div([\n",
    "                    dbc.Label(\"Skin Thickness\"),\n",
    "                    dbc.Input(id=\"skin_thickness\", type=\"number\",\n",
    "                              min=0, placeholder=\"Enter thickness\"),\n",
    "                ], className='form-container mb-3'),\n",
    "\n",
    "                html.Div([\n",
    "                    dbc.Label(\"Body Mass Index (BMI)\"),\n",
    "                    dbc.Input(id=\"bmi\", type=\"number\",  min=0,\n",
    "                              placeholder=\"Enter BMI\"),\n",
    "                ], className='form-container mb-3'),\n",
    "\n",
    "                html.Div([\n",
    "                    dbc.Label(\"Do You Smoke?\"),\n",
    "                    dcc.Dropdown(\n",
    "                        id=\"smoke\",\n",
    "                        options=[\n",
    "                            {'label': 'Yes', 'value': 1},\n",
    "                            {'label': 'No', 'value': 0}\n",
    "                        ],\n",
    "                        placeholder=\"Please select\"\n",
    "                    ),\n",
    "                ], className='form-container mb-3'),\n",
    "\n",
    "                html.Div([\n",
    "                    dbc.Label(\"Are You Physically Active?\"),\n",
    "                    dcc.Dropdown(\n",
    "                        id=\"active\",\n",
    "                        options=[\n",
    "                            {'label': 'Yes', 'value': 1},\n",
    "                            {'label': 'No', 'value': 0}\n",
    "                        ],\n",
    "                        placeholder=\"Please select\"\n",
    "                    ),\n",
    "                ], className='form-container mb-3'),\n",
    "\n",
    "                html.Div([\n",
    "                    dbc.Label(\"Does your family have a history of diabetes?\"),\n",
    "                    dcc.Dropdown(\n",
    "                        id=\"dpf\",\n",
    "                        options=[\n",
    "                            {'label': 'Yes', 'value': 1},\n",
    "                            {'label': 'No', 'value': 0}\n",
    "                        ],\n",
    "                        placeholder=\"Please select\"\n",
    "                    ),\n",
    "                ], className='form-container mb-3'),\n",
    "            ], body=True,\n",
    "                style={\n",
    "                'margin-top': '0.5rem',\n",
    "                'margin-bottom': '1rem',\n",
    "            }),\n",
    "\n",
    "            html.Div([\n",
    "                dbc.Button('Predict', id='submit-val',\n",
    "                           color='primary', className='w-100 mb-3'),\n",
    "            ]),\n",
    "\n",
    "        ], md=5),\n",
    "\n",
    "\n",
    "        dbc.Col([\n",
    "            dbc.Card([\n",
    "                html.Div(\n",
    "                    id=\"output-container\",\n",
    "                    children=[\n",
    "                    ]),\n",
    "            ], body=True)\n",
    "        ], md=7),\n",
    "    ],\n",
    "        align=\"center\",\n",
    "    ),\n",
    "],\n",
    "    fluid=True,\n",
    ")\n",
    "\n",
    "@app.callback(\n",
    "    Output(component_id='feedback-container', component_property='children'),\n",
    "    Input(component_id='submit-val', component_property='n_clicks'),\n",
    "    Input(component_id='age', component_property='value'),\n",
    "    Input(component_id='gender', component_property='value'),\n",
    "    Input(component_id='glucose', component_property='value'),\n",
    "    Input(component_id='cholesterol', component_property='value'),\n",
    "    Input(component_id='systolic_bp', component_property='value'),\n",
    "    Input(component_id='diastolic_bp', component_property='value'),\n",
    "    Input(component_id='pregnancies', component_property='value'),\n",
    "    Input(component_id='skin_thickness', component_property='value'),\n",
    "    Input(component_id='insulin', component_property='value'),\n",
    "    Input(component_id='bmi', component_property='value'),\n",
    "    Input(component_id='dpf', component_property='value'),\n",
    "    Input(component_id='smoke', component_property='value'),\n",
    "    Input(component_id='active', component_property='value')\n",
    ")\n",
    "\n",
    "def send_feedback(n_clicks, age, gender, glucose, pregnancies, cholesterol, systolic_bp, diastolic_bp, skin_thickness, insulin, bmi, dpf, smoke, active):\n",
    "    if (n_clicks is not None and\n",
    "        (age is None\n",
    "        or gender is None\n",
    "        or pregnancies is None\n",
    "        or glucose is None\n",
    "        or cholesterol is None\n",
    "        or systolic_bp is None\n",
    "        or diastolic_bp is None\n",
    "        or skin_thickness is None\n",
    "        or insulin is None\n",
    "        or bmi is None\n",
    "        or dpf is None\n",
    "        or smoke is None\n",
    "        or active is None)):\n",
    "        return dbc.Alert('All fields are required', color='danger')\n",
    "\n",
    "@app.callback(\n",
    "    Output(component_id='output-container', component_property='children'),\n",
    "    Input(component_id='submit-val', component_property='n_clicks'),\n",
    "    Input(component_id='age', component_property='value'),\n",
    "    Input(component_id='gender', component_property='value'),\n",
    "    Input(component_id='pregnancies', component_property='value'),\n",
    "    Input(component_id='glucose', component_property='value'),\n",
    "    Input(component_id='cholesterol', component_property='value'),\n",
    "    Input(component_id='insulin', component_property='value'),\n",
    "    Input(component_id='systolic_bp', component_property='value'),\n",
    "    Input(component_id='diastolic_bp', component_property='value'),\n",
    "    Input(component_id='skin_thickness', component_property='value'),\n",
    "    Input(component_id='bmi', component_property='value'),\n",
    "    Input(component_id='smoke', component_property='value'),\n",
    "    Input(component_id='active', component_property='value'),\n",
    "    Input(component_id='dpf', component_property='value')\n",
    ")\n",
    "\n",
    "def update_output(n_clicks, age, gender, pregnancies, glucose, cholesterol,  insulin, systolic_bp, diastolic_bp, skin_thickness, bmi, smoke, active, dpf):\n",
    "    if (n_clicks is not None\n",
    "        and age is not None\n",
    "        and gender is not None\n",
    "        and pregnancies is not None\n",
    "        and glucose is not None\n",
    "        and cholesterol is not None\n",
    "        and insulin is not None\n",
    "        and systolic_bp is not None\n",
    "        and diastolic_bp is not None\n",
    "        and skin_thickness is not None\n",
    "        and bmi is not None\n",
    "        and smoke is not None\n",
    "        and active is not None\n",
    "        and dpf is not None):\n",
    "        \n",
    "        patient = proccess_patient_details(age, gender, pregnancies, glucose, cholesterol, insulin, systolic_bp, diastolic_bp, skin_thickness, bmi, smoke, active, dpf)\n",
    "\n",
    "        patient_map = {}\n",
    "\n",
    "        patient_map[\"patient\"] = patient.map_patient_details()\n",
    "        \n",
    "        patient_map[\"health_statuses\"] = get_health_status(patient_map[\"patient\"][\"bmi_class\"], patient_map[\"patient\"][\"map_class\"], patient_map[\"patient\"][\"cholesterol_class\"], patient_map[\"patient\"][\"glucose_class\"], patient_map[\"patient\"][\"cvd_prediction\"], patient_map[\"patient\"][\"diabetes_prediction\"])\n",
    "        \n",
    "        print(patient_map)\n",
    "\n",
    "        string = json.dumps(patient_map)\n",
    "\n",
    "        return string\n",
    "\n",
    "\n",
    "if __name__ == '__main__':\n",
    "    app.run_server(port=4050)\n"
   ]
  },
  {
   "cell_type": "code",
   "execution_count": null,
   "metadata": {},
   "outputs": [],
   "source": []
  }
 ],
 "metadata": {
  "interpreter": {
   "hash": "275d6c577cbf568845e3b6b55400985859c45e2831789bc2ca0f6f32adc0351c"
  },
  "kernelspec": {
   "display_name": "Python 3.8.13 ('finals')",
   "language": "python",
   "name": "python3"
  },
  "language_info": {
   "codemirror_mode": {
    "name": "ipython",
    "version": 3
   },
   "file_extension": ".py",
   "mimetype": "text/x-python",
   "name": "python",
   "nbconvert_exporter": "python",
   "pygments_lexer": "ipython3",
   "version": "3.8.13"
  },
  "orig_nbformat": 4
 },
 "nbformat": 4,
 "nbformat_minor": 2
}
